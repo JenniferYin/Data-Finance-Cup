{
 "cells": [
  {
   "cell_type": "code",
   "execution_count": 35,
   "metadata": {
    "pycharm": {
     "is_executing": false
    }
   },
   "outputs": [
    {
     "data": {
      "text/html": [
       "        <script type=\"text/javascript\">\n",
       "        window.PlotlyConfig = {MathJaxConfig: 'local'};\n",
       "        if (window.MathJax) {MathJax.Hub.Config({SVG: {font: \"STIX-Web\"}});}\n",
       "        if (typeof require !== 'undefined') {\n",
       "        require.undef(\"plotly\");\n",
       "        requirejs.config({\n",
       "            paths: {\n",
       "                'plotly': ['https://cdn.plot.ly/plotly-latest.min']\n",
       "            }\n",
       "        });\n",
       "        require(['plotly'], function(Plotly) {\n",
       "            window._Plotly = Plotly;\n",
       "        });\n",
       "        }\n",
       "        </script>\n",
       "        "
      ]
     },
     "metadata": {},
     "output_type": "display_data"
    }
   ],
   "source": [
    "import pandas as pd\n",
    "import numpy as np\n",
    "import seaborn as sns\n",
    "import matplotlib.pyplot as plt\n",
    "%matplotlib inline\n",
    "import plotly.offline as py\n",
    "py.init_notebook_mode(connected=True)\n",
    "import plotly.graph_objs as go\n",
    "import plotly.tools as tls\n",
    "import warnings\n",
    "from collections import Counter\n",
    "from sklearn.feature_selection import mutual_info_classif\n",
    "warnings.filterwarnings('ignore')"
   ]
  },
  {
   "cell_type": "markdown",
   "metadata": {},
   "source": [
    "## 加载数据集"
   ]
  },
  {
   "cell_type": "markdown",
   "metadata": {},
   "source": [
    "a） 用户基本属性信息\n",
    "![](https://pu-datacastle.obs.cn-north-1.myhuaweicloud.com/pkbigdata/master.other.img/e64d443b-4dee-43dc-b5c5-3ce9ce05b05d/45274153096239234.png)"
   ]
  },
  {
   "cell_type": "markdown",
   "metadata": {},
   "source": [
    "b)借贷相关信息\n",
    "![](https://pu-datacastle.obs.cn-north-1.myhuaweicloud.com/pkbigdata/master.other.img/75ccb1ba-f554-4d9b-be80-94ea3b9eb68d/3380553979757217.png)"
   ]
  },
  {
   "cell_type": "markdown",
   "metadata": {},
   "source": [
    "c) 用户征信相关信息\n",
    "x_0至x_78以及ncloseCreditCard, unpayIndvLoan, unpayOtherLoan, unpayNormalLoan, 5yearBadloan\n",
    "该部分数据涉及较为第三方敏感数据，未做进一步说明。\n",
    "\n"
   ]
  },
  {
   "cell_type": "code",
   "execution_count": 36,
   "metadata": {},
   "outputs": [],
   "source": [
    "train = pd.read_csv(\"new_data/train.csv\")\n",
    "train_target = pd.read_csv('new_data/train_target.csv')\n",
    "train = train.merge(train_target, on='id')\n",
    "test = pd.read_csv(\"new_data/test.csv\")\n",
    "test['target']=[-1 for i in range(len(test))]\n",
    "df = pd.concat([train, test], sort=False, axis=0)"
   ]
  },
  {
   "cell_type": "code",
   "execution_count": 37,
   "metadata": {},
   "outputs": [],
   "source": [
    "# df['missing'] = (train==-999).sum(axis=1).astype(float)"
   ]
  },
  {
   "cell_type": "code",
   "execution_count": 38,
   "metadata": {},
   "outputs": [],
   "source": [
    "# 删除重复列\n",
    "duplicated_features = ['x_0', 'x_1', 'x_2', 'x_3', 'x_4', 'x_5', 'x_6',\n",
    "                       'x_7', 'x_8', 'x_9', 'x_10', 'x_11', 'x_13',\n",
    "                       'x_15', 'x_17', 'x_18', 'x_19', 'x_21',\n",
    "                       'x_23', 'x_24', 'x_36', 'x_37', 'x_38', 'x_57', 'x_58',\n",
    "                       'x_59', 'x_60', 'x_77', 'x_78'] + \\\n",
    "                      ['x_22', 'x_40', 'x_70'] + \\\n",
    "                      ['x_41'] + \\\n",
    "                      ['x_43'] + \\\n",
    "                      ['x_45'] + \\\n",
    "                      ['x_61']\n",
    "df = df.drop(columns=duplicated_features)"
   ]
  },
  {
   "cell_type": "markdown",
   "metadata": {},
   "source": [
    "## 数据类型，唯一值个数，缺失值统计"
   ]
  },
  {
   "cell_type": "code",
   "execution_count": 39,
   "metadata": {},
   "outputs": [
    {
     "name": "stdout",
     "output_type": "stream",
     "text": [
      "The train dataset contains 132029 rows and 105 columns\n",
      "The test dataset contains 23561 rows and 105 columns\n",
      "The df dataset contains 155590 rows and 69 columns\n"
     ]
    }
   ],
   "source": [
    "rows = train.shape[0]\n",
    "columns = train.shape[1]\n",
    "print(\"The train dataset contains {0} rows and {1} columns\".format(rows, columns))\n",
    "rows = test.shape[0]\n",
    "columns = test.shape[1]\n",
    "print(\"The test dataset contains {0} rows and {1} columns\".format(rows, columns))\n",
    "rows = df.shape[0]\n",
    "columns = df.shape[1]\n",
    "print(\"The df dataset contains {0} rows and {1} columns\".format(rows, columns))\n"
   ]
  },
  {
   "cell_type": "code",
   "execution_count": 62,
   "metadata": {},
   "outputs": [
    {
     "data": {
      "text/html": [
       "<div>\n",
       "<style scoped>\n",
       "    .dataframe tbody tr th:only-of-type {\n",
       "        vertical-align: middle;\n",
       "    }\n",
       "\n",
       "    .dataframe tbody tr th {\n",
       "        vertical-align: top;\n",
       "    }\n",
       "\n",
       "    .dataframe thead th {\n",
       "        text-align: right;\n",
       "    }\n",
       "</style>\n",
       "<table border=\"1\" class=\"dataframe\">\n",
       "  <thead>\n",
       "    <tr style=\"text-align: right;\">\n",
       "      <th></th>\n",
       "      <th>Feature</th>\n",
       "      <th>Unique_values</th>\n",
       "      <th>Percentage of missing values</th>\n",
       "      <th>Percentage of values in the biggest category</th>\n",
       "      <th>type</th>\n",
       "    </tr>\n",
       "  </thead>\n",
       "  <tbody>\n",
       "    <tr>\n",
       "      <td>68</td>\n",
       "      <td>target</td>\n",
       "      <td>2</td>\n",
       "      <td>0.0</td>\n",
       "      <td>99.273644</td>\n",
       "      <td>int64</td>\n",
       "    </tr>\n",
       "    <tr>\n",
       "      <td>66</td>\n",
       "      <td>5yearBadloan</td>\n",
       "      <td>2</td>\n",
       "      <td>0.0</td>\n",
       "      <td>99.763688</td>\n",
       "      <td>int64</td>\n",
       "    </tr>\n",
       "    <tr>\n",
       "      <td>3</td>\n",
       "      <td>gender</td>\n",
       "      <td>2</td>\n",
       "      <td>0.0</td>\n",
       "      <td>75.622022</td>\n",
       "      <td>int64</td>\n",
       "    </tr>\n",
       "    <tr>\n",
       "      <td>67</td>\n",
       "      <td>isNew</td>\n",
       "      <td>2</td>\n",
       "      <td>0.0</td>\n",
       "      <td>63.770838</td>\n",
       "      <td>int64</td>\n",
       "    </tr>\n",
       "    <tr>\n",
       "      <td>32</td>\n",
       "      <td>x_50</td>\n",
       "      <td>3</td>\n",
       "      <td>0.0</td>\n",
       "      <td>83.092351</td>\n",
       "      <td>int64</td>\n",
       "    </tr>\n",
       "    <tr>\n",
       "      <td>33</td>\n",
       "      <td>x_51</td>\n",
       "      <td>3</td>\n",
       "      <td>0.0</td>\n",
       "      <td>73.479311</td>\n",
       "      <td>int64</td>\n",
       "    </tr>\n",
       "    <tr>\n",
       "      <td>35</td>\n",
       "      <td>x_53</td>\n",
       "      <td>3</td>\n",
       "      <td>0.0</td>\n",
       "      <td>83.849003</td>\n",
       "      <td>int64</td>\n",
       "    </tr>\n",
       "    <tr>\n",
       "      <td>36</td>\n",
       "      <td>x_54</td>\n",
       "      <td>3</td>\n",
       "      <td>0.0</td>\n",
       "      <td>85.732680</td>\n",
       "      <td>int64</td>\n",
       "    </tr>\n",
       "    <tr>\n",
       "      <td>37</td>\n",
       "      <td>x_55</td>\n",
       "      <td>3</td>\n",
       "      <td>0.0</td>\n",
       "      <td>95.465390</td>\n",
       "      <td>int64</td>\n",
       "    </tr>\n",
       "    <tr>\n",
       "      <td>38</td>\n",
       "      <td>x_56</td>\n",
       "      <td>3</td>\n",
       "      <td>0.0</td>\n",
       "      <td>97.080944</td>\n",
       "      <td>int64</td>\n",
       "    </tr>\n",
       "    <tr>\n",
       "      <td>39</td>\n",
       "      <td>x_62</td>\n",
       "      <td>3</td>\n",
       "      <td>0.0</td>\n",
       "      <td>63.611782</td>\n",
       "      <td>int64</td>\n",
       "    </tr>\n",
       "    <tr>\n",
       "      <td>40</td>\n",
       "      <td>x_63</td>\n",
       "      <td>3</td>\n",
       "      <td>0.0</td>\n",
       "      <td>65.933242</td>\n",
       "      <td>int64</td>\n",
       "    </tr>\n",
       "    <tr>\n",
       "      <td>41</td>\n",
       "      <td>x_64</td>\n",
       "      <td>3</td>\n",
       "      <td>0.0</td>\n",
       "      <td>92.781131</td>\n",
       "      <td>int64</td>\n",
       "    </tr>\n",
       "    <tr>\n",
       "      <td>42</td>\n",
       "      <td>x_65</td>\n",
       "      <td>3</td>\n",
       "      <td>0.0</td>\n",
       "      <td>53.106514</td>\n",
       "      <td>int64</td>\n",
       "    </tr>\n",
       "    <tr>\n",
       "      <td>43</td>\n",
       "      <td>x_66</td>\n",
       "      <td>3</td>\n",
       "      <td>0.0</td>\n",
       "      <td>78.548652</td>\n",
       "      <td>int64</td>\n",
       "    </tr>\n",
       "    <tr>\n",
       "      <td>45</td>\n",
       "      <td>x_68</td>\n",
       "      <td>3</td>\n",
       "      <td>0.0</td>\n",
       "      <td>94.178552</td>\n",
       "      <td>int64</td>\n",
       "    </tr>\n",
       "    <tr>\n",
       "      <td>31</td>\n",
       "      <td>x_49</td>\n",
       "      <td>3</td>\n",
       "      <td>0.0</td>\n",
       "      <td>93.814995</td>\n",
       "      <td>int64</td>\n",
       "    </tr>\n",
       "    <tr>\n",
       "      <td>46</td>\n",
       "      <td>x_69</td>\n",
       "      <td>3</td>\n",
       "      <td>0.0</td>\n",
       "      <td>99.439517</td>\n",
       "      <td>int64</td>\n",
       "    </tr>\n",
       "    <tr>\n",
       "      <td>47</td>\n",
       "      <td>x_71</td>\n",
       "      <td>3</td>\n",
       "      <td>0.0</td>\n",
       "      <td>74.557862</td>\n",
       "      <td>int64</td>\n",
       "    </tr>\n",
       "    <tr>\n",
       "      <td>48</td>\n",
       "      <td>x_72</td>\n",
       "      <td>3</td>\n",
       "      <td>0.0</td>\n",
       "      <td>85.228245</td>\n",
       "      <td>int64</td>\n",
       "    </tr>\n",
       "    <tr>\n",
       "      <td>49</td>\n",
       "      <td>x_73</td>\n",
       "      <td>3</td>\n",
       "      <td>0.0</td>\n",
       "      <td>97.517970</td>\n",
       "      <td>int64</td>\n",
       "    </tr>\n",
       "    <tr>\n",
       "      <td>50</td>\n",
       "      <td>x_74</td>\n",
       "      <td>3</td>\n",
       "      <td>0.0</td>\n",
       "      <td>83.764930</td>\n",
       "      <td>int64</td>\n",
       "    </tr>\n",
       "    <tr>\n",
       "      <td>51</td>\n",
       "      <td>x_75</td>\n",
       "      <td>3</td>\n",
       "      <td>0.0</td>\n",
       "      <td>74.630574</td>\n",
       "      <td>int64</td>\n",
       "    </tr>\n",
       "    <tr>\n",
       "      <td>52</td>\n",
       "      <td>x_76</td>\n",
       "      <td>3</td>\n",
       "      <td>0.0</td>\n",
       "      <td>94.091450</td>\n",
       "      <td>int64</td>\n",
       "    </tr>\n",
       "    <tr>\n",
       "      <td>62</td>\n",
       "      <td>ncloseCreditCard</td>\n",
       "      <td>3</td>\n",
       "      <td>0.0</td>\n",
       "      <td>79.341660</td>\n",
       "      <td>int64</td>\n",
       "    </tr>\n",
       "    <tr>\n",
       "      <td>63</td>\n",
       "      <td>unpayIndvLoan</td>\n",
       "      <td>3</td>\n",
       "      <td>0.0</td>\n",
       "      <td>85.785699</td>\n",
       "      <td>int64</td>\n",
       "    </tr>\n",
       "    <tr>\n",
       "      <td>64</td>\n",
       "      <td>unpayOtherLoan</td>\n",
       "      <td>3</td>\n",
       "      <td>0.0</td>\n",
       "      <td>87.031637</td>\n",
       "      <td>int64</td>\n",
       "    </tr>\n",
       "    <tr>\n",
       "      <td>65</td>\n",
       "      <td>unpayNormalLoan</td>\n",
       "      <td>3</td>\n",
       "      <td>0.0</td>\n",
       "      <td>84.530671</td>\n",
       "      <td>int64</td>\n",
       "    </tr>\n",
       "    <tr>\n",
       "      <td>44</td>\n",
       "      <td>x_67</td>\n",
       "      <td>3</td>\n",
       "      <td>0.0</td>\n",
       "      <td>58.064516</td>\n",
       "      <td>int64</td>\n",
       "    </tr>\n",
       "    <tr>\n",
       "      <td>30</td>\n",
       "      <td>x_48</td>\n",
       "      <td>3</td>\n",
       "      <td>0.0</td>\n",
       "      <td>86.344667</td>\n",
       "      <td>int64</td>\n",
       "    </tr>\n",
       "  </tbody>\n",
       "</table>\n",
       "</div>"
      ],
      "text/plain": [
       "             Feature  Unique_values  Percentage of missing values  \\\n",
       "68            target              2                           0.0   \n",
       "66      5yearBadloan              2                           0.0   \n",
       "3             gender              2                           0.0   \n",
       "67             isNew              2                           0.0   \n",
       "32              x_50              3                           0.0   \n",
       "33              x_51              3                           0.0   \n",
       "35              x_53              3                           0.0   \n",
       "36              x_54              3                           0.0   \n",
       "37              x_55              3                           0.0   \n",
       "38              x_56              3                           0.0   \n",
       "39              x_62              3                           0.0   \n",
       "40              x_63              3                           0.0   \n",
       "41              x_64              3                           0.0   \n",
       "42              x_65              3                           0.0   \n",
       "43              x_66              3                           0.0   \n",
       "45              x_68              3                           0.0   \n",
       "31              x_49              3                           0.0   \n",
       "46              x_69              3                           0.0   \n",
       "47              x_71              3                           0.0   \n",
       "48              x_72              3                           0.0   \n",
       "49              x_73              3                           0.0   \n",
       "50              x_74              3                           0.0   \n",
       "51              x_75              3                           0.0   \n",
       "52              x_76              3                           0.0   \n",
       "62  ncloseCreditCard              3                           0.0   \n",
       "63     unpayIndvLoan              3                           0.0   \n",
       "64    unpayOtherLoan              3                           0.0   \n",
       "65   unpayNormalLoan              3                           0.0   \n",
       "44              x_67              3                           0.0   \n",
       "30              x_48              3                           0.0   \n",
       "\n",
       "    Percentage of values in the biggest category   type  \n",
       "68                                     99.273644  int64  \n",
       "66                                     99.763688  int64  \n",
       "3                                      75.622022  int64  \n",
       "67                                     63.770838  int64  \n",
       "32                                     83.092351  int64  \n",
       "33                                     73.479311  int64  \n",
       "35                                     83.849003  int64  \n",
       "36                                     85.732680  int64  \n",
       "37                                     95.465390  int64  \n",
       "38                                     97.080944  int64  \n",
       "39                                     63.611782  int64  \n",
       "40                                     65.933242  int64  \n",
       "41                                     92.781131  int64  \n",
       "42                                     53.106514  int64  \n",
       "43                                     78.548652  int64  \n",
       "45                                     94.178552  int64  \n",
       "31                                     93.814995  int64  \n",
       "46                                     99.439517  int64  \n",
       "47                                     74.557862  int64  \n",
       "48                                     85.228245  int64  \n",
       "49                                     97.517970  int64  \n",
       "50                                     83.764930  int64  \n",
       "51                                     74.630574  int64  \n",
       "52                                     94.091450  int64  \n",
       "62                                     79.341660  int64  \n",
       "63                                     85.785699  int64  \n",
       "64                                     87.031637  int64  \n",
       "65                                     84.530671  int64  \n",
       "44                                     58.064516  int64  \n",
       "30                                     86.344667  int64  "
      ]
     },
     "execution_count": 62,
     "metadata": {},
     "output_type": "execute_result"
    }
   ],
   "source": [
    "stats = []\n",
    "for col in df.columns:\n",
    "    stats.append((col, train[col].nunique(), train[col].isnull().sum() * 100 / train.shape[0],\n",
    "                  train[col].value_counts(normalize=True, dropna=False).values[0] * 100, train[col].dtype))\n",
    "\n",
    "stats_df = pd.DataFrame(stats, columns=['Feature', 'Unique_values', 'Percentage of missing values',\n",
    "                                        'Percentage of values in the biggest category', 'type'])\n",
    "stats_df.sort_values('Unique_values', ascending=True, inplace=True)\n",
    "stats_df.head(30)"
   ]
  },
  {
   "cell_type": "code",
   "execution_count": 44,
   "metadata": {},
   "outputs": [
    {
     "data": {
      "text/plain": [
       "<matplotlib.axes._subplots.AxesSubplot at 0x2dc0fad9b70>"
      ]
     },
     "execution_count": 44,
     "metadata": {},
     "output_type": "execute_result"
    },
    {
     "data": {
      "image/png": "[encoded data removed]",
      "text/plain": [
       "<Figure size 1440x1008 with 2 Axes>"
      ]
     },
     "metadata": {
      "needs_background": "light"
     },
     "output_type": "display_data"
    }
   ],
   "source": [
    "# 缺失值可视化显示\n",
    "import missingno as msno\n",
    "data=df.copy()\n",
    "msno.matrix(df=data.iloc[:,1:69], figsize=(20, 14), color=(0.42, 0.1, 0.05),labels=True)"
   ]
  },
  {
   "cell_type": "markdown",
   "metadata": {},
   "source": [
    "从上面统计可以得出：\n",
    "- 所有的字段都可以当做类别特征\n",
    "- 数值特征：['lmt','certValidStop','certValidBegin']\n",
    "- 缺失值只有一列：bankCard"
   ]
  },
  {
   "cell_type": "code",
   "execution_count": 69,
   "metadata": {},
   "outputs": [],
   "source": [
    "# 填充缺失值\n",
    "df.fillna(value=0, inplace=True)  # bankCard存在空值\n",
    "train.fillna(value=0, inplace=True)  # bankCard存在空值"
   ]
  },
  {
   "cell_type": "markdown",
   "metadata": {},
   "source": [
    "## target 可视化"
   ]
  },
  {
   "cell_type": "code",
   "execution_count": 45,
   "metadata": {},
   "outputs": [
    {
     "data": {
      "application/vnd.plotly.v1+json": {
       "config": {
        "linkText": "Export to plot.ly",
        "plotlyServerURL": "https://plot.ly",
        "showLink": false
       },
       "data": [
        {
         "text": "Distribution of target variable",
         "type": "bar",
         "x": [
          0,
          1
         ],
         "y": [
          131070,
          959
         ]
        }
       ],
       "layout": {
        "template": {
         "data": {
          "bar": [
           {
            "error_x": {
             "color": "#2a3f5f"
            },
            "error_y": {
             "color": "#2a3f5f"
            },
            "marker": {
             "line": {
              "color": "#E5ECF6",
              "width": 0.5
             }
            },
            "type": "bar"
           }
          ],
          "barpolar": [
           {
            "marker": {
             "line": {
              "color": "#E5ECF6",
              "width": 0.5
             }
            },
            "type": "barpolar"
           }
          ],
          "carpet": [
           {
            "aaxis": {
             "endlinecolor": "#2a3f5f",
             "gridcolor": "white",
             "linecolor": "white",
             "minorgridcolor": "white",
             "startlinecolor": "#2a3f5f"
            },
            "baxis": {
             "endlinecolor": "#2a3f5f",
             "gridcolor": "white",
             "linecolor": "white",
             "minorgridcolor": "white",
             "startlinecolor": "#2a3f5f"
            },
            "type": "carpet"
           }
          ],
          "choropleth": [
           {
            "colorbar": {
             "outlinewidth": 0,
             "ticks": ""
            },
            "type": "choropleth"
           }
          ],
          "contour": [
           {
            "colorbar": {
             "outlinewidth": 0,
             "ticks": ""
            },
            "colorscale": [
             [
              0,
              "#0d0887"
             ],
             [
              0.1111111111111111,
              "#46039f"
             ],
             [
              0.2222222222222222,
              "#7201a8"
             ],
             [
              0.3333333333333333,
              "#9c179e"
             ],
             [
              0.4444444444444444,
              "#bd3786"
             ],
             [
              0.5555555555555556,
              "#d8576b"
             ],
             [
              0.6666666666666666,
              "#ed7953"
             ],
             [
              0.7777777777777778,
              "#fb9f3a"
             ],
             [
              0.8888888888888888,
              "#fdca26"
             ],
             [
              1,
              "#f0f921"
             ]
            ],
            "type": "contour"
           }
          ],
          "contourcarpet": [
           {
            "colorbar": {
             "outlinewidth": 0,
             "ticks": ""
            },
            "type": "contourcarpet"
           }
          ],
          "heatmap": [
           {
            "colorbar": {
             "outlinewidth": 0,
             "ticks": ""
            },
            "colorscale": [
             [
              0,
              "#0d0887"
             ],
             [
              0.1111111111111111,
              "#46039f"
             ],
             [
              0.2222222222222222,
              "#7201a8"
             ],
             [
              0.3333333333333333,
              "#9c179e"
             ],
             [
              0.4444444444444444,
              "#bd3786"
             ],
             [
              0.5555555555555556,
              "#d8576b"
             ],
             [
              0.6666666666666666,
              "#ed7953"
             ],
             [
              0.7777777777777778,
              "#fb9f3a"
             ],
             [
              0.8888888888888888,
              "#fdca26"
             ],
             [
              1,
              "#f0f921"
             ]
            ],
            "type": "heatmap"
           }
          ],
          "heatmapgl": [
           {
            "colorbar": {
             "outlinewidth": 0,
             "ticks": ""
            },
            "colorscale": [
             [
              0,
              "#0d0887"
             ],
             [
              0.1111111111111111,
              "#46039f"
             ],
             [
              0.2222222222222222,
              "#7201a8"
             ],
             [
              0.3333333333333333,
              "#9c179e"
             ],
             [
              0.4444444444444444,
              "#bd3786"
             ],
             [
              0.5555555555555556,
              "#d8576b"
             ],
             [
              0.6666666666666666,
              "#ed7953"
             ],
             [
              0.7777777777777778,
              "#fb9f3a"
             ],
             [
              0.8888888888888888,
              "#fdca26"
             ],
             [
              1,
              "#f0f921"
             ]
            ],
            "type": "heatmapgl"
           }
          ],
          "histogram": [
           {
            "marker": {
             "colorbar": {
              "outlinewidth": 0,
              "ticks": ""
             }
            },
            "type": "histogram"
           }
          ],
          "histogram2d": [
           {
            "colorbar": {
             "outlinewidth": 0,
             "ticks": ""
            },
            "colorscale": [
             [
              0,
              "#0d0887"
             ],
             [
              0.1111111111111111,
              "#46039f"
             ],
             [
              0.2222222222222222,
              "#7201a8"
             ],
             [
              0.3333333333333333,
              "#9c179e"
             ],
             [
              0.4444444444444444,
              "#bd3786"
             ],
             [
              0.5555555555555556,
              "#d8576b"
             ],
             [
              0.6666666666666666,
              "#ed7953"
             ],
             [
              0.7777777777777778,
              "#fb9f3a"
             ],
             [
              0.8888888888888888,
              "#fdca26"
             ],
             [
              1,
              "#f0f921"
             ]
            ],
            "type": "histogram2d"
           }
          ],
          "histogram2dcontour": [
           {
            "colorbar": {
             "outlinewidth": 0,
             "ticks": ""
            },
            "colorscale": [
             [
              0,
              "#0d0887"
             ],
             [
              0.1111111111111111,
              "#46039f"
             ],
             [
              0.2222222222222222,
              "#7201a8"
             ],
             [
              0.3333333333333333,
              "#9c179e"
             ],
             [
              0.4444444444444444,
              "#bd3786"
             ],
             [
              0.5555555555555556,
              "#d8576b"
             ],
             [
              0.6666666666666666,
              "#ed7953"
             ],
             [
              0.7777777777777778,
              "#fb9f3a"
             ],
             [
              0.8888888888888888,
              "#fdca26"
             ],
             [
              1,
              "#f0f921"
             ]
            ],
            "type": "histogram2dcontour"
           }
          ],
          "mesh3d": [
           {
            "colorbar": {
             "outlinewidth": 0,
             "ticks": ""
            },
            "type": "mesh3d"
           }
          ],
          "parcoords": [
           {
            "line": {
             "colorbar": {
              "outlinewidth": 0,
              "ticks": ""
             }
            },
            "type": "parcoords"
           }
          ],
          "scatter": [
           {
            "marker": {
             "colorbar": {
              "outlinewidth": 0,
              "ticks": ""
             }
            },
            "type": "scatter"
           }
          ],
          "scatter3d": [
           {
            "line": {
             "colorbar": {
              "outlinewidth": 0,
              "ticks": ""
             }
            },
            "marker": {
             "colorbar": {
              "outlinewidth": 0,
              "ticks": ""
             }
            },
            "type": "scatter3d"
           }
          ],
          "scattercarpet": [
           {
            "marker": {
             "colorbar": {
              "outlinewidth": 0,
              "ticks": ""
             }
            },
            "type": "scattercarpet"
           }
          ],
          "scattergeo": [
           {
            "marker": {
             "colorbar": {
              "outlinewidth": 0,
              "ticks": ""
             }
            },
            "type": "scattergeo"
           }
          ],
          "scattergl": [
           {
            "marker": {
             "colorbar": {
              "outlinewidth": 0,
              "ticks": ""
             }
            },
            "type": "scattergl"
           }
          ],
          "scattermapbox": [
           {
            "marker": {
             "colorbar": {
              "outlinewidth": 0,
              "ticks": ""
             }
            },
            "type": "scattermapbox"
           }
          ],
          "scatterpolar": [
           {
            "marker": {
             "colorbar": {
              "outlinewidth": 0,
              "ticks": ""
             }
            },
            "type": "scatterpolar"
           }
          ],
          "scatterpolargl": [
           {
            "marker": {
             "colorbar": {
              "outlinewidth": 0,
              "ticks": ""
             }
            },
            "type": "scatterpolargl"
           }
          ],
          "scatterternary": [
           {
            "marker": {
             "colorbar": {
              "outlinewidth": 0,
              "ticks": ""
             }
            },
            "type": "scatterternary"
           }
          ],
          "surface": [
           {
            "colorbar": {
             "outlinewidth": 0,
             "ticks": ""
            },
            "colorscale": [
             [
              0,
              "#0d0887"
             ],
             [
              0.1111111111111111,
              "#46039f"
             ],
             [
              0.2222222222222222,
              "#7201a8"
             ],
             [
              0.3333333333333333,
              "#9c179e"
             ],
             [
              0.4444444444444444,
              "#bd3786"
             ],
             [
              0.5555555555555556,
              "#d8576b"
             ],
             [
              0.6666666666666666,
              "#ed7953"
             ],
             [
              0.7777777777777778,
              "#fb9f3a"
             ],
             [
              0.8888888888888888,
              "#fdca26"
             ],
             [
              1,
              "#f0f921"
             ]
            ],
            "type": "surface"
           }
          ],
          "table": [
           {
            "cells": {
             "fill": {
              "color": "#EBF0F8"
             },
             "line": {
              "color": "white"
             }
            },
            "header": {
             "fill": {
              "color": "#C8D4E3"
             },
             "line": {
              "color": "white"
             }
            },
            "type": "table"
           }
          ]
         },
         "layout": {
          "annotationdefaults": {
           "arrowcolor": "#2a3f5f",
           "arrowhead": 0,
           "arrowwidth": 1
          },
          "colorscale": {
           "diverging": [
            [
             0,
             "#8e0152"
            ],
            [
             0.1,
             "#c51b7d"
            ],
            [
             0.2,
             "#de77ae"
            ],
            [
             0.3,
             "#f1b6da"
            ],
            [
             0.4,
             "#fde0ef"
            ],
            [
             0.5,
             "#f7f7f7"
            ],
            [
             0.6,
             "#e6f5d0"
            ],
            [
             0.7,
             "#b8e186"
            ],
            [
             0.8,
             "#7fbc41"
            ],
            [
             0.9,
             "#4d9221"
            ],
            [
             1,
             "#276419"
            ]
           ],
           "sequential": [
            [
             0,
             "#0d0887"
            ],
            [
             0.1111111111111111,
             "#46039f"
            ],
            [
             0.2222222222222222,
             "#7201a8"
            ],
            [
             0.3333333333333333,
             "#9c179e"
            ],
            [
             0.4444444444444444,
             "#bd3786"
            ],
            [
             0.5555555555555556,
             "#d8576b"
            ],
            [
             0.6666666666666666,
             "#ed7953"
            ],
            [
             0.7777777777777778,
             "#fb9f3a"
            ],
            [
             0.8888888888888888,
             "#fdca26"
            ],
            [
             1,
             "#f0f921"
            ]
           ],
           "sequentialminus": [
            [
             0,
             "#0d0887"
            ],
            [
             0.1111111111111111,
             "#46039f"
            ],
            [
             0.2222222222222222,
             "#7201a8"
            ],
            [
             0.3333333333333333,
             "#9c179e"
            ],
            [
             0.4444444444444444,
             "#bd3786"
            ],
            [
             0.5555555555555556,
             "#d8576b"
            ],
            [
             0.6666666666666666,
             "#ed7953"
            ],
            [
             0.7777777777777778,
             "#fb9f3a"
            ],
            [
             0.8888888888888888,
             "#fdca26"
            ],
            [
             1,
             "#f0f921"
            ]
           ]
          },
          "colorway": [
           "#636efa",
           "#EF553B",
           "#00cc96",
           "#ab63fa",
           "#FFA15A",
           "#19d3f3",
           "#FF6692",
           "#B6E880",
           "#FF97FF",
           "#FECB52"
          ],
          "font": {
           "color": "#2a3f5f"
          },
          "geo": {
           "bgcolor": "white",
           "lakecolor": "white",
           "landcolor": "#E5ECF6",
           "showlakes": true,
           "showland": true,
           "subunitcolor": "white"
          },
          "hoverlabel": {
           "align": "left"
          },
          "hovermode": "closest",
          "mapbox": {
           "style": "light"
          },
          "paper_bgcolor": "white",
          "plot_bgcolor": "#E5ECF6",
          "polar": {
           "angularaxis": {
            "gridcolor": "white",
            "linecolor": "white",
            "ticks": ""
           },
           "bgcolor": "#E5ECF6",
           "radialaxis": {
            "gridcolor": "white",
            "linecolor": "white",
            "ticks": ""
           }
          },
          "scene": {
           "xaxis": {
            "backgroundcolor": "#E5ECF6",
            "gridcolor": "white",
            "gridwidth": 2,
            "linecolor": "white",
            "showbackground": true,
            "ticks": "",
            "zerolinecolor": "white"
           },
           "yaxis": {
            "backgroundcolor": "#E5ECF6",
            "gridcolor": "white",
            "gridwidth": 2,
            "linecolor": "white",
            "showbackground": true,
            "ticks": "",
            "zerolinecolor": "white"
           },
           "zaxis": {
            "backgroundcolor": "#E5ECF6",
            "gridcolor": "white",
            "gridwidth": 2,
            "linecolor": "white",
            "showbackground": true,
            "ticks": "",
            "zerolinecolor": "white"
           }
          },
          "shapedefaults": {
           "line": {
            "color": "#2a3f5f"
           }
          },
          "ternary": {
           "aaxis": {
            "gridcolor": "white",
            "linecolor": "white",
            "ticks": ""
           },
           "baxis": {
            "gridcolor": "white",
            "linecolor": "white",
            "ticks": ""
           },
           "bgcolor": "#E5ECF6",
           "caxis": {
            "gridcolor": "white",
            "linecolor": "white",
            "ticks": ""
           }
          },
          "title": {
           "x": 0.05
          },
          "xaxis": {
           "automargin": true,
           "gridcolor": "white",
           "linecolor": "white",
           "ticks": "",
           "zerolinecolor": "white",
           "zerolinewidth": 2
          },
          "yaxis": {
           "automargin": true,
           "gridcolor": "white",
           "linecolor": "white",
           "ticks": "",
           "zerolinecolor": "white",
           "zerolinewidth": 2
          }
         }
        },
        "title": {
         "text": "Target variable distribution"
        }
       }
      },
      "text/html": [
       "<div>\n",
       "        \n",
       "        \n",
       "            <div id=\"1601dcb3-9313-4ae4-b1c4-843713e3655b\" class=\"plotly-graph-div\" style=\"height:525px; width:100%;\"></div>\n",
       "            <script type=\"text/javascript\">\n",
       "                require([\"plotly\"], function(Plotly) {\n",
       "                    window.PLOTLYENV=window.PLOTLYENV || {};\n",
       "                    \n",
       "                if (document.getElementById(\"1601dcb3-9313-4ae4-b1c4-843713e3655b\")) {\n",
       "                    Plotly.newPlot(\n",
       "                        '1601dcb3-9313-4ae4-b1c4-843713e3655b',\n",
       "                        [{\"text\": \"Distribution of target variable\", \"type\": \"bar\", \"x\": [0, 1], \"y\": [131070, 959]}],\n",
       "                        {\"template\": {\"data\": {\"bar\": [{\"error_x\": {\"color\": \"#2a3f5f\"}, \"error_y\": {\"color\": \"#2a3f5f\"}, \"marker\": {\"line\": {\"color\": \"#E5ECF6\", \"width\": 0.5}}, \"type\": \"bar\"}], \"barpolar\": [{\"marker\": {\"line\": {\"color\": \"#E5ECF6\", \"width\": 0.5}}, \"type\": \"barpolar\"}], \"carpet\": [{\"aaxis\": {\"endlinecolor\": \"#2a3f5f\", \"gridcolor\": \"white\", \"linecolor\": \"white\", \"minorgridcolor\": \"white\", \"startlinecolor\": \"#2a3f5f\"}, \"baxis\": {\"endlinecolor\": \"#2a3f5f\", \"gridcolor\": \"white\", \"linecolor\": \"white\", \"minorgridcolor\": \"white\", \"startlinecolor\": \"#2a3f5f\"}, \"type\": \"carpet\"}], \"choropleth\": [{\"colorbar\": {\"outlinewidth\": 0, \"ticks\": \"\"}, \"type\": \"choropleth\"}], \"contour\": [{\"colorbar\": {\"outlinewidth\": 0, \"ticks\": \"\"}, \"colorscale\": [[0.0, \"#0d0887\"], [0.1111111111111111, \"#46039f\"], [0.2222222222222222, \"#7201a8\"], [0.3333333333333333, \"#9c179e\"], [0.4444444444444444, \"#bd3786\"], [0.5555555555555556, \"#d8576b\"], [0.6666666666666666, \"#ed7953\"], [0.7777777777777778, \"#fb9f3a\"], [0.8888888888888888, \"#fdca26\"], [1.0, \"#f0f921\"]], \"type\": \"contour\"}], \"contourcarpet\": [{\"colorbar\": {\"outlinewidth\": 0, \"ticks\": \"\"}, \"type\": \"contourcarpet\"}], \"heatmap\": [{\"colorbar\": {\"outlinewidth\": 0, \"ticks\": \"\"}, \"colorscale\": [[0.0, \"#0d0887\"], [0.1111111111111111, \"#46039f\"], [0.2222222222222222, \"#7201a8\"], [0.3333333333333333, \"#9c179e\"], [0.4444444444444444, \"#bd3786\"], [0.5555555555555556, \"#d8576b\"], [0.6666666666666666, \"#ed7953\"], [0.7777777777777778, \"#fb9f3a\"], [0.8888888888888888, \"#fdca26\"], [1.0, \"#f0f921\"]], \"type\": \"heatmap\"}], \"heatmapgl\": [{\"colorbar\": {\"outlinewidth\": 0, \"ticks\": \"\"}, \"colorscale\": [[0.0, \"#0d0887\"], [0.1111111111111111, \"#46039f\"], [0.2222222222222222, \"#7201a8\"], [0.3333333333333333, \"#9c179e\"], [0.4444444444444444, \"#bd3786\"], [0.5555555555555556, \"#d8576b\"], [0.6666666666666666, \"#ed7953\"], [0.7777777777777778, \"#fb9f3a\"], [0.8888888888888888, \"#fdca26\"], [1.0, \"#f0f921\"]], \"type\": \"heatmapgl\"}], \"histogram\": [{\"marker\": {\"colorbar\": {\"outlinewidth\": 0, \"ticks\": \"\"}}, \"type\": \"histogram\"}], \"histogram2d\": [{\"colorbar\": {\"outlinewidth\": 0, \"ticks\": \"\"}, \"colorscale\": [[0.0, \"#0d0887\"], [0.1111111111111111, \"#46039f\"], [0.2222222222222222, \"#7201a8\"], [0.3333333333333333, \"#9c179e\"], [0.4444444444444444, \"#bd3786\"], [0.5555555555555556, \"#d8576b\"], [0.6666666666666666, \"#ed7953\"], [0.7777777777777778, \"#fb9f3a\"], [0.8888888888888888, \"#fdca26\"], [1.0, \"#f0f921\"]], \"type\": \"histogram2d\"}], \"histogram2dcontour\": [{\"colorbar\": {\"outlinewidth\": 0, \"ticks\": \"\"}, \"colorscale\": [[0.0, \"#0d0887\"], [0.1111111111111111, \"#46039f\"], [0.2222222222222222, \"#7201a8\"], [0.3333333333333333, \"#9c179e\"], [0.4444444444444444, \"#bd3786\"], [0.5555555555555556, \"#d8576b\"], [0.6666666666666666, \"#ed7953\"], [0.7777777777777778, \"#fb9f3a\"], [0.8888888888888888, \"#fdca26\"], [1.0, \"#f0f921\"]], \"type\": \"histogram2dcontour\"}], \"mesh3d\": [{\"colorbar\": {\"outlinewidth\": 0, \"ticks\": \"\"}, \"type\": \"mesh3d\"}], \"parcoords\": [{\"line\": {\"colorbar\": {\"outlinewidth\": 0, \"ticks\": \"\"}}, \"type\": \"parcoords\"}], \"scatter\": [{\"marker\": {\"colorbar\": {\"outlinewidth\": 0, \"ticks\": \"\"}}, \"type\": \"scatter\"}], \"scatter3d\": [{\"line\": {\"colorbar\": {\"outlinewidth\": 0, \"ticks\": \"\"}}, \"marker\": {\"colorbar\": {\"outlinewidth\": 0, \"ticks\": \"\"}}, \"type\": \"scatter3d\"}], \"scattercarpet\": [{\"marker\": {\"colorbar\": {\"outlinewidth\": 0, \"ticks\": \"\"}}, \"type\": \"scattercarpet\"}], \"scattergeo\": [{\"marker\": {\"colorbar\": {\"outlinewidth\": 0, \"ticks\": \"\"}}, \"type\": \"scattergeo\"}], \"scattergl\": [{\"marker\": {\"colorbar\": {\"outlinewidth\": 0, \"ticks\": \"\"}}, \"type\": \"scattergl\"}], \"scattermapbox\": [{\"marker\": {\"colorbar\": {\"outlinewidth\": 0, \"ticks\": \"\"}}, \"type\": \"scattermapbox\"}], \"scatterpolar\": [{\"marker\": {\"colorbar\": {\"outlinewidth\": 0, \"ticks\": \"\"}}, \"type\": \"scatterpolar\"}], \"scatterpolargl\": [{\"marker\": {\"colorbar\": {\"outlinewidth\": 0, \"ticks\": \"\"}}, \"type\": \"scatterpolargl\"}], \"scatterternary\": [{\"marker\": {\"colorbar\": {\"outlinewidth\": 0, \"ticks\": \"\"}}, \"type\": \"scatterternary\"}], \"surface\": [{\"colorbar\": {\"outlinewidth\": 0, \"ticks\": \"\"}, \"colorscale\": [[0.0, \"#0d0887\"], [0.1111111111111111, \"#46039f\"], [0.2222222222222222, \"#7201a8\"], [0.3333333333333333, \"#9c179e\"], [0.4444444444444444, \"#bd3786\"], [0.5555555555555556, \"#d8576b\"], [0.6666666666666666, \"#ed7953\"], [0.7777777777777778, \"#fb9f3a\"], [0.8888888888888888, \"#fdca26\"], [1.0, \"#f0f921\"]], \"type\": \"surface\"}], \"table\": [{\"cells\": {\"fill\": {\"color\": \"#EBF0F8\"}, \"line\": {\"color\": \"white\"}}, \"header\": {\"fill\": {\"color\": \"#C8D4E3\"}, \"line\": {\"color\": \"white\"}}, \"type\": \"table\"}]}, \"layout\": {\"annotationdefaults\": {\"arrowcolor\": \"#2a3f5f\", \"arrowhead\": 0, \"arrowwidth\": 1}, \"colorscale\": {\"diverging\": [[0, \"#8e0152\"], [0.1, \"#c51b7d\"], [0.2, \"#de77ae\"], [0.3, \"#f1b6da\"], [0.4, \"#fde0ef\"], [0.5, \"#f7f7f7\"], [0.6, \"#e6f5d0\"], [0.7, \"#b8e186\"], [0.8, \"#7fbc41\"], [0.9, \"#4d9221\"], [1, \"#276419\"]], \"sequential\": [[0.0, \"#0d0887\"], [0.1111111111111111, \"#46039f\"], [0.2222222222222222, \"#7201a8\"], [0.3333333333333333, \"#9c179e\"], [0.4444444444444444, \"#bd3786\"], [0.5555555555555556, \"#d8576b\"], [0.6666666666666666, \"#ed7953\"], [0.7777777777777778, \"#fb9f3a\"], [0.8888888888888888, \"#fdca26\"], [1.0, \"#f0f921\"]], \"sequentialminus\": [[0.0, \"#0d0887\"], [0.1111111111111111, \"#46039f\"], [0.2222222222222222, \"#7201a8\"], [0.3333333333333333, \"#9c179e\"], [0.4444444444444444, \"#bd3786\"], [0.5555555555555556, \"#d8576b\"], [0.6666666666666666, \"#ed7953\"], [0.7777777777777778, \"#fb9f3a\"], [0.8888888888888888, \"#fdca26\"], [1.0, \"#f0f921\"]]}, \"colorway\": [\"#636efa\", \"#EF553B\", \"#00cc96\", \"#ab63fa\", \"#FFA15A\", \"#19d3f3\", \"#FF6692\", \"#B6E880\", \"#FF97FF\", \"#FECB52\"], \"font\": {\"color\": \"#2a3f5f\"}, \"geo\": {\"bgcolor\": \"white\", \"lakecolor\": \"white\", \"landcolor\": \"#E5ECF6\", \"showlakes\": true, \"showland\": true, \"subunitcolor\": \"white\"}, \"hoverlabel\": {\"align\": \"left\"}, \"hovermode\": \"closest\", \"mapbox\": {\"style\": \"light\"}, \"paper_bgcolor\": \"white\", \"plot_bgcolor\": \"#E5ECF6\", \"polar\": {\"angularaxis\": {\"gridcolor\": \"white\", \"linecolor\": \"white\", \"ticks\": \"\"}, \"bgcolor\": \"#E5ECF6\", \"radialaxis\": {\"gridcolor\": \"white\", \"linecolor\": \"white\", \"ticks\": \"\"}}, \"scene\": {\"xaxis\": {\"backgroundcolor\": \"#E5ECF6\", \"gridcolor\": \"white\", \"gridwidth\": 2, \"linecolor\": \"white\", \"showbackground\": true, \"ticks\": \"\", \"zerolinecolor\": \"white\"}, \"yaxis\": {\"backgroundcolor\": \"#E5ECF6\", \"gridcolor\": \"white\", \"gridwidth\": 2, \"linecolor\": \"white\", \"showbackground\": true, \"ticks\": \"\", \"zerolinecolor\": \"white\"}, \"zaxis\": {\"backgroundcolor\": \"#E5ECF6\", \"gridcolor\": \"white\", \"gridwidth\": 2, \"linecolor\": \"white\", \"showbackground\": true, \"ticks\": \"\", \"zerolinecolor\": \"white\"}}, \"shapedefaults\": {\"line\": {\"color\": \"#2a3f5f\"}}, \"ternary\": {\"aaxis\": {\"gridcolor\": \"white\", \"linecolor\": \"white\", \"ticks\": \"\"}, \"baxis\": {\"gridcolor\": \"white\", \"linecolor\": \"white\", \"ticks\": \"\"}, \"bgcolor\": \"#E5ECF6\", \"caxis\": {\"gridcolor\": \"white\", \"linecolor\": \"white\", \"ticks\": \"\"}}, \"title\": {\"x\": 0.05}, \"xaxis\": {\"automargin\": true, \"gridcolor\": \"white\", \"linecolor\": \"white\", \"ticks\": \"\", \"zerolinecolor\": \"white\", \"zerolinewidth\": 2}, \"yaxis\": {\"automargin\": true, \"gridcolor\": \"white\", \"linecolor\": \"white\", \"ticks\": \"\", \"zerolinecolor\": \"white\", \"zerolinewidth\": 2}}}, \"title\": {\"text\": \"Target variable distribution\"}},\n",
       "                        {\"responsive\": true}\n",
       "                    ).then(function(){\n",
       "                            \n",
       "var gd = document.getElementById('1601dcb3-9313-4ae4-b1c4-843713e3655b');\n",
       "var x = new MutationObserver(function (mutations, observer) {{\n",
       "        var display = window.getComputedStyle(gd).display;\n",
       "        if (!display || display === 'none') {{\n",
       "            console.log([gd, 'removed!']);\n",
       "            Plotly.purge(gd);\n",
       "            observer.disconnect();\n",
       "        }}\n",
       "}});\n",
       "\n",
       "// Listen for the removal of the full notebook cells\n",
       "var notebookContainer = gd.closest('#notebook-container');\n",
       "if (notebookContainer) {{\n",
       "    x.observe(notebookContainer, {childList: true});\n",
       "}}\n",
       "\n",
       "// Listen for the clearing of the current output cell\n",
       "var outputEl = gd.closest('.output');\n",
       "if (outputEl) {{\n",
       "    x.observe(outputEl, {childList: true});\n",
       "}}\n",
       "\n",
       "                        })\n",
       "                };\n",
       "                });\n",
       "            </script>\n",
       "        </div>"
      ]
     },
     "metadata": {},
     "output_type": "display_data"
    }
   ],
   "source": [
    "data = [go.Bar(\n",
    "            x = train[\"target\"].value_counts().index.values,\n",
    "            y = train[\"target\"].value_counts().values,\n",
    "            text='Distribution of target variable'\n",
    "    )]\n",
    "\n",
    "layout = go.Layout(\n",
    "    title='Target variable distribution'\n",
    ")\n",
    "\n",
    "fig = go.Figure(data=data, layout=layout)\n",
    "\n",
    "py.iplot(fig, filename='basic-bar')"
   ]
  },
  {
   "cell_type": "markdown",
   "metadata": {},
   "source": [
    "## 相关系数展示"
   ]
  },
  {
   "cell_type": "code",
   "execution_count": 56,
   "metadata": {},
   "outputs": [],
   "source": [
    "train_float = df.select_dtypes(include=['float64'])\n",
    "train_int = df.select_dtypes(include=['int64'])"
   ]
  },
  {
   "cell_type": "code",
   "execution_count": 57,
   "metadata": {},
   "outputs": [
    {
     "data": {
      "text/plain": [
       "<matplotlib.axes._subplots.AxesSubplot at 0x2dc19ff8dd8>"
      ]
     },
     "execution_count": 57,
     "metadata": {},
     "output_type": "execute_result"
    },
    {
     "data": {
      "image/png": "[encoded data removed]",
      "text/plain": [
       "<Figure size 1152x864 with 2 Axes>"
      ]
     },
     "metadata": {
      "needs_background": "light"
     },
     "output_type": "display_data"
    }
   ],
   "source": [
    "colormap = plt.cm.magma\n",
    "plt.figure(figsize=(16,12))\n",
    "plt.title('Pearson correlation of continuous features', y=1.05, size=15)\n",
    "sns.heatmap(train_float.corr(),linewidths=0.1,vmax=1.0, square=True, \n",
    "            cmap=colormap, linecolor='white', annot=True)\n"
   ]
  },
  {
   "cell_type": "code",
   "execution_count": 58,
   "metadata": {},
   "outputs": [
    {
     "data": {
      "text/plain": [
       "<matplotlib.axes._subplots.AxesSubplot at 0x2dc12584b00>"
      ]
     },
     "execution_count": 58,
     "metadata": {},
     "output_type": "execute_result"
    },
    {
     "data": {
      "image/png": "[encoded data removed]",
      "text/plain": [
       "<Figure size 1152x864 with 2 Axes>"
      ]
     },
     "metadata": {
      "needs_background": "light"
     },
     "output_type": "display_data"
    }
   ],
   "source": [
    "colormap = plt.cm.magma\n",
    "plt.figure(figsize=(16,12))\n",
    "plt.title('Pearson correlation of continuous features', y=1.05, size=15)\n",
    "sns.heatmap(train_float.corr(),linewidths=0.1,vmax=1.0, square=True, \n",
    "            cmap=colormap, linecolor='white', annot=True)\n"
   ]
  },
  {
   "cell_type": "code",
   "execution_count": 59,
   "metadata": {},
   "outputs": [
    {
     "data": {
      "application/vnd.plotly.v1+json": {
       "config": {
        "linkText": "Export to plot.ly",
        "plotlyServerURL": "https://plot.ly",
        "showLink": false
       },
       "data": [
        {
         "colorscale": [
          [
           0,
           "#440154"
          ],
          [
           0.1111111111111111,
           "#482878"
          ],
          [
           0.2222222222222222,
           "#3e4989"
          ],
          [
           0.3333333333333333,
           "#31688e"
          ],
          [
           0.4444444444444444,
           "#26828e"
          ],
          [
           0.5555555555555556,
           "#1f9e89"
          ],
          [
           0.6666666666666666,
           "#35b779"
          ],
          [
           0.7777777777777778,
           "#6ece58"
          ],
          [
           0.8888888888888888,
           "#b5de2b"
          ],
          [
           1,
           "#fde725"
          ]
         ],
         "opacity": 1,
         "reversescale": false,
         "type": "heatmap",
         "x": [
          "id",
          "certId",
          "loanProduct",
          "gender",
          "age",
          "dist",
          "edu",
          "job",
          "basicLevel",
          "x_12",
          "x_14",
          "x_16",
          "x_20",
          "x_25",
          "x_26",
          "x_27",
          "x_28",
          "x_29",
          "x_30",
          "x_31",
          "x_32",
          "x_33",
          "x_34",
          "x_35",
          "x_39",
          "x_42",
          "x_44",
          "x_46",
          "x_47",
          "x_48",
          "x_49",
          "x_50",
          "x_51",
          "x_52",
          "x_53",
          "x_54",
          "x_55",
          "x_56",
          "x_62",
          "x_63",
          "x_64",
          "x_65",
          "x_66",
          "x_67",
          "x_68",
          "x_69",
          "x_71",
          "x_72",
          "x_73",
          "x_74",
          "x_75",
          "x_76",
          "certValidBegin",
          "ethnic",
          "residentAddr",
          "highestEdu",
          "linkRela",
          "setupHour",
          "weekday",
          "ncloseCreditCard",
          "unpayIndvLoan",
          "unpayOtherLoan",
          "unpayNormalLoan",
          "5yearBadloan",
          "isNew",
          "target"
         ],
         "y": [
          "id",
          "certId",
          "loanProduct",
          "gender",
          "age",
          "dist",
          "edu",
          "job",
          "basicLevel",
          "x_12",
          "x_14",
          "x_16",
          "x_20",
          "x_25",
          "x_26",
          "x_27",
          "x_28",
          "x_29",
          "x_30",
          "x_31",
          "x_32",
          "x_33",
          "x_34",
          "x_35",
          "x_39",
          "x_42",
          "x_44",
          "x_46",
          "x_47",
          "x_48",
          "x_49",
          "x_50",
          "x_51",
          "x_52",
          "x_53",
          "x_54",
          "x_55",
          "x_56",
          "x_62",
          "x_63",
          "x_64",
          "x_65",
          "x_66",
          "x_67",
          "x_68",
          "x_69",
          "x_71",
          "x_72",
          "x_73",
          "x_74",
          "x_75",
          "x_76",
          "certValidBegin",
          "ethnic",
          "residentAddr",
          "highestEdu",
          "linkRela",
          "setupHour",
          "weekday",
          "ncloseCreditCard",
          "unpayIndvLoan",
          "unpayOtherLoan",
          "unpayNormalLoan",
          "5yearBadloan",
          "isNew",
          "target"
         ],
         "z": [
          [
           1,
           -0.002584273729429698,
           0.06661416152692677,
           -0.007887143625408733,
           -0.03376194280966095,
           0.0031783361228184238,
           -0.014499012309969733,
           0.21787917914175595,
           -0.03251038552028828,
           0.006784275661232116,
           0.006782411151015293,
           0.006826415171321889,
           0.006823290750857314,
           0.006727945859668405,
           0.006754972541935211,
           0.006762533502998713,
           0.006783501723096821,
           0.00680023727366509,
           0.006819496445403806,
           0.006819778191084947,
           0.006819989967650196,
           0.007233568741996897,
           0.006768662483914706,
           0.006836731313449206,
           0.006820622903780897,
           0.006821421835838422,
           0.0068172651228824805,
           0.00654578659159792,
           0.006819219119556348,
           0.00688769012305282,
           0.006848748409066296,
           0.007000718840776395,
           0.006654528359151717,
           0.007028461067741556,
           0.0067516063849487875,
           0.006769908521260463,
           0.006772138095369213,
           0.006779987561043861,
           0.0066117498378719785,
           0.006514187967906671,
           0.006702370740467392,
           0.006777693651140062,
           0.006818742359451416,
           0.006573946504310695,
           0.006728665054840145,
           0.006806146323031051,
           0.006744319434073965,
           0.006687272042087056,
           0.00675434095547419,
           0.0068285684537778574,
           0.00667448745364061,
           0.00671789934295136,
           0.009490814345607218,
           0.007133686719268341,
           -0.023350356592102595,
           -0.07590104606638319,
           -0.008537041076039639,
           0.03136857283221028,
           -0.01774399851785394,
           0.0066753979591112995,
           0.006800730943438505,
           0.006928974854000931,
           0.006698014965404351,
           -0.006785867141062061,
           -0.29342653303776545,
           -0.6088394787880217
          ],
          [
           -0.002584273729429698,
           1,
           0.000654254976446776,
           0.025223549820022836,
           -0.07135324990606028,
           0.9173366256179882,
           -0.0014563485067029772,
           0.010086446158859244,
           0.0050796580500684155,
           -0.0009607253672528457,
           -0.0012917944215732715,
           -0.0009011211312586537,
           -0.0010841550203311776,
           -0.0010814058684642483,
           -0.0008618126472629577,
           -0.0010907324852125792,
           -0.0009364645008708038,
           -0.0009844863528173829,
           -0.0009219023954970159,
           -0.0009195088827882782,
           -0.0009075415930994595,
           0.00056604452760413,
           -2.37628869267589e-05,
           -0.0009094502852142042,
           -0.0009076989449104241,
           -0.000910225312598497,
           -0.0009739312599254035,
           -0.0006631424120748625,
           -0.0009201391189086427,
           -0.0009267863758265623,
           -0.0009237730621302295,
           -0.0011058590100179661,
           -0.001496992400879097,
           -0.00012229858440885785,
           -0.0011254344784011245,
           -0.0012318601757530976,
           -0.001043019904937612,
           -0.0010174375769457207,
           -0.001730999462487618,
           -0.0016803669295817442,
           -0.0011577108036103817,
           -0.0013476431341620228,
           -0.001056641228836241,
           -0.0010730687839314507,
           -0.000982548775660501,
           -0.0009089992218366113,
           -0.0010543935329073216,
           -0.0010597743775300672,
           -0.000936840610668264,
           -0.0010376200622564038,
           -0.0011400619799941901,
           -0.0009719664483265762,
           0.0328144655129483,
           0.06997409109004384,
           0.17759834134933572,
           0.01248614216084884,
           0.012334584091660317,
           0.008062578959210179,
           0.003821100048598128,
           -0.0015087999716297555,
           -0.0012421785489399964,
           -0.001012804468757347,
           -0.0011485330380607921,
           0.001153428843927672,
           0.001681209499505326,
           0.0027947936431737277
          ],
          [
           0.06661416152692677,
           0.000654254976446776,
           1,
           0.06702380367351814,
           -0.12404013172204913,
           0.0280134899108881,
           -0.017604334867156533,
           0.3400439863677515,
           0.04917227521925027,
           0.02760625319745496,
           0.027498831230205276,
           0.027788632438560015,
           0.027779697801076943,
           0.027236984057805124,
           0.027440521105892575,
           0.02732405538901052,
           0.02757281340884566,
           0.027581164796826537,
           0.027724536697060122,
           0.02776750441622674,
           0.027785340017612035,
           0.029644595600303757,
           0.027895917863573694,
           0.027812823347127882,
           0.027786153185826147,
           0.027779127379623833,
           0.027716057693426718,
           0.027592131238543215,
           0.02784061707425934,
           0.027805331149359947,
           0.027818562543434525,
           0.027870312199337235,
           0.02698634655052185,
           0.029077663512840718,
           0.02752179008465694,
           0.027265333951801123,
           0.027519439732109675,
           0.02754259025061561,
           0.02658915230078708,
           0.026304204412322132,
           0.027103103781366763,
           0.027505879297123156,
           0.02797843779235839,
           0.026775442124793932,
           0.027388322554262625,
           0.027747110026722525,
           0.026976421756969373,
           0.027027036000270496,
           0.02755230308443329,
           0.02716462748854119,
           0.026808854742130593,
           0.027301201832586365,
           0.03783586762490678,
           0.003738357668118404,
           -0.5806543646830195,
           -0.018060981512387705,
           -0.7669366462925281,
           0.0629816112986164,
           -0.1128365231397372,
           0.027168346594907865,
           0.02733172650407488,
           0.028022109858073154,
           0.02709428327701528,
           -0.027728635210746443,
           -0.22718190406096556,
           0.09368216361838673
          ],
          [
           -0.007887143625408733,
           0.025223549820022836,
           0.06702380367351814,
           1,
           0.018525665020750856,
           0.027814040260545826,
           -0.002737849430783617,
           -0.028636008091395316,
           0.00872389698582404,
           0.013805116800161726,
           0.013606820267418043,
           0.013726605141720628,
           0.01371271023909027,
           0.013959321780146207,
           0.013873114422722937,
           0.013772878356533786,
           0.01374990321207666,
           0.013755947432748692,
           0.013741845033277137,
           0.013736423913463098,
           0.013730110172058906,
           0.014769244985694341,
           0.013679413623697605,
           0.013736773738033031,
           0.013729745238993066,
           0.013731327188294156,
           0.013763133967681824,
           0.014140168974355863,
           0.013760072124394928,
           0.013685426985475584,
           0.013658281518652102,
           0.013403887422390265,
           0.013553289221267185,
           0.01407443850139539,
           0.013622824253491489,
           0.013566368281719933,
           0.013673002009772062,
           0.013711504405231372,
           0.013526831336282576,
           0.013427063994116986,
           0.013741709402775587,
           0.01324892902460495,
           0.013439738203213205,
           0.013388320580021467,
           0.013662707200947947,
           0.013727737540675366,
           0.0134567066680819,
           0.01367837943420376,
           0.01374020188117516,
           0.013496872819057244,
           0.013697022869529507,
           0.013762335467669827,
           0.0024905869884954157,
           -0.03256020858568346,
           -0.0809920713374947,
           -0.021191826207080718,
           -0.11531185742620272,
           -0.017802968262374434,
           0.013445161636613367,
           0.013603276702962049,
           0.013872140351632246,
           0.013683689808136041,
           0.01424724462059359,
           -0.013939486958202034,
           0.01692343089706669,
           -0.004309373706481058
          ],
          [
           -0.03376194280966095,
           -0.07135324990606028,
           -0.12404013172204913,
           0.018525665020750856,
           1,
           -0.07169477342203204,
           -0.011251126643366523,
           -0.17007987419068207,
           0.004249305566827967,
           0.009679899680717476,
           0.010423222072655653,
           0.00926194851486076,
           0.009615647505205561,
           0.009786669592965319,
           0.010052979047595402,
           0.009782587540302846,
           0.009457399937223686,
           0.009552154755467312,
           0.009371317970652014,
           0.009328244185799184,
           0.009306266694991773,
           0.00749730729390875,
           0.009409153397796969,
           0.009294666155260697,
           0.009305401658197964,
           0.00931394039898287,
           0.009456720663761468,
           0.009453868288643752,
           0.009271424116500754,
           0.009239474953231904,
           0.009274539651950084,
           0.009286074560619723,
           0.01110967969513111,
           0.007067515472630659,
           0.009764621397023889,
           0.010201992454910408,
           0.009762512767367958,
           0.009730247276098745,
           0.011527509803910626,
           0.011885794900019078,
           0.010257509550998774,
           0.010231514404270918,
           0.009411383982201276,
           0.009407312882527134,
           0.00946187901673706,
           0.00931586352990754,
           0.009232547692235984,
           0.009646223113536316,
           0.009397547084025647,
           0.009102378549851076,
           0.009723706993101827,
           0.00952190039258963,
           -0.39195044348751445,
           -0.027753289374323743,
           0.010143427742130113,
           -0.11876169180400448,
           -0.0803444790066679,
           -0.013223336699811846,
           0.026074796332389395,
           0.011009300134510734,
           0.010241207555421914,
           0.009223756804246402,
           0.010131696156234635,
           -0.009233525641148531,
           0.09225122158656024,
           -0.03519244805285494
          ],
          [
           0.0031783361228184238,
           0.9173366256179882,
           0.0280134899108881,
           0.027814040260545826,
           -0.07169477342203204,
           1,
           -0.002991848620729821,
           0.03179872491190748,
           0.00534812480434477,
           -0.0009733583692104455,
           -0.0013081448315379939,
           -0.0009128234308986654,
           -0.0010751159085078015,
           -0.001187038558818092,
           -0.0008902330325537633,
           -0.0011551195011277548,
           -0.0009709853995687281,
           -0.0010201442012825687,
           -0.0009437346580019954,
           -0.0009464488745027576,
           -0.0009210828231916423,
           0.00043094394620047543,
           0.00011927554910366782,
           -0.0009203072725600944,
           -0.000921216160678902,
           -0.0009228115901449367,
           -0.000983407563217626,
           -0.0007225322609421848,
           -0.0009196390644685039,
           -0.0009363425576442776,
           -0.0009324574514386042,
           -0.0010962958006517217,
           -0.0014961486741887037,
           -0.00017287569002244512,
           -0.0011371547080905983,
           -0.0012145574500676919,
           -0.001053442262096792,
           -0.0010295867526175968,
           -0.0017372062600765489,
           -0.0017153716305964197,
           -0.0012023024794627821,
           -0.0013101005333166443,
           -0.0010362954735199795,
           -0.0011090061079203329,
           -0.001014592119235838,
           -0.0009245125274197134,
           -0.0010733416687207693,
           -0.0010926011495722178,
           -0.0009558422441035051,
           -0.0010424608915618422,
           -0.001174107092010298,
           -0.0009961393776220257,
           0.03268756465318797,
           0.06418108569423922,
           0.18160777007800075,
           0.01103896843132256,
           -0.001217178164892112,
           0.007335653933241664,
           -0.0008175533660101454,
           -0.0015086062705756667,
           -0.001235782281902184,
           -0.0009902659106412015,
           -0.0011375583291727074,
           0.0011670822802805367,
           -0.01567028603845587,
           0.009023390928865376
          ],
          [
           -0.014499012309969733,
           -0.0014563485067029772,
           -0.017604334867156533,
           -0.002737849430783617,
           -0.011251126643366523,
           -0.002991848620729821,
           1,
           -0.028249091900568256,
           0.0030943886993027863,
           0.000316234588879458,
           0.0003316816288930709,
           0.0003364434834593011,
           0.0003018800353518714,
           0.00025068718524000864,
           0.0002912736116386883,
           0.000288360970829796,
           0.0003131456821401828,
           0.0003137209671554854,
           0.0003346204226893079,
           0.00033606167073535617,
           0.0003367974277085959,
           0.0005984392809567967,
           0.00031094657625406333,
           0.0003397631429898772,
           0.00033682146293700097,
           0.00033666905299919374,
           0.0003397934174883713,
           0.0003424066207792502,
           0.00032673147560680754,
           0.00033274245282091094,
           0.00034353487660246726,
           0.00033866850537547886,
           0.0002958526983829118,
           0.0003687939323756302,
           0.0003169396787296208,
           0.0003295649600475842,
           0.0003439300842667279,
           0.0003248482190192761,
           0.0002713004311903278,
           0.00028923028276777704,
           0.0003042234439444313,
           0.00031363277959909854,
           0.00032815273056768335,
           0.0003906620154350614,
           0.00038117714721410794,
           0.000338905777144843,
           0.00038371502237385225,
           0.00042233504181449515,
           0.00035648861132666997,
           0.0003761035275960967,
           0.0004256917532516592,
           0.00037978260058591277,
           0.00312372819536962,
           0.0021609228762581633,
           0.018988505074513624,
           0.04708179931557159,
           0.02942189813245368,
           -0.008646436632317647,
           -0.0011104532200598548,
           0.0002667117210979494,
           0.00033589816178672866,
           0.00033081227405962617,
           0.00031957109742735556,
           -0.00034118761142183277,
           0.02898172265688255,
           -0.008087698397428695
          ],
          [
           0.21787917914175595,
           0.010086446158859244,
           0.3400439863677515,
           -0.028636008091395316,
           -0.17007987419068207,
           0.03179872491190748,
           -0.028249091900568256,
           1,
           -0.05391948375628445,
           0.013896953461275303,
           0.013821368968979631,
           0.014123557484374216,
           0.014083845090787198,
           0.013336114401418069,
           0.013608824710743754,
           0.013600196817817317,
           0.013861109324460304,
           0.013888101452378242,
           0.014058529306136868,
           0.014090844649079835,
           0.014110490265016365,
           0.01661096843053733,
           0.014039721373327447,
           0.01415238704595299,
           0.014110612770320422,
           0.014105643404970333,
           0.014063185930940745,
           0.012710849972243993,
           0.014179352425858955,
           0.014374988231129574,
           0.014311745674672418,
           0.014973988518343053,
           0.013145326912677297,
           0.015097985085433648,
           0.013876814264607108,
           0.013740444206223385,
           0.01391498035741627,
           0.013919941300883937,
           0.012848214892452178,
           0.012382907495849508,
           0.013468177770948388,
           0.01400938772206172,
           0.014250060077660488,
           0.01349100831545193,
           0.013782053859899796,
           0.014076723367181965,
           0.013980978386087282,
           0.01361937550065328,
           0.013943356658284443,
           0.014306555332426328,
           0.01374097671657709,
           0.013836084702586769,
           0.04119215937234509,
           0.011829423779790751,
           -0.203938881415474,
           -0.15743760466179535,
           -0.004917548493931893,
           0.0650427429451447,
           -0.029864799564925694,
           0.013121979502811913,
           0.01396482262076358,
           0.014643426403237127,
           0.013147325032037782,
           -0.013939119171269458,
           -0.7453959386068828,
           0.3324800113982114
          ],
          [
           -0.03251038552028828,
           0.0050796580500684155,
           0.04917227521925027,
           0.00872389698582404,
           0.004249305566827967,
           0.00534812480434477,
           0.0030943886993027863,
           -0.05391948375628445,
           1,
           0.0025675383963188717,
           0.0025739851966935655,
           0.002564381839086176,
           0.0025861452508398283,
           0.002640164078911189,
           0.00260903092836292,
           0.002601331417683992,
           0.002595044715458159,
           0.002581955210805204,
           0.0025714779873969285,
           0.0025692505243910904,
           0.002568363688650159,
           0.0024288144178344195,
           0.002689225785666042,
           0.0025659930087028504,
           0.002568285262182199,
           0.0025682043923306907,
           0.0025666519033892914,
           0.00271651272962408,
           0.0025895233135273484,
           0.0025558546269696075,
           0.002559680199474498,
           0.002419377563061106,
           0.00262975803714272,
           0.0025877376706532913,
           0.0025695943879982044,
           0.0025548346163917915,
           0.00255671539590137,
           0.002572171202017545,
           0.0025958535977853186,
           0.0026186461672160774,
           0.002561839549491477,
           0.0025642247678767547,
           0.0025878929886260275,
           0.0025062798749771117,
           0.0025444439799147227,
           0.0025603076566120897,
           0.0023920462608652553,
           0.0024591357323134424,
           0.002545139034732103,
           0.0024631817962359063,
           0.002424407392410645,
           0.002538289441856833,
           0.0011768825965318961,
           0.004464710632158003,
           0.030961921114911077,
           0.056560665832112174,
           -0.05854351664650549,
           -0.03772835344732951,
           -0.014893880558084915,
           0.002659611672947133,
           0.0025295801811250664,
           0.002514895281841613,
           0.0025972084312702744,
           -0.002550380732034001,
           0.11065553505714659,
           -0.05304758161377076
          ],
          [
           0.006784275661232116,
           -0.0009607253672528457,
           0.02760625319745496,
           0.013805116800161726,
           0.009679899680717476,
           -0.0009733583692104455,
           0.000316234588879458,
           0.013896953461275303,
           0.0025675383963188717,
           1,
           0.9999641258791557,
           0.9999883410473566,
           0.999982806309755,
           0.9999567078702356,
           0.9999707679525338,
           0.9999722689478819,
           0.9999760901861722,
           0.9999850944045731,
           0.999989039846898,
           0.9999895525441261,
           0.9999897517826742,
           0.9996439211731337,
           0.999474685350077,
           0.9999885050271654,
           0.9999897563638568,
           0.9999897121023483,
           0.9999881547313407,
           0.9999367207797395,
           0.999965465216811,
           0.9999672477651748,
           0.9999791084484,
           0.9999642182620612,
           0.9999546620278947,
           0.9999386606475349,
           0.9999639706381668,
           0.9999668412500872,
           0.9999819379236266,
           0.9999847411166957,
           0.9999480039544785,
           0.999948851078241,
           0.9999774806961087,
           0.9999428458301508,
           0.9999576556703107,
           0.9999418844212039,
           0.9999790976565568,
           0.9999890689978286,
           0.9999526377909542,
           0.9999651571483129,
           0.9999853153275462,
           0.9999630071891329,
           0.9999529492838242,
           0.9999791610409204,
           -0.0048093755095778125,
           -0.00513698518468718,
           -0.015797607628443792,
           0.00838448877946857,
           -0.006224848536375863,
           -0.003095929231177895,
           -0.006974258057040396,
           0.9999605899603566,
           0.9999673882998126,
           0.9999685572185407,
           0.9999726538605088,
           -0.9987005185629156,
           -0.015147694994466792,
           0.0033230398209629273
          ],
          [
           0.006782411151015293,
           -0.0012917944215732715,
           0.027498831230205276,
           0.013606820267418043,
           0.010423222072655653,
           -0.0013081448315379939,
           0.0003316816288930709,
           0.013821368968979631,
           0.0025739851966935655,
           0.9999641258791557,
           1,
           0.9999669769343987,
           0.9999652354458484,
           0.9999399748912823,
           0.9999529719859315,
           0.9999543696327843,
           0.9999575848050757,
           0.9999660284333975,
           0.9999694847554461,
           0.9999699054284549,
           0.9999701056222443,
           0.9996064868405162,
           0.9994497262882901,
           0.9999687506842275,
           0.9999701170438198,
           0.999970050573059,
           0.9999684870162137,
           0.9999151623664841,
           0.9999461240831634,
           0.9999480591566159,
           0.9999598233979919,
           0.9999453869880978,
           0.9999492378297736,
           0.9999041951667907,
           0.9999495031311167,
           0.9999534936232312,
           0.999964354696145,
           0.9999664070489607,
           0.9999444699356705,
           0.9999365912170222,
           0.9999585861526558,
           0.999936073052063,
           0.9999435935265198,
           0.9999226447842359,
           0.9999592267643868,
           0.9999694148371101,
           0.9999336011987242,
           0.999945555054923,
           0.9999655118306956,
           0.9999439812554076,
           0.9999339727446936,
           0.9999594420879232,
           -0.004999673179726,
           -0.005225865190467973,
           -0.015851664482584422,
           0.008357159314863971,
           -0.0061926526725840664,
           -0.0030918566132755554,
           -0.006975510322498994,
           0.9999525806398792,
           0.9999491738882708,
           0.999949934696308,
           0.9999472346158746,
           -0.9986786503632348,
           -0.015120018255772407,
           0.003298065204034186
          ],
          [
           0.006826415171321889,
           -0.0009011211312586537,
           0.027788632438560015,
           0.013726605141720628,
           0.00926194851486076,
           -0.0009128234308986654,
           0.0003364434834593011,
           0.014123557484374216,
           0.002564381839086176,
           0.9999883410473566,
           0.9999669769343987,
           1,
           0.9999909065331731,
           0.9999637544214439,
           0.9999782943581224,
           0.9999799124687615,
           0.9999844393279005,
           0.9999935580827874,
           0.9999979383119275,
           0.9999985068109832,
           0.9999987801976121,
           0.9996614117211667,
           0.999482826381685,
           0.9999975855451089,
           0.9999987865909031,
           0.9999986983663759,
           0.9999967789151968,
           0.9999484841954813,
           0.9999742764157324,
           0.999975587064475,
           0.9999878195852328,
           0.9999717412520954,
           0.9999596969473288,
           0.9999520011038653,
           0.9999716638150801,
           0.9999739956199223,
           0.9999903333292653,
           0.9999933047613456,
           0.9999521966709376,
           0.9999532815143418,
           0.9999853014641589,
           0.9999483851261439,
           0.9999649583555235,
           0.9999501953356996,
           0.999987726947114,
           0.9999980842254605,
           0.9999611813248435,
           0.9999731671655425,
           0.9999941160627709,
           0.9999717167865555,
           0.9999606961175473,
           0.9999875904036469,
           -0.00476232977756258,
           -0.005113237132447365,
           -0.015820511677049044,
           0.008464343613906957,
           -0.006147049640774474,
           -0.00311598169264683,
           -0.007028758309047396,
           0.9999661184290932,
           0.999974390483787,
           0.9999759209263552,
           0.999972108824876,
           -0.9987093821036421,
           -0.015259507523003406,
           0.0033616273878303974
          ],
          [
           0.006823290750857314,
           -0.0010841550203311776,
           0.027779697801076943,
           0.01371271023909027,
           0.009615647505205561,
           -0.0010751159085078015,
           0.0003018800353518714,
           0.014083845090787198,
           0.0025861452508398283,
           0.999982806309755,
           0.9999652354458484,
           0.9999909065331731,
           1,
           0.999958882767231,
           0.9999728599005868,
           0.999974377447043,
           0.9999785120725984,
           0.9999873011015845,
           0.9999914211130754,
           0.9999919451028926,
           0.9999921897787644,
           0.9996263073544428,
           0.9994725266995321,
           0.9999910372218261,
           0.9999921957279867,
           0.9999921160688776,
           0.999990348755593,
           0.9999339778943391,
           0.9999699872367638,
           0.999971157023456,
           0.9999821492059959,
           0.9999676864294675,
           0.9999656124134133,
           0.9999390418331242,
           0.9999678326329526,
           0.9999698529356509,
           0.9999844578528345,
           0.9999871626543905,
           0.9999562809935484,
           0.9999523288589589,
           0.9999798639873296,
           0.9999498281822783,
           0.9999620989334557,
           0.999944578495791,
           0.9999812380570477,
           0.9999915024523439,
           0.9999562940701205,
           0.9999675157684317,
           0.9999877302152057,
           0.9999672149960528,
           0.9999561243098624,
           0.9999816195693314,
           -0.004875021792163137,
           -0.00521079640717748,
           -0.01597505665480916,
           0.008578878936615127,
           -0.006156843885937052,
           -0.0031062857534927234,
           -0.007046509682187505,
           0.9999714543775915,
           0.9999701507989303,
           0.9999833751376992,
           0.9999680977946984,
           -0.9987027106784565,
           -0.01531777016163588,
           0.0033818406914819118
          ],
          [
           0.006727945859668405,
           -0.0010814058684642483,
           0.027236984057805124,
           0.013959321780146207,
           0.009786669592965319,
           -0.001187038558818092,
           0.00025068718524000864,
           0.013336114401418069,
           0.002640164078911189,
           0.9999567078702356,
           0.9999399748912823,
           0.9999637544214439,
           0.999958882767231,
           1,
           0.9999805149553698,
           0.9999789534322476,
           0.9999749363214285,
           0.9999682898047502,
           0.9999656664197824,
           0.9999653473084157,
           0.9999651993581773,
           0.9996001921178496,
           0.9994500211767057,
           0.9999637678846153,
           0.9999651931908387,
           0.999965137691558,
           0.9999631187532032,
           0.9999119058389161,
           0.9999405901155186,
           0.9999423981914308,
           0.9999545615645264,
           0.999940494475154,
           0.9999344225027397,
           0.9999104083494224,
           0.9999402080625631,
           0.99994340793288,
           0.9999580575129248,
           0.9999612608494547,
           0.9999294556624763,
           0.9999348332034227,
           0.9999576693402995,
           0.9999179610678346,
           0.9999319121065883,
           0.9999190723198421,
           0.9999555514369054,
           0.999964661471775,
           0.9999290250200952,
           0.9999422686309968,
           0.9999613796986028,
           0.999938806496237,
           0.9999302674662598,
           0.9999556296852218,
           -0.004883129049811564,
           -0.005092464035813293,
           -0.015609570406717128,
           0.00823861390768461,
           -0.006433823350088602,
           -0.0030503854432764677,
           -0.007007189247316555,
           0.9999407794503079,
           0.9999390934701391,
           0.9999437659378438,
           0.9999433533206159,
           -0.9986764244301457,
           -0.014936573686594878,
           0.0032054541922914266
          ],
          [
           0.006754972541935211,
           -0.0008618126472629577,
           0.027440521105892575,
           0.013873114422722937,
           0.010052979047595402,
           -0.0008902330325537633,
           0.0002912736116386883,
           0.013608824710743754,
           0.00260903092836292,
           0.9999707679525338,
           0.9999529719859315,
           0.9999782943581224,
           0.9999728599005868,
           0.9999805149553698,
           1,
           0.999975500399254,
           0.9999753925832312,
           0.9999795010295998,
           0.9999796705090933,
           0.9999796566931258,
           0.999979686188644,
           0.9996266018936057,
           0.9994667866315636,
           0.9999783321261926,
           0.9999796786090721,
           0.9999796212957242,
           0.9999777308701295,
           0.9999277671378076,
           0.9999552060956722,
           0.9999567111731942,
           0.9999688109755869,
           0.9999538779922421,
           0.9999461405081101,
           0.9999272719307774,
           0.9999538255464994,
           0.9999570378202154,
           0.9999722066009339,
           0.9999754236151102,
           0.9999402189217238,
           0.9999443746083077,
           0.999970486416802,
           0.9999315805348764,
           0.9999463230667502,
           0.9999324721735457,
           0.999969513533971,
           0.9999790911861307,
           0.9999427272641216,
           0.9999557497573652,
           0.999975458543771,
           0.9999528561051293,
           0.9999435213305052,
           0.999969427318735,
           -0.004952138617988871,
           -0.005130533798300236,
           -0.01564021211564979,
           0.008248530691302979,
           -0.006343522275654687,
           -0.0030725935878091575,
           -0.007009766002913834,
           0.9999524565362955,
           0.9999548126602879,
           0.9999577123060269,
           0.9999563975317673,
           -0.9986906097418166,
           -0.015032702140078236,
           0.003252280471519562
          ],
          [
           0.006762533502998713,
           -0.0010907324852125792,
           0.02732405538901052,
           0.013772878356533786,
           0.009782587540302846,
           -0.0011551195011277548,
           0.000288360970829796,
           0.013600196817817317,
           0.002601331417683992,
           0.9999722689478819,
           0.9999543696327843,
           0.9999799124687615,
           0.999974377447043,
           0.9999789534322476,
           0.999975500399254,
           1,
           0.9999909459870361,
           0.9999849477296053,
           0.9999818014333072,
           0.9999813697038135,
           0.9999812669868944,
           0.999627847855555,
           0.999465654836015,
           0.9999799450790599,
           0.999981259275567,
           0.9999811985287476,
           0.9999792126727417,
           0.9999284899874997,
           0.9999566769128053,
           0.9999584326397636,
           0.9999705516124182,
           0.999956125536134,
           0.999947197917504,
           0.999929595352846,
           0.9999552192469211,
           0.9999583990549741,
           0.9999735848801233,
           0.999976869580223,
           0.9999413723439121,
           0.9999451203479467,
           0.9999717806123924,
           0.9999323037185324,
           0.9999475186590929,
           0.9999349083441914,
           0.9999714087976972,
           0.999980703965653,
           0.9999453422816521,
           0.9999578685065614,
           0.9999773192089085,
           0.9999553143153859,
           0.999945918036911,
           0.9999714622759817,
           -0.00500044782612197,
           -0.0050643549386507,
           -0.015630950748449626,
           0.00834545381960855,
           -0.00618947181623174,
           -0.0030556005355962717,
           -0.007012885128147604,
           0.9999536518606265,
           0.9999556752387949,
           0.9999593319771699,
           0.9999581156465304,
           -0.9986921623335351,
           -0.015071910169516468,
           0.0032865133698229865
          ],
          [
           0.006783501723096821,
           -0.0009364645008708038,
           0.02757281340884566,
           0.01374990321207666,
           0.009457399937223686,
           -0.0009709853995687281,
           0.0003131456821401828,
           0.013861109324460304,
           0.002595044715458159,
           0.9999760901861722,
           0.9999575848050757,
           0.9999844393279005,
           0.9999785120725984,
           0.9999749363214285,
           0.9999753925832312,
           0.9999909459870361,
           1,
           0.9999797233383071,
           0.9999847660513401,
           0.9999854215277711,
           0.9999857288267985,
           0.9996359289160145,
           0.9994704765031722,
           0.9999844702877687,
           0.9999857363003665,
           0.9999856647424702,
           0.9999837381995078,
           0.999934081969748,
           0.9999609820837202,
           0.9999626749972649,
           0.9999749728530338,
           0.9999599485076545,
           0.9999498557747164,
           0.9999358278927898,
           0.9999593705170078,
           0.9999623586603882,
           0.9999777072872351,
           0.99998078702252,
           0.9999432655842349,
           0.9999448851936521,
           0.9999737321437625,
           0.9999370615648828,
           0.999952519222532,
           0.9999380790938442,
           0.9999751104265824,
           0.9999850945791177,
           0.9999489211990253,
           0.999961074645294,
           0.999981367762426,
           0.9999591825380556,
           0.9999488287242325,
           0.9999751603174012,
           -0.004829102601263357,
           -0.005131370907215662,
           -0.015726349504058223,
           0.008425823812641838,
           -0.006206463186373064,
           -0.0030881241653918515,
           -0.007006085161498356,
           0.9999563629318533,
           0.999960812715823,
           0.9999633237422301,
           0.9999606858269323,
           -0.9986965632073987,
           -0.015142357894371468,
           0.0033100959238350843
          ],
          [
           0.00680023727366509,
           -0.0009844863528173829,
           0.027581164796826537,
           0.013755947432748692,
           0.009552154755467312,
           -0.0010201442012825687,
           0.0003137209671554854,
           0.013888101452378242,
           0.002581955210805204,
           0.9999850944045731,
           0.9999660284333975,
           0.9999935580827874,
           0.9999873011015845,
           0.9999682898047502,
           0.9999795010295998,
           0.9999849477296053,
           0.9999797233383071,
           1,
           0.9999939196102033,
           0.9999945176009767,
           0.999994798049069,
           0.9996524119475049,
           0.999478726287982,
           0.9999935502008912,
           0.9999948048652709,
           0.9999947239237055,
           0.9999927629048349,
           0.9999437758517344,
           0.99997041282052,
           0.999971746480123,
           0.999983793073182,
           0.9999682728876952,
           0.9999577995771743,
           0.9999462554271136,
           0.9999681257682476,
           0.9999706823159602,
           0.9999865871143249,
           0.9999897412047453,
           0.9999510322302154,
           0.9999533531049574,
           0.9999831673711541,
           0.9999446819544087,
           0.9999608662875527,
           0.9999471840008957,
           0.9999842715287366,
           0.9999941710215592,
           0.9999577910996795,
           0.999970118969359,
           0.9999904696429208,
           0.9999680786193567,
           0.9999578840710329,
           0.9999842174579137,
           -0.004891960193374098,
           -0.005076319193873814,
           -0.015731838268451072,
           0.00839434893973503,
           -0.006158265867460483,
           -0.003096981653180112,
           -0.007021184773147505,
           0.9999642178773153,
           0.9999699586470245,
           0.9999722093592093,
           0.9999698414804324,
           -0.9987054898875637,
           -0.015180676851503342,
           0.003332148392643745
          ],
          [
           0.006819496445403806,
           -0.0009219023954970159,
           0.027724536697060122,
           0.013741845033277137,
           0.009371317970652014,
           -0.0009437346580019954,
           0.0003346204226893079,
           0.014058529306136868,
           0.0025714779873969285,
           0.999989039846898,
           0.9999694847554461,
           0.9999979383119275,
           0.9999914211130754,
           0.9999656664197824,
           0.9999796705090933,
           0.9999818014333072,
           0.9999847660513401,
           0.9999939196102033,
           1,
           0.9999988819157433,
           0.9999991504413487,
           0.9996608530087916,
           0.9994827807957121,
           0.999997938633635,
           0.9999991569677302,
           0.9999990773148029,
           0.9999971359498929,
           0.9999487647618295,
           0.9999746742050895,
           0.9999759782907502,
           0.9999882086670796,
           0.9999721346049083,
           0.9999608975524664,
           0.9999517937096621,
           0.9999722535091066,
           0.9999745364508359,
           0.9999907909254081,
           0.9999937763333294,
           0.9999535504006748,
           0.9999545599126044,
           0.9999862988925252,
           0.9999491237512205,
           0.999965513666035,
           0.9999507759692101,
           0.9999882331506015,
           0.9999984972402277,
           0.9999616877661625,
           0.9999737290580385,
           0.9999945770929863,
           0.9999721807235482,
           0.9999612916600967,
           0.999988127680148,
           -0.004807608019742069,
           -0.005110482886736942,
           -0.01579443176662487,
           0.008445327770640743,
           -0.0061442317246138845,
           -0.003109541023835431,
           -0.007024917447010168,
           0.9999672457799949,
           0.9999747132562831,
           0.999976325988324,
           0.9999728972892239,
           -0.9987097785881377,
           -0.015234205566456804,
           0.003351116420062793
          ],
          [
           0.006819778191084947,
           -0.0009195088827882782,
           0.02776750441622674,
           0.013736423913463098,
           0.009328244185799184,
           -0.0009464488745027576,
           0.00033606167073535617,
           0.014090844649079835,
           0.0025692505243910904,
           0.9999895525441261,
           0.9999699054284549,
           0.9999985068109832,
           0.9999919451028926,
           0.9999653473084157,
           0.9999796566931258,
           0.9999813697038135,
           0.9999854215277711,
           0.9999945176009767,
           0.9999988819157433,
           1,
           0.9999997181571381,
           0.9996617193473564,
           0.9994833363523768,
           0.9999985106442414,
           0.9999997246474606,
           0.9999996403086747,
           0.9999977203605921,
           0.9999494999538693,
           0.9999752154622233,
           0.9999765325076913,
           0.9999887494780605,
           0.9999726013498116,
           0.9999612643767941,
           0.9999525823824031,
           0.9999727835733356,
           0.9999750763280421,
           0.9999912820137177,
           0.9999942648007245,
           0.9999538322174311,
           0.9999545660331977,
           0.999986467828539,
           0.9999497054289469,
           0.9999661446291654,
           0.9999511896782952,
           0.9999886813039205,
           0.9999990403943669,
           0.9999621484710157,
           0.9999741576736098,
           0.9999950813083688,
           0.9999726681639378,
           0.9999616843409366,
           0.9999885868934012,
           -0.004787041083482721,
           -0.005119029223451428,
           -0.01582097182658185,
           0.008455529117206807,
           -0.006156442673576606,
           -0.0031106513060384184,
           -0.007025538759469258,
           0.9999676385966625,
           0.9999753565932052,
           0.999976831330157,
           0.9999731943067897,
           -0.9987103381912065,
           -0.015243225379655194,
           0.0033587874198313765
          ],
          [
           0.006819989967650196,
           -0.0009075415930994595,
           0.027785340017612035,
           0.013730110172058906,
           0.009306266694991773,
           -0.0009210828231916423,
           0.0003367974277085959,
           0.014110490265016365,
           0.002568363688650159,
           0.9999897517826742,
           0.9999701056222443,
           0.9999987801976121,
           0.9999921897787644,
           0.9999651993581773,
           0.999979686188644,
           0.9999812669868944,
           0.9999857288267985,
           0.999994798049069,
           0.9999991504413487,
           0.9999997181571381,
           1,
           0.9996619645097639,
           0.9994838001256485,
           0.9999987801699416,
           0.9999999909386507,
           0.9999999042378263,
           0.9999979790920347,
           0.9999498310487439,
           0.9999754619048604,
           0.9999767792937858,
           0.9999889975564829,
           0.9999728603057674,
           0.9999614024763044,
           0.9999529435014097,
           0.9999730263520715,
           0.9999753155636804,
           0.9999915355350842,
           0.9999944994853363,
           0.9999539340415351,
           0.9999545074591923,
           0.9999864828413224,
           0.9999500193761667,
           0.9999664540165017,
           0.9999513970085702,
           0.9999889166896604,
           0.9999992981696363,
           0.9999623590136596,
           0.9999743436111737,
           0.9999953266301146,
           0.9999728977868234,
           0.9999618613350466,
           0.9999888044890891,
           -0.004781292365757063,
           -0.005117579838664932,
           -0.015823327974557898,
           0.008461475744044588,
           -0.006156828784080586,
           -0.003114236467034844,
           -0.007022999643851036,
           0.9999677978272541,
           0.9999756463539534,
           0.9999770558708054,
           0.9999733478203346,
           -0.9987106007040857,
           -0.01524777334320806,
           0.0033616122399781822
          ],
          [
           0.007233568741996897,
           0.00056604452760413,
           0.029644595600303757,
           0.014769244985694341,
           0.00749730729390875,
           0.00043094394620047543,
           0.0005984392809567967,
           0.01661096843053733,
           0.0024288144178344195,
           0.9996439211731337,
           0.9996064868405162,
           0.9996614117211667,
           0.9996263073544428,
           0.9996001921178496,
           0.9996266018936057,
           0.999627847855555,
           0.9996359289160145,
           0.9996524119475049,
           0.9996608530087916,
           0.9996617193473564,
           0.9996619645097639,
           1,
           0.9991624163196116,
           0.9996615721167994,
           0.9996619514230669,
           0.999661775756553,
           0.9996593156258398,
           0.9996424203983054,
           0.9996335691656276,
           0.9996323008718234,
           0.999647261489834,
           0.9996182337784778,
           0.99954043083105,
           0.9996761090170334,
           0.9996134196670455,
           0.9996128803603481,
           0.9996443297574203,
           0.9996504089904482,
           0.9995274805329571,
           0.9995550908363344,
           0.999634679456872,
           0.9995569011091915,
           0.9996050334609308,
           0.9995980866847989,
           0.999645674670047,
           0.9996609174043414,
           0.9996109833669014,
           0.9996224782444457,
           0.9996543225404781,
           0.9996243079470937,
           0.9996022592945789,
           0.9996436766854715,
           -0.00435475093491768,
           -0.004729615520259084,
           -0.016165561261337193,
           0.008695225597709641,
           -0.005453560104080029,
           -0.0032877062825444727,
           -0.007242604423555652,
           0.9995460813166994,
           0.9996298338506673,
           0.9996172360492811,
           0.9996099916382495,
           -0.9983768250602484,
           -0.016279216833928283,
           0.0037545514978881236
          ],
          [
           0.006768662483914706,
           -2.37628869267589e-05,
           0.027895917863573694,
           0.013679413623697605,
           0.009409153397796969,
           0.00011927554910366782,
           0.00031094657625406333,
           0.014039721373327447,
           0.002689225785666042,
           0.999474685350077,
           0.9994497262882901,
           0.999482826381685,
           0.9994725266995321,
           0.9994500211767057,
           0.9994667866315636,
           0.999465654836015,
           0.9994704765031722,
           0.999478726287982,
           0.9994827807957121,
           0.9994833363523768,
           0.9994838001256485,
           0.9991624163196116,
           1,
           0.9994797539128467,
           0.9994838069123302,
           0.9994837103572275,
           0.9994817253656131,
           0.9994322760285547,
           0.9994589562122126,
           0.9994599404346427,
           0.9994732214834602,
           0.9994586817270731,
           0.9994325739375611,
           0.9994474289498023,
           0.9994540350688476,
           0.9994552231223737,
           0.9994732931464541,
           0.9994764675152663,
           0.9994253303050492,
           0.9994321795038451,
           0.9994683266877542,
           0.9994259134769249,
           0.999447162606583,
           0.9994339947850197,
           0.9994725281338913,
           0.9994831806424924,
           0.9994453910769713,
           0.9994579313104128,
           0.9994790961098798,
           0.9994560865182797,
           0.9994454613420991,
           0.9994721196501462,
           -0.004665927187515041,
           -0.005598199622164596,
           -0.01568603495524678,
           0.00859107963055563,
           -0.006356125230733515,
           -0.003138330155273084,
           -0.007035837750638244,
           0.9994396956526517,
           0.9994591361142601,
           0.9994606986653013,
           0.9994621626678352,
           -0.9981941153075603,
           -0.01510696612525293,
           0.003268896019357839
          ],
          [
           0.006836731313449206,
           -0.0009094502852142042,
           0.027812823347127882,
           0.013736773738033031,
           0.009294666155260697,
           -0.0009203072725600944,
           0.0003397631429898772,
           0.01415238704595299,
           0.0025659930087028504,
           0.9999885050271654,
           0.9999687506842275,
           0.9999975855451089,
           0.9999910372218261,
           0.9999637678846153,
           0.9999783321261926,
           0.9999799450790599,
           0.9999844702877687,
           0.9999935502008912,
           0.999997938633635,
           0.9999985106442414,
           0.9999987801699416,
           0.9996615721167994,
           0.9994797539128467,
           1,
           0.9999987867179442,
           0.9999986989757942,
           0.9999968150876359,
           0.9999483195588399,
           0.9999742880329917,
           0.9999756351372463,
           0.9999878286119136,
           0.9999718380429035,
           0.9999600671701209,
           0.9999518464927815,
           0.9999717896100347,
           0.9999740718297006,
           0.9999903126624,
           0.9999932788967127,
           0.9999525623699846,
           0.999953151217294,
           0.9999852298189753,
           0.9999487864511362,
           0.9999652799756154,
           0.9999501158145643,
           0.9999876456421929,
           0.9999980881606404,
           0.9999611346704356,
           0.9999730341310482,
           0.999994095848654,
           0.9999716644289365,
           0.999960611737325,
           0.9999875526560703,
           -0.0047791934341355445,
           -0.005131619080262418,
           -0.015840512725738665,
           0.00848231711994339,
           -0.00613321241004816,
           -0.0031170187619840454,
           -0.007033416234547428,
           0.9999664721460847,
           0.9999745066519815,
           0.9999759921493072,
           0.9999719200413055,
           -0.9987094136317387,
           -0.01527471237264903,
           0.0033675127791182287
          ],
          [
           0.006820622903780897,
           -0.0009076989449104241,
           0.027786153185826147,
           0.013729745238993066,
           0.009305401658197964,
           -0.000921216160678902,
           0.00033682146293700097,
           0.014110612770320422,
           0.002568285262182199,
           0.9999897563638568,
           0.9999701170438198,
           0.9999987865909031,
           0.9999921957279867,
           0.9999651931908387,
           0.9999796786090721,
           0.999981259275567,
           0.9999857363003665,
           0.9999948048652709,
           0.9999991569677302,
           0.9999997246474606,
           0.9999999909386507,
           0.9996619514230669,
           0.9994838069123302,
           0.9999987867179442,
           1,
           0.9999999107198688,
           0.999997985703024,
           0.9999498311210934,
           0.999975470222273,
           0.9999767874929056,
           0.9999890047851424,
           0.9999728688664478,
           0.999961410761517,
           0.9999529502918362,
           0.9999730348952303,
           0.9999753187177247,
           0.9999915425766461,
           0.9999945063237227,
           0.9999539384851315,
           0.999954513253041,
           0.9999864902590754,
           0.9999500293190234,
           0.9999664606458041,
           0.9999514033319414,
           0.9999889213339801,
           0.9999993046890244,
           0.9999623674287814,
           0.9999743494412607,
           0.9999953334058894,
           0.9999729047645215,
           0.9999618685184,
           0.9999888117321183,
           -0.004780670273309987,
           -0.005119247651243145,
           -0.015823732887181915,
           0.008462115089686296,
           -0.006157129123834316,
           -0.003114483813819228,
           -0.0070230432368329114,
           0.9999678017071503,
           0.9999756546562678,
           0.9999770606405526,
           0.9999733537484092,
           -0.9987080240559839,
           -0.01524821548161187,
           0.0033613587681738588
          ],
          [
           0.006821421835838422,
           -0.000910225312598497,
           0.027779127379623833,
           0.013731327188294156,
           0.00931394039898287,
           -0.0009228115901449367,
           0.00033666905299919374,
           0.014105643404970333,
           0.0025682043923306907,
           0.9999897121023483,
           0.999970050573059,
           0.9999986983663759,
           0.9999921160688776,
           0.999965137691558,
           0.9999796212957242,
           0.9999811985287476,
           0.9999856647424702,
           0.9999947239237055,
           0.9999990773148029,
           0.9999996403086747,
           0.9999999042378263,
           0.999661775756553,
           0.9994837103572275,
           0.9999986989757942,
           0.9999999107198688,
           1,
           0.9999979205545463,
           0.9999497577800573,
           0.9999753976599096,
           0.999976688028066,
           0.9999889183734441,
           0.9999727671880626,
           0.9999613561895971,
           0.9999528122575456,
           0.9999729748442775,
           0.999975235624957,
           0.999991458600719,
           0.9999944380551627,
           0.9999539007594304,
           0.9999545087348551,
           0.999986468652874,
           0.9999499675736734,
           0.9999663812064593,
           0.9999513258916539,
           0.9999888400172444,
           0.9999992199879906,
           0.9999622878903706,
           0.9999742755129456,
           0.9999952503552787,
           0.999972830459431,
           0.9999617997471268,
           0.9999887406593235,
           -0.004783006722973016,
           -0.0051205950045341096,
           -0.01582002656345593,
           0.008461789309850547,
           -0.006155365567016757,
           -0.0031156912955706537,
           -0.0070230704581443525,
           0.9999677446567987,
           0.9999756159703891,
           0.9999769838507232,
           0.9999734157641953,
           -0.9987105216237013,
           -0.015245552540396948,
           0.003359517976671695
          ],
          [
           0.0068172651228824805,
           -0.0009739312599254035,
           0.027716057693426718,
           0.013763133967681824,
           0.009456720663761468,
           -0.000983407563217626,
           0.0003397934174883713,
           0.014063185930940745,
           0.0025666519033892914,
           0.9999881547313407,
           0.9999684870162137,
           0.9999967789151968,
           0.999990348755593,
           0.9999631187532032,
           0.9999777308701295,
           0.9999792126727417,
           0.9999837381995078,
           0.9999927629048349,
           0.9999971359498929,
           0.9999977203605921,
           0.9999979790920347,
           0.9996593156258398,
           0.9994817253656131,
           0.9999968150876359,
           0.999997985703024,
           0.9999979205545463,
           1,
           0.9999475141567753,
           0.9999735010840431,
           0.999974831875948,
           0.9999870624367386,
           0.9999709948989023,
           0.999960214289313,
           0.9999495582902153,
           0.9999711969376421,
           0.9999738940467436,
           0.9999898619322166,
           0.9999927841642071,
           0.9999530151633482,
           0.9999538453950044,
           0.9999851106626229,
           0.9999487787696345,
           0.9999646386904955,
           0.9999498966473215,
           0.9999870340239136,
           0.9999973048025432,
           0.9999607563415215,
           0.9999728607450893,
           0.9999934399191728,
           0.9999712211366741,
           0.9999605786327314,
           0.9999871186484179,
           -0.004835049287972208,
           -0.00513382648376245,
           -0.015805122961324,
           0.008456555492939525,
           -0.006136505298028023,
           -0.0031171519231482014,
           -0.007005673299570104,
           0.9999664636283201,
           0.999977135996124,
           0.9999753097738998,
           0.9999719834739249,
           -0.9987086241273962,
           -0.015218367286392484,
           0.0033431859966100903
          ],
          [
           0.00654578659159792,
           -0.0006631424120748625,
           0.027592131238543215,
           0.014140168974355863,
           0.009453868288643752,
           -0.0007225322609421848,
           0.0003424066207792502,
           0.012710849972243993,
           0.00271651272962408,
           0.9999367207797395,
           0.9999151623664841,
           0.9999484841954813,
           0.9999339778943391,
           0.9999119058389161,
           0.9999277671378076,
           0.9999284899874997,
           0.999934081969748,
           0.9999437758517344,
           0.9999487647618295,
           0.9999494999538693,
           0.9999498310487439,
           0.9996424203983054,
           0.9994322760285547,
           0.9999483195588399,
           0.9999498311210934,
           0.9999497577800573,
           0.9999475141567753,
           1,
           0.9998964249928859,
           0.9998995791902822,
           0.9999270550527117,
           0.9998900454083584,
           0.9998989572763891,
           0.9999177303897168,
           0.9999184731465278,
           0.9999184606213496,
           0.9999392308294758,
           0.9999426306076321,
           0.9998914867379968,
           0.9998977606809872,
           0.9999356172256683,
           0.9998837932960005,
           0.9999095706027985,
           0.9998939110772963,
           0.9999383872005038,
           0.9999491352251373,
           0.9999007886528524,
           0.9999190775223494,
           0.9999443566154667,
           0.9999104224558013,
           0.9999003991718094,
           0.999935414757169,
           -0.004752100884523887,
           -0.005028462241172638,
           -0.015218146053233612,
           0.00719299383707076,
           -0.007517927055385959,
           -0.0029898537295843177,
           -0.006924961973075738,
           0.9999086790576838,
           0.999920841222731,
           0.9999007393783408,
           0.999920354169996,
           -0.9986618107568361,
           -0.014285163147627213,
           0.002968959293222437
          ],
          [
           0.006819219119556348,
           -0.0009201391189086427,
           0.02784061707425934,
           0.013760072124394928,
           0.009271424116500754,
           -0.0009196390644685039,
           0.00032673147560680754,
           0.014179352425858955,
           0.0025895233135273484,
           0.999965465216811,
           0.9999461240831634,
           0.9999742764157324,
           0.9999699872367638,
           0.9999405901155186,
           0.9999552060956722,
           0.9999566769128053,
           0.9999609820837202,
           0.99997041282052,
           0.9999746742050895,
           0.9999752154622233,
           0.9999754619048604,
           0.9996335691656276,
           0.9994589562122126,
           0.9999742880329917,
           0.999975470222273,
           0.9999753976599096,
           0.9999735010840431,
           0.9998964249928859,
           1,
           0.999944633742301,
           0.9999611543643097,
           0.9999391296262614,
           0.9999391943695557,
           0.9999257126423428,
           0.9999493498796249,
           0.9999520406951269,
           0.9999673908272725,
           0.9999702288344732,
           0.9999318735903957,
           0.9999315229438707,
           0.9999625941538361,
           0.9999275992127782,
           0.9999425357326874,
           0.999927788009835,
           0.999964540837468,
           0.9999748436033793,
           0.9999394111974507,
           0.9999505510046764,
           0.9999709212489415,
           0.9999502788771408,
           0.999938458375146,
           0.999964545973558,
           -0.004722464399224202,
           -0.0051640084461796925,
           -0.01581841563657216,
           0.008577882033954095,
           -0.006068357428625641,
           -0.0031206755832323173,
           -0.007048899883823177,
           0.9999449740041035,
           0.999951995383686,
           0.999960063837384,
           0.999949414669792,
           -0.9986864796575876,
           -0.01530034746683869,
           0.0033920528137617017
          ],
          [
           0.00688769012305282,
           -0.0009267863758265623,
           0.027805331149359947,
           0.013685426985475584,
           0.009239474953231904,
           -0.0009363425576442776,
           0.00033274245282091094,
           0.014374988231129574,
           0.0025558546269696075,
           0.9999672477651748,
           0.9999480591566159,
           0.999975587064475,
           0.999971157023456,
           0.9999423981914308,
           0.9999567111731942,
           0.9999584326397636,
           0.9999626749972649,
           0.999971746480123,
           0.9999759782907502,
           0.9999765325076913,
           0.9999767792937858,
           0.9996323008718234,
           0.9994599404346427,
           0.9999756351372463,
           0.9999767874929056,
           0.999976688028066,
           0.999974831875948,
           0.9998995791902822,
           0.999944633742301,
           1,
           0.99996268301901,
           0.9999410326904062,
           0.9999412113142278,
           0.999925969555901,
           0.9999510622790267,
           0.999953691043123,
           0.9999687829002717,
           0.9999718037634038,
           0.9999338502022952,
           0.9999327233341329,
           0.9999635721789115,
           0.9999302957023127,
           0.9999446680391303,
           0.999929664865815,
           0.9999658926488313,
           0.9999760932243604,
           0.9999417583727392,
           0.9999521356354014,
           0.9999722940016301,
           0.9999525830457678,
           0.9999409435635392,
           0.9999662235788904,
           -0.004756306409337945,
           -0.005170736385131303,
           -0.015902055843228752,
           0.008796427698316366,
           -0.0058177513923996435,
           -0.003154002439203586,
           -0.007078490925828798,
           0.9999466677110286,
           0.9999535000479542,
           0.9999609021274912,
           0.9999508700867447,
           -0.9986877718137354,
           -0.015397266469415808,
           0.0034010792503523647
          ],
          [
           0.006848748409066296,
           -0.0009237730621302295,
           0.027818562543434525,
           0.013658281518652102,
           0.009274539651950084,
           -0.0009324574514386042,
           0.00034353487660246726,
           0.014311745674672418,
           0.002559680199474498,
           0.9999791084484,
           0.9999598233979919,
           0.9999878195852328,
           0.9999821492059959,
           0.9999545615645264,
           0.9999688109755869,
           0.9999705516124182,
           0.9999749728530338,
           0.999983793073182,
           0.9999882086670796,
           0.9999887494780605,
           0.9999889975564829,
           0.999647261489834,
           0.9994732214834602,
           0.9999878286119136,
           0.9999890047851424,
           0.9999889183734441,
           0.9999870624367386,
           0.9999270550527117,
           0.9999611543643097,
           0.99996268301901,
           1,
           0.999958115932617,
           0.9999521721743171,
           0.9999397835242966,
           0.9999627156167901,
           0.9999652411755744,
           0.9999808840064336,
           0.9999837684775097,
           0.9999446513089297,
           0.9999442698552441,
           0.9999754777789897,
           0.9999415402501927,
           0.9999564108238753,
           0.9999414127027803,
           0.9999778534599103,
           0.9999883089660351,
           0.9999527673771662,
           0.9999638069283556,
           0.9999843940485721,
           0.999963456573099,
           0.9999522736044135,
           0.999978164303082,
           -0.004805909627636142,
           -0.005115327424587094,
           -0.015903847969971657,
           0.008637666682910303,
           -0.005963009395923314,
           -0.0031400198098996556,
           -0.007016324090123292,
           0.9999580856467396,
           0.9999652900348253,
           0.9999691406617288,
           0.9999625249624016,
           -0.9986997788411445,
           -0.015379313222312709,
           0.003424621667677598
          ],
          [
           0.007000718840776395,
           -0.0011058590100179661,
           0.027870312199337235,
           0.013403887422390265,
           0.009286074560619723,
           -0.0010962958006517217,
           0.00033866850537547886,
           0.014973988518343053,
           0.002419377563061106,
           0.9999642182620612,
           0.9999453869880978,
           0.9999717412520954,
           0.9999676864294675,
           0.999940494475154,
           0.9999538779922421,
           0.999956125536134,
           0.9999599485076545,
           0.9999682728876952,
           0.9999721346049083,
           0.9999726013498116,
           0.9999728603057674,
           0.9996182337784778,
           0.9994586817270731,
           0.9999718380429035,
           0.9999728688664478,
           0.9999727671880626,
           0.9999709948989023,
           0.9998900454083584,
           0.9999391296262614,
           0.9999410326904062,
           0.999958115932617,
           1,
           0.9999395008420964,
           0.9999195393168687,
           0.999947543505832,
           0.9999511433439763,
           0.9999654023083105,
           0.9999680771400847,
           0.9999318125217471,
           0.999930265187503,
           0.9999591684097325,
           0.999930899825507,
           0.9999431033814223,
           0.9999282325290206,
           0.9999619103544957,
           0.9999721180049786,
           0.9999410933215309,
           0.9999501589410688,
           0.9999686777979357,
           0.9999517647261928,
           0.9999412432486752,
           0.9999636889995748,
           -0.004865831793617447,
           -0.005116909525087673,
           -0.016275435246551617,
           0.009103555676108188,
           -0.005417526338440161,
           -0.0031682802213735817,
           -0.007044831287741366,
           0.9999445828487017,
           0.999950628985241,
           0.9999584443950371,
           0.9999475870258155,
           -0.9986813446513365,
           -0.015876694575158858,
           0.0036195236568768952
          ],
          [
           0.006654528359151717,
           -0.001496992400879097,
           0.02698634655052185,
           0.013553289221267185,
           0.01110967969513111,
           -0.0014961486741887037,
           0.0002958526983829118,
           0.013145326912677297,
           0.00262975803714272,
           0.9999546620278947,
           0.9999492378297736,
           0.9999596969473288,
           0.9999656124134133,
           0.9999344225027397,
           0.9999461405081101,
           0.999947197917504,
           0.9999498557747164,
           0.9999577995771743,
           0.9999608975524664,
           0.9999612643767941,
           0.9999614024763044,
           0.99954043083105,
           0.9994325739375611,
           0.9999600671701209,
           0.999961410761517,
           0.9999613561895971,
           0.999960214289313,
           0.9998989572763891,
           0.9999391943695557,
           0.9999412113142278,
           0.9999521721743171,
           0.9999395008420964,
           1,
           0.9998752102573165,
           0.9999511218704955,
           0.999951702772118,
           0.9999575509128941,
           0.9999588550608564,
           0.99997535417449,
           0.9999505983794708,
           0.9999553742610305,
           0.999960252535999,
           0.9999499740548118,
           0.9999191595727751,
           0.9999527482818236,
           0.9999608929155309,
           0.9999299065739077,
           0.9999421975602395,
           0.9999582226200104,
           0.9999396034099944,
           0.9999337136604708,
           0.9999540198851472,
           -0.00518509937498758,
           -0.005429176183045809,
           -0.015740242594360805,
           0.008111068919439407,
           -0.006373714502327627,
           -0.003033206364731947,
           -0.006908306435035039,
           0.9999888532450824,
           0.9999439757025771,
           0.9999469864326338,
           0.9999435220447489,
           -0.9986713985949867,
           -0.014804557138360411,
           0.003177325134655786
          ],
          [
           0.007028461067741556,
           -0.00012229858440885785,
           0.029077663512840718,
           0.01407443850139539,
           0.007067515472630659,
           -0.00017287569002244512,
           0.0003687939323756302,
           0.015097985085433648,
           0.0025877376706532913,
           0.9999386606475349,
           0.9999041951667907,
           0.9999520011038653,
           0.9999390418331242,
           0.9999104083494224,
           0.9999272719307774,
           0.999929595352846,
           0.9999358278927898,
           0.9999462554271136,
           0.9999517937096621,
           0.9999525823824031,
           0.9999529435014097,
           0.9996761090170334,
           0.9994474289498023,
           0.9999518464927815,
           0.9999529502918362,
           0.9999528122575456,
           0.9999495582902153,
           0.9999177303897168,
           0.9999257126423428,
           0.999925969555901,
           0.9999397835242966,
           0.9999195393168687,
           0.9998752102573165,
           1,
           0.9998859177574303,
           0.9998923020301081,
           0.9999334553646904,
           0.9999404065365864,
           0.9998530968984369,
           0.9998632526961829,
           0.999926983651347,
           0.9998632442135711,
           0.9999061445447447,
           0.999894890212579,
           0.9999385447398418,
           0.9999520211715749,
           0.9999064056573906,
           0.9999179256954509,
           0.9999460092447687,
           0.9999185741145641,
           0.9998996427867067,
           0.9999357939120443,
           -0.0042106965758018314,
           -0.004799896910990243,
           -0.016145167261225606,
           0.008793986658916285,
           -0.006392922836229761,
           -0.0031229385520850496,
           -0.007248209862071341,
           0.9998904989916219,
           0.9999179124450212,
           0.9999212844524233,
           0.9999150482787085,
           -0.9986652344001139,
           -0.015843363110485932,
           0.003617288376528764
          ],
          [
           0.0067516063849487875,
           -0.0011254344784011245,
           0.02752179008465694,
           0.013622824253491489,
           0.009764621397023889,
           -0.0011371547080905983,
           0.0003169396787296208,
           0.013876814264607108,
           0.0025695943879982044,
           0.9999639706381668,
           0.9999495031311167,
           0.9999716638150801,
           0.9999678326329526,
           0.9999402080625631,
           0.9999538255464994,
           0.9999552192469211,
           0.9999593705170078,
           0.9999681257682476,
           0.9999722535091066,
           0.9999727835733356,
           0.9999730263520715,
           0.9996134196670455,
           0.9994540350688476,
           0.9999717896100347,
           0.9999730348952303,
           0.9999729748442775,
           0.9999711969376421,
           0.9999184731465278,
           0.9999493498796249,
           0.9999510622790267,
           0.9999627156167901,
           0.999947543505832,
           0.9999511218704955,
           0.9998859177574303,
           1,
           0.999939145974882,
           0.9999617513933224,
           0.9999657358561989,
           0.9999498847877372,
           0.9999387849572494,
           0.9999613421310991,
           0.9999379125626214,
           0.9999463076414539,
           0.999926684055797,
           0.9999626226830692,
           0.9999723970237187,
           0.9999374798454961,
           0.9999494849153028,
           0.999968821808275,
           0.9999478511734938,
           0.9999384468041967,
           0.999963047974258,
           -0.004846845958469146,
           -0.00521621783059114,
           -0.015761627297341225,
           0.008396601476711275,
           -0.00611921287103745,
           -0.0030907576491554364,
           -0.006976281452160875,
           0.9999537234301192,
           0.9999509365021664,
           0.9999531642657415,
           0.9999486504571523,
           -0.9986815073149468,
           -0.015143298617024969,
           0.00333695665338853
          ],
          [
           0.006769908521260463,
           -0.0012318601757530976,
           0.027265333951801123,
           0.013566368281719933,
           0.010201992454910408,
           -0.0012145574500676919,
           0.0003295649600475842,
           0.013740444206223385,
           0.0025548346163917915,
           0.9999668412500872,
           0.9999534936232312,
           0.9999739956199223,
           0.9999698529356509,
           0.99994340793288,
           0.9999570378202154,
           0.9999583990549741,
           0.9999623586603882,
           0.9999706823159602,
           0.9999745364508359,
           0.9999750763280421,
           0.9999753155636804,
           0.9996128803603481,
           0.9994552231223737,
           0.9999740718297006,
           0.9999753187177247,
           0.999975235624957,
           0.9999738940467436,
           0.9999184606213496,
           0.9999520406951269,
           0.999953691043123,
           0.9999652411755744,
           0.9999511433439763,
           0.999951702772118,
           0.9998923020301081,
           0.999939145974882,
           1,
           0.9999643268465626,
           0.9999682069124438,
           0.9999498279967703,
           0.9999481049664334,
           0.9999664133582349,
           0.9999422261900458,
           0.9999478970251481,
           0.9999309205159322,
           0.9999656534595942,
           0.9999747320495872,
           0.9999417505559247,
           0.999953738995369,
           0.9999715879479184,
           0.9999514526026344,
           0.9999438788160662,
           0.9999667842531375,
           -0.004983701854446998,
           -0.005244593930280466,
           -0.015702658457965254,
           0.008326922551765713,
           -0.006038469288327838,
           -0.0031081597201609444,
           -0.006944083675654315,
           0.9999546918812963,
           0.9999555211688274,
           0.9999560294296945,
           0.9999529360405158,
           -0.9986863310840454,
           -0.015010254445852793,
           0.0032265158586946754
          ],
          [
           0.006772138095369213,
           -0.001043019904937612,
           0.027519439732109675,
           0.013673002009772062,
           0.009762512767367958,
           -0.001053442262096792,
           0.0003439300842667279,
           0.01391498035741627,
           0.00255671539590137,
           0.9999819379236266,
           0.999964354696145,
           0.9999903333292653,
           0.9999844578528345,
           0.9999580575129248,
           0.9999722066009339,
           0.9999735848801233,
           0.9999777072872351,
           0.9999865871143249,
           0.9999907909254081,
           0.9999912820137177,
           0.9999915355350842,
           0.9996443297574203,
           0.9994732931464541,
           0.9999903126624,
           0.9999915425766461,
           0.999991458600719,
           0.9999898619322166,
           0.9999392308294758,
           0.9999673908272725,
           0.9999687829002717,
           0.9999808840064336,
           0.9999654023083105,
           0.9999575509128941,
           0.9999334553646904,
           0.9999617513933224,
           0.9999643268465626,
           1,
           0.999985554046013,
           0.9999517966842588,
           0.9999543271105016,
           0.9999809208033654,
           0.9999467359874088,
           0.9999587928120215,
           0.9999446777369965,
           0.9999811391120184,
           0.9999908818549316,
           0.9999555159945626,
           0.9999676731149797,
           0.9999873329268439,
           0.9999657235478921,
           0.9999560862396145,
           0.9999814534569789,
           -0.004930855410333043,
           -0.005176576138376512,
           -0.01575268062474328,
           0.008391340502595499,
           -0.0061159311430626995,
           -0.0031246893361844474,
           -0.006977313335306649,
           0.9999628977291376,
           0.9999693114452473,
           0.9999697522463176,
           0.9999673323736091,
           -0.9987022769823554,
           -0.015123783870711463,
           0.0033212429294997127
          ],
          [
           0.006779987561043861,
           -0.0010174375769457207,
           0.02754259025061561,
           0.013711504405231372,
           0.009730247276098745,
           -0.0010295867526175968,
           0.0003248482190192761,
           0.013919941300883937,
           0.002572171202017545,
           0.9999847411166957,
           0.9999664070489607,
           0.9999933047613456,
           0.9999871626543905,
           0.9999612608494547,
           0.9999754236151102,
           0.999976869580223,
           0.99998078702252,
           0.9999897412047453,
           0.9999937763333294,
           0.9999942648007245,
           0.9999944994853363,
           0.9996504089904482,
           0.9994764675152663,
           0.9999932788967127,
           0.9999945063237227,
           0.9999944380551627,
           0.9999927841642071,
           0.9999426306076321,
           0.9999702288344732,
           0.9999718037634038,
           0.9999837684775097,
           0.9999680771400847,
           0.9999588550608564,
           0.9999404065365864,
           0.9999657358561989,
           0.9999682069124438,
           0.999985554046013,
           1,
           0.9999524803185966,
           0.9999554828378815,
           0.9999841665319336,
           0.9999474128602681,
           0.9999605400449288,
           0.999947228071532,
           0.9999840162423612,
           0.9999938573484358,
           0.9999580566310581,
           0.9999703001363823,
           0.999990282935132,
           0.9999682929900003,
           0.9999586565316726,
           0.9999843500771377,
           -0.0049309371851413665,
           -0.005158414464681849,
           -0.01575572455171409,
           0.008399189680111597,
           -0.006118587113205676,
           -0.003126308110215643,
           -0.00696762116575707,
           0.999964578993948,
           0.9999719678661045,
           0.999972444021326,
           0.9999701785959053,
           -0.9987051957967471,
           -0.015117736209189927,
           0.0033040169745994995
          ],
          [
           0.0066117498378719785,
           -0.001730999462487618,
           0.02658915230078708,
           0.013526831336282576,
           0.011527509803910626,
           -0.0017372062600765489,
           0.0002713004311903278,
           0.012848214892452178,
           0.0025958535977853186,
           0.9999480039544785,
           0.9999444699356705,
           0.9999521966709376,
           0.9999562809935484,
           0.9999294556624763,
           0.9999402189217238,
           0.9999413723439121,
           0.9999432655842349,
           0.9999510322302154,
           0.9999535504006748,
           0.9999538322174311,
           0.9999539340415351,
           0.9995274805329571,
           0.9994253303050492,
           0.9999525623699846,
           0.9999539384851315,
           0.9999539007594304,
           0.9999530151633482,
           0.9998914867379968,
           0.9999318735903957,
           0.9999338502022952,
           0.9999446513089297,
           0.9999318125217471,
           0.99997535417449,
           0.9998530968984369,
           0.9999498847877372,
           0.9999498279967703,
           0.9999517966842588,
           0.9999524803185966,
           1,
           0.9999512121727342,
           0.9999502136228535,
           0.9999456030531036,
           0.9999349195990362,
           0.9999141252542608,
           0.9999462495687634,
           0.9999535013207275,
           0.9999244146672297,
           0.9999371379959617,
           0.999951373046966,
           0.9999334312109851,
           0.999929709180059,
           0.9999478662117004,
           -0.005288435300419883,
           -0.00546800033822243,
           -0.015569518304069267,
           0.008007942396916077,
           -0.006250544384321903,
           -0.003032074812159714,
           -0.006880924334002936,
           0.9999735556284708,
           0.9999383642886941,
           0.9999392627874112,
           0.9999384757272853,
           -0.9986636848387985,
           -0.014639909893641915,
           0.003094353340947676
          ],
          [
           0.006514187967906671,
           -0.0016803669295817442,
           0.026304204412322132,
           0.013427063994116986,
           0.011885794900019078,
           -0.0017153716305964197,
           0.00028923028276777704,
           0.012382907495849508,
           0.0026186461672160774,
           0.999948851078241,
           0.9999365912170222,
           0.9999532815143418,
           0.9999523288589589,
           0.9999348332034227,
           0.9999443746083077,
           0.9999451203479467,
           0.9999448851936521,
           0.9999533531049574,
           0.9999545599126044,
           0.9999545660331977,
           0.9999545074591923,
           0.9995550908363344,
           0.9994321795038451,
           0.999953151217294,
           0.999954513253041,
           0.9999545087348551,
           0.9999538453950044,
           0.9998977606809872,
           0.9999315229438707,
           0.9999327233341329,
           0.9999442698552441,
           0.999930265187503,
           0.9999505983794708,
           0.9998632526961829,
           0.9999387849572494,
           0.9999481049664334,
           0.9999543271105016,
           0.9999554828378815,
           0.9999512121727342,
           1,
           0.9999600207339979,
           0.9999227847696444,
           0.999923764610042,
           0.9999137921483627,
           0.9999471795757099,
           0.9999540992134274,
           0.9999225645426147,
           0.9999369975381763,
           0.9999519283305431,
           0.9999308338020922,
           0.9999272947521449,
           0.9999478636104525,
           -0.005448219184626938,
           -0.0054038710352516655,
           -0.015266907857642719,
           0.007690328812707748,
           -0.006475180036310895,
           -0.003041140217923183,
           -0.00691184611344168,
           0.9999502891313725,
           0.999938168466064,
           0.9999366872734204,
           0.9999445149466907,
           -0.9986634937592269,
           -0.014355975538059684,
           0.0029861510859449675
          ],
          [
           0.006702370740467392,
           -0.0011577108036103817,
           0.027103103781366763,
           0.013741709402775587,
           0.010257509550998774,
           -0.0012023024794627821,
           0.0003042234439444313,
           0.013468177770948388,
           0.002561839549491477,
           0.9999774806961087,
           0.9999585861526558,
           0.9999853014641589,
           0.9999798639873296,
           0.9999576693402995,
           0.999970486416802,
           0.9999717806123924,
           0.9999737321437625,
           0.9999831673711541,
           0.9999862988925252,
           0.999986467828539,
           0.9999864828413224,
           0.999634679456872,
           0.9994683266877542,
           0.9999852298189753,
           0.9999864902590754,
           0.999986468652874,
           0.9999851106626229,
           0.9999356172256683,
           0.9999625941538361,
           0.9999635721789115,
           0.9999754777789897,
           0.9999591684097325,
           0.9999553742610305,
           0.999926983651347,
           0.9999613421310991,
           0.9999664133582349,
           0.9999809208033654,
           0.9999841665319336,
           0.9999502136228535,
           0.9999600207339979,
           1,
           0.9999371651080505,
           0.9999512548765221,
           0.9999403156110334,
           0.9999766257183061,
           0.999985911620381,
           0.999950662213477,
           0.9999634202429463,
           0.9999825651251616,
           0.9999605047156206,
           0.9999516234733022,
           0.9999767802498798,
           -0.0050594136926254705,
           -0.0052068617995855585,
           -0.01554154301902796,
           0.008152583972819255,
           -0.006132079171842608,
           -0.0030974687622986282,
           -0.006978989315901948,
           0.9999601415888274,
           0.999964635500292,
           0.9999647572897759,
           0.9999656763574883,
           -0.9986973047870963,
           -0.014938643600408877,
           0.0032429040055389404
          ],
          [
           0.006777693651140062,
           -0.0013476431341620228,
           0.027505879297123156,
           0.01324892902460495,
           0.010231514404270918,
           -0.0013101005333166443,
           0.00031363277959909854,
           0.01400938772206172,
           0.0025642247678767547,
           0.9999428458301508,
           0.999936073052063,
           0.9999483851261439,
           0.9999498281822783,
           0.9999179610678346,
           0.9999315805348764,
           0.9999323037185324,
           0.9999370615648828,
           0.9999446819544087,
           0.9999491237512205,
           0.9999497054289469,
           0.9999500193761667,
           0.9995569011091915,
           0.9994259134769249,
           0.9999487864511362,
           0.9999500293190234,
           0.9999499675736734,
           0.9999487787696345,
           0.9998837932960005,
           0.9999275992127782,
           0.9999302957023127,
           0.9999415402501927,
           0.999930899825507,
           0.999960252535999,
           0.9998632442135711,
           0.9999379125626214,
           0.9999422261900458,
           0.9999467359874088,
           0.9999474128602681,
           0.9999456030531036,
           0.9999227847696444,
           0.9999371651080505,
           1,
           0.9999617532353244,
           0.9999068001107939,
           0.9999403360125299,
           0.9999493952253264,
           0.9999182605541518,
           0.9999290257917705,
           0.9999463238079388,
           0.999928398557404,
           0.9999204216587363,
           0.999941838539236,
           -0.004925636249595607,
           -0.005309765488760874,
           -0.01588069433275814,
           0.008519576353231131,
           -0.005945573661058552,
           -0.003069714075787724,
           -0.006942573857774218,
           0.9999555635999405,
           0.9999323038082086,
           0.9999363005270189,
           0.9999286600778436,
           -0.9986593287785802,
           -0.015178561464380302,
           0.0033299620672138965
          ],
          [
           0.006818742359451416,
           -0.001056641228836241,
           0.02797843779235839,
           0.013439738203213205,
           0.009411383982201276,
           -0.0010362954735199795,
           0.00032815273056768335,
           0.014250060077660488,
           0.0025878929886260275,
           0.9999576556703107,
           0.9999435935265198,
           0.9999649583555235,
           0.9999620989334557,
           0.9999319121065883,
           0.9999463230667502,
           0.9999475186590929,
           0.999952519222532,
           0.9999608662875527,
           0.999965513666035,
           0.9999661446291654,
           0.9999664540165017,
           0.9996050334609308,
           0.999447162606583,
           0.9999652799756154,
           0.9999664606458041,
           0.9999663812064593,
           0.9999646386904955,
           0.9999095706027985,
           0.9999425357326874,
           0.9999446680391303,
           0.9999564108238753,
           0.9999431033814223,
           0.9999499740548118,
           0.9999061445447447,
           0.9999463076414539,
           0.9999478970251481,
           0.9999587928120215,
           0.9999605400449288,
           0.9999349195990362,
           0.999923764610042,
           0.9999512548765221,
           0.9999617532353244,
           1,
           0.9999189298417297,
           0.999955640308433,
           0.9999657425782613,
           0.9999303024694383,
           0.9999416385757511,
           0.9999618661912159,
           0.9999410763189372,
           0.9999301717563589,
           0.9999559232135898,
           -0.004708973976448491,
           -0.005166875988728046,
           -0.01593725857386418,
           0.008640743910145653,
           -0.0061331502239394065,
           -0.003089836874212007,
           -0.007027097729761187,
           0.9999513531222084,
           0.9999441542866808,
           0.9999475067188115,
           0.9999415909551532,
           -0.9986776613612105,
           -0.015298275242281167,
           0.0033929309493259566
          ],
          [
           0.006573946504310695,
           -0.0010730687839314507,
           0.026775442124793932,
           0.013388320580021467,
           0.009407312882527134,
           -0.0011090061079203329,
           0.0003906620154350614,
           0.01349100831545193,
           0.0025062798749771117,
           0.9999418844212039,
           0.9999226447842359,
           0.9999501953356996,
           0.999944578495791,
           0.9999190723198421,
           0.9999324721735457,
           0.9999349083441914,
           0.9999380790938442,
           0.9999471840008957,
           0.9999507759692101,
           0.9999511896782952,
           0.9999513970085702,
           0.9995980866847989,
           0.9994339947850197,
           0.9999501158145643,
           0.9999514033319414,
           0.9999513258916539,
           0.9999498966473215,
           0.9998939110772963,
           0.999927788009835,
           0.999929664865815,
           0.9999414127027803,
           0.9999282325290206,
           0.9999191595727751,
           0.999894890212579,
           0.999926684055797,
           0.9999309205159322,
           0.9999446777369965,
           0.999947228071532,
           0.9999141252542608,
           0.9999137921483627,
           0.9999403156110334,
           0.9999068001107939,
           0.9999189298417297,
           1,
           0.9999500091171651,
           0.999951285050432,
           0.9999728512865763,
           0.9999479004349132,
           0.9999505145382785,
           0.9999623280157642,
           0.9999443522185392,
           0.9999488556431874,
           -0.004776106507314623,
           -0.005120952855810389,
           -0.015004285609026157,
           0.009198102180268293,
           -0.005179908668293827,
           -0.0032650225391089856,
           -0.007024255293631443,
           0.9999244962313467,
           0.9999301482387604,
           0.9999310477562816,
           0.9999289771323119,
           -0.99866359615826,
           -0.014521594630762472,
           0.0030890038729295133
          ],
          [
           0.006728665054840145,
           -0.000982548775660501,
           0.027388322554262625,
           0.013662707200947947,
           0.00946187901673706,
           -0.001014592119235838,
           0.00038117714721410794,
           0.013782053859899796,
           0.0025444439799147227,
           0.9999790976565568,
           0.9999592267643868,
           0.999987726947114,
           0.9999812380570477,
           0.9999555514369054,
           0.999969513533971,
           0.9999714087976972,
           0.9999751104265824,
           0.9999842715287366,
           0.9999882331506015,
           0.9999886813039205,
           0.9999889166896604,
           0.999645674670047,
           0.9994725281338913,
           0.9999876456421929,
           0.9999889213339801,
           0.9999888400172444,
           0.9999870340239136,
           0.9999383872005038,
           0.999964540837468,
           0.9999658926488313,
           0.9999778534599103,
           0.9999619103544957,
           0.9999527482818236,
           0.9999385447398418,
           0.9999626226830692,
           0.9999656534595942,
           0.9999811391120184,
           0.9999840162423612,
           0.9999462495687634,
           0.9999471795757099,
           0.9999766257183061,
           0.9999403360125299,
           0.999955640308433,
           0.9999500091171651,
           1,
           0.9999895399467081,
           0.9999571751602611,
           0.9999832678229833,
           0.9999903325592359,
           0.9999656150026253,
           0.9999683221747965,
           0.9999872591114453,
           -0.004823086676551805,
           -0.0051232595605303416,
           -0.015667505786236016,
           0.008405958560725884,
           -0.006066851110537676,
           -0.0031476701970899546,
           -0.00691629196881242,
           0.9999590204515475,
           0.9999653533455525,
           0.9999658748866115,
           0.9999644125087379,
           -0.9986996967193238,
           -0.014953110631824288,
           0.0032600414444752895
          ],
          [
           0.006806146323031051,
           -0.0009089992218366113,
           0.027747110026722525,
           0.013727737540675366,
           0.00931586352990754,
           -0.0009245125274197134,
           0.000338905777144843,
           0.014076723367181965,
           0.0025603076566120897,
           0.9999890689978286,
           0.9999694148371101,
           0.9999980842254605,
           0.9999915024523439,
           0.999964661471775,
           0.9999790911861307,
           0.999980703965653,
           0.9999850945791177,
           0.9999941710215592,
           0.9999984972402277,
           0.9999990403943669,
           0.9999992981696363,
           0.9996609174043414,
           0.9994831806424924,
           0.9999980881606404,
           0.9999993046890244,
           0.9999992199879906,
           0.9999973048025432,
           0.9999491352251373,
           0.9999748436033793,
           0.9999760932243604,
           0.9999883089660351,
           0.9999721180049786,
           0.9999608929155309,
           0.9999520211715749,
           0.9999723970237187,
           0.9999747320495872,
           0.9999908818549316,
           0.9999938573484358,
           0.9999535013207275,
           0.9999540992134274,
           0.999985911620381,
           0.9999493952253264,
           0.9999657425782613,
           0.999951285050432,
           0.9999895399467081,
           1,
           0.999962022323917,
           0.9999748404232489,
           0.9999960004300185,
           0.9999724357403806,
           0.9999622114503354,
           0.9999894294837897,
           -0.004785048266132805,
           -0.005116326194327472,
           -0.01580957030115602,
           0.008453445551388524,
           -0.006148707245129703,
           -0.0031168914448825584,
           -0.007009524391598129,
           0.999967287175422,
           0.9999749935848423,
           0.9999763336446783,
           0.9999728770390724,
           -0.9987099242064941,
           -0.01521719385744838,
           0.003352967942833168
          ],
          [
           0.006744319434073965,
           -0.0010543935329073216,
           0.026976421756969373,
           0.0134567066680819,
           0.009232547692235984,
           -0.0010733416687207693,
           0.00038371502237385225,
           0.013980978386087282,
           0.0023920462608652553,
           0.9999526377909542,
           0.9999336011987242,
           0.9999611813248435,
           0.9999562940701205,
           0.9999290250200952,
           0.9999427272641216,
           0.9999453422816521,
           0.9999489211990253,
           0.9999577910996795,
           0.9999616877661625,
           0.9999621484710157,
           0.9999623590136596,
           0.9996109833669014,
           0.9994453910769713,
           0.9999611346704356,
           0.9999623674287814,
           0.9999622878903706,
           0.9999607563415215,
           0.9999007886528524,
           0.9999394111974507,
           0.9999417583727392,
           0.9999527673771662,
           0.9999410933215309,
           0.9999299065739077,
           0.9999064056573906,
           0.9999374798454961,
           0.9999417505559247,
           0.9999555159945626,
           0.9999580566310581,
           0.9999244146672297,
           0.9999225645426147,
           0.999950662213477,
           0.9999182605541518,
           0.9999303024694383,
           0.9999728512865763,
           0.9999571751602611,
           0.999962022323917,
           1,
           0.9999518162907054,
           0.9999600926524655,
           0.9999837061067717,
           0.9999486512923781,
           0.9999570475012052,
           -0.0047189330254896866,
           -0.005144877623286885,
           -0.015434421527282633,
           0.008972837590498302,
           -0.005106517505998094,
           -0.003224742657098142,
           -0.006984584588153951,
           0.999934951537279,
           0.999941386002446,
           0.9999444251774787,
           0.9999389132433808,
           -0.998672379173978,
           -0.015002272314791178,
           0.0032590579202159066
          ],
          [
           0.006687272042087056,
           -0.0010597743775300672,
           0.027027036000270496,
           0.01367837943420376,
           0.009646223113536316,
           -0.0010926011495722178,
           0.00042233504181449515,
           0.01361937550065328,
           0.0024591357323134424,
           0.9999651571483129,
           0.999945555054923,
           0.9999731671655425,
           0.9999675157684317,
           0.9999422686309968,
           0.9999557497573652,
           0.9999578685065614,
           0.999961074645294,
           0.999970118969359,
           0.9999737290580385,
           0.9999741576736098,
           0.9999743436111737,
           0.9996224782444457,
           0.9994579313104128,
           0.9999730341310482,
           0.9999743494412607,
           0.9999742755129456,
           0.9999728607450893,
           0.9999190775223494,
           0.9999505510046764,
           0.9999521356354014,
           0.9999638069283556,
           0.9999501589410688,
           0.9999421975602395,
           0.9999179256954509,
           0.9999494849153028,
           0.999953738995369,
           0.9999676731149797,
           0.9999703001363823,
           0.9999371379959617,
           0.9999369975381763,
           0.9999634202429463,
           0.9999290257917705,
           0.9999416385757511,
           0.9999479004349132,
           0.9999832678229833,
           0.9999748404232489,
           0.9999518162907054,
           1,
           0.9999778060765191,
           0.9999569718132728,
           0.999981199006436,
           0.9999805687958592,
           -0.004847496899470965,
           -0.005146325736923668,
           -0.015622139861821274,
           0.00840589178481961,
           -0.005867237356572496,
           -0.003216733492340118,
           -0.006831855014814744,
           0.9999478907318035,
           0.9999528781105007,
           0.9999533345770444,
           0.9999522926742883,
           -0.9986853807200745,
           -0.014770948334538953,
           0.003172425826862871
          ],
          [
           0.00675434095547419,
           -0.000936840610668264,
           0.02755230308443329,
           0.01374020188117516,
           0.009397547084025647,
           -0.0009558422441035051,
           0.00035648861132666997,
           0.013943356658284443,
           0.002545139034732103,
           0.9999853153275462,
           0.9999655118306956,
           0.9999941160627709,
           0.9999877302152057,
           0.9999613796986028,
           0.999975458543771,
           0.9999773192089085,
           0.999981367762426,
           0.9999904696429208,
           0.9999945770929863,
           0.9999950813083688,
           0.9999953266301146,
           0.9996543225404781,
           0.9994790961098798,
           0.999994095848654,
           0.9999953334058894,
           0.9999952503552787,
           0.9999934399191728,
           0.9999443566154667,
           0.9999709212489415,
           0.9999722940016301,
           0.9999843940485721,
           0.9999686777979357,
           0.9999582226200104,
           0.9999460092447687,
           0.999968821808275,
           0.9999715879479184,
           0.9999873329268439,
           0.999990282935132,
           0.999951373046966,
           0.9999519283305431,
           0.9999825651251616,
           0.9999463238079388,
           0.9999618661912159,
           0.9999505145382785,
           0.9999903325592359,
           0.9999960004300185,
           0.9999600926524655,
           0.9999778060765191,
           1,
           0.9999697782658322,
           0.9999643227725867,
           0.9999931396652456,
           -0.004810183236635053,
           -0.005135780995598243,
           -0.015763617956559114,
           0.008449359714016464,
           -0.006086132732491767,
           -0.0031434436901780624,
           -0.006948375816122859,
           0.9999644712284491,
           0.9999715734977528,
           0.9999727336311958,
           0.9999699188778363,
           -0.9987060105898367,
           -0.015081762788118378,
           0.003307557091250551
          ],
          [
           0.0068285684537778574,
           -0.0010376200622564038,
           0.02716462748854119,
           0.013496872819057244,
           0.009102378549851076,
           -0.0010424608915618422,
           0.0003761035275960967,
           0.014306555332426328,
           0.0024631817962359063,
           0.9999630071891329,
           0.9999439812554076,
           0.9999717167865555,
           0.9999672149960528,
           0.999938806496237,
           0.9999528561051293,
           0.9999553143153859,
           0.9999591825380556,
           0.9999680786193567,
           0.9999721807235482,
           0.9999726681639378,
           0.9999728977868234,
           0.9996243079470937,
           0.9994560865182797,
           0.9999716644289365,
           0.9999729047645215,
           0.999972830459431,
           0.9999712211366741,
           0.9999104224558013,
           0.9999502788771408,
           0.9999525830457678,
           0.999963456573099,
           0.9999517647261928,
           0.9999396034099944,
           0.9999185741145641,
           0.9999478511734938,
           0.9999514526026344,
           0.9999657235478921,
           0.9999682929900003,
           0.9999334312109851,
           0.9999308338020922,
           0.9999605047156206,
           0.999928398557404,
           0.9999410763189372,
           0.9999623280157642,
           0.9999656150026253,
           0.9999724357403806,
           0.9999837061067717,
           0.9999569718132728,
           0.9999697782658322,
           1,
           0.9999512454297207,
           0.9999655453824332,
           -0.004711845943428771,
           -0.005123274077661013,
           -0.015591038198940728,
           0.008871338980638096,
           -0.0051242514109993914,
           -0.0032131447630266833,
           -0.006997815863183735,
           0.9999445387808517,
           0.9999513813201052,
           0.999956015057883,
           0.9999483753396594,
           -0.9986831333739273,
           -0.015307204508476585,
           0.003398264716842489
          ],
          [
           0.00667448745364061,
           -0.0011400619799941901,
           0.026808854742130593,
           0.013697022869529507,
           0.009723706993101827,
           -0.001174107092010298,
           0.0004256917532516592,
           0.01374097671657709,
           0.002424407392410645,
           0.9999529492838242,
           0.9999339727446936,
           0.9999606961175473,
           0.9999561243098624,
           0.9999302674662598,
           0.9999435213305052,
           0.999945918036911,
           0.9999488287242325,
           0.9999578840710329,
           0.9999612916600967,
           0.9999616843409366,
           0.9999618613350466,
           0.9996022592945789,
           0.9994454613420991,
           0.999960611737325,
           0.9999618685184,
           0.9999617997471268,
           0.9999605786327314,
           0.9999003991718094,
           0.999938458375146,
           0.9999409435635392,
           0.9999522736044135,
           0.9999412432486752,
           0.9999337136604708,
           0.9998996427867067,
           0.9999384468041967,
           0.9999438788160662,
           0.9999560862396145,
           0.9999586565316726,
           0.999929709180059,
           0.9999272947521449,
           0.9999516234733022,
           0.9999204216587363,
           0.9999301717563589,
           0.9999443522185392,
           0.9999683221747965,
           0.9999622114503354,
           0.9999486512923781,
           0.999981199006436,
           0.9999643227725867,
           0.9999512454297207,
           1,
           0.999968397692964,
           -0.0048560720204062525,
           -0.0051731610223514435,
           -0.015752013383665723,
           0.008378722370464588,
           -0.005575129913289247,
           -0.003274177676710741,
           -0.006779843027489728,
           0.9999385158408736,
           0.9999422157597576,
           0.9999436282952157,
           0.9999413294706817,
           -0.9986706012810757,
           -0.01486518697992341,
           0.003246935841053737
          ],
          [
           0.00671789934295136,
           -0.0009719664483265762,
           0.027301201832586365,
           0.013762335467669827,
           0.00952190039258963,
           -0.0009961393776220257,
           0.00037978260058591277,
           0.013836084702586769,
           0.002538289441856833,
           0.9999791610409204,
           0.9999594420879232,
           0.9999875904036469,
           0.9999816195693314,
           0.9999556296852218,
           0.999969427318735,
           0.9999714622759817,
           0.9999751603174012,
           0.9999842174579137,
           0.999988127680148,
           0.9999885868934012,
           0.9999888044890891,
           0.9996436766854715,
           0.9994721196501462,
           0.9999875526560703,
           0.9999888117321183,
           0.9999887406593235,
           0.9999871186484179,
           0.999935414757169,
           0.999964545973558,
           0.9999662235788904,
           0.999978164303082,
           0.9999636889995748,
           0.9999540198851472,
           0.9999357939120443,
           0.999963047974258,
           0.9999667842531375,
           0.9999814534569789,
           0.9999843500771377,
           0.9999478662117004,
           0.9999478636104525,
           0.9999767802498798,
           0.999941838539236,
           0.9999559232135898,
           0.9999488556431874,
           0.9999872591114453,
           0.9999894294837897,
           0.9999570475012052,
           0.9999805687958592,
           0.9999931396652456,
           0.9999655453824332,
           0.999968397692964,
           1,
           -0.0048312482373927615,
           -0.005152101523564351,
           -0.015752806742706037,
           0.008422416903582529,
           -0.005964953850059073,
           -0.0031977510764684973,
           -0.00686088066685083,
           0.9999598557014103,
           0.9999662673005206,
           0.9999671584705172,
           0.9999648979074306,
           -0.9986995888544035,
           -0.01496398442591431,
           0.003262114845771712
          ],
          [
           0.009490814345607218,
           0.0328144655129483,
           0.03783586762490678,
           0.0024905869884954157,
           -0.39195044348751445,
           0.03268756465318797,
           0.00312372819536962,
           0.04119215937234509,
           0.0011768825965318961,
           -0.0048093755095778125,
           -0.004999673179726,
           -0.00476232977756258,
           -0.004875021792163137,
           -0.004883129049811564,
           -0.004952138617988871,
           -0.00500044782612197,
           -0.004829102601263357,
           -0.004891960193374098,
           -0.004807608019742069,
           -0.004787041083482721,
           -0.004781292365757063,
           -0.00435475093491768,
           -0.004665927187515041,
           -0.0047791934341355445,
           -0.004780670273309987,
           -0.004783006722973016,
           -0.004835049287972208,
           -0.004752100884523887,
           -0.004722464399224202,
           -0.004756306409337945,
           -0.004805909627636142,
           -0.004865831793617447,
           -0.00518509937498758,
           -0.0042106965758018314,
           -0.004846845958469146,
           -0.004983701854446998,
           -0.004930855410333043,
           -0.0049309371851413665,
           -0.005288435300419883,
           -0.005448219184626938,
           -0.0050594136926254705,
           -0.004925636249595607,
           -0.004708973976448491,
           -0.004776106507314623,
           -0.004823086676551805,
           -0.004785048266132805,
           -0.0047189330254896866,
           -0.004847496899470965,
           -0.004810183236635053,
           -0.004711845943428771,
           -0.0048560720204062525,
           -0.0048312482373927615,
           1,
           0.011075951788736743,
           0.007157805936351042,
           0.031213083814289576,
           0.016811660042300013,
           0.009554976495018271,
           -0.009328020813697699,
           -0.005166940478278273,
           -0.005006518474204802,
           -0.004748307505299986,
           -0.004802393069502937,
           0.004754654894076364,
           -0.021093375250663904,
           0.007370017053557631
          ],
          [
           0.007133686719268341,
           0.06997409109004384,
           0.003738357668118404,
           -0.03256020858568346,
           -0.027753289374323743,
           0.06418108569423922,
           0.0021609228762581633,
           0.011829423779790751,
           0.004464710632158003,
           -0.00513698518468718,
           -0.005225865190467973,
           -0.005113237132447365,
           -0.00521079640717748,
           -0.005092464035813293,
           -0.005130533798300236,
           -0.0050643549386507,
           -0.005131370907215662,
           -0.005076319193873814,
           -0.005110482886736942,
           -0.005119029223451428,
           -0.005117579838664932,
           -0.004729615520259084,
           -0.005598199622164596,
           -0.005131619080262418,
           -0.005119247651243145,
           -0.0051205950045341096,
           -0.00513382648376245,
           -0.005028462241172638,
           -0.0051640084461796925,
           -0.005170736385131303,
           -0.005115327424587094,
           -0.005116909525087673,
           -0.005429176183045809,
           -0.004799896910990243,
           -0.00521621783059114,
           -0.005244593930280466,
           -0.005176576138376512,
           -0.005158414464681849,
           -0.00546800033822243,
           -0.0054038710352516655,
           -0.0052068617995855585,
           -0.005309765488760874,
           -0.005166875988728046,
           -0.005120952855810389,
           -0.0051232595605303416,
           -0.005116326194327472,
           -0.005144877623286885,
           -0.005146325736923668,
           -0.005135780995598243,
           -0.005123274077661013,
           -0.0051731610223514435,
           -0.005152101523564351,
           0.011075951788736743,
           1,
           0.021453616615249867,
           0.001176008102754272,
           0.013500858524677714,
           0.004805832148438063,
           -0.0005622186783224886,
           -0.005430807601956053,
           -0.005228205447537481,
           -0.005209442314508362,
           -0.005238786077090421,
           0.005086026032086137,
           -0.009116436385871582,
           0.001627745024461595
          ],
          [
           -0.023350356592102595,
           0.17759834134933572,
           -0.5806543646830195,
           -0.0809920713374947,
           0.010143427742130113,
           0.18160777007800075,
           0.018988505074513624,
           -0.203938881415474,
           0.030961921114911077,
           -0.015797607628443792,
           -0.015851664482584422,
           -0.015820511677049044,
           -0.01597505665480916,
           -0.015609570406717128,
           -0.01564021211564979,
           -0.015630950748449626,
           -0.015726349504058223,
           -0.015731838268451072,
           -0.01579443176662487,
           -0.01582097182658185,
           -0.015823327974557898,
           -0.016165561261337193,
           -0.01568603495524678,
           -0.015840512725738665,
           -0.015823732887181915,
           -0.01582002656345593,
           -0.015805122961324,
           -0.015218146053233612,
           -0.01581841563657216,
           -0.015902055843228752,
           -0.015903847969971657,
           -0.016275435246551617,
           -0.015740242594360805,
           -0.016145167261225606,
           -0.015761627297341225,
           -0.015702658457965254,
           -0.01575268062474328,
           -0.01575572455171409,
           -0.015569518304069267,
           -0.015266907857642719,
           -0.01554154301902796,
           -0.01588069433275814,
           -0.01593725857386418,
           -0.015004285609026157,
           -0.015667505786236016,
           -0.01580957030115602,
           -0.015434421527282633,
           -0.015622139861821274,
           -0.015763617956559114,
           -0.015591038198940728,
           -0.015752013383665723,
           -0.015752806742706037,
           0.007157805936351042,
           0.021453616615249867,
           1,
           0.1719530725138053,
           0.5557551373964116,
           -0.013810288975816107,
           0.037747299503829365,
           -0.015838028045612088,
           -0.015760801661315285,
           -0.016096953796163684,
           -0.015576607864273314,
           0.016033945240326346,
           0.08836617712332079,
           -0.03581329826760296
          ],
          [
           -0.07590104606638319,
           0.01248614216084884,
           -0.018060981512387705,
           -0.021191826207080718,
           -0.11876169180400448,
           0.01103896843132256,
           0.04708179931557159,
           -0.15743760466179535,
           0.056560665832112174,
           0.00838448877946857,
           0.008357159314863971,
           0.008464343613906957,
           0.008578878936615127,
           0.00823861390768461,
           0.008248530691302979,
           0.00834545381960855,
           0.008425823812641838,
           0.00839434893973503,
           0.008445327770640743,
           0.008455529117206807,
           0.008461475744044588,
           0.008695225597709641,
           0.00859107963055563,
           0.00848231711994339,
           0.008462115089686296,
           0.008461789309850547,
           0.008456555492939525,
           0.00719299383707076,
           0.008577882033954095,
           0.008796427698316366,
           0.008637666682910303,
           0.009103555676108188,
           0.008111068919439407,
           0.008793986658916285,
           0.008396601476711275,
           0.008326922551765713,
           0.008391340502595499,
           0.008399189680111597,
           0.008007942396916077,
           0.007690328812707748,
           0.008152583972819255,
           0.008519576353231131,
           0.008640743910145653,
           0.009198102180268293,
           0.008405958560725884,
           0.008453445551388524,
           0.008972837590498302,
           0.00840589178481961,
           0.008449359714016464,
           0.008871338980638096,
           0.008378722370464588,
           0.008422416903582529,
           0.031213083814289576,
           0.001176008102754272,
           0.1719530725138053,
           1,
           0.18384671767419936,
           -0.05891900564773891,
           -0.058479092013167894,
           0.008061287468959658,
           0.008469495095425975,
           0.009059909868514496,
           0.00807808804177902,
           -0.008171852382251422,
           0.2654133819430551,
           -0.12246299659832194
          ],
          [
           -0.008537041076039639,
           0.012334584091660317,
           -0.7669366462925281,
           -0.11531185742620272,
           -0.0803444790066679,
           -0.001217178164892112,
           0.02942189813245368,
           -0.004917548493931893,
           -0.05854351664650549,
           -0.006224848536375863,
           -0.0061926526725840664,
           -0.006147049640774474,
           -0.006156843885937052,
           -0.006433823350088602,
           -0.006343522275654687,
           -0.00618947181623174,
           -0.006206463186373064,
           -0.006158265867460483,
           -0.0061442317246138845,
           -0.006156442673576606,
           -0.006156828784080586,
           -0.005453560104080029,
           -0.006356125230733515,
           -0.00613321241004816,
           -0.006157129123834316,
           -0.006155365567016757,
           -0.006136505298028023,
           -0.007517927055385959,
           -0.006068357428625641,
           -0.0058177513923996435,
           -0.005963009395923314,
           -0.005417526338440161,
           -0.006373714502327627,
           -0.006392922836229761,
           -0.00611921287103745,
           -0.006038469288327838,
           -0.0061159311430626995,
           -0.006118587113205676,
           -0.006250544384321903,
           -0.006475180036310895,
           -0.006132079171842608,
           -0.005945573661058552,
           -0.0061331502239394065,
           -0.005179908668293827,
           -0.006066851110537676,
           -0.006148707245129703,
           -0.005106517505998094,
           -0.005867237356572496,
           -0.006086132732491767,
           -0.0051242514109993914,
           -0.005575129913289247,
           -0.005964953850059073,
           0.016811660042300013,
           0.013500858524677714,
           0.5557551373964116,
           0.18384671767419936,
           1,
           -0.053647054857549496,
           0.02240449791571694,
           -0.006605659089583499,
           -0.005860774347540533,
           -0.0057058641417305446,
           -0.00645600847312453,
           0.006208979035147131,
           0.039133400553146167,
           -0.015437860528334598
          ],
          [
           0.03136857283221028,
           0.008062578959210179,
           0.0629816112986164,
           -0.017802968262374434,
           -0.013223336699811846,
           0.007335653933241664,
           -0.008646436632317647,
           0.0650427429451447,
           -0.03772835344732951,
           -0.003095929231177895,
           -0.0030918566132755554,
           -0.00311598169264683,
           -0.0031062857534927234,
           -0.0030503854432764677,
           -0.0030725935878091575,
           -0.0030556005355962717,
           -0.0030881241653918515,
           -0.003096981653180112,
           -0.003109541023835431,
           -0.0031106513060384184,
           -0.003114236467034844,
           -0.0032877062825444727,
           -0.003138330155273084,
           -0.0031170187619840454,
           -0.003114483813819228,
           -0.0031156912955706537,
           -0.0031171519231482014,
           -0.0029898537295843177,
           -0.0031206755832323173,
           -0.003154002439203586,
           -0.0031400198098996556,
           -0.0031682802213735817,
           -0.003033206364731947,
           -0.0031229385520850496,
           -0.0030907576491554364,
           -0.0031081597201609444,
           -0.0031246893361844474,
           -0.003126308110215643,
           -0.003032074812159714,
           -0.003041140217923183,
           -0.0030974687622986282,
           -0.003069714075787724,
           -0.003089836874212007,
           -0.0032650225391089856,
           -0.0031476701970899546,
           -0.0031168914448825584,
           -0.003224742657098142,
           -0.003216733492340118,
           -0.0031434436901780624,
           -0.0032131447630266833,
           -0.003274177676710741,
           -0.0031977510764684973,
           0.009554976495018271,
           0.004805832148438063,
           -0.013810288975816107,
           -0.05891900564773891,
           -0.053647054857549496,
           1,
           -0.042263458432715735,
           -0.003014396803410802,
           -0.003130904255508901,
           -0.003195834055962359,
           -0.0031319542759519195,
           0.003267503525128704,
           -0.11325093953679327,
           0.05109461134369206
          ],
          [
           -0.01774399851785394,
           0.003821100048598128,
           -0.1128365231397372,
           0.013445161636613367,
           0.026074796332389395,
           -0.0008175533660101454,
           -0.0011104532200598548,
           -0.029864799564925694,
           -0.014893880558084915,
           -0.006974258057040396,
           -0.006975510322498994,
           -0.007028758309047396,
           -0.007046509682187505,
           -0.007007189247316555,
           -0.007009766002913834,
           -0.007012885128147604,
           -0.007006085161498356,
           -0.007021184773147505,
           -0.007024917447010168,
           -0.007025538759469258,
           -0.007022999643851036,
           -0.007242604423555652,
           -0.007035837750638244,
           -0.007033416234547428,
           -0.0070230432368329114,
           -0.0070230704581443525,
           -0.007005673299570104,
           -0.006924961973075738,
           -0.007048899883823177,
           -0.007078490925828798,
           -0.007016324090123292,
           -0.007044831287741366,
           -0.006908306435035039,
           -0.007248209862071341,
           -0.006976281452160875,
           -0.006944083675654315,
           -0.006977313335306649,
           -0.00696762116575707,
           -0.006880924334002936,
           -0.00691184611344168,
           -0.006978989315901948,
           -0.006942573857774218,
           -0.007027097729761187,
           -0.007024255293631443,
           -0.00691629196881242,
           -0.007009524391598129,
           -0.006984584588153951,
           -0.006831855014814744,
           -0.006948375816122859,
           -0.006997815863183735,
           -0.006779843027489728,
           -0.00686088066685083,
           -0.009328020813697699,
           -0.0005622186783224886,
           0.037747299503829365,
           -0.058479092013167894,
           0.02240449791571694,
           -0.042263458432715735,
           1,
           -0.006915112204989104,
           -0.006925144036049416,
           -0.00708860090138181,
           -0.006966561350671369,
           0.006856163581539787,
           0.03775561683716369,
           -0.012489030810894374
          ],
          [
           0.0066753979591112995,
           -0.0015087999716297555,
           0.027168346594907865,
           0.013603276702962049,
           0.011009300134510734,
           -0.0015086062705756667,
           0.0002667117210979494,
           0.013121979502811913,
           0.002659611672947133,
           0.9999605899603566,
           0.9999525806398792,
           0.9999661184290932,
           0.9999714543775915,
           0.9999407794503079,
           0.9999524565362955,
           0.9999536518606265,
           0.9999563629318533,
           0.9999642178773153,
           0.9999672457799949,
           0.9999676385966625,
           0.9999677978272541,
           0.9995460813166994,
           0.9994396956526517,
           0.9999664721460847,
           0.9999678017071503,
           0.9999677446567987,
           0.9999664636283201,
           0.9999086790576838,
           0.9999449740041035,
           0.9999466677110286,
           0.9999580856467396,
           0.9999445828487017,
           0.9999888532450824,
           0.9998904989916219,
           0.9999537234301192,
           0.9999546918812963,
           0.9999628977291376,
           0.999964578993948,
           0.9999735556284708,
           0.9999502891313725,
           0.9999601415888274,
           0.9999555635999405,
           0.9999513531222084,
           0.9999244962313467,
           0.9999590204515475,
           0.999967287175422,
           0.999934951537279,
           0.9999478907318035,
           0.9999644712284491,
           0.9999445387808517,
           0.9999385158408736,
           0.9999598557014103,
           -0.005166940478278273,
           -0.005430807601956053,
           -0.015838028045612088,
           0.008061287468959658,
           -0.006605659089583499,
           -0.003014396803410802,
           -0.006915112204989104,
           1,
           0.999949172526226,
           0.9999510158848052,
           0.9999491745580521,
           -0.998677933910864,
           -0.014810220013640771,
           0.0031658238155550717
          ],
          [
           0.006800730943438505,
           -0.0012421785489399964,
           0.02733172650407488,
           0.013872140351632246,
           0.010241207555421914,
           -0.001235782281902184,
           0.00033589816178672866,
           0.01396482262076358,
           0.0025295801811250664,
           0.9999673882998126,
           0.9999491738882708,
           0.999974390483787,
           0.9999701507989303,
           0.9999390934701391,
           0.9999548126602879,
           0.9999556752387949,
           0.999960812715823,
           0.9999699586470245,
           0.9999747132562831,
           0.9999753565932052,
           0.9999756463539534,
           0.9996298338506673,
           0.9994591361142601,
           0.9999745066519815,
           0.9999756546562678,
           0.9999756159703891,
           0.999977135996124,
           0.999920841222731,
           0.999951995383686,
           0.9999535000479542,
           0.9999652900348253,
           0.999950628985241,
           0.9999439757025771,
           0.9999179124450212,
           0.9999509365021664,
           0.9999555211688274,
           0.9999693114452473,
           0.9999719678661045,
           0.9999383642886941,
           0.999938168466064,
           0.999964635500292,
           0.9999323038082086,
           0.9999441542866808,
           0.9999301482387604,
           0.9999653533455525,
           0.9999749935848423,
           0.999941386002446,
           0.9999528781105007,
           0.9999715734977528,
           0.9999513813201052,
           0.9999422157597576,
           0.9999662673005206,
           -0.005006518474204802,
           -0.005228205447537481,
           -0.015760801661315285,
           0.008469495095425975,
           -0.005860774347540533,
           -0.003130904255508901,
           -0.006925144036049416,
           0.999949172526226,
           1,
           0.999955204624157,
           0.9999518644971688,
           -0.9986866605408287,
           -0.015156900844086182,
           0.0033065612581444984
          ],
          [
           0.006928974854000931,
           -0.001012804468757347,
           0.028022109858073154,
           0.013683689808136041,
           0.009223756804246402,
           -0.0009902659106412015,
           0.00033081227405962617,
           0.014643426403237127,
           0.002514895281841613,
           0.9999685572185407,
           0.999949934696308,
           0.9999759209263552,
           0.9999833751376992,
           0.9999437659378438,
           0.9999577123060269,
           0.9999593319771699,
           0.9999633237422301,
           0.9999722093592093,
           0.999976325988324,
           0.999976831330157,
           0.9999770558708054,
           0.9996172360492811,
           0.9994606986653013,
           0.9999759921493072,
           0.9999770606405526,
           0.9999769838507232,
           0.9999753097738998,
           0.9999007393783408,
           0.999960063837384,
           0.9999609021274912,
           0.9999691406617288,
           0.9999584443950371,
           0.9999469864326338,
           0.9999212844524233,
           0.9999531642657415,
           0.9999560294296945,
           0.9999697522463176,
           0.999972444021326,
           0.9999392627874112,
           0.9999366872734204,
           0.9999647572897759,
           0.9999363005270189,
           0.9999475067188115,
           0.9999310477562816,
           0.9999658748866115,
           0.9999763336446783,
           0.9999444251774787,
           0.9999533345770444,
           0.9999727336311958,
           0.999956015057883,
           0.9999436282952157,
           0.9999671584705172,
           -0.004748307505299986,
           -0.005209442314508362,
           -0.016096953796163684,
           0.009059909868514496,
           -0.0057058641417305446,
           -0.003195834055962359,
           -0.00708860090138181,
           0.9999510158848052,
           0.999955204624157,
           1,
           0.9999523530979633,
           -0.9986873595707685,
           -0.015667609958773143,
           0.0035001744186460527
          ],
          [
           0.006698014965404351,
           -0.0011485330380607921,
           0.02709428327701528,
           0.01424724462059359,
           0.010131696156234635,
           -0.0011375583291727074,
           0.00031957109742735556,
           0.013147325032037782,
           0.0025972084312702744,
           0.9999726538605088,
           0.9999472346158746,
           0.999972108824876,
           0.9999680977946984,
           0.9999433533206159,
           0.9999563975317673,
           0.9999581156465304,
           0.9999606858269323,
           0.9999698414804324,
           0.9999728972892239,
           0.9999731943067897,
           0.9999733478203346,
           0.9996099916382495,
           0.9994621626678352,
           0.9999719200413055,
           0.9999733537484092,
           0.9999734157641953,
           0.9999719834739249,
           0.999920354169996,
           0.999949414669792,
           0.9999508700867447,
           0.9999625249624016,
           0.9999475870258155,
           0.9999435220447489,
           0.9999150482787085,
           0.9999486504571523,
           0.9999529360405158,
           0.9999673323736091,
           0.9999701785959053,
           0.9999384757272853,
           0.9999445149466907,
           0.9999656763574883,
           0.9999286600778436,
           0.9999415909551532,
           0.9999289771323119,
           0.9999644125087379,
           0.9999728770390724,
           0.9999389132433808,
           0.9999522926742883,
           0.9999699188778363,
           0.9999483753396594,
           0.9999413294706817,
           0.9999648979074306,
           -0.004802393069502937,
           -0.005238786077090421,
           -0.015576607864273314,
           0.00807808804177902,
           -0.00645600847312453,
           -0.0031319542759519195,
           -0.006966561350671369,
           0.9999491745580521,
           0.9999518644971688,
           0.9999523530979633,
           1,
           -0.9986844048338863,
           -0.014767010685366955,
           0.0031265072356770353
          ],
          [
           -0.006785867141062061,
           0.001153428843927672,
           -0.027728635210746443,
           -0.013939486958202034,
           -0.009233525641148531,
           0.0011670822802805367,
           -0.00034118761142183277,
           -0.013939119171269458,
           -0.002550380732034001,
           -0.9987005185629156,
           -0.9986786503632348,
           -0.9987093821036421,
           -0.9987027106784565,
           -0.9986764244301457,
           -0.9986906097418166,
           -0.9986921623335351,
           -0.9986965632073987,
           -0.9987054898875637,
           -0.9987097785881377,
           -0.9987103381912065,
           -0.9987106007040857,
           -0.9983768250602484,
           -0.9981941153075603,
           -0.9987094136317387,
           -0.9987080240559839,
           -0.9987105216237013,
           -0.9987086241273962,
           -0.9986618107568361,
           -0.9986864796575876,
           -0.9986877718137354,
           -0.9986997788411445,
           -0.9986813446513365,
           -0.9986713985949867,
           -0.9986652344001139,
           -0.9986815073149468,
           -0.9986863310840454,
           -0.9987022769823554,
           -0.9987051957967471,
           -0.9986636848387985,
           -0.9986634937592269,
           -0.9986973047870963,
           -0.9986593287785802,
           -0.9986776613612105,
           -0.99866359615826,
           -0.9986996967193238,
           -0.9987099242064941,
           -0.998672379173978,
           -0.9986853807200745,
           -0.9987060105898367,
           -0.9986831333739273,
           -0.9986706012810757,
           -0.9986995888544035,
           0.004754654894076364,
           0.005086026032086137,
           0.016033945240326346,
           -0.008171852382251422,
           0.006208979035147131,
           0.003267503525128704,
           0.006856163581539787,
           -0.998677933910864,
           -0.9986866605408287,
           -0.9986873595707685,
           -0.9986844048338863,
           1,
           0.015110021966168063,
           -0.0033063909941410843
          ],
          [
           -0.29342653303776545,
           0.001681209499505326,
           -0.22718190406096556,
           0.01692343089706669,
           0.09225122158656024,
           -0.01567028603845587,
           0.02898172265688255,
           -0.7453959386068828,
           0.11065553505714659,
           -0.015147694994466792,
           -0.015120018255772407,
           -0.015259507523003406,
           -0.01531777016163588,
           -0.014936573686594878,
           -0.015032702140078236,
           -0.015071910169516468,
           -0.015142357894371468,
           -0.015180676851503342,
           -0.015234205566456804,
           -0.015243225379655194,
           -0.01524777334320806,
           -0.016279216833928283,
           -0.01510696612525293,
           -0.01527471237264903,
           -0.01524821548161187,
           -0.015245552540396948,
           -0.015218367286392484,
           -0.014285163147627213,
           -0.01530034746683869,
           -0.015397266469415808,
           -0.015379313222312709,
           -0.015876694575158858,
           -0.014804557138360411,
           -0.015843363110485932,
           -0.015143298617024969,
           -0.015010254445852793,
           -0.015123783870711463,
           -0.015117736209189927,
           -0.014639909893641915,
           -0.014355975538059684,
           -0.014938643600408877,
           -0.015178561464380302,
           -0.015298275242281167,
           -0.014521594630762472,
           -0.014953110631824288,
           -0.01521719385744838,
           -0.015002272314791178,
           -0.014770948334538953,
           -0.015081762788118378,
           -0.015307204508476585,
           -0.01486518697992341,
           -0.01496398442591431,
           -0.021093375250663904,
           -0.009116436385871582,
           0.08836617712332079,
           0.2654133819430551,
           0.039133400553146167,
           -0.11325093953679327,
           0.03775561683716369,
           -0.014810220013640771,
           -0.015156900844086182,
           -0.015667609958773143,
           -0.014767010685366955,
           0.015110021966168063,
           1,
           -0.4452933578660184
          ],
          [
           -0.6088394787880217,
           0.0027947936431737277,
           0.09368216361838673,
           -0.004309373706481058,
           -0.03519244805285494,
           0.009023390928865376,
           -0.008087698397428695,
           0.3324800113982114,
           -0.05304758161377076,
           0.0033230398209629273,
           0.003298065204034186,
           0.0033616273878303974,
           0.0033818406914819118,
           0.0032054541922914266,
           0.003252280471519562,
           0.0032865133698229865,
           0.0033100959238350843,
           0.003332148392643745,
           0.003351116420062793,
           0.0033587874198313765,
           0.0033616122399781822,
           0.0037545514978881236,
           0.003268896019357839,
           0.0033675127791182287,
           0.0033613587681738588,
           0.003359517976671695,
           0.0033431859966100903,
           0.002968959293222437,
           0.0033920528137617017,
           0.0034010792503523647,
           0.003424621667677598,
           0.0036195236568768952,
           0.003177325134655786,
           0.003617288376528764,
           0.00333695665338853,
           0.0032265158586946754,
           0.0033212429294997127,
           0.0033040169745994995,
           0.003094353340947676,
           0.0029861510859449675,
           0.0032429040055389404,
           0.0033299620672138965,
           0.0033929309493259566,
           0.0030890038729295133,
           0.0032600414444752895,
           0.003352967942833168,
           0.0032590579202159066,
           0.003172425826862871,
           0.003307557091250551,
           0.003398264716842489,
           0.003246935841053737,
           0.003262114845771712,
           0.007370017053557631,
           0.001627745024461595,
           -0.03581329826760296,
           -0.12246299659832194,
           -0.015437860528334598,
           0.05109461134369206,
           -0.012489030810894374,
           0.0031658238155550717,
           0.0033065612581444984,
           0.0035001744186460527,
           0.0031265072356770353,
           -0.0033063909941410843,
           -0.4452933578660184,
           1
          ]
         ]
        }
       ],
       "layout": {
        "height": 700,
        "template": {
         "data": {
          "bar": [
           {
            "error_x": {
             "color": "#2a3f5f"
            },
            "error_y": {
             "color": "#2a3f5f"
            },
            "marker": {
             "line": {
              "color": "#E5ECF6",
              "width": 0.5
             }
            },
            "type": "bar"
           }
          ],
          "barpolar": [
           {
            "marker": {
             "line": {
              "color": "#E5ECF6",
              "width": 0.5
             }
            },
            "type": "barpolar"
           }
          ],
          "carpet": [
           {
            "aaxis": {
             "endlinecolor": "#2a3f5f",
             "gridcolor": "white",
             "linecolor": "white",
             "minorgridcolor": "white",
             "startlinecolor": "#2a3f5f"
            },
            "baxis": {
             "endlinecolor": "#2a3f5f",
             "gridcolor": "white",
             "linecolor": "white",
             "minorgridcolor": "white",
             "startlinecolor": "#2a3f5f"
            },
            "type": "carpet"
           }
          ],
          "choropleth": [
           {
            "colorbar": {
             "outlinewidth": 0,
             "ticks": ""
            },
            "type": "choropleth"
           }
          ],
          "contour": [
           {
            "colorbar": {
             "outlinewidth": 0,
             "ticks": ""
            },
            "colorscale": [
             [
              0,
              "#0d0887"
             ],
             [
              0.1111111111111111,
              "#46039f"
             ],
             [
              0.2222222222222222,
              "#7201a8"
             ],
             [
              0.3333333333333333,
              "#9c179e"
             ],
             [
              0.4444444444444444,
              "#bd3786"
             ],
             [
              0.5555555555555556,
              "#d8576b"
             ],
             [
              0.6666666666666666,
              "#ed7953"
             ],
             [
              0.7777777777777778,
              "#fb9f3a"
             ],
             [
              0.8888888888888888,
              "#fdca26"
             ],
             [
              1,
              "#f0f921"
             ]
            ],
            "type": "contour"
           }
          ],
          "contourcarpet": [
           {
            "colorbar": {
             "outlinewidth": 0,
             "ticks": ""
            },
            "type": "contourcarpet"
           }
          ],
          "heatmap": [
           {
            "colorbar": {
             "outlinewidth": 0,
             "ticks": ""
            },
            "colorscale": [
             [
              0,
              "#0d0887"
             ],
             [
              0.1111111111111111,
              "#46039f"
             ],
             [
              0.2222222222222222,
              "#7201a8"
             ],
             [
              0.3333333333333333,
              "#9c179e"
             ],
             [
              0.4444444444444444,
              "#bd3786"
             ],
             [
              0.5555555555555556,
              "#d8576b"
             ],
             [
              0.6666666666666666,
              "#ed7953"
             ],
             [
              0.7777777777777778,
              "#fb9f3a"
             ],
             [
              0.8888888888888888,
              "#fdca26"
             ],
             [
              1,
              "#f0f921"
             ]
            ],
            "type": "heatmap"
           }
          ],
          "heatmapgl": [
           {
            "colorbar": {
             "outlinewidth": 0,
             "ticks": ""
            },
            "colorscale": [
             [
              0,
              "#0d0887"
             ],
             [
              0.1111111111111111,
              "#46039f"
             ],
             [
              0.2222222222222222,
              "#7201a8"
             ],
             [
              0.3333333333333333,
              "#9c179e"
             ],
             [
              0.4444444444444444,
              "#bd3786"
             ],
             [
              0.5555555555555556,
              "#d8576b"
             ],
             [
              0.6666666666666666,
              "#ed7953"
             ],
             [
              0.7777777777777778,
              "#fb9f3a"
             ],
             [
              0.8888888888888888,
              "#fdca26"
             ],
             [
              1,
              "#f0f921"
             ]
            ],
            "type": "heatmapgl"
           }
          ],
          "histogram": [
           {
            "marker": {
             "colorbar": {
              "outlinewidth": 0,
              "ticks": ""
             }
            },
            "type": "histogram"
           }
          ],
          "histogram2d": [
           {
            "colorbar": {
             "outlinewidth": 0,
             "ticks": ""
            },
            "colorscale": [
             [
              0,
              "#0d0887"
             ],
             [
              0.1111111111111111,
              "#46039f"
             ],
             [
              0.2222222222222222,
              "#7201a8"
             ],
             [
              0.3333333333333333,
              "#9c179e"
             ],
             [
              0.4444444444444444,
              "#bd3786"
             ],
             [
              0.5555555555555556,
              "#d8576b"
             ],
             [
              0.6666666666666666,
              "#ed7953"
             ],
             [
              0.7777777777777778,
              "#fb9f3a"
             ],
             [
              0.8888888888888888,
              "#fdca26"
             ],
             [
              1,
              "#f0f921"
             ]
            ],
            "type": "histogram2d"
           }
          ],
          "histogram2dcontour": [
           {
            "colorbar": {
             "outlinewidth": 0,
             "ticks": ""
            },
            "colorscale": [
             [
              0,
              "#0d0887"
             ],
             [
              0.1111111111111111,
              "#46039f"
             ],
             [
              0.2222222222222222,
              "#7201a8"
             ],
             [
              0.3333333333333333,
              "#9c179e"
             ],
             [
              0.4444444444444444,
              "#bd3786"
             ],
             [
              0.5555555555555556,
              "#d8576b"
             ],
             [
              0.6666666666666666,
              "#ed7953"
             ],
             [
              0.7777777777777778,
              "#fb9f3a"
             ],
             [
              0.8888888888888888,
              "#fdca26"
             ],
             [
              1,
              "#f0f921"
             ]
            ],
            "type": "histogram2dcontour"
           }
          ],
          "mesh3d": [
           {
            "colorbar": {
             "outlinewidth": 0,
             "ticks": ""
            },
            "type": "mesh3d"
           }
          ],
          "parcoords": [
           {
            "line": {
             "colorbar": {
              "outlinewidth": 0,
              "ticks": ""
             }
            },
            "type": "parcoords"
           }
          ],
          "scatter": [
           {
            "marker": {
             "colorbar": {
              "outlinewidth": 0,
              "ticks": ""
             }
            },
            "type": "scatter"
           }
          ],
          "scatter3d": [
           {
            "line": {
             "colorbar": {
              "outlinewidth": 0,
              "ticks": ""
             }
            },
            "marker": {
             "colorbar": {
              "outlinewidth": 0,
              "ticks": ""
             }
            },
            "type": "scatter3d"
           }
          ],
          "scattercarpet": [
           {
            "marker": {
             "colorbar": {
              "outlinewidth": 0,
              "ticks": ""
             }
            },
            "type": "scattercarpet"
           }
          ],
          "scattergeo": [
           {
            "marker": {
             "colorbar": {
              "outlinewidth": 0,
              "ticks": ""
             }
            },
            "type": "scattergeo"
           }
          ],
          "scattergl": [
           {
            "marker": {
             "colorbar": {
              "outlinewidth": 0,
              "ticks": ""
             }
            },
            "type": "scattergl"
           }
          ],
          "scattermapbox": [
           {
            "marker": {
             "colorbar": {
              "outlinewidth": 0,
              "ticks": ""
             }
            },
            "type": "scattermapbox"
           }
          ],
          "scatterpolar": [
           {
            "marker": {
             "colorbar": {
              "outlinewidth": 0,
              "ticks": ""
             }
            },
            "type": "scatterpolar"
           }
          ],
          "scatterpolargl": [
           {
            "marker": {
             "colorbar": {
              "outlinewidth": 0,
              "ticks": ""
             }
            },
            "type": "scatterpolargl"
           }
          ],
          "scatterternary": [
           {
            "marker": {
             "colorbar": {
              "outlinewidth": 0,
              "ticks": ""
             }
            },
            "type": "scatterternary"
           }
          ],
          "surface": [
           {
            "colorbar": {
             "outlinewidth": 0,
             "ticks": ""
            },
            "colorscale": [
             [
              0,
              "#0d0887"
             ],
             [
              0.1111111111111111,
              "#46039f"
             ],
             [
              0.2222222222222222,
              "#7201a8"
             ],
             [
              0.3333333333333333,
              "#9c179e"
             ],
             [
              0.4444444444444444,
              "#bd3786"
             ],
             [
              0.5555555555555556,
              "#d8576b"
             ],
             [
              0.6666666666666666,
              "#ed7953"
             ],
             [
              0.7777777777777778,
              "#fb9f3a"
             ],
             [
              0.8888888888888888,
              "#fdca26"
             ],
             [
              1,
              "#f0f921"
             ]
            ],
            "type": "surface"
           }
          ],
          "table": [
           {
            "cells": {
             "fill": {
              "color": "#EBF0F8"
             },
             "line": {
              "color": "white"
             }
            },
            "header": {
             "fill": {
              "color": "#C8D4E3"
             },
             "line": {
              "color": "white"
             }
            },
            "type": "table"
           }
          ]
         },
         "layout": {
          "annotationdefaults": {
           "arrowcolor": "#2a3f5f",
           "arrowhead": 0,
           "arrowwidth": 1
          },
          "colorscale": {
           "diverging": [
            [
             0,
             "#8e0152"
            ],
            [
             0.1,
             "#c51b7d"
            ],
            [
             0.2,
             "#de77ae"
            ],
            [
             0.3,
             "#f1b6da"
            ],
            [
             0.4,
             "#fde0ef"
            ],
            [
             0.5,
             "#f7f7f7"
            ],
            [
             0.6,
             "#e6f5d0"
            ],
            [
             0.7,
             "#b8e186"
            ],
            [
             0.8,
             "#7fbc41"
            ],
            [
             0.9,
             "#4d9221"
            ],
            [
             1,
             "#276419"
            ]
           ],
           "sequential": [
            [
             0,
             "#0d0887"
            ],
            [
             0.1111111111111111,
             "#46039f"
            ],
            [
             0.2222222222222222,
             "#7201a8"
            ],
            [
             0.3333333333333333,
             "#9c179e"
            ],
            [
             0.4444444444444444,
             "#bd3786"
            ],
            [
             0.5555555555555556,
             "#d8576b"
            ],
            [
             0.6666666666666666,
             "#ed7953"
            ],
            [
             0.7777777777777778,
             "#fb9f3a"
            ],
            [
             0.8888888888888888,
             "#fdca26"
            ],
            [
             1,
             "#f0f921"
            ]
           ],
           "sequentialminus": [
            [
             0,
             "#0d0887"
            ],
            [
             0.1111111111111111,
             "#46039f"
            ],
            [
             0.2222222222222222,
             "#7201a8"
            ],
            [
             0.3333333333333333,
             "#9c179e"
            ],
            [
             0.4444444444444444,
             "#bd3786"
            ],
            [
             0.5555555555555556,
             "#d8576b"
            ],
            [
             0.6666666666666666,
             "#ed7953"
            ],
            [
             0.7777777777777778,
             "#fb9f3a"
            ],
            [
             0.8888888888888888,
             "#fdca26"
            ],
            [
             1,
             "#f0f921"
            ]
           ]
          },
          "colorway": [
           "#636efa",
           "#EF553B",
           "#00cc96",
           "#ab63fa",
           "#FFA15A",
           "#19d3f3",
           "#FF6692",
           "#B6E880",
           "#FF97FF",
           "#FECB52"
          ],
          "font": {
           "color": "#2a3f5f"
          },
          "geo": {
           "bgcolor": "white",
           "lakecolor": "white",
           "landcolor": "#E5ECF6",
           "showlakes": true,
           "showland": true,
           "subunitcolor": "white"
          },
          "hoverlabel": {
           "align": "left"
          },
          "hovermode": "closest",
          "mapbox": {
           "style": "light"
          },
          "paper_bgcolor": "white",
          "plot_bgcolor": "#E5ECF6",
          "polar": {
           "angularaxis": {
            "gridcolor": "white",
            "linecolor": "white",
            "ticks": ""
           },
           "bgcolor": "#E5ECF6",
           "radialaxis": {
            "gridcolor": "white",
            "linecolor": "white",
            "ticks": ""
           }
          },
          "scene": {
           "xaxis": {
            "backgroundcolor": "#E5ECF6",
            "gridcolor": "white",
            "gridwidth": 2,
            "linecolor": "white",
            "showbackground": true,
            "ticks": "",
            "zerolinecolor": "white"
           },
           "yaxis": {
            "backgroundcolor": "#E5ECF6",
            "gridcolor": "white",
            "gridwidth": 2,
            "linecolor": "white",
            "showbackground": true,
            "ticks": "",
            "zerolinecolor": "white"
           },
           "zaxis": {
            "backgroundcolor": "#E5ECF6",
            "gridcolor": "white",
            "gridwidth": 2,
            "linecolor": "white",
            "showbackground": true,
            "ticks": "",
            "zerolinecolor": "white"
           }
          },
          "shapedefaults": {
           "line": {
            "color": "#2a3f5f"
           }
          },
          "ternary": {
           "aaxis": {
            "gridcolor": "white",
            "linecolor": "white",
            "ticks": ""
           },
           "baxis": {
            "gridcolor": "white",
            "linecolor": "white",
            "ticks": ""
           },
           "bgcolor": "#E5ECF6",
           "caxis": {
            "gridcolor": "white",
            "linecolor": "white",
            "ticks": ""
           }
          },
          "title": {
           "x": 0.05
          },
          "xaxis": {
           "automargin": true,
           "gridcolor": "white",
           "linecolor": "white",
           "ticks": "",
           "zerolinecolor": "white",
           "zerolinewidth": 2
          },
          "yaxis": {
           "automargin": true,
           "gridcolor": "white",
           "linecolor": "white",
           "ticks": "",
           "zerolinecolor": "white",
           "zerolinewidth": 2
          }
         }
        },
        "title": {
         "text": "Pearson Correlation of Integer-type features"
        },
        "width": 900,
        "xaxis": {
         "nticks": 36,
         "ticks": ""
        },
        "yaxis": {
         "ticks": ""
        }
       }
      },
      "text/html": [
       "<div>\n",
       "        \n",
       "        \n",
       "            <div id=\"920a2fb2-e360-4ea2-bb2e-4a3b8f903263\" class=\"plotly-graph-div\" style=\"height:700px; width:900px;\"></div>\n",
       "            <script type=\"text/javascript\">\n",
       "                require([\"plotly\"], function(Plotly) {\n",
       "                    window.PLOTLYENV=window.PLOTLYENV || {};\n",
       "                    \n",
       "                if (document.getElementById(\"920a2fb2-e360-4ea2-bb2e-4a3b8f903263\")) {\n",
       "                    Plotly.newPlot(\n",
       "                        '920a2fb2-e360-4ea2-bb2e-4a3b8f903263',\n",
       "                        [{\"colorscale\": [[0.0, \"#440154\"], [0.1111111111111111, \"#482878\"], [0.2222222222222222, \"#3e4989\"], [0.3333333333333333, \"#31688e\"], [0.4444444444444444, \"#26828e\"], [0.5555555555555556, \"#1f9e89\"], [0.6666666666666666, \"#35b779\"], [0.7777777777777778, \"#6ece58\"], [0.8888888888888888, \"#b5de2b\"], [1.0, \"#fde725\"]], \"opacity\": 1.0, \"reversescale\": false, \"type\": \"heatmap\", \"x\": [\"id\", \"certId\", \"loanProduct\", \"gender\", \"age\", \"dist\", \"edu\", \"job\", \"basicLevel\", \"x_12\", \"x_14\", \"x_16\", \"x_20\", \"x_25\", \"x_26\", \"x_27\", \"x_28\", \"x_29\", \"x_30\", \"x_31\", \"x_32\", \"x_33\", \"x_34\", \"x_35\", \"x_39\", \"x_42\", \"x_44\", \"x_46\", \"x_47\", \"x_48\", \"x_49\", \"x_50\", \"x_51\", \"x_52\", \"x_53\", \"x_54\", \"x_55\", \"x_56\", \"x_62\", \"x_63\", \"x_64\", \"x_65\", \"x_66\", \"x_67\", \"x_68\", \"x_69\", \"x_71\", \"x_72\", \"x_73\", \"x_74\", \"x_75\", \"x_76\", \"certValidBegin\", \"ethnic\", \"residentAddr\", \"highestEdu\", \"linkRela\", \"setupHour\", \"weekday\", \"ncloseCreditCard\", \"unpayIndvLoan\", \"unpayOtherLoan\", \"unpayNormalLoan\", \"5yearBadloan\", \"isNew\", \"target\"], \"y\": [\"id\", \"certId\", \"loanProduct\", \"gender\", \"age\", \"dist\", \"edu\", \"job\", \"basicLevel\", \"x_12\", \"x_14\", \"x_16\", \"x_20\", \"x_25\", \"x_26\", \"x_27\", \"x_28\", \"x_29\", \"x_30\", \"x_31\", \"x_32\", \"x_33\", \"x_34\", \"x_35\", \"x_39\", \"x_42\", \"x_44\", \"x_46\", \"x_47\", \"x_48\", \"x_49\", \"x_50\", \"x_51\", \"x_52\", \"x_53\", \"x_54\", \"x_55\", \"x_56\", \"x_62\", \"x_63\", \"x_64\", \"x_65\", \"x_66\", \"x_67\", \"x_68\", \"x_69\", \"x_71\", \"x_72\", \"x_73\", \"x_74\", \"x_75\", \"x_76\", \"certValidBegin\", \"ethnic\", \"residentAddr\", \"highestEdu\", \"linkRela\", \"setupHour\", \"weekday\", \"ncloseCreditCard\", \"unpayIndvLoan\", \"unpayOtherLoan\", \"unpayNormalLoan\", \"5yearBadloan\", \"isNew\", \"target\"], \"z\": [[1.0, -0.002584273729429698, 0.06661416152692677, -0.007887143625408733, -0.03376194280966095, 0.0031783361228184238, -0.014499012309969733, 0.21787917914175595, -0.03251038552028828, 0.006784275661232116, 0.006782411151015293, 0.006826415171321889, 0.006823290750857314, 0.006727945859668405, 0.006754972541935211, 0.006762533502998713, 0.006783501723096821, 0.00680023727366509, 0.006819496445403806, 0.006819778191084947, 0.006819989967650196, 0.007233568741996897, 0.006768662483914706, 0.006836731313449206, 0.006820622903780897, 0.006821421835838422, 0.0068172651228824805, 0.00654578659159792, 0.006819219119556348, 0.00688769012305282, 0.006848748409066296, 0.007000718840776395, 0.006654528359151717, 0.007028461067741556, 0.0067516063849487875, 0.006769908521260463, 0.006772138095369213, 0.006779987561043861, 0.0066117498378719785, 0.006514187967906671, 0.006702370740467392, 0.006777693651140062, 0.006818742359451416, 0.006573946504310695, 0.006728665054840145, 0.006806146323031051, 0.006744319434073965, 0.006687272042087056, 0.00675434095547419, 0.0068285684537778574, 0.00667448745364061, 0.00671789934295136, 0.009490814345607218, 0.007133686719268341, -0.023350356592102595, -0.07590104606638319, -0.008537041076039639, 0.03136857283221028, -0.01774399851785394, 0.0066753979591112995, 0.006800730943438505, 0.006928974854000931, 0.006698014965404351, -0.006785867141062061, -0.29342653303776545, -0.6088394787880217], [-0.002584273729429698, 1.0, 0.000654254976446776, 0.025223549820022836, -0.07135324990606028, 0.9173366256179882, -0.0014563485067029772, 0.010086446158859244, 0.0050796580500684155, -0.0009607253672528457, -0.0012917944215732715, -0.0009011211312586537, -0.0010841550203311776, -0.0010814058684642483, -0.0008618126472629577, -0.0010907324852125792, -0.0009364645008708038, -0.0009844863528173829, -0.0009219023954970159, -0.0009195088827882782, -0.0009075415930994595, 0.00056604452760413, -2.37628869267589e-05, -0.0009094502852142042, -0.0009076989449104241, -0.000910225312598497, -0.0009739312599254035, -0.0006631424120748625, -0.0009201391189086427, -0.0009267863758265623, -0.0009237730621302295, -0.0011058590100179661, -0.001496992400879097, -0.00012229858440885785, -0.0011254344784011245, -0.0012318601757530976, -0.001043019904937612, -0.0010174375769457207, -0.001730999462487618, -0.0016803669295817442, -0.0011577108036103817, -0.0013476431341620228, -0.001056641228836241, -0.0010730687839314507, -0.000982548775660501, -0.0009089992218366113, -0.0010543935329073216, -0.0010597743775300672, -0.000936840610668264, -0.0010376200622564038, -0.0011400619799941901, -0.0009719664483265762, 0.0328144655129483, 0.06997409109004384, 0.17759834134933572, 0.01248614216084884, 0.012334584091660317, 0.008062578959210179, 0.003821100048598128, -0.0015087999716297555, -0.0012421785489399964, -0.001012804468757347, -0.0011485330380607921, 0.001153428843927672, 0.001681209499505326, 0.0027947936431737277], [0.06661416152692677, 0.000654254976446776, 1.0, 0.06702380367351814, -0.12404013172204913, 0.0280134899108881, -0.017604334867156533, 0.3400439863677515, 0.04917227521925027, 0.02760625319745496, 0.027498831230205276, 0.027788632438560015, 0.027779697801076943, 0.027236984057805124, 0.027440521105892575, 0.02732405538901052, 0.02757281340884566, 0.027581164796826537, 0.027724536697060122, 0.02776750441622674, 0.027785340017612035, 0.029644595600303757, 0.027895917863573694, 0.027812823347127882, 0.027786153185826147, 0.027779127379623833, 0.027716057693426718, 0.027592131238543215, 0.02784061707425934, 0.027805331149359947, 0.027818562543434525, 0.027870312199337235, 0.02698634655052185, 0.029077663512840718, 0.02752179008465694, 0.027265333951801123, 0.027519439732109675, 0.02754259025061561, 0.02658915230078708, 0.026304204412322132, 0.027103103781366763, 0.027505879297123156, 0.02797843779235839, 0.026775442124793932, 0.027388322554262625, 0.027747110026722525, 0.026976421756969373, 0.027027036000270496, 0.02755230308443329, 0.02716462748854119, 0.026808854742130593, 0.027301201832586365, 0.03783586762490678, 0.003738357668118404, -0.5806543646830195, -0.018060981512387705, -0.7669366462925281, 0.0629816112986164, -0.1128365231397372, 0.027168346594907865, 0.02733172650407488, 0.028022109858073154, 0.02709428327701528, -0.027728635210746443, -0.22718190406096556, 0.09368216361838673], [-0.007887143625408733, 0.025223549820022836, 0.06702380367351814, 1.0, 0.018525665020750856, 0.027814040260545826, -0.002737849430783617, -0.028636008091395316, 0.00872389698582404, 0.013805116800161726, 0.013606820267418043, 0.013726605141720628, 0.01371271023909027, 0.013959321780146207, 0.013873114422722937, 0.013772878356533786, 0.01374990321207666, 0.013755947432748692, 0.013741845033277137, 0.013736423913463098, 0.013730110172058906, 0.014769244985694341, 0.013679413623697605, 0.013736773738033031, 0.013729745238993066, 0.013731327188294156, 0.013763133967681824, 0.014140168974355863, 0.013760072124394928, 0.013685426985475584, 0.013658281518652102, 0.013403887422390265, 0.013553289221267185, 0.01407443850139539, 0.013622824253491489, 0.013566368281719933, 0.013673002009772062, 0.013711504405231372, 0.013526831336282576, 0.013427063994116986, 0.013741709402775587, 0.01324892902460495, 0.013439738203213205, 0.013388320580021467, 0.013662707200947947, 0.013727737540675366, 0.0134567066680819, 0.01367837943420376, 0.01374020188117516, 0.013496872819057244, 0.013697022869529507, 0.013762335467669827, 0.0024905869884954157, -0.03256020858568346, -0.0809920713374947, -0.021191826207080718, -0.11531185742620272, -0.017802968262374434, 0.013445161636613367, 0.013603276702962049, 0.013872140351632246, 0.013683689808136041, 0.01424724462059359, -0.013939486958202034, 0.01692343089706669, -0.004309373706481058], [-0.03376194280966095, -0.07135324990606028, -0.12404013172204913, 0.018525665020750856, 1.0, -0.07169477342203204, -0.011251126643366523, -0.17007987419068207, 0.004249305566827967, 0.009679899680717476, 0.010423222072655653, 0.00926194851486076, 0.009615647505205561, 0.009786669592965319, 0.010052979047595402, 0.009782587540302846, 0.009457399937223686, 0.009552154755467312, 0.009371317970652014, 0.009328244185799184, 0.009306266694991773, 0.00749730729390875, 0.009409153397796969, 0.009294666155260697, 0.009305401658197964, 0.00931394039898287, 0.009456720663761468, 0.009453868288643752, 0.009271424116500754, 0.009239474953231904, 0.009274539651950084, 0.009286074560619723, 0.01110967969513111, 0.007067515472630659, 0.009764621397023889, 0.010201992454910408, 0.009762512767367958, 0.009730247276098745, 0.011527509803910626, 0.011885794900019078, 0.010257509550998774, 0.010231514404270918, 0.009411383982201276, 0.009407312882527134, 0.00946187901673706, 0.00931586352990754, 0.009232547692235984, 0.009646223113536316, 0.009397547084025647, 0.009102378549851076, 0.009723706993101827, 0.00952190039258963, -0.39195044348751445, -0.027753289374323743, 0.010143427742130113, -0.11876169180400448, -0.0803444790066679, -0.013223336699811846, 0.026074796332389395, 0.011009300134510734, 0.010241207555421914, 0.009223756804246402, 0.010131696156234635, -0.009233525641148531, 0.09225122158656024, -0.03519244805285494], [0.0031783361228184238, 0.9173366256179882, 0.0280134899108881, 0.027814040260545826, -0.07169477342203204, 1.0, -0.002991848620729821, 0.03179872491190748, 0.00534812480434477, -0.0009733583692104455, -0.0013081448315379939, -0.0009128234308986654, -0.0010751159085078015, -0.001187038558818092, -0.0008902330325537633, -0.0011551195011277548, -0.0009709853995687281, -0.0010201442012825687, -0.0009437346580019954, -0.0009464488745027576, -0.0009210828231916423, 0.00043094394620047543, 0.00011927554910366782, -0.0009203072725600944, -0.000921216160678902, -0.0009228115901449367, -0.000983407563217626, -0.0007225322609421848, -0.0009196390644685039, -0.0009363425576442776, -0.0009324574514386042, -0.0010962958006517217, -0.0014961486741887037, -0.00017287569002244512, -0.0011371547080905983, -0.0012145574500676919, -0.001053442262096792, -0.0010295867526175968, -0.0017372062600765489, -0.0017153716305964197, -0.0012023024794627821, -0.0013101005333166443, -0.0010362954735199795, -0.0011090061079203329, -0.001014592119235838, -0.0009245125274197134, -0.0010733416687207693, -0.0010926011495722178, -0.0009558422441035051, -0.0010424608915618422, -0.001174107092010298, -0.0009961393776220257, 0.03268756465318797, 0.06418108569423922, 0.18160777007800075, 0.01103896843132256, -0.001217178164892112, 0.007335653933241664, -0.0008175533660101454, -0.0015086062705756667, -0.001235782281902184, -0.0009902659106412015, -0.0011375583291727074, 0.0011670822802805367, -0.01567028603845587, 0.009023390928865376], [-0.014499012309969733, -0.0014563485067029772, -0.017604334867156533, -0.002737849430783617, -0.011251126643366523, -0.002991848620729821, 1.0, -0.028249091900568256, 0.0030943886993027863, 0.000316234588879458, 0.0003316816288930709, 0.0003364434834593011, 0.0003018800353518714, 0.00025068718524000864, 0.0002912736116386883, 0.000288360970829796, 0.0003131456821401828, 0.0003137209671554854, 0.0003346204226893079, 0.00033606167073535617, 0.0003367974277085959, 0.0005984392809567967, 0.00031094657625406333, 0.0003397631429898772, 0.00033682146293700097, 0.00033666905299919374, 0.0003397934174883713, 0.0003424066207792502, 0.00032673147560680754, 0.00033274245282091094, 0.00034353487660246726, 0.00033866850537547886, 0.0002958526983829118, 0.0003687939323756302, 0.0003169396787296208, 0.0003295649600475842, 0.0003439300842667279, 0.0003248482190192761, 0.0002713004311903278, 0.00028923028276777704, 0.0003042234439444313, 0.00031363277959909854, 0.00032815273056768335, 0.0003906620154350614, 0.00038117714721410794, 0.000338905777144843, 0.00038371502237385225, 0.00042233504181449515, 0.00035648861132666997, 0.0003761035275960967, 0.0004256917532516592, 0.00037978260058591277, 0.00312372819536962, 0.0021609228762581633, 0.018988505074513624, 0.04708179931557159, 0.02942189813245368, -0.008646436632317647, -0.0011104532200598548, 0.0002667117210979494, 0.00033589816178672866, 0.00033081227405962617, 0.00031957109742735556, -0.00034118761142183277, 0.02898172265688255, -0.008087698397428695], [0.21787917914175595, 0.010086446158859244, 0.3400439863677515, -0.028636008091395316, -0.17007987419068207, 0.03179872491190748, -0.028249091900568256, 1.0, -0.05391948375628445, 0.013896953461275303, 0.013821368968979631, 0.014123557484374216, 0.014083845090787198, 0.013336114401418069, 0.013608824710743754, 0.013600196817817317, 0.013861109324460304, 0.013888101452378242, 0.014058529306136868, 0.014090844649079835, 0.014110490265016365, 0.01661096843053733, 0.014039721373327447, 0.01415238704595299, 0.014110612770320422, 0.014105643404970333, 0.014063185930940745, 0.012710849972243993, 0.014179352425858955, 0.014374988231129574, 0.014311745674672418, 0.014973988518343053, 0.013145326912677297, 0.015097985085433648, 0.013876814264607108, 0.013740444206223385, 0.01391498035741627, 0.013919941300883937, 0.012848214892452178, 0.012382907495849508, 0.013468177770948388, 0.01400938772206172, 0.014250060077660488, 0.01349100831545193, 0.013782053859899796, 0.014076723367181965, 0.013980978386087282, 0.01361937550065328, 0.013943356658284443, 0.014306555332426328, 0.01374097671657709, 0.013836084702586769, 0.04119215937234509, 0.011829423779790751, -0.203938881415474, -0.15743760466179535, -0.004917548493931893, 0.0650427429451447, -0.029864799564925694, 0.013121979502811913, 0.01396482262076358, 0.014643426403237127, 0.013147325032037782, -0.013939119171269458, -0.7453959386068828, 0.3324800113982114], [-0.03251038552028828, 0.0050796580500684155, 0.04917227521925027, 0.00872389698582404, 0.004249305566827967, 0.00534812480434477, 0.0030943886993027863, -0.05391948375628445, 1.0, 0.0025675383963188717, 0.0025739851966935655, 0.002564381839086176, 0.0025861452508398283, 0.002640164078911189, 0.00260903092836292, 0.002601331417683992, 0.002595044715458159, 0.002581955210805204, 0.0025714779873969285, 0.0025692505243910904, 0.002568363688650159, 0.0024288144178344195, 0.002689225785666042, 0.0025659930087028504, 0.002568285262182199, 0.0025682043923306907, 0.0025666519033892914, 0.00271651272962408, 0.0025895233135273484, 0.0025558546269696075, 0.002559680199474498, 0.002419377563061106, 0.00262975803714272, 0.0025877376706532913, 0.0025695943879982044, 0.0025548346163917915, 0.00255671539590137, 0.002572171202017545, 0.0025958535977853186, 0.0026186461672160774, 0.002561839549491477, 0.0025642247678767547, 0.0025878929886260275, 0.0025062798749771117, 0.0025444439799147227, 0.0025603076566120897, 0.0023920462608652553, 0.0024591357323134424, 0.002545139034732103, 0.0024631817962359063, 0.002424407392410645, 0.002538289441856833, 0.0011768825965318961, 0.004464710632158003, 0.030961921114911077, 0.056560665832112174, -0.05854351664650549, -0.03772835344732951, -0.014893880558084915, 0.002659611672947133, 0.0025295801811250664, 0.002514895281841613, 0.0025972084312702744, -0.002550380732034001, 0.11065553505714659, -0.05304758161377076], [0.006784275661232116, -0.0009607253672528457, 0.02760625319745496, 0.013805116800161726, 0.009679899680717476, -0.0009733583692104455, 0.000316234588879458, 0.013896953461275303, 0.0025675383963188717, 1.0, 0.9999641258791557, 0.9999883410473566, 0.999982806309755, 0.9999567078702356, 0.9999707679525338, 0.9999722689478819, 0.9999760901861722, 0.9999850944045731, 0.999989039846898, 0.9999895525441261, 0.9999897517826742, 0.9996439211731337, 0.999474685350077, 0.9999885050271654, 0.9999897563638568, 0.9999897121023483, 0.9999881547313407, 0.9999367207797395, 0.999965465216811, 0.9999672477651748, 0.9999791084484, 0.9999642182620612, 0.9999546620278947, 0.9999386606475349, 0.9999639706381668, 0.9999668412500872, 0.9999819379236266, 0.9999847411166957, 0.9999480039544785, 0.999948851078241, 0.9999774806961087, 0.9999428458301508, 0.9999576556703107, 0.9999418844212039, 0.9999790976565568, 0.9999890689978286, 0.9999526377909542, 0.9999651571483129, 0.9999853153275462, 0.9999630071891329, 0.9999529492838242, 0.9999791610409204, -0.0048093755095778125, -0.00513698518468718, -0.015797607628443792, 0.00838448877946857, -0.006224848536375863, -0.003095929231177895, -0.006974258057040396, 0.9999605899603566, 0.9999673882998126, 0.9999685572185407, 0.9999726538605088, -0.9987005185629156, -0.015147694994466792, 0.0033230398209629273], [0.006782411151015293, -0.0012917944215732715, 0.027498831230205276, 0.013606820267418043, 0.010423222072655653, -0.0013081448315379939, 0.0003316816288930709, 0.013821368968979631, 0.0025739851966935655, 0.9999641258791557, 1.0, 0.9999669769343987, 0.9999652354458484, 0.9999399748912823, 0.9999529719859315, 0.9999543696327843, 0.9999575848050757, 0.9999660284333975, 0.9999694847554461, 0.9999699054284549, 0.9999701056222443, 0.9996064868405162, 0.9994497262882901, 0.9999687506842275, 0.9999701170438198, 0.999970050573059, 0.9999684870162137, 0.9999151623664841, 0.9999461240831634, 0.9999480591566159, 0.9999598233979919, 0.9999453869880978, 0.9999492378297736, 0.9999041951667907, 0.9999495031311167, 0.9999534936232312, 0.999964354696145, 0.9999664070489607, 0.9999444699356705, 0.9999365912170222, 0.9999585861526558, 0.999936073052063, 0.9999435935265198, 0.9999226447842359, 0.9999592267643868, 0.9999694148371101, 0.9999336011987242, 0.999945555054923, 0.9999655118306956, 0.9999439812554076, 0.9999339727446936, 0.9999594420879232, -0.004999673179726, -0.005225865190467973, -0.015851664482584422, 0.008357159314863971, -0.0061926526725840664, -0.0030918566132755554, -0.006975510322498994, 0.9999525806398792, 0.9999491738882708, 0.999949934696308, 0.9999472346158746, -0.9986786503632348, -0.015120018255772407, 0.003298065204034186], [0.006826415171321889, -0.0009011211312586537, 0.027788632438560015, 0.013726605141720628, 0.00926194851486076, -0.0009128234308986654, 0.0003364434834593011, 0.014123557484374216, 0.002564381839086176, 0.9999883410473566, 0.9999669769343987, 1.0, 0.9999909065331731, 0.9999637544214439, 0.9999782943581224, 0.9999799124687615, 0.9999844393279005, 0.9999935580827874, 0.9999979383119275, 0.9999985068109832, 0.9999987801976121, 0.9996614117211667, 0.999482826381685, 0.9999975855451089, 0.9999987865909031, 0.9999986983663759, 0.9999967789151968, 0.9999484841954813, 0.9999742764157324, 0.999975587064475, 0.9999878195852328, 0.9999717412520954, 0.9999596969473288, 0.9999520011038653, 0.9999716638150801, 0.9999739956199223, 0.9999903333292653, 0.9999933047613456, 0.9999521966709376, 0.9999532815143418, 0.9999853014641589, 0.9999483851261439, 0.9999649583555235, 0.9999501953356996, 0.999987726947114, 0.9999980842254605, 0.9999611813248435, 0.9999731671655425, 0.9999941160627709, 0.9999717167865555, 0.9999606961175473, 0.9999875904036469, -0.00476232977756258, -0.005113237132447365, -0.015820511677049044, 0.008464343613906957, -0.006147049640774474, -0.00311598169264683, -0.007028758309047396, 0.9999661184290932, 0.999974390483787, 0.9999759209263552, 0.999972108824876, -0.9987093821036421, -0.015259507523003406, 0.0033616273878303974], [0.006823290750857314, -0.0010841550203311776, 0.027779697801076943, 0.01371271023909027, 0.009615647505205561, -0.0010751159085078015, 0.0003018800353518714, 0.014083845090787198, 0.0025861452508398283, 0.999982806309755, 0.9999652354458484, 0.9999909065331731, 1.0, 0.999958882767231, 0.9999728599005868, 0.999974377447043, 0.9999785120725984, 0.9999873011015845, 0.9999914211130754, 0.9999919451028926, 0.9999921897787644, 0.9996263073544428, 0.9994725266995321, 0.9999910372218261, 0.9999921957279867, 0.9999921160688776, 0.999990348755593, 0.9999339778943391, 0.9999699872367638, 0.999971157023456, 0.9999821492059959, 0.9999676864294675, 0.9999656124134133, 0.9999390418331242, 0.9999678326329526, 0.9999698529356509, 0.9999844578528345, 0.9999871626543905, 0.9999562809935484, 0.9999523288589589, 0.9999798639873296, 0.9999498281822783, 0.9999620989334557, 0.999944578495791, 0.9999812380570477, 0.9999915024523439, 0.9999562940701205, 0.9999675157684317, 0.9999877302152057, 0.9999672149960528, 0.9999561243098624, 0.9999816195693314, -0.004875021792163137, -0.00521079640717748, -0.01597505665480916, 0.008578878936615127, -0.006156843885937052, -0.0031062857534927234, -0.007046509682187505, 0.9999714543775915, 0.9999701507989303, 0.9999833751376992, 0.9999680977946984, -0.9987027106784565, -0.01531777016163588, 0.0033818406914819118], [0.006727945859668405, -0.0010814058684642483, 0.027236984057805124, 0.013959321780146207, 0.009786669592965319, -0.001187038558818092, 0.00025068718524000864, 0.013336114401418069, 0.002640164078911189, 0.9999567078702356, 0.9999399748912823, 0.9999637544214439, 0.999958882767231, 1.0, 0.9999805149553698, 0.9999789534322476, 0.9999749363214285, 0.9999682898047502, 0.9999656664197824, 0.9999653473084157, 0.9999651993581773, 0.9996001921178496, 0.9994500211767057, 0.9999637678846153, 0.9999651931908387, 0.999965137691558, 0.9999631187532032, 0.9999119058389161, 0.9999405901155186, 0.9999423981914308, 0.9999545615645264, 0.999940494475154, 0.9999344225027397, 0.9999104083494224, 0.9999402080625631, 0.99994340793288, 0.9999580575129248, 0.9999612608494547, 0.9999294556624763, 0.9999348332034227, 0.9999576693402995, 0.9999179610678346, 0.9999319121065883, 0.9999190723198421, 0.9999555514369054, 0.999964661471775, 0.9999290250200952, 0.9999422686309968, 0.9999613796986028, 0.999938806496237, 0.9999302674662598, 0.9999556296852218, -0.004883129049811564, -0.005092464035813293, -0.015609570406717128, 0.00823861390768461, -0.006433823350088602, -0.0030503854432764677, -0.007007189247316555, 0.9999407794503079, 0.9999390934701391, 0.9999437659378438, 0.9999433533206159, -0.9986764244301457, -0.014936573686594878, 0.0032054541922914266], [0.006754972541935211, -0.0008618126472629577, 0.027440521105892575, 0.013873114422722937, 0.010052979047595402, -0.0008902330325537633, 0.0002912736116386883, 0.013608824710743754, 0.00260903092836292, 0.9999707679525338, 0.9999529719859315, 0.9999782943581224, 0.9999728599005868, 0.9999805149553698, 1.0, 0.999975500399254, 0.9999753925832312, 0.9999795010295998, 0.9999796705090933, 0.9999796566931258, 0.999979686188644, 0.9996266018936057, 0.9994667866315636, 0.9999783321261926, 0.9999796786090721, 0.9999796212957242, 0.9999777308701295, 0.9999277671378076, 0.9999552060956722, 0.9999567111731942, 0.9999688109755869, 0.9999538779922421, 0.9999461405081101, 0.9999272719307774, 0.9999538255464994, 0.9999570378202154, 0.9999722066009339, 0.9999754236151102, 0.9999402189217238, 0.9999443746083077, 0.999970486416802, 0.9999315805348764, 0.9999463230667502, 0.9999324721735457, 0.999969513533971, 0.9999790911861307, 0.9999427272641216, 0.9999557497573652, 0.999975458543771, 0.9999528561051293, 0.9999435213305052, 0.999969427318735, -0.004952138617988871, -0.005130533798300236, -0.01564021211564979, 0.008248530691302979, -0.006343522275654687, -0.0030725935878091575, -0.007009766002913834, 0.9999524565362955, 0.9999548126602879, 0.9999577123060269, 0.9999563975317673, -0.9986906097418166, -0.015032702140078236, 0.003252280471519562], [0.006762533502998713, -0.0010907324852125792, 0.02732405538901052, 0.013772878356533786, 0.009782587540302846, -0.0011551195011277548, 0.000288360970829796, 0.013600196817817317, 0.002601331417683992, 0.9999722689478819, 0.9999543696327843, 0.9999799124687615, 0.999974377447043, 0.9999789534322476, 0.999975500399254, 1.0, 0.9999909459870361, 0.9999849477296053, 0.9999818014333072, 0.9999813697038135, 0.9999812669868944, 0.999627847855555, 0.999465654836015, 0.9999799450790599, 0.999981259275567, 0.9999811985287476, 0.9999792126727417, 0.9999284899874997, 0.9999566769128053, 0.9999584326397636, 0.9999705516124182, 0.999956125536134, 0.999947197917504, 0.999929595352846, 0.9999552192469211, 0.9999583990549741, 0.9999735848801233, 0.999976869580223, 0.9999413723439121, 0.9999451203479467, 0.9999717806123924, 0.9999323037185324, 0.9999475186590929, 0.9999349083441914, 0.9999714087976972, 0.999980703965653, 0.9999453422816521, 0.9999578685065614, 0.9999773192089085, 0.9999553143153859, 0.999945918036911, 0.9999714622759817, -0.00500044782612197, -0.0050643549386507, -0.015630950748449626, 0.00834545381960855, -0.00618947181623174, -0.0030556005355962717, -0.007012885128147604, 0.9999536518606265, 0.9999556752387949, 0.9999593319771699, 0.9999581156465304, -0.9986921623335351, -0.015071910169516468, 0.0032865133698229865], [0.006783501723096821, -0.0009364645008708038, 0.02757281340884566, 0.01374990321207666, 0.009457399937223686, -0.0009709853995687281, 0.0003131456821401828, 0.013861109324460304, 0.002595044715458159, 0.9999760901861722, 0.9999575848050757, 0.9999844393279005, 0.9999785120725984, 0.9999749363214285, 0.9999753925832312, 0.9999909459870361, 1.0, 0.9999797233383071, 0.9999847660513401, 0.9999854215277711, 0.9999857288267985, 0.9996359289160145, 0.9994704765031722, 0.9999844702877687, 0.9999857363003665, 0.9999856647424702, 0.9999837381995078, 0.999934081969748, 0.9999609820837202, 0.9999626749972649, 0.9999749728530338, 0.9999599485076545, 0.9999498557747164, 0.9999358278927898, 0.9999593705170078, 0.9999623586603882, 0.9999777072872351, 0.99998078702252, 0.9999432655842349, 0.9999448851936521, 0.9999737321437625, 0.9999370615648828, 0.999952519222532, 0.9999380790938442, 0.9999751104265824, 0.9999850945791177, 0.9999489211990253, 0.999961074645294, 0.999981367762426, 0.9999591825380556, 0.9999488287242325, 0.9999751603174012, -0.004829102601263357, -0.005131370907215662, -0.015726349504058223, 0.008425823812641838, -0.006206463186373064, -0.0030881241653918515, -0.007006085161498356, 0.9999563629318533, 0.999960812715823, 0.9999633237422301, 0.9999606858269323, -0.9986965632073987, -0.015142357894371468, 0.0033100959238350843], [0.00680023727366509, -0.0009844863528173829, 0.027581164796826537, 0.013755947432748692, 0.009552154755467312, -0.0010201442012825687, 0.0003137209671554854, 0.013888101452378242, 0.002581955210805204, 0.9999850944045731, 0.9999660284333975, 0.9999935580827874, 0.9999873011015845, 0.9999682898047502, 0.9999795010295998, 0.9999849477296053, 0.9999797233383071, 1.0, 0.9999939196102033, 0.9999945176009767, 0.999994798049069, 0.9996524119475049, 0.999478726287982, 0.9999935502008912, 0.9999948048652709, 0.9999947239237055, 0.9999927629048349, 0.9999437758517344, 0.99997041282052, 0.999971746480123, 0.999983793073182, 0.9999682728876952, 0.9999577995771743, 0.9999462554271136, 0.9999681257682476, 0.9999706823159602, 0.9999865871143249, 0.9999897412047453, 0.9999510322302154, 0.9999533531049574, 0.9999831673711541, 0.9999446819544087, 0.9999608662875527, 0.9999471840008957, 0.9999842715287366, 0.9999941710215592, 0.9999577910996795, 0.999970118969359, 0.9999904696429208, 0.9999680786193567, 0.9999578840710329, 0.9999842174579137, -0.004891960193374098, -0.005076319193873814, -0.015731838268451072, 0.00839434893973503, -0.006158265867460483, -0.003096981653180112, -0.007021184773147505, 0.9999642178773153, 0.9999699586470245, 0.9999722093592093, 0.9999698414804324, -0.9987054898875637, -0.015180676851503342, 0.003332148392643745], [0.006819496445403806, -0.0009219023954970159, 0.027724536697060122, 0.013741845033277137, 0.009371317970652014, -0.0009437346580019954, 0.0003346204226893079, 0.014058529306136868, 0.0025714779873969285, 0.999989039846898, 0.9999694847554461, 0.9999979383119275, 0.9999914211130754, 0.9999656664197824, 0.9999796705090933, 0.9999818014333072, 0.9999847660513401, 0.9999939196102033, 1.0, 0.9999988819157433, 0.9999991504413487, 0.9996608530087916, 0.9994827807957121, 0.999997938633635, 0.9999991569677302, 0.9999990773148029, 0.9999971359498929, 0.9999487647618295, 0.9999746742050895, 0.9999759782907502, 0.9999882086670796, 0.9999721346049083, 0.9999608975524664, 0.9999517937096621, 0.9999722535091066, 0.9999745364508359, 0.9999907909254081, 0.9999937763333294, 0.9999535504006748, 0.9999545599126044, 0.9999862988925252, 0.9999491237512205, 0.999965513666035, 0.9999507759692101, 0.9999882331506015, 0.9999984972402277, 0.9999616877661625, 0.9999737290580385, 0.9999945770929863, 0.9999721807235482, 0.9999612916600967, 0.999988127680148, -0.004807608019742069, -0.005110482886736942, -0.01579443176662487, 0.008445327770640743, -0.0061442317246138845, -0.003109541023835431, -0.007024917447010168, 0.9999672457799949, 0.9999747132562831, 0.999976325988324, 0.9999728972892239, -0.9987097785881377, -0.015234205566456804, 0.003351116420062793], [0.006819778191084947, -0.0009195088827882782, 0.02776750441622674, 0.013736423913463098, 0.009328244185799184, -0.0009464488745027576, 0.00033606167073535617, 0.014090844649079835, 0.0025692505243910904, 0.9999895525441261, 0.9999699054284549, 0.9999985068109832, 0.9999919451028926, 0.9999653473084157, 0.9999796566931258, 0.9999813697038135, 0.9999854215277711, 0.9999945176009767, 0.9999988819157433, 1.0, 0.9999997181571381, 0.9996617193473564, 0.9994833363523768, 0.9999985106442414, 0.9999997246474606, 0.9999996403086747, 0.9999977203605921, 0.9999494999538693, 0.9999752154622233, 0.9999765325076913, 0.9999887494780605, 0.9999726013498116, 0.9999612643767941, 0.9999525823824031, 0.9999727835733356, 0.9999750763280421, 0.9999912820137177, 0.9999942648007245, 0.9999538322174311, 0.9999545660331977, 0.999986467828539, 0.9999497054289469, 0.9999661446291654, 0.9999511896782952, 0.9999886813039205, 0.9999990403943669, 0.9999621484710157, 0.9999741576736098, 0.9999950813083688, 0.9999726681639378, 0.9999616843409366, 0.9999885868934012, -0.004787041083482721, -0.005119029223451428, -0.01582097182658185, 0.008455529117206807, -0.006156442673576606, -0.0031106513060384184, -0.007025538759469258, 0.9999676385966625, 0.9999753565932052, 0.999976831330157, 0.9999731943067897, -0.9987103381912065, -0.015243225379655194, 0.0033587874198313765], [0.006819989967650196, -0.0009075415930994595, 0.027785340017612035, 0.013730110172058906, 0.009306266694991773, -0.0009210828231916423, 0.0003367974277085959, 0.014110490265016365, 0.002568363688650159, 0.9999897517826742, 0.9999701056222443, 0.9999987801976121, 0.9999921897787644, 0.9999651993581773, 0.999979686188644, 0.9999812669868944, 0.9999857288267985, 0.999994798049069, 0.9999991504413487, 0.9999997181571381, 1.0, 0.9996619645097639, 0.9994838001256485, 0.9999987801699416, 0.9999999909386507, 0.9999999042378263, 0.9999979790920347, 0.9999498310487439, 0.9999754619048604, 0.9999767792937858, 0.9999889975564829, 0.9999728603057674, 0.9999614024763044, 0.9999529435014097, 0.9999730263520715, 0.9999753155636804, 0.9999915355350842, 0.9999944994853363, 0.9999539340415351, 0.9999545074591923, 0.9999864828413224, 0.9999500193761667, 0.9999664540165017, 0.9999513970085702, 0.9999889166896604, 0.9999992981696363, 0.9999623590136596, 0.9999743436111737, 0.9999953266301146, 0.9999728977868234, 0.9999618613350466, 0.9999888044890891, -0.004781292365757063, -0.005117579838664932, -0.015823327974557898, 0.008461475744044588, -0.006156828784080586, -0.003114236467034844, -0.007022999643851036, 0.9999677978272541, 0.9999756463539534, 0.9999770558708054, 0.9999733478203346, -0.9987106007040857, -0.01524777334320806, 0.0033616122399781822], [0.007233568741996897, 0.00056604452760413, 0.029644595600303757, 0.014769244985694341, 0.00749730729390875, 0.00043094394620047543, 0.0005984392809567967, 0.01661096843053733, 0.0024288144178344195, 0.9996439211731337, 0.9996064868405162, 0.9996614117211667, 0.9996263073544428, 0.9996001921178496, 0.9996266018936057, 0.999627847855555, 0.9996359289160145, 0.9996524119475049, 0.9996608530087916, 0.9996617193473564, 0.9996619645097639, 1.0, 0.9991624163196116, 0.9996615721167994, 0.9996619514230669, 0.999661775756553, 0.9996593156258398, 0.9996424203983054, 0.9996335691656276, 0.9996323008718234, 0.999647261489834, 0.9996182337784778, 0.99954043083105, 0.9996761090170334, 0.9996134196670455, 0.9996128803603481, 0.9996443297574203, 0.9996504089904482, 0.9995274805329571, 0.9995550908363344, 0.999634679456872, 0.9995569011091915, 0.9996050334609308, 0.9995980866847989, 0.999645674670047, 0.9996609174043414, 0.9996109833669014, 0.9996224782444457, 0.9996543225404781, 0.9996243079470937, 0.9996022592945789, 0.9996436766854715, -0.00435475093491768, -0.004729615520259084, -0.016165561261337193, 0.008695225597709641, -0.005453560104080029, -0.0032877062825444727, -0.007242604423555652, 0.9995460813166994, 0.9996298338506673, 0.9996172360492811, 0.9996099916382495, -0.9983768250602484, -0.016279216833928283, 0.0037545514978881236], [0.006768662483914706, -2.37628869267589e-05, 0.027895917863573694, 0.013679413623697605, 0.009409153397796969, 0.00011927554910366782, 0.00031094657625406333, 0.014039721373327447, 0.002689225785666042, 0.999474685350077, 0.9994497262882901, 0.999482826381685, 0.9994725266995321, 0.9994500211767057, 0.9994667866315636, 0.999465654836015, 0.9994704765031722, 0.999478726287982, 0.9994827807957121, 0.9994833363523768, 0.9994838001256485, 0.9991624163196116, 1.0, 0.9994797539128467, 0.9994838069123302, 0.9994837103572275, 0.9994817253656131, 0.9994322760285547, 0.9994589562122126, 0.9994599404346427, 0.9994732214834602, 0.9994586817270731, 0.9994325739375611, 0.9994474289498023, 0.9994540350688476, 0.9994552231223737, 0.9994732931464541, 0.9994764675152663, 0.9994253303050492, 0.9994321795038451, 0.9994683266877542, 0.9994259134769249, 0.999447162606583, 0.9994339947850197, 0.9994725281338913, 0.9994831806424924, 0.9994453910769713, 0.9994579313104128, 0.9994790961098798, 0.9994560865182797, 0.9994454613420991, 0.9994721196501462, -0.004665927187515041, -0.005598199622164596, -0.01568603495524678, 0.00859107963055563, -0.006356125230733515, -0.003138330155273084, -0.007035837750638244, 0.9994396956526517, 0.9994591361142601, 0.9994606986653013, 0.9994621626678352, -0.9981941153075603, -0.01510696612525293, 0.003268896019357839], [0.006836731313449206, -0.0009094502852142042, 0.027812823347127882, 0.013736773738033031, 0.009294666155260697, -0.0009203072725600944, 0.0003397631429898772, 0.01415238704595299, 0.0025659930087028504, 0.9999885050271654, 0.9999687506842275, 0.9999975855451089, 0.9999910372218261, 0.9999637678846153, 0.9999783321261926, 0.9999799450790599, 0.9999844702877687, 0.9999935502008912, 0.999997938633635, 0.9999985106442414, 0.9999987801699416, 0.9996615721167994, 0.9994797539128467, 1.0, 0.9999987867179442, 0.9999986989757942, 0.9999968150876359, 0.9999483195588399, 0.9999742880329917, 0.9999756351372463, 0.9999878286119136, 0.9999718380429035, 0.9999600671701209, 0.9999518464927815, 0.9999717896100347, 0.9999740718297006, 0.9999903126624, 0.9999932788967127, 0.9999525623699846, 0.999953151217294, 0.9999852298189753, 0.9999487864511362, 0.9999652799756154, 0.9999501158145643, 0.9999876456421929, 0.9999980881606404, 0.9999611346704356, 0.9999730341310482, 0.999994095848654, 0.9999716644289365, 0.999960611737325, 0.9999875526560703, -0.0047791934341355445, -0.005131619080262418, -0.015840512725738665, 0.00848231711994339, -0.00613321241004816, -0.0031170187619840454, -0.007033416234547428, 0.9999664721460847, 0.9999745066519815, 0.9999759921493072, 0.9999719200413055, -0.9987094136317387, -0.01527471237264903, 0.0033675127791182287], [0.006820622903780897, -0.0009076989449104241, 0.027786153185826147, 0.013729745238993066, 0.009305401658197964, -0.000921216160678902, 0.00033682146293700097, 0.014110612770320422, 0.002568285262182199, 0.9999897563638568, 0.9999701170438198, 0.9999987865909031, 0.9999921957279867, 0.9999651931908387, 0.9999796786090721, 0.999981259275567, 0.9999857363003665, 0.9999948048652709, 0.9999991569677302, 0.9999997246474606, 0.9999999909386507, 0.9996619514230669, 0.9994838069123302, 0.9999987867179442, 1.0, 0.9999999107198688, 0.999997985703024, 0.9999498311210934, 0.999975470222273, 0.9999767874929056, 0.9999890047851424, 0.9999728688664478, 0.999961410761517, 0.9999529502918362, 0.9999730348952303, 0.9999753187177247, 0.9999915425766461, 0.9999945063237227, 0.9999539384851315, 0.999954513253041, 0.9999864902590754, 0.9999500293190234, 0.9999664606458041, 0.9999514033319414, 0.9999889213339801, 0.9999993046890244, 0.9999623674287814, 0.9999743494412607, 0.9999953334058894, 0.9999729047645215, 0.9999618685184, 0.9999888117321183, -0.004780670273309987, -0.005119247651243145, -0.015823732887181915, 0.008462115089686296, -0.006157129123834316, -0.003114483813819228, -0.0070230432368329114, 0.9999678017071503, 0.9999756546562678, 0.9999770606405526, 0.9999733537484092, -0.9987080240559839, -0.01524821548161187, 0.0033613587681738588], [0.006821421835838422, -0.000910225312598497, 0.027779127379623833, 0.013731327188294156, 0.00931394039898287, -0.0009228115901449367, 0.00033666905299919374, 0.014105643404970333, 0.0025682043923306907, 0.9999897121023483, 0.999970050573059, 0.9999986983663759, 0.9999921160688776, 0.999965137691558, 0.9999796212957242, 0.9999811985287476, 0.9999856647424702, 0.9999947239237055, 0.9999990773148029, 0.9999996403086747, 0.9999999042378263, 0.999661775756553, 0.9994837103572275, 0.9999986989757942, 0.9999999107198688, 1.0, 0.9999979205545463, 0.9999497577800573, 0.9999753976599096, 0.999976688028066, 0.9999889183734441, 0.9999727671880626, 0.9999613561895971, 0.9999528122575456, 0.9999729748442775, 0.999975235624957, 0.999991458600719, 0.9999944380551627, 0.9999539007594304, 0.9999545087348551, 0.999986468652874, 0.9999499675736734, 0.9999663812064593, 0.9999513258916539, 0.9999888400172444, 0.9999992199879906, 0.9999622878903706, 0.9999742755129456, 0.9999952503552787, 0.999972830459431, 0.9999617997471268, 0.9999887406593235, -0.004783006722973016, -0.0051205950045341096, -0.01582002656345593, 0.008461789309850547, -0.006155365567016757, -0.0031156912955706537, -0.0070230704581443525, 0.9999677446567987, 0.9999756159703891, 0.9999769838507232, 0.9999734157641953, -0.9987105216237013, -0.015245552540396948, 0.003359517976671695], [0.0068172651228824805, -0.0009739312599254035, 0.027716057693426718, 0.013763133967681824, 0.009456720663761468, -0.000983407563217626, 0.0003397934174883713, 0.014063185930940745, 0.0025666519033892914, 0.9999881547313407, 0.9999684870162137, 0.9999967789151968, 0.999990348755593, 0.9999631187532032, 0.9999777308701295, 0.9999792126727417, 0.9999837381995078, 0.9999927629048349, 0.9999971359498929, 0.9999977203605921, 0.9999979790920347, 0.9996593156258398, 0.9994817253656131, 0.9999968150876359, 0.999997985703024, 0.9999979205545463, 1.0, 0.9999475141567753, 0.9999735010840431, 0.999974831875948, 0.9999870624367386, 0.9999709948989023, 0.999960214289313, 0.9999495582902153, 0.9999711969376421, 0.9999738940467436, 0.9999898619322166, 0.9999927841642071, 0.9999530151633482, 0.9999538453950044, 0.9999851106626229, 0.9999487787696345, 0.9999646386904955, 0.9999498966473215, 0.9999870340239136, 0.9999973048025432, 0.9999607563415215, 0.9999728607450893, 0.9999934399191728, 0.9999712211366741, 0.9999605786327314, 0.9999871186484179, -0.004835049287972208, -0.00513382648376245, -0.015805122961324, 0.008456555492939525, -0.006136505298028023, -0.0031171519231482014, -0.007005673299570104, 0.9999664636283201, 0.999977135996124, 0.9999753097738998, 0.9999719834739249, -0.9987086241273962, -0.015218367286392484, 0.0033431859966100903], [0.00654578659159792, -0.0006631424120748625, 0.027592131238543215, 0.014140168974355863, 0.009453868288643752, -0.0007225322609421848, 0.0003424066207792502, 0.012710849972243993, 0.00271651272962408, 0.9999367207797395, 0.9999151623664841, 0.9999484841954813, 0.9999339778943391, 0.9999119058389161, 0.9999277671378076, 0.9999284899874997, 0.999934081969748, 0.9999437758517344, 0.9999487647618295, 0.9999494999538693, 0.9999498310487439, 0.9996424203983054, 0.9994322760285547, 0.9999483195588399, 0.9999498311210934, 0.9999497577800573, 0.9999475141567753, 1.0, 0.9998964249928859, 0.9998995791902822, 0.9999270550527117, 0.9998900454083584, 0.9998989572763891, 0.9999177303897168, 0.9999184731465278, 0.9999184606213496, 0.9999392308294758, 0.9999426306076321, 0.9998914867379968, 0.9998977606809872, 0.9999356172256683, 0.9998837932960005, 0.9999095706027985, 0.9998939110772963, 0.9999383872005038, 0.9999491352251373, 0.9999007886528524, 0.9999190775223494, 0.9999443566154667, 0.9999104224558013, 0.9999003991718094, 0.999935414757169, -0.004752100884523887, -0.005028462241172638, -0.015218146053233612, 0.00719299383707076, -0.007517927055385959, -0.0029898537295843177, -0.006924961973075738, 0.9999086790576838, 0.999920841222731, 0.9999007393783408, 0.999920354169996, -0.9986618107568361, -0.014285163147627213, 0.002968959293222437], [0.006819219119556348, -0.0009201391189086427, 0.02784061707425934, 0.013760072124394928, 0.009271424116500754, -0.0009196390644685039, 0.00032673147560680754, 0.014179352425858955, 0.0025895233135273484, 0.999965465216811, 0.9999461240831634, 0.9999742764157324, 0.9999699872367638, 0.9999405901155186, 0.9999552060956722, 0.9999566769128053, 0.9999609820837202, 0.99997041282052, 0.9999746742050895, 0.9999752154622233, 0.9999754619048604, 0.9996335691656276, 0.9994589562122126, 0.9999742880329917, 0.999975470222273, 0.9999753976599096, 0.9999735010840431, 0.9998964249928859, 1.0, 0.999944633742301, 0.9999611543643097, 0.9999391296262614, 0.9999391943695557, 0.9999257126423428, 0.9999493498796249, 0.9999520406951269, 0.9999673908272725, 0.9999702288344732, 0.9999318735903957, 0.9999315229438707, 0.9999625941538361, 0.9999275992127782, 0.9999425357326874, 0.999927788009835, 0.999964540837468, 0.9999748436033793, 0.9999394111974507, 0.9999505510046764, 0.9999709212489415, 0.9999502788771408, 0.999938458375146, 0.999964545973558, -0.004722464399224202, -0.0051640084461796925, -0.01581841563657216, 0.008577882033954095, -0.006068357428625641, -0.0031206755832323173, -0.007048899883823177, 0.9999449740041035, 0.999951995383686, 0.999960063837384, 0.999949414669792, -0.9986864796575876, -0.01530034746683869, 0.0033920528137617017], [0.00688769012305282, -0.0009267863758265623, 0.027805331149359947, 0.013685426985475584, 0.009239474953231904, -0.0009363425576442776, 0.00033274245282091094, 0.014374988231129574, 0.0025558546269696075, 0.9999672477651748, 0.9999480591566159, 0.999975587064475, 0.999971157023456, 0.9999423981914308, 0.9999567111731942, 0.9999584326397636, 0.9999626749972649, 0.999971746480123, 0.9999759782907502, 0.9999765325076913, 0.9999767792937858, 0.9996323008718234, 0.9994599404346427, 0.9999756351372463, 0.9999767874929056, 0.999976688028066, 0.999974831875948, 0.9998995791902822, 0.999944633742301, 1.0, 0.99996268301901, 0.9999410326904062, 0.9999412113142278, 0.999925969555901, 0.9999510622790267, 0.999953691043123, 0.9999687829002717, 0.9999718037634038, 0.9999338502022952, 0.9999327233341329, 0.9999635721789115, 0.9999302957023127, 0.9999446680391303, 0.999929664865815, 0.9999658926488313, 0.9999760932243604, 0.9999417583727392, 0.9999521356354014, 0.9999722940016301, 0.9999525830457678, 0.9999409435635392, 0.9999662235788904, -0.004756306409337945, -0.005170736385131303, -0.015902055843228752, 0.008796427698316366, -0.0058177513923996435, -0.003154002439203586, -0.007078490925828798, 0.9999466677110286, 0.9999535000479542, 0.9999609021274912, 0.9999508700867447, -0.9986877718137354, -0.015397266469415808, 0.0034010792503523647], [0.006848748409066296, -0.0009237730621302295, 0.027818562543434525, 0.013658281518652102, 0.009274539651950084, -0.0009324574514386042, 0.00034353487660246726, 0.014311745674672418, 0.002559680199474498, 0.9999791084484, 0.9999598233979919, 0.9999878195852328, 0.9999821492059959, 0.9999545615645264, 0.9999688109755869, 0.9999705516124182, 0.9999749728530338, 0.999983793073182, 0.9999882086670796, 0.9999887494780605, 0.9999889975564829, 0.999647261489834, 0.9994732214834602, 0.9999878286119136, 0.9999890047851424, 0.9999889183734441, 0.9999870624367386, 0.9999270550527117, 0.9999611543643097, 0.99996268301901, 1.0, 0.999958115932617, 0.9999521721743171, 0.9999397835242966, 0.9999627156167901, 0.9999652411755744, 0.9999808840064336, 0.9999837684775097, 0.9999446513089297, 0.9999442698552441, 0.9999754777789897, 0.9999415402501927, 0.9999564108238753, 0.9999414127027803, 0.9999778534599103, 0.9999883089660351, 0.9999527673771662, 0.9999638069283556, 0.9999843940485721, 0.999963456573099, 0.9999522736044135, 0.999978164303082, -0.004805909627636142, -0.005115327424587094, -0.015903847969971657, 0.008637666682910303, -0.005963009395923314, -0.0031400198098996556, -0.007016324090123292, 0.9999580856467396, 0.9999652900348253, 0.9999691406617288, 0.9999625249624016, -0.9986997788411445, -0.015379313222312709, 0.003424621667677598], [0.007000718840776395, -0.0011058590100179661, 0.027870312199337235, 0.013403887422390265, 0.009286074560619723, -0.0010962958006517217, 0.00033866850537547886, 0.014973988518343053, 0.002419377563061106, 0.9999642182620612, 0.9999453869880978, 0.9999717412520954, 0.9999676864294675, 0.999940494475154, 0.9999538779922421, 0.999956125536134, 0.9999599485076545, 0.9999682728876952, 0.9999721346049083, 0.9999726013498116, 0.9999728603057674, 0.9996182337784778, 0.9994586817270731, 0.9999718380429035, 0.9999728688664478, 0.9999727671880626, 0.9999709948989023, 0.9998900454083584, 0.9999391296262614, 0.9999410326904062, 0.999958115932617, 1.0, 0.9999395008420964, 0.9999195393168687, 0.999947543505832, 0.9999511433439763, 0.9999654023083105, 0.9999680771400847, 0.9999318125217471, 0.999930265187503, 0.9999591684097325, 0.999930899825507, 0.9999431033814223, 0.9999282325290206, 0.9999619103544957, 0.9999721180049786, 0.9999410933215309, 0.9999501589410688, 0.9999686777979357, 0.9999517647261928, 0.9999412432486752, 0.9999636889995748, -0.004865831793617447, -0.005116909525087673, -0.016275435246551617, 0.009103555676108188, -0.005417526338440161, -0.0031682802213735817, -0.007044831287741366, 0.9999445828487017, 0.999950628985241, 0.9999584443950371, 0.9999475870258155, -0.9986813446513365, -0.015876694575158858, 0.0036195236568768952], [0.006654528359151717, -0.001496992400879097, 0.02698634655052185, 0.013553289221267185, 0.01110967969513111, -0.0014961486741887037, 0.0002958526983829118, 0.013145326912677297, 0.00262975803714272, 0.9999546620278947, 0.9999492378297736, 0.9999596969473288, 0.9999656124134133, 0.9999344225027397, 0.9999461405081101, 0.999947197917504, 0.9999498557747164, 0.9999577995771743, 0.9999608975524664, 0.9999612643767941, 0.9999614024763044, 0.99954043083105, 0.9994325739375611, 0.9999600671701209, 0.999961410761517, 0.9999613561895971, 0.999960214289313, 0.9998989572763891, 0.9999391943695557, 0.9999412113142278, 0.9999521721743171, 0.9999395008420964, 1.0, 0.9998752102573165, 0.9999511218704955, 0.999951702772118, 0.9999575509128941, 0.9999588550608564, 0.99997535417449, 0.9999505983794708, 0.9999553742610305, 0.999960252535999, 0.9999499740548118, 0.9999191595727751, 0.9999527482818236, 0.9999608929155309, 0.9999299065739077, 0.9999421975602395, 0.9999582226200104, 0.9999396034099944, 0.9999337136604708, 0.9999540198851472, -0.00518509937498758, -0.005429176183045809, -0.015740242594360805, 0.008111068919439407, -0.006373714502327627, -0.003033206364731947, -0.006908306435035039, 0.9999888532450824, 0.9999439757025771, 0.9999469864326338, 0.9999435220447489, -0.9986713985949867, -0.014804557138360411, 0.003177325134655786], [0.007028461067741556, -0.00012229858440885785, 0.029077663512840718, 0.01407443850139539, 0.007067515472630659, -0.00017287569002244512, 0.0003687939323756302, 0.015097985085433648, 0.0025877376706532913, 0.9999386606475349, 0.9999041951667907, 0.9999520011038653, 0.9999390418331242, 0.9999104083494224, 0.9999272719307774, 0.999929595352846, 0.9999358278927898, 0.9999462554271136, 0.9999517937096621, 0.9999525823824031, 0.9999529435014097, 0.9996761090170334, 0.9994474289498023, 0.9999518464927815, 0.9999529502918362, 0.9999528122575456, 0.9999495582902153, 0.9999177303897168, 0.9999257126423428, 0.999925969555901, 0.9999397835242966, 0.9999195393168687, 0.9998752102573165, 1.0, 0.9998859177574303, 0.9998923020301081, 0.9999334553646904, 0.9999404065365864, 0.9998530968984369, 0.9998632526961829, 0.999926983651347, 0.9998632442135711, 0.9999061445447447, 0.999894890212579, 0.9999385447398418, 0.9999520211715749, 0.9999064056573906, 0.9999179256954509, 0.9999460092447687, 0.9999185741145641, 0.9998996427867067, 0.9999357939120443, -0.0042106965758018314, -0.004799896910990243, -0.016145167261225606, 0.008793986658916285, -0.006392922836229761, -0.0031229385520850496, -0.007248209862071341, 0.9998904989916219, 0.9999179124450212, 0.9999212844524233, 0.9999150482787085, -0.9986652344001139, -0.015843363110485932, 0.003617288376528764], [0.0067516063849487875, -0.0011254344784011245, 0.02752179008465694, 0.013622824253491489, 0.009764621397023889, -0.0011371547080905983, 0.0003169396787296208, 0.013876814264607108, 0.0025695943879982044, 0.9999639706381668, 0.9999495031311167, 0.9999716638150801, 0.9999678326329526, 0.9999402080625631, 0.9999538255464994, 0.9999552192469211, 0.9999593705170078, 0.9999681257682476, 0.9999722535091066, 0.9999727835733356, 0.9999730263520715, 0.9996134196670455, 0.9994540350688476, 0.9999717896100347, 0.9999730348952303, 0.9999729748442775, 0.9999711969376421, 0.9999184731465278, 0.9999493498796249, 0.9999510622790267, 0.9999627156167901, 0.999947543505832, 0.9999511218704955, 0.9998859177574303, 1.0, 0.999939145974882, 0.9999617513933224, 0.9999657358561989, 0.9999498847877372, 0.9999387849572494, 0.9999613421310991, 0.9999379125626214, 0.9999463076414539, 0.999926684055797, 0.9999626226830692, 0.9999723970237187, 0.9999374798454961, 0.9999494849153028, 0.999968821808275, 0.9999478511734938, 0.9999384468041967, 0.999963047974258, -0.004846845958469146, -0.00521621783059114, -0.015761627297341225, 0.008396601476711275, -0.00611921287103745, -0.0030907576491554364, -0.006976281452160875, 0.9999537234301192, 0.9999509365021664, 0.9999531642657415, 0.9999486504571523, -0.9986815073149468, -0.015143298617024969, 0.00333695665338853], [0.006769908521260463, -0.0012318601757530976, 0.027265333951801123, 0.013566368281719933, 0.010201992454910408, -0.0012145574500676919, 0.0003295649600475842, 0.013740444206223385, 0.0025548346163917915, 0.9999668412500872, 0.9999534936232312, 0.9999739956199223, 0.9999698529356509, 0.99994340793288, 0.9999570378202154, 0.9999583990549741, 0.9999623586603882, 0.9999706823159602, 0.9999745364508359, 0.9999750763280421, 0.9999753155636804, 0.9996128803603481, 0.9994552231223737, 0.9999740718297006, 0.9999753187177247, 0.999975235624957, 0.9999738940467436, 0.9999184606213496, 0.9999520406951269, 0.999953691043123, 0.9999652411755744, 0.9999511433439763, 0.999951702772118, 0.9998923020301081, 0.999939145974882, 1.0, 0.9999643268465626, 0.9999682069124438, 0.9999498279967703, 0.9999481049664334, 0.9999664133582349, 0.9999422261900458, 0.9999478970251481, 0.9999309205159322, 0.9999656534595942, 0.9999747320495872, 0.9999417505559247, 0.999953738995369, 0.9999715879479184, 0.9999514526026344, 0.9999438788160662, 0.9999667842531375, -0.004983701854446998, -0.005244593930280466, -0.015702658457965254, 0.008326922551765713, -0.006038469288327838, -0.0031081597201609444, -0.006944083675654315, 0.9999546918812963, 0.9999555211688274, 0.9999560294296945, 0.9999529360405158, -0.9986863310840454, -0.015010254445852793, 0.0032265158586946754], [0.006772138095369213, -0.001043019904937612, 0.027519439732109675, 0.013673002009772062, 0.009762512767367958, -0.001053442262096792, 0.0003439300842667279, 0.01391498035741627, 0.00255671539590137, 0.9999819379236266, 0.999964354696145, 0.9999903333292653, 0.9999844578528345, 0.9999580575129248, 0.9999722066009339, 0.9999735848801233, 0.9999777072872351, 0.9999865871143249, 0.9999907909254081, 0.9999912820137177, 0.9999915355350842, 0.9996443297574203, 0.9994732931464541, 0.9999903126624, 0.9999915425766461, 0.999991458600719, 0.9999898619322166, 0.9999392308294758, 0.9999673908272725, 0.9999687829002717, 0.9999808840064336, 0.9999654023083105, 0.9999575509128941, 0.9999334553646904, 0.9999617513933224, 0.9999643268465626, 1.0, 0.999985554046013, 0.9999517966842588, 0.9999543271105016, 0.9999809208033654, 0.9999467359874088, 0.9999587928120215, 0.9999446777369965, 0.9999811391120184, 0.9999908818549316, 0.9999555159945626, 0.9999676731149797, 0.9999873329268439, 0.9999657235478921, 0.9999560862396145, 0.9999814534569789, -0.004930855410333043, -0.005176576138376512, -0.01575268062474328, 0.008391340502595499, -0.0061159311430626995, -0.0031246893361844474, -0.006977313335306649, 0.9999628977291376, 0.9999693114452473, 0.9999697522463176, 0.9999673323736091, -0.9987022769823554, -0.015123783870711463, 0.0033212429294997127], [0.006779987561043861, -0.0010174375769457207, 0.02754259025061561, 0.013711504405231372, 0.009730247276098745, -0.0010295867526175968, 0.0003248482190192761, 0.013919941300883937, 0.002572171202017545, 0.9999847411166957, 0.9999664070489607, 0.9999933047613456, 0.9999871626543905, 0.9999612608494547, 0.9999754236151102, 0.999976869580223, 0.99998078702252, 0.9999897412047453, 0.9999937763333294, 0.9999942648007245, 0.9999944994853363, 0.9996504089904482, 0.9994764675152663, 0.9999932788967127, 0.9999945063237227, 0.9999944380551627, 0.9999927841642071, 0.9999426306076321, 0.9999702288344732, 0.9999718037634038, 0.9999837684775097, 0.9999680771400847, 0.9999588550608564, 0.9999404065365864, 0.9999657358561989, 0.9999682069124438, 0.999985554046013, 1.0, 0.9999524803185966, 0.9999554828378815, 0.9999841665319336, 0.9999474128602681, 0.9999605400449288, 0.999947228071532, 0.9999840162423612, 0.9999938573484358, 0.9999580566310581, 0.9999703001363823, 0.999990282935132, 0.9999682929900003, 0.9999586565316726, 0.9999843500771377, -0.0049309371851413665, -0.005158414464681849, -0.01575572455171409, 0.008399189680111597, -0.006118587113205676, -0.003126308110215643, -0.00696762116575707, 0.999964578993948, 0.9999719678661045, 0.999972444021326, 0.9999701785959053, -0.9987051957967471, -0.015117736209189927, 0.0033040169745994995], [0.0066117498378719785, -0.001730999462487618, 0.02658915230078708, 0.013526831336282576, 0.011527509803910626, -0.0017372062600765489, 0.0002713004311903278, 0.012848214892452178, 0.0025958535977853186, 0.9999480039544785, 0.9999444699356705, 0.9999521966709376, 0.9999562809935484, 0.9999294556624763, 0.9999402189217238, 0.9999413723439121, 0.9999432655842349, 0.9999510322302154, 0.9999535504006748, 0.9999538322174311, 0.9999539340415351, 0.9995274805329571, 0.9994253303050492, 0.9999525623699846, 0.9999539384851315, 0.9999539007594304, 0.9999530151633482, 0.9998914867379968, 0.9999318735903957, 0.9999338502022952, 0.9999446513089297, 0.9999318125217471, 0.99997535417449, 0.9998530968984369, 0.9999498847877372, 0.9999498279967703, 0.9999517966842588, 0.9999524803185966, 1.0, 0.9999512121727342, 0.9999502136228535, 0.9999456030531036, 0.9999349195990362, 0.9999141252542608, 0.9999462495687634, 0.9999535013207275, 0.9999244146672297, 0.9999371379959617, 0.999951373046966, 0.9999334312109851, 0.999929709180059, 0.9999478662117004, -0.005288435300419883, -0.00546800033822243, -0.015569518304069267, 0.008007942396916077, -0.006250544384321903, -0.003032074812159714, -0.006880924334002936, 0.9999735556284708, 0.9999383642886941, 0.9999392627874112, 0.9999384757272853, -0.9986636848387985, -0.014639909893641915, 0.003094353340947676], [0.006514187967906671, -0.0016803669295817442, 0.026304204412322132, 0.013427063994116986, 0.011885794900019078, -0.0017153716305964197, 0.00028923028276777704, 0.012382907495849508, 0.0026186461672160774, 0.999948851078241, 0.9999365912170222, 0.9999532815143418, 0.9999523288589589, 0.9999348332034227, 0.9999443746083077, 0.9999451203479467, 0.9999448851936521, 0.9999533531049574, 0.9999545599126044, 0.9999545660331977, 0.9999545074591923, 0.9995550908363344, 0.9994321795038451, 0.999953151217294, 0.999954513253041, 0.9999545087348551, 0.9999538453950044, 0.9998977606809872, 0.9999315229438707, 0.9999327233341329, 0.9999442698552441, 0.999930265187503, 0.9999505983794708, 0.9998632526961829, 0.9999387849572494, 0.9999481049664334, 0.9999543271105016, 0.9999554828378815, 0.9999512121727342, 1.0, 0.9999600207339979, 0.9999227847696444, 0.999923764610042, 0.9999137921483627, 0.9999471795757099, 0.9999540992134274, 0.9999225645426147, 0.9999369975381763, 0.9999519283305431, 0.9999308338020922, 0.9999272947521449, 0.9999478636104525, -0.005448219184626938, -0.0054038710352516655, -0.015266907857642719, 0.007690328812707748, -0.006475180036310895, -0.003041140217923183, -0.00691184611344168, 0.9999502891313725, 0.999938168466064, 0.9999366872734204, 0.9999445149466907, -0.9986634937592269, -0.014355975538059684, 0.0029861510859449675], [0.006702370740467392, -0.0011577108036103817, 0.027103103781366763, 0.013741709402775587, 0.010257509550998774, -0.0012023024794627821, 0.0003042234439444313, 0.013468177770948388, 0.002561839549491477, 0.9999774806961087, 0.9999585861526558, 0.9999853014641589, 0.9999798639873296, 0.9999576693402995, 0.999970486416802, 0.9999717806123924, 0.9999737321437625, 0.9999831673711541, 0.9999862988925252, 0.999986467828539, 0.9999864828413224, 0.999634679456872, 0.9994683266877542, 0.9999852298189753, 0.9999864902590754, 0.999986468652874, 0.9999851106626229, 0.9999356172256683, 0.9999625941538361, 0.9999635721789115, 0.9999754777789897, 0.9999591684097325, 0.9999553742610305, 0.999926983651347, 0.9999613421310991, 0.9999664133582349, 0.9999809208033654, 0.9999841665319336, 0.9999502136228535, 0.9999600207339979, 1.0, 0.9999371651080505, 0.9999512548765221, 0.9999403156110334, 0.9999766257183061, 0.999985911620381, 0.999950662213477, 0.9999634202429463, 0.9999825651251616, 0.9999605047156206, 0.9999516234733022, 0.9999767802498798, -0.0050594136926254705, -0.0052068617995855585, -0.01554154301902796, 0.008152583972819255, -0.006132079171842608, -0.0030974687622986282, -0.006978989315901948, 0.9999601415888274, 0.999964635500292, 0.9999647572897759, 0.9999656763574883, -0.9986973047870963, -0.014938643600408877, 0.0032429040055389404], [0.006777693651140062, -0.0013476431341620228, 0.027505879297123156, 0.01324892902460495, 0.010231514404270918, -0.0013101005333166443, 0.00031363277959909854, 0.01400938772206172, 0.0025642247678767547, 0.9999428458301508, 0.999936073052063, 0.9999483851261439, 0.9999498281822783, 0.9999179610678346, 0.9999315805348764, 0.9999323037185324, 0.9999370615648828, 0.9999446819544087, 0.9999491237512205, 0.9999497054289469, 0.9999500193761667, 0.9995569011091915, 0.9994259134769249, 0.9999487864511362, 0.9999500293190234, 0.9999499675736734, 0.9999487787696345, 0.9998837932960005, 0.9999275992127782, 0.9999302957023127, 0.9999415402501927, 0.999930899825507, 0.999960252535999, 0.9998632442135711, 0.9999379125626214, 0.9999422261900458, 0.9999467359874088, 0.9999474128602681, 0.9999456030531036, 0.9999227847696444, 0.9999371651080505, 1.0, 0.9999617532353244, 0.9999068001107939, 0.9999403360125299, 0.9999493952253264, 0.9999182605541518, 0.9999290257917705, 0.9999463238079388, 0.999928398557404, 0.9999204216587363, 0.999941838539236, -0.004925636249595607, -0.005309765488760874, -0.01588069433275814, 0.008519576353231131, -0.005945573661058552, -0.003069714075787724, -0.006942573857774218, 0.9999555635999405, 0.9999323038082086, 0.9999363005270189, 0.9999286600778436, -0.9986593287785802, -0.015178561464380302, 0.0033299620672138965], [0.006818742359451416, -0.001056641228836241, 0.02797843779235839, 0.013439738203213205, 0.009411383982201276, -0.0010362954735199795, 0.00032815273056768335, 0.014250060077660488, 0.0025878929886260275, 0.9999576556703107, 0.9999435935265198, 0.9999649583555235, 0.9999620989334557, 0.9999319121065883, 0.9999463230667502, 0.9999475186590929, 0.999952519222532, 0.9999608662875527, 0.999965513666035, 0.9999661446291654, 0.9999664540165017, 0.9996050334609308, 0.999447162606583, 0.9999652799756154, 0.9999664606458041, 0.9999663812064593, 0.9999646386904955, 0.9999095706027985, 0.9999425357326874, 0.9999446680391303, 0.9999564108238753, 0.9999431033814223, 0.9999499740548118, 0.9999061445447447, 0.9999463076414539, 0.9999478970251481, 0.9999587928120215, 0.9999605400449288, 0.9999349195990362, 0.999923764610042, 0.9999512548765221, 0.9999617532353244, 1.0, 0.9999189298417297, 0.999955640308433, 0.9999657425782613, 0.9999303024694383, 0.9999416385757511, 0.9999618661912159, 0.9999410763189372, 0.9999301717563589, 0.9999559232135898, -0.004708973976448491, -0.005166875988728046, -0.01593725857386418, 0.008640743910145653, -0.0061331502239394065, -0.003089836874212007, -0.007027097729761187, 0.9999513531222084, 0.9999441542866808, 0.9999475067188115, 0.9999415909551532, -0.9986776613612105, -0.015298275242281167, 0.0033929309493259566], [0.006573946504310695, -0.0010730687839314507, 0.026775442124793932, 0.013388320580021467, 0.009407312882527134, -0.0011090061079203329, 0.0003906620154350614, 0.01349100831545193, 0.0025062798749771117, 0.9999418844212039, 0.9999226447842359, 0.9999501953356996, 0.999944578495791, 0.9999190723198421, 0.9999324721735457, 0.9999349083441914, 0.9999380790938442, 0.9999471840008957, 0.9999507759692101, 0.9999511896782952, 0.9999513970085702, 0.9995980866847989, 0.9994339947850197, 0.9999501158145643, 0.9999514033319414, 0.9999513258916539, 0.9999498966473215, 0.9998939110772963, 0.999927788009835, 0.999929664865815, 0.9999414127027803, 0.9999282325290206, 0.9999191595727751, 0.999894890212579, 0.999926684055797, 0.9999309205159322, 0.9999446777369965, 0.999947228071532, 0.9999141252542608, 0.9999137921483627, 0.9999403156110334, 0.9999068001107939, 0.9999189298417297, 1.0, 0.9999500091171651, 0.999951285050432, 0.9999728512865763, 0.9999479004349132, 0.9999505145382785, 0.9999623280157642, 0.9999443522185392, 0.9999488556431874, -0.004776106507314623, -0.005120952855810389, -0.015004285609026157, 0.009198102180268293, -0.005179908668293827, -0.0032650225391089856, -0.007024255293631443, 0.9999244962313467, 0.9999301482387604, 0.9999310477562816, 0.9999289771323119, -0.99866359615826, -0.014521594630762472, 0.0030890038729295133], [0.006728665054840145, -0.000982548775660501, 0.027388322554262625, 0.013662707200947947, 0.00946187901673706, -0.001014592119235838, 0.00038117714721410794, 0.013782053859899796, 0.0025444439799147227, 0.9999790976565568, 0.9999592267643868, 0.999987726947114, 0.9999812380570477, 0.9999555514369054, 0.999969513533971, 0.9999714087976972, 0.9999751104265824, 0.9999842715287366, 0.9999882331506015, 0.9999886813039205, 0.9999889166896604, 0.999645674670047, 0.9994725281338913, 0.9999876456421929, 0.9999889213339801, 0.9999888400172444, 0.9999870340239136, 0.9999383872005038, 0.999964540837468, 0.9999658926488313, 0.9999778534599103, 0.9999619103544957, 0.9999527482818236, 0.9999385447398418, 0.9999626226830692, 0.9999656534595942, 0.9999811391120184, 0.9999840162423612, 0.9999462495687634, 0.9999471795757099, 0.9999766257183061, 0.9999403360125299, 0.999955640308433, 0.9999500091171651, 1.0, 0.9999895399467081, 0.9999571751602611, 0.9999832678229833, 0.9999903325592359, 0.9999656150026253, 0.9999683221747965, 0.9999872591114453, -0.004823086676551805, -0.0051232595605303416, -0.015667505786236016, 0.008405958560725884, -0.006066851110537676, -0.0031476701970899546, -0.00691629196881242, 0.9999590204515475, 0.9999653533455525, 0.9999658748866115, 0.9999644125087379, -0.9986996967193238, -0.014953110631824288, 0.0032600414444752895], [0.006806146323031051, -0.0009089992218366113, 0.027747110026722525, 0.013727737540675366, 0.00931586352990754, -0.0009245125274197134, 0.000338905777144843, 0.014076723367181965, 0.0025603076566120897, 0.9999890689978286, 0.9999694148371101, 0.9999980842254605, 0.9999915024523439, 0.999964661471775, 0.9999790911861307, 0.999980703965653, 0.9999850945791177, 0.9999941710215592, 0.9999984972402277, 0.9999990403943669, 0.9999992981696363, 0.9996609174043414, 0.9994831806424924, 0.9999980881606404, 0.9999993046890244, 0.9999992199879906, 0.9999973048025432, 0.9999491352251373, 0.9999748436033793, 0.9999760932243604, 0.9999883089660351, 0.9999721180049786, 0.9999608929155309, 0.9999520211715749, 0.9999723970237187, 0.9999747320495872, 0.9999908818549316, 0.9999938573484358, 0.9999535013207275, 0.9999540992134274, 0.999985911620381, 0.9999493952253264, 0.9999657425782613, 0.999951285050432, 0.9999895399467081, 1.0, 0.999962022323917, 0.9999748404232489, 0.9999960004300185, 0.9999724357403806, 0.9999622114503354, 0.9999894294837897, -0.004785048266132805, -0.005116326194327472, -0.01580957030115602, 0.008453445551388524, -0.006148707245129703, -0.0031168914448825584, -0.007009524391598129, 0.999967287175422, 0.9999749935848423, 0.9999763336446783, 0.9999728770390724, -0.9987099242064941, -0.01521719385744838, 0.003352967942833168], [0.006744319434073965, -0.0010543935329073216, 0.026976421756969373, 0.0134567066680819, 0.009232547692235984, -0.0010733416687207693, 0.00038371502237385225, 0.013980978386087282, 0.0023920462608652553, 0.9999526377909542, 0.9999336011987242, 0.9999611813248435, 0.9999562940701205, 0.9999290250200952, 0.9999427272641216, 0.9999453422816521, 0.9999489211990253, 0.9999577910996795, 0.9999616877661625, 0.9999621484710157, 0.9999623590136596, 0.9996109833669014, 0.9994453910769713, 0.9999611346704356, 0.9999623674287814, 0.9999622878903706, 0.9999607563415215, 0.9999007886528524, 0.9999394111974507, 0.9999417583727392, 0.9999527673771662, 0.9999410933215309, 0.9999299065739077, 0.9999064056573906, 0.9999374798454961, 0.9999417505559247, 0.9999555159945626, 0.9999580566310581, 0.9999244146672297, 0.9999225645426147, 0.999950662213477, 0.9999182605541518, 0.9999303024694383, 0.9999728512865763, 0.9999571751602611, 0.999962022323917, 1.0, 0.9999518162907054, 0.9999600926524655, 0.9999837061067717, 0.9999486512923781, 0.9999570475012052, -0.0047189330254896866, -0.005144877623286885, -0.015434421527282633, 0.008972837590498302, -0.005106517505998094, -0.003224742657098142, -0.006984584588153951, 0.999934951537279, 0.999941386002446, 0.9999444251774787, 0.9999389132433808, -0.998672379173978, -0.015002272314791178, 0.0032590579202159066], [0.006687272042087056, -0.0010597743775300672, 0.027027036000270496, 0.01367837943420376, 0.009646223113536316, -0.0010926011495722178, 0.00042233504181449515, 0.01361937550065328, 0.0024591357323134424, 0.9999651571483129, 0.999945555054923, 0.9999731671655425, 0.9999675157684317, 0.9999422686309968, 0.9999557497573652, 0.9999578685065614, 0.999961074645294, 0.999970118969359, 0.9999737290580385, 0.9999741576736098, 0.9999743436111737, 0.9996224782444457, 0.9994579313104128, 0.9999730341310482, 0.9999743494412607, 0.9999742755129456, 0.9999728607450893, 0.9999190775223494, 0.9999505510046764, 0.9999521356354014, 0.9999638069283556, 0.9999501589410688, 0.9999421975602395, 0.9999179256954509, 0.9999494849153028, 0.999953738995369, 0.9999676731149797, 0.9999703001363823, 0.9999371379959617, 0.9999369975381763, 0.9999634202429463, 0.9999290257917705, 0.9999416385757511, 0.9999479004349132, 0.9999832678229833, 0.9999748404232489, 0.9999518162907054, 1.0, 0.9999778060765191, 0.9999569718132728, 0.999981199006436, 0.9999805687958592, -0.004847496899470965, -0.005146325736923668, -0.015622139861821274, 0.00840589178481961, -0.005867237356572496, -0.003216733492340118, -0.006831855014814744, 0.9999478907318035, 0.9999528781105007, 0.9999533345770444, 0.9999522926742883, -0.9986853807200745, -0.014770948334538953, 0.003172425826862871], [0.00675434095547419, -0.000936840610668264, 0.02755230308443329, 0.01374020188117516, 0.009397547084025647, -0.0009558422441035051, 0.00035648861132666997, 0.013943356658284443, 0.002545139034732103, 0.9999853153275462, 0.9999655118306956, 0.9999941160627709, 0.9999877302152057, 0.9999613796986028, 0.999975458543771, 0.9999773192089085, 0.999981367762426, 0.9999904696429208, 0.9999945770929863, 0.9999950813083688, 0.9999953266301146, 0.9996543225404781, 0.9994790961098798, 0.999994095848654, 0.9999953334058894, 0.9999952503552787, 0.9999934399191728, 0.9999443566154667, 0.9999709212489415, 0.9999722940016301, 0.9999843940485721, 0.9999686777979357, 0.9999582226200104, 0.9999460092447687, 0.999968821808275, 0.9999715879479184, 0.9999873329268439, 0.999990282935132, 0.999951373046966, 0.9999519283305431, 0.9999825651251616, 0.9999463238079388, 0.9999618661912159, 0.9999505145382785, 0.9999903325592359, 0.9999960004300185, 0.9999600926524655, 0.9999778060765191, 1.0, 0.9999697782658322, 0.9999643227725867, 0.9999931396652456, -0.004810183236635053, -0.005135780995598243, -0.015763617956559114, 0.008449359714016464, -0.006086132732491767, -0.0031434436901780624, -0.006948375816122859, 0.9999644712284491, 0.9999715734977528, 0.9999727336311958, 0.9999699188778363, -0.9987060105898367, -0.015081762788118378, 0.003307557091250551], [0.0068285684537778574, -0.0010376200622564038, 0.02716462748854119, 0.013496872819057244, 0.009102378549851076, -0.0010424608915618422, 0.0003761035275960967, 0.014306555332426328, 0.0024631817962359063, 0.9999630071891329, 0.9999439812554076, 0.9999717167865555, 0.9999672149960528, 0.999938806496237, 0.9999528561051293, 0.9999553143153859, 0.9999591825380556, 0.9999680786193567, 0.9999721807235482, 0.9999726681639378, 0.9999728977868234, 0.9996243079470937, 0.9994560865182797, 0.9999716644289365, 0.9999729047645215, 0.999972830459431, 0.9999712211366741, 0.9999104224558013, 0.9999502788771408, 0.9999525830457678, 0.999963456573099, 0.9999517647261928, 0.9999396034099944, 0.9999185741145641, 0.9999478511734938, 0.9999514526026344, 0.9999657235478921, 0.9999682929900003, 0.9999334312109851, 0.9999308338020922, 0.9999605047156206, 0.999928398557404, 0.9999410763189372, 0.9999623280157642, 0.9999656150026253, 0.9999724357403806, 0.9999837061067717, 0.9999569718132728, 0.9999697782658322, 1.0, 0.9999512454297207, 0.9999655453824332, -0.004711845943428771, -0.005123274077661013, -0.015591038198940728, 0.008871338980638096, -0.0051242514109993914, -0.0032131447630266833, -0.006997815863183735, 0.9999445387808517, 0.9999513813201052, 0.999956015057883, 0.9999483753396594, -0.9986831333739273, -0.015307204508476585, 0.003398264716842489], [0.00667448745364061, -0.0011400619799941901, 0.026808854742130593, 0.013697022869529507, 0.009723706993101827, -0.001174107092010298, 0.0004256917532516592, 0.01374097671657709, 0.002424407392410645, 0.9999529492838242, 0.9999339727446936, 0.9999606961175473, 0.9999561243098624, 0.9999302674662598, 0.9999435213305052, 0.999945918036911, 0.9999488287242325, 0.9999578840710329, 0.9999612916600967, 0.9999616843409366, 0.9999618613350466, 0.9996022592945789, 0.9994454613420991, 0.999960611737325, 0.9999618685184, 0.9999617997471268, 0.9999605786327314, 0.9999003991718094, 0.999938458375146, 0.9999409435635392, 0.9999522736044135, 0.9999412432486752, 0.9999337136604708, 0.9998996427867067, 0.9999384468041967, 0.9999438788160662, 0.9999560862396145, 0.9999586565316726, 0.999929709180059, 0.9999272947521449, 0.9999516234733022, 0.9999204216587363, 0.9999301717563589, 0.9999443522185392, 0.9999683221747965, 0.9999622114503354, 0.9999486512923781, 0.999981199006436, 0.9999643227725867, 0.9999512454297207, 1.0, 0.999968397692964, -0.0048560720204062525, -0.0051731610223514435, -0.015752013383665723, 0.008378722370464588, -0.005575129913289247, -0.003274177676710741, -0.006779843027489728, 0.9999385158408736, 0.9999422157597576, 0.9999436282952157, 0.9999413294706817, -0.9986706012810757, -0.01486518697992341, 0.003246935841053737], [0.00671789934295136, -0.0009719664483265762, 0.027301201832586365, 0.013762335467669827, 0.00952190039258963, -0.0009961393776220257, 0.00037978260058591277, 0.013836084702586769, 0.002538289441856833, 0.9999791610409204, 0.9999594420879232, 0.9999875904036469, 0.9999816195693314, 0.9999556296852218, 0.999969427318735, 0.9999714622759817, 0.9999751603174012, 0.9999842174579137, 0.999988127680148, 0.9999885868934012, 0.9999888044890891, 0.9996436766854715, 0.9994721196501462, 0.9999875526560703, 0.9999888117321183, 0.9999887406593235, 0.9999871186484179, 0.999935414757169, 0.999964545973558, 0.9999662235788904, 0.999978164303082, 0.9999636889995748, 0.9999540198851472, 0.9999357939120443, 0.999963047974258, 0.9999667842531375, 0.9999814534569789, 0.9999843500771377, 0.9999478662117004, 0.9999478636104525, 0.9999767802498798, 0.999941838539236, 0.9999559232135898, 0.9999488556431874, 0.9999872591114453, 0.9999894294837897, 0.9999570475012052, 0.9999805687958592, 0.9999931396652456, 0.9999655453824332, 0.999968397692964, 1.0, -0.0048312482373927615, -0.005152101523564351, -0.015752806742706037, 0.008422416903582529, -0.005964953850059073, -0.0031977510764684973, -0.00686088066685083, 0.9999598557014103, 0.9999662673005206, 0.9999671584705172, 0.9999648979074306, -0.9986995888544035, -0.01496398442591431, 0.003262114845771712], [0.009490814345607218, 0.0328144655129483, 0.03783586762490678, 0.0024905869884954157, -0.39195044348751445, 0.03268756465318797, 0.00312372819536962, 0.04119215937234509, 0.0011768825965318961, -0.0048093755095778125, -0.004999673179726, -0.00476232977756258, -0.004875021792163137, -0.004883129049811564, -0.004952138617988871, -0.00500044782612197, -0.004829102601263357, -0.004891960193374098, -0.004807608019742069, -0.004787041083482721, -0.004781292365757063, -0.00435475093491768, -0.004665927187515041, -0.0047791934341355445, -0.004780670273309987, -0.004783006722973016, -0.004835049287972208, -0.004752100884523887, -0.004722464399224202, -0.004756306409337945, -0.004805909627636142, -0.004865831793617447, -0.00518509937498758, -0.0042106965758018314, -0.004846845958469146, -0.004983701854446998, -0.004930855410333043, -0.0049309371851413665, -0.005288435300419883, -0.005448219184626938, -0.0050594136926254705, -0.004925636249595607, -0.004708973976448491, -0.004776106507314623, -0.004823086676551805, -0.004785048266132805, -0.0047189330254896866, -0.004847496899470965, -0.004810183236635053, -0.004711845943428771, -0.0048560720204062525, -0.0048312482373927615, 1.0, 0.011075951788736743, 0.007157805936351042, 0.031213083814289576, 0.016811660042300013, 0.009554976495018271, -0.009328020813697699, -0.005166940478278273, -0.005006518474204802, -0.004748307505299986, -0.004802393069502937, 0.004754654894076364, -0.021093375250663904, 0.007370017053557631], [0.007133686719268341, 0.06997409109004384, 0.003738357668118404, -0.03256020858568346, -0.027753289374323743, 0.06418108569423922, 0.0021609228762581633, 0.011829423779790751, 0.004464710632158003, -0.00513698518468718, -0.005225865190467973, -0.005113237132447365, -0.00521079640717748, -0.005092464035813293, -0.005130533798300236, -0.0050643549386507, -0.005131370907215662, -0.005076319193873814, -0.005110482886736942, -0.005119029223451428, -0.005117579838664932, -0.004729615520259084, -0.005598199622164596, -0.005131619080262418, -0.005119247651243145, -0.0051205950045341096, -0.00513382648376245, -0.005028462241172638, -0.0051640084461796925, -0.005170736385131303, -0.005115327424587094, -0.005116909525087673, -0.005429176183045809, -0.004799896910990243, -0.00521621783059114, -0.005244593930280466, -0.005176576138376512, -0.005158414464681849, -0.00546800033822243, -0.0054038710352516655, -0.0052068617995855585, -0.005309765488760874, -0.005166875988728046, -0.005120952855810389, -0.0051232595605303416, -0.005116326194327472, -0.005144877623286885, -0.005146325736923668, -0.005135780995598243, -0.005123274077661013, -0.0051731610223514435, -0.005152101523564351, 0.011075951788736743, 1.0, 0.021453616615249867, 0.001176008102754272, 0.013500858524677714, 0.004805832148438063, -0.0005622186783224886, -0.005430807601956053, -0.005228205447537481, -0.005209442314508362, -0.005238786077090421, 0.005086026032086137, -0.009116436385871582, 0.001627745024461595], [-0.023350356592102595, 0.17759834134933572, -0.5806543646830195, -0.0809920713374947, 0.010143427742130113, 0.18160777007800075, 0.018988505074513624, -0.203938881415474, 0.030961921114911077, -0.015797607628443792, -0.015851664482584422, -0.015820511677049044, -0.01597505665480916, -0.015609570406717128, -0.01564021211564979, -0.015630950748449626, -0.015726349504058223, -0.015731838268451072, -0.01579443176662487, -0.01582097182658185, -0.015823327974557898, -0.016165561261337193, -0.01568603495524678, -0.015840512725738665, -0.015823732887181915, -0.01582002656345593, -0.015805122961324, -0.015218146053233612, -0.01581841563657216, -0.015902055843228752, -0.015903847969971657, -0.016275435246551617, -0.015740242594360805, -0.016145167261225606, -0.015761627297341225, -0.015702658457965254, -0.01575268062474328, -0.01575572455171409, -0.015569518304069267, -0.015266907857642719, -0.01554154301902796, -0.01588069433275814, -0.01593725857386418, -0.015004285609026157, -0.015667505786236016, -0.01580957030115602, -0.015434421527282633, -0.015622139861821274, -0.015763617956559114, -0.015591038198940728, -0.015752013383665723, -0.015752806742706037, 0.007157805936351042, 0.021453616615249867, 1.0, 0.1719530725138053, 0.5557551373964116, -0.013810288975816107, 0.037747299503829365, -0.015838028045612088, -0.015760801661315285, -0.016096953796163684, -0.015576607864273314, 0.016033945240326346, 0.08836617712332079, -0.03581329826760296], [-0.07590104606638319, 0.01248614216084884, -0.018060981512387705, -0.021191826207080718, -0.11876169180400448, 0.01103896843132256, 0.04708179931557159, -0.15743760466179535, 0.056560665832112174, 0.00838448877946857, 0.008357159314863971, 0.008464343613906957, 0.008578878936615127, 0.00823861390768461, 0.008248530691302979, 0.00834545381960855, 0.008425823812641838, 0.00839434893973503, 0.008445327770640743, 0.008455529117206807, 0.008461475744044588, 0.008695225597709641, 0.00859107963055563, 0.00848231711994339, 0.008462115089686296, 0.008461789309850547, 0.008456555492939525, 0.00719299383707076, 0.008577882033954095, 0.008796427698316366, 0.008637666682910303, 0.009103555676108188, 0.008111068919439407, 0.008793986658916285, 0.008396601476711275, 0.008326922551765713, 0.008391340502595499, 0.008399189680111597, 0.008007942396916077, 0.007690328812707748, 0.008152583972819255, 0.008519576353231131, 0.008640743910145653, 0.009198102180268293, 0.008405958560725884, 0.008453445551388524, 0.008972837590498302, 0.00840589178481961, 0.008449359714016464, 0.008871338980638096, 0.008378722370464588, 0.008422416903582529, 0.031213083814289576, 0.001176008102754272, 0.1719530725138053, 1.0, 0.18384671767419936, -0.05891900564773891, -0.058479092013167894, 0.008061287468959658, 0.008469495095425975, 0.009059909868514496, 0.00807808804177902, -0.008171852382251422, 0.2654133819430551, -0.12246299659832194], [-0.008537041076039639, 0.012334584091660317, -0.7669366462925281, -0.11531185742620272, -0.0803444790066679, -0.001217178164892112, 0.02942189813245368, -0.004917548493931893, -0.05854351664650549, -0.006224848536375863, -0.0061926526725840664, -0.006147049640774474, -0.006156843885937052, -0.006433823350088602, -0.006343522275654687, -0.00618947181623174, -0.006206463186373064, -0.006158265867460483, -0.0061442317246138845, -0.006156442673576606, -0.006156828784080586, -0.005453560104080029, -0.006356125230733515, -0.00613321241004816, -0.006157129123834316, -0.006155365567016757, -0.006136505298028023, -0.007517927055385959, -0.006068357428625641, -0.0058177513923996435, -0.005963009395923314, -0.005417526338440161, -0.006373714502327627, -0.006392922836229761, -0.00611921287103745, -0.006038469288327838, -0.0061159311430626995, -0.006118587113205676, -0.006250544384321903, -0.006475180036310895, -0.006132079171842608, -0.005945573661058552, -0.0061331502239394065, -0.005179908668293827, -0.006066851110537676, -0.006148707245129703, -0.005106517505998094, -0.005867237356572496, -0.006086132732491767, -0.0051242514109993914, -0.005575129913289247, -0.005964953850059073, 0.016811660042300013, 0.013500858524677714, 0.5557551373964116, 0.18384671767419936, 1.0, -0.053647054857549496, 0.02240449791571694, -0.006605659089583499, -0.005860774347540533, -0.0057058641417305446, -0.00645600847312453, 0.006208979035147131, 0.039133400553146167, -0.015437860528334598], [0.03136857283221028, 0.008062578959210179, 0.0629816112986164, -0.017802968262374434, -0.013223336699811846, 0.007335653933241664, -0.008646436632317647, 0.0650427429451447, -0.03772835344732951, -0.003095929231177895, -0.0030918566132755554, -0.00311598169264683, -0.0031062857534927234, -0.0030503854432764677, -0.0030725935878091575, -0.0030556005355962717, -0.0030881241653918515, -0.003096981653180112, -0.003109541023835431, -0.0031106513060384184, -0.003114236467034844, -0.0032877062825444727, -0.003138330155273084, -0.0031170187619840454, -0.003114483813819228, -0.0031156912955706537, -0.0031171519231482014, -0.0029898537295843177, -0.0031206755832323173, -0.003154002439203586, -0.0031400198098996556, -0.0031682802213735817, -0.003033206364731947, -0.0031229385520850496, -0.0030907576491554364, -0.0031081597201609444, -0.0031246893361844474, -0.003126308110215643, -0.003032074812159714, -0.003041140217923183, -0.0030974687622986282, -0.003069714075787724, -0.003089836874212007, -0.0032650225391089856, -0.0031476701970899546, -0.0031168914448825584, -0.003224742657098142, -0.003216733492340118, -0.0031434436901780624, -0.0032131447630266833, -0.003274177676710741, -0.0031977510764684973, 0.009554976495018271, 0.004805832148438063, -0.013810288975816107, -0.05891900564773891, -0.053647054857549496, 1.0, -0.042263458432715735, -0.003014396803410802, -0.003130904255508901, -0.003195834055962359, -0.0031319542759519195, 0.003267503525128704, -0.11325093953679327, 0.05109461134369206], [-0.01774399851785394, 0.003821100048598128, -0.1128365231397372, 0.013445161636613367, 0.026074796332389395, -0.0008175533660101454, -0.0011104532200598548, -0.029864799564925694, -0.014893880558084915, -0.006974258057040396, -0.006975510322498994, -0.007028758309047396, -0.007046509682187505, -0.007007189247316555, -0.007009766002913834, -0.007012885128147604, -0.007006085161498356, -0.007021184773147505, -0.007024917447010168, -0.007025538759469258, -0.007022999643851036, -0.007242604423555652, -0.007035837750638244, -0.007033416234547428, -0.0070230432368329114, -0.0070230704581443525, -0.007005673299570104, -0.006924961973075738, -0.007048899883823177, -0.007078490925828798, -0.007016324090123292, -0.007044831287741366, -0.006908306435035039, -0.007248209862071341, -0.006976281452160875, -0.006944083675654315, -0.006977313335306649, -0.00696762116575707, -0.006880924334002936, -0.00691184611344168, -0.006978989315901948, -0.006942573857774218, -0.007027097729761187, -0.007024255293631443, -0.00691629196881242, -0.007009524391598129, -0.006984584588153951, -0.006831855014814744, -0.006948375816122859, -0.006997815863183735, -0.006779843027489728, -0.00686088066685083, -0.009328020813697699, -0.0005622186783224886, 0.037747299503829365, -0.058479092013167894, 0.02240449791571694, -0.042263458432715735, 1.0, -0.006915112204989104, -0.006925144036049416, -0.00708860090138181, -0.006966561350671369, 0.006856163581539787, 0.03775561683716369, -0.012489030810894374], [0.0066753979591112995, -0.0015087999716297555, 0.027168346594907865, 0.013603276702962049, 0.011009300134510734, -0.0015086062705756667, 0.0002667117210979494, 0.013121979502811913, 0.002659611672947133, 0.9999605899603566, 0.9999525806398792, 0.9999661184290932, 0.9999714543775915, 0.9999407794503079, 0.9999524565362955, 0.9999536518606265, 0.9999563629318533, 0.9999642178773153, 0.9999672457799949, 0.9999676385966625, 0.9999677978272541, 0.9995460813166994, 0.9994396956526517, 0.9999664721460847, 0.9999678017071503, 0.9999677446567987, 0.9999664636283201, 0.9999086790576838, 0.9999449740041035, 0.9999466677110286, 0.9999580856467396, 0.9999445828487017, 0.9999888532450824, 0.9998904989916219, 0.9999537234301192, 0.9999546918812963, 0.9999628977291376, 0.999964578993948, 0.9999735556284708, 0.9999502891313725, 0.9999601415888274, 0.9999555635999405, 0.9999513531222084, 0.9999244962313467, 0.9999590204515475, 0.999967287175422, 0.999934951537279, 0.9999478907318035, 0.9999644712284491, 0.9999445387808517, 0.9999385158408736, 0.9999598557014103, -0.005166940478278273, -0.005430807601956053, -0.015838028045612088, 0.008061287468959658, -0.006605659089583499, -0.003014396803410802, -0.006915112204989104, 1.0, 0.999949172526226, 0.9999510158848052, 0.9999491745580521, -0.998677933910864, -0.014810220013640771, 0.0031658238155550717], [0.006800730943438505, -0.0012421785489399964, 0.02733172650407488, 0.013872140351632246, 0.010241207555421914, -0.001235782281902184, 0.00033589816178672866, 0.01396482262076358, 0.0025295801811250664, 0.9999673882998126, 0.9999491738882708, 0.999974390483787, 0.9999701507989303, 0.9999390934701391, 0.9999548126602879, 0.9999556752387949, 0.999960812715823, 0.9999699586470245, 0.9999747132562831, 0.9999753565932052, 0.9999756463539534, 0.9996298338506673, 0.9994591361142601, 0.9999745066519815, 0.9999756546562678, 0.9999756159703891, 0.999977135996124, 0.999920841222731, 0.999951995383686, 0.9999535000479542, 0.9999652900348253, 0.999950628985241, 0.9999439757025771, 0.9999179124450212, 0.9999509365021664, 0.9999555211688274, 0.9999693114452473, 0.9999719678661045, 0.9999383642886941, 0.999938168466064, 0.999964635500292, 0.9999323038082086, 0.9999441542866808, 0.9999301482387604, 0.9999653533455525, 0.9999749935848423, 0.999941386002446, 0.9999528781105007, 0.9999715734977528, 0.9999513813201052, 0.9999422157597576, 0.9999662673005206, -0.005006518474204802, -0.005228205447537481, -0.015760801661315285, 0.008469495095425975, -0.005860774347540533, -0.003130904255508901, -0.006925144036049416, 0.999949172526226, 1.0, 0.999955204624157, 0.9999518644971688, -0.9986866605408287, -0.015156900844086182, 0.0033065612581444984], [0.006928974854000931, -0.001012804468757347, 0.028022109858073154, 0.013683689808136041, 0.009223756804246402, -0.0009902659106412015, 0.00033081227405962617, 0.014643426403237127, 0.002514895281841613, 0.9999685572185407, 0.999949934696308, 0.9999759209263552, 0.9999833751376992, 0.9999437659378438, 0.9999577123060269, 0.9999593319771699, 0.9999633237422301, 0.9999722093592093, 0.999976325988324, 0.999976831330157, 0.9999770558708054, 0.9996172360492811, 0.9994606986653013, 0.9999759921493072, 0.9999770606405526, 0.9999769838507232, 0.9999753097738998, 0.9999007393783408, 0.999960063837384, 0.9999609021274912, 0.9999691406617288, 0.9999584443950371, 0.9999469864326338, 0.9999212844524233, 0.9999531642657415, 0.9999560294296945, 0.9999697522463176, 0.999972444021326, 0.9999392627874112, 0.9999366872734204, 0.9999647572897759, 0.9999363005270189, 0.9999475067188115, 0.9999310477562816, 0.9999658748866115, 0.9999763336446783, 0.9999444251774787, 0.9999533345770444, 0.9999727336311958, 0.999956015057883, 0.9999436282952157, 0.9999671584705172, -0.004748307505299986, -0.005209442314508362, -0.016096953796163684, 0.009059909868514496, -0.0057058641417305446, -0.003195834055962359, -0.00708860090138181, 0.9999510158848052, 0.999955204624157, 1.0, 0.9999523530979633, -0.9986873595707685, -0.015667609958773143, 0.0035001744186460527], [0.006698014965404351, -0.0011485330380607921, 0.02709428327701528, 0.01424724462059359, 0.010131696156234635, -0.0011375583291727074, 0.00031957109742735556, 0.013147325032037782, 0.0025972084312702744, 0.9999726538605088, 0.9999472346158746, 0.999972108824876, 0.9999680977946984, 0.9999433533206159, 0.9999563975317673, 0.9999581156465304, 0.9999606858269323, 0.9999698414804324, 0.9999728972892239, 0.9999731943067897, 0.9999733478203346, 0.9996099916382495, 0.9994621626678352, 0.9999719200413055, 0.9999733537484092, 0.9999734157641953, 0.9999719834739249, 0.999920354169996, 0.999949414669792, 0.9999508700867447, 0.9999625249624016, 0.9999475870258155, 0.9999435220447489, 0.9999150482787085, 0.9999486504571523, 0.9999529360405158, 0.9999673323736091, 0.9999701785959053, 0.9999384757272853, 0.9999445149466907, 0.9999656763574883, 0.9999286600778436, 0.9999415909551532, 0.9999289771323119, 0.9999644125087379, 0.9999728770390724, 0.9999389132433808, 0.9999522926742883, 0.9999699188778363, 0.9999483753396594, 0.9999413294706817, 0.9999648979074306, -0.004802393069502937, -0.005238786077090421, -0.015576607864273314, 0.00807808804177902, -0.00645600847312453, -0.0031319542759519195, -0.006966561350671369, 0.9999491745580521, 0.9999518644971688, 0.9999523530979633, 1.0, -0.9986844048338863, -0.014767010685366955, 0.0031265072356770353], [-0.006785867141062061, 0.001153428843927672, -0.027728635210746443, -0.013939486958202034, -0.009233525641148531, 0.0011670822802805367, -0.00034118761142183277, -0.013939119171269458, -0.002550380732034001, -0.9987005185629156, -0.9986786503632348, -0.9987093821036421, -0.9987027106784565, -0.9986764244301457, -0.9986906097418166, -0.9986921623335351, -0.9986965632073987, -0.9987054898875637, -0.9987097785881377, -0.9987103381912065, -0.9987106007040857, -0.9983768250602484, -0.9981941153075603, -0.9987094136317387, -0.9987080240559839, -0.9987105216237013, -0.9987086241273962, -0.9986618107568361, -0.9986864796575876, -0.9986877718137354, -0.9986997788411445, -0.9986813446513365, -0.9986713985949867, -0.9986652344001139, -0.9986815073149468, -0.9986863310840454, -0.9987022769823554, -0.9987051957967471, -0.9986636848387985, -0.9986634937592269, -0.9986973047870963, -0.9986593287785802, -0.9986776613612105, -0.99866359615826, -0.9986996967193238, -0.9987099242064941, -0.998672379173978, -0.9986853807200745, -0.9987060105898367, -0.9986831333739273, -0.9986706012810757, -0.9986995888544035, 0.004754654894076364, 0.005086026032086137, 0.016033945240326346, -0.008171852382251422, 0.006208979035147131, 0.003267503525128704, 0.006856163581539787, -0.998677933910864, -0.9986866605408287, -0.9986873595707685, -0.9986844048338863, 1.0, 0.015110021966168063, -0.0033063909941410843], [-0.29342653303776545, 0.001681209499505326, -0.22718190406096556, 0.01692343089706669, 0.09225122158656024, -0.01567028603845587, 0.02898172265688255, -0.7453959386068828, 0.11065553505714659, -0.015147694994466792, -0.015120018255772407, -0.015259507523003406, -0.01531777016163588, -0.014936573686594878, -0.015032702140078236, -0.015071910169516468, -0.015142357894371468, -0.015180676851503342, -0.015234205566456804, -0.015243225379655194, -0.01524777334320806, -0.016279216833928283, -0.01510696612525293, -0.01527471237264903, -0.01524821548161187, -0.015245552540396948, -0.015218367286392484, -0.014285163147627213, -0.01530034746683869, -0.015397266469415808, -0.015379313222312709, -0.015876694575158858, -0.014804557138360411, -0.015843363110485932, -0.015143298617024969, -0.015010254445852793, -0.015123783870711463, -0.015117736209189927, -0.014639909893641915, -0.014355975538059684, -0.014938643600408877, -0.015178561464380302, -0.015298275242281167, -0.014521594630762472, -0.014953110631824288, -0.01521719385744838, -0.015002272314791178, -0.014770948334538953, -0.015081762788118378, -0.015307204508476585, -0.01486518697992341, -0.01496398442591431, -0.021093375250663904, -0.009116436385871582, 0.08836617712332079, 0.2654133819430551, 0.039133400553146167, -0.11325093953679327, 0.03775561683716369, -0.014810220013640771, -0.015156900844086182, -0.015667609958773143, -0.014767010685366955, 0.015110021966168063, 1.0, -0.4452933578660184], [-0.6088394787880217, 0.0027947936431737277, 0.09368216361838673, -0.004309373706481058, -0.03519244805285494, 0.009023390928865376, -0.008087698397428695, 0.3324800113982114, -0.05304758161377076, 0.0033230398209629273, 0.003298065204034186, 0.0033616273878303974, 0.0033818406914819118, 0.0032054541922914266, 0.003252280471519562, 0.0032865133698229865, 0.0033100959238350843, 0.003332148392643745, 0.003351116420062793, 0.0033587874198313765, 0.0033616122399781822, 0.0037545514978881236, 0.003268896019357839, 0.0033675127791182287, 0.0033613587681738588, 0.003359517976671695, 0.0033431859966100903, 0.002968959293222437, 0.0033920528137617017, 0.0034010792503523647, 0.003424621667677598, 0.0036195236568768952, 0.003177325134655786, 0.003617288376528764, 0.00333695665338853, 0.0032265158586946754, 0.0033212429294997127, 0.0033040169745994995, 0.003094353340947676, 0.0029861510859449675, 0.0032429040055389404, 0.0033299620672138965, 0.0033929309493259566, 0.0030890038729295133, 0.0032600414444752895, 0.003352967942833168, 0.0032590579202159066, 0.003172425826862871, 0.003307557091250551, 0.003398264716842489, 0.003246935841053737, 0.003262114845771712, 0.007370017053557631, 0.001627745024461595, -0.03581329826760296, -0.12246299659832194, -0.015437860528334598, 0.05109461134369206, -0.012489030810894374, 0.0031658238155550717, 0.0033065612581444984, 0.0035001744186460527, 0.0031265072356770353, -0.0033063909941410843, -0.4452933578660184, 1.0]]}],\n",
       "                        {\"height\": 700, \"template\": {\"data\": {\"bar\": [{\"error_x\": {\"color\": \"#2a3f5f\"}, \"error_y\": {\"color\": \"#2a3f5f\"}, \"marker\": {\"line\": {\"color\": \"#E5ECF6\", \"width\": 0.5}}, \"type\": \"bar\"}], \"barpolar\": [{\"marker\": {\"line\": {\"color\": \"#E5ECF6\", \"width\": 0.5}}, \"type\": \"barpolar\"}], \"carpet\": [{\"aaxis\": {\"endlinecolor\": \"#2a3f5f\", \"gridcolor\": \"white\", \"linecolor\": \"white\", \"minorgridcolor\": \"white\", \"startlinecolor\": \"#2a3f5f\"}, \"baxis\": {\"endlinecolor\": \"#2a3f5f\", \"gridcolor\": \"white\", \"linecolor\": \"white\", \"minorgridcolor\": \"white\", \"startlinecolor\": \"#2a3f5f\"}, \"type\": \"carpet\"}], \"choropleth\": [{\"colorbar\": {\"outlinewidth\": 0, \"ticks\": \"\"}, \"type\": \"choropleth\"}], \"contour\": [{\"colorbar\": {\"outlinewidth\": 0, \"ticks\": \"\"}, \"colorscale\": [[0.0, \"#0d0887\"], [0.1111111111111111, \"#46039f\"], [0.2222222222222222, \"#7201a8\"], [0.3333333333333333, \"#9c179e\"], [0.4444444444444444, \"#bd3786\"], [0.5555555555555556, \"#d8576b\"], [0.6666666666666666, \"#ed7953\"], [0.7777777777777778, \"#fb9f3a\"], [0.8888888888888888, \"#fdca26\"], [1.0, \"#f0f921\"]], \"type\": \"contour\"}], \"contourcarpet\": [{\"colorbar\": {\"outlinewidth\": 0, \"ticks\": \"\"}, \"type\": \"contourcarpet\"}], \"heatmap\": [{\"colorbar\": {\"outlinewidth\": 0, \"ticks\": \"\"}, \"colorscale\": [[0.0, \"#0d0887\"], [0.1111111111111111, \"#46039f\"], [0.2222222222222222, \"#7201a8\"], [0.3333333333333333, \"#9c179e\"], [0.4444444444444444, \"#bd3786\"], [0.5555555555555556, \"#d8576b\"], [0.6666666666666666, \"#ed7953\"], [0.7777777777777778, \"#fb9f3a\"], [0.8888888888888888, \"#fdca26\"], [1.0, \"#f0f921\"]], \"type\": \"heatmap\"}], \"heatmapgl\": [{\"colorbar\": {\"outlinewidth\": 0, \"ticks\": \"\"}, \"colorscale\": [[0.0, \"#0d0887\"], [0.1111111111111111, \"#46039f\"], [0.2222222222222222, \"#7201a8\"], [0.3333333333333333, \"#9c179e\"], [0.4444444444444444, \"#bd3786\"], [0.5555555555555556, \"#d8576b\"], [0.6666666666666666, \"#ed7953\"], [0.7777777777777778, \"#fb9f3a\"], [0.8888888888888888, \"#fdca26\"], [1.0, \"#f0f921\"]], \"type\": \"heatmapgl\"}], \"histogram\": [{\"marker\": {\"colorbar\": {\"outlinewidth\": 0, \"ticks\": \"\"}}, \"type\": \"histogram\"}], \"histogram2d\": [{\"colorbar\": {\"outlinewidth\": 0, \"ticks\": \"\"}, \"colorscale\": [[0.0, \"#0d0887\"], [0.1111111111111111, \"#46039f\"], [0.2222222222222222, \"#7201a8\"], [0.3333333333333333, \"#9c179e\"], [0.4444444444444444, \"#bd3786\"], [0.5555555555555556, \"#d8576b\"], [0.6666666666666666, \"#ed7953\"], [0.7777777777777778, \"#fb9f3a\"], [0.8888888888888888, \"#fdca26\"], [1.0, \"#f0f921\"]], \"type\": \"histogram2d\"}], \"histogram2dcontour\": [{\"colorbar\": {\"outlinewidth\": 0, \"ticks\": \"\"}, \"colorscale\": [[0.0, \"#0d0887\"], [0.1111111111111111, \"#46039f\"], [0.2222222222222222, \"#7201a8\"], [0.3333333333333333, \"#9c179e\"], [0.4444444444444444, \"#bd3786\"], [0.5555555555555556, \"#d8576b\"], [0.6666666666666666, \"#ed7953\"], [0.7777777777777778, \"#fb9f3a\"], [0.8888888888888888, \"#fdca26\"], [1.0, \"#f0f921\"]], \"type\": \"histogram2dcontour\"}], \"mesh3d\": [{\"colorbar\": {\"outlinewidth\": 0, \"ticks\": \"\"}, \"type\": \"mesh3d\"}], \"parcoords\": [{\"line\": {\"colorbar\": {\"outlinewidth\": 0, \"ticks\": \"\"}}, \"type\": \"parcoords\"}], \"scatter\": [{\"marker\": {\"colorbar\": {\"outlinewidth\": 0, \"ticks\": \"\"}}, \"type\": \"scatter\"}], \"scatter3d\": [{\"line\": {\"colorbar\": {\"outlinewidth\": 0, \"ticks\": \"\"}}, \"marker\": {\"colorbar\": {\"outlinewidth\": 0, \"ticks\": \"\"}}, \"type\": \"scatter3d\"}], \"scattercarpet\": [{\"marker\": {\"colorbar\": {\"outlinewidth\": 0, \"ticks\": \"\"}}, \"type\": \"scattercarpet\"}], \"scattergeo\": [{\"marker\": {\"colorbar\": {\"outlinewidth\": 0, \"ticks\": \"\"}}, \"type\": \"scattergeo\"}], \"scattergl\": [{\"marker\": {\"colorbar\": {\"outlinewidth\": 0, \"ticks\": \"\"}}, \"type\": \"scattergl\"}], \"scattermapbox\": [{\"marker\": {\"colorbar\": {\"outlinewidth\": 0, \"ticks\": \"\"}}, \"type\": \"scattermapbox\"}], \"scatterpolar\": [{\"marker\": {\"colorbar\": {\"outlinewidth\": 0, \"ticks\": \"\"}}, \"type\": \"scatterpolar\"}], \"scatterpolargl\": [{\"marker\": {\"colorbar\": {\"outlinewidth\": 0, \"ticks\": \"\"}}, \"type\": \"scatterpolargl\"}], \"scatterternary\": [{\"marker\": {\"colorbar\": {\"outlinewidth\": 0, \"ticks\": \"\"}}, \"type\": \"scatterternary\"}], \"surface\": [{\"colorbar\": {\"outlinewidth\": 0, \"ticks\": \"\"}, \"colorscale\": [[0.0, \"#0d0887\"], [0.1111111111111111, \"#46039f\"], [0.2222222222222222, \"#7201a8\"], [0.3333333333333333, \"#9c179e\"], [0.4444444444444444, \"#bd3786\"], [0.5555555555555556, \"#d8576b\"], [0.6666666666666666, \"#ed7953\"], [0.7777777777777778, \"#fb9f3a\"], [0.8888888888888888, \"#fdca26\"], [1.0, \"#f0f921\"]], \"type\": \"surface\"}], \"table\": [{\"cells\": {\"fill\": {\"color\": \"#EBF0F8\"}, \"line\": {\"color\": \"white\"}}, \"header\": {\"fill\": {\"color\": \"#C8D4E3\"}, \"line\": {\"color\": \"white\"}}, \"type\": \"table\"}]}, \"layout\": {\"annotationdefaults\": {\"arrowcolor\": \"#2a3f5f\", \"arrowhead\": 0, \"arrowwidth\": 1}, \"colorscale\": {\"diverging\": [[0, \"#8e0152\"], [0.1, \"#c51b7d\"], [0.2, \"#de77ae\"], [0.3, \"#f1b6da\"], [0.4, \"#fde0ef\"], [0.5, \"#f7f7f7\"], [0.6, \"#e6f5d0\"], [0.7, \"#b8e186\"], [0.8, \"#7fbc41\"], [0.9, \"#4d9221\"], [1, \"#276419\"]], \"sequential\": [[0.0, \"#0d0887\"], [0.1111111111111111, \"#46039f\"], [0.2222222222222222, \"#7201a8\"], [0.3333333333333333, \"#9c179e\"], [0.4444444444444444, \"#bd3786\"], [0.5555555555555556, \"#d8576b\"], [0.6666666666666666, \"#ed7953\"], [0.7777777777777778, \"#fb9f3a\"], [0.8888888888888888, \"#fdca26\"], [1.0, \"#f0f921\"]], \"sequentialminus\": [[0.0, \"#0d0887\"], [0.1111111111111111, \"#46039f\"], [0.2222222222222222, \"#7201a8\"], [0.3333333333333333, \"#9c179e\"], [0.4444444444444444, \"#bd3786\"], [0.5555555555555556, \"#d8576b\"], [0.6666666666666666, \"#ed7953\"], [0.7777777777777778, \"#fb9f3a\"], [0.8888888888888888, \"#fdca26\"], [1.0, \"#f0f921\"]]}, \"colorway\": [\"#636efa\", \"#EF553B\", \"#00cc96\", \"#ab63fa\", \"#FFA15A\", \"#19d3f3\", \"#FF6692\", \"#B6E880\", \"#FF97FF\", \"#FECB52\"], \"font\": {\"color\": \"#2a3f5f\"}, \"geo\": {\"bgcolor\": \"white\", \"lakecolor\": \"white\", \"landcolor\": \"#E5ECF6\", \"showlakes\": true, \"showland\": true, \"subunitcolor\": \"white\"}, \"hoverlabel\": {\"align\": \"left\"}, \"hovermode\": \"closest\", \"mapbox\": {\"style\": \"light\"}, \"paper_bgcolor\": \"white\", \"plot_bgcolor\": \"#E5ECF6\", \"polar\": {\"angularaxis\": {\"gridcolor\": \"white\", \"linecolor\": \"white\", \"ticks\": \"\"}, \"bgcolor\": \"#E5ECF6\", \"radialaxis\": {\"gridcolor\": \"white\", \"linecolor\": \"white\", \"ticks\": \"\"}}, \"scene\": {\"xaxis\": {\"backgroundcolor\": \"#E5ECF6\", \"gridcolor\": \"white\", \"gridwidth\": 2, \"linecolor\": \"white\", \"showbackground\": true, \"ticks\": \"\", \"zerolinecolor\": \"white\"}, \"yaxis\": {\"backgroundcolor\": \"#E5ECF6\", \"gridcolor\": \"white\", \"gridwidth\": 2, \"linecolor\": \"white\", \"showbackground\": true, \"ticks\": \"\", \"zerolinecolor\": \"white\"}, \"zaxis\": {\"backgroundcolor\": \"#E5ECF6\", \"gridcolor\": \"white\", \"gridwidth\": 2, \"linecolor\": \"white\", \"showbackground\": true, \"ticks\": \"\", \"zerolinecolor\": \"white\"}}, \"shapedefaults\": {\"line\": {\"color\": \"#2a3f5f\"}}, \"ternary\": {\"aaxis\": {\"gridcolor\": \"white\", \"linecolor\": \"white\", \"ticks\": \"\"}, \"baxis\": {\"gridcolor\": \"white\", \"linecolor\": \"white\", \"ticks\": \"\"}, \"bgcolor\": \"#E5ECF6\", \"caxis\": {\"gridcolor\": \"white\", \"linecolor\": \"white\", \"ticks\": \"\"}}, \"title\": {\"x\": 0.05}, \"xaxis\": {\"automargin\": true, \"gridcolor\": \"white\", \"linecolor\": \"white\", \"ticks\": \"\", \"zerolinecolor\": \"white\", \"zerolinewidth\": 2}, \"yaxis\": {\"automargin\": true, \"gridcolor\": \"white\", \"linecolor\": \"white\", \"ticks\": \"\", \"zerolinecolor\": \"white\", \"zerolinewidth\": 2}}}, \"title\": {\"text\": \"Pearson Correlation of Integer-type features\"}, \"width\": 900, \"xaxis\": {\"nticks\": 36, \"ticks\": \"\"}, \"yaxis\": {\"ticks\": \"\"}},\n",
       "                        {\"responsive\": true}\n",
       "                    ).then(function(){\n",
       "                            \n",
       "var gd = document.getElementById('920a2fb2-e360-4ea2-bb2e-4a3b8f903263');\n",
       "var x = new MutationObserver(function (mutations, observer) {{\n",
       "        var display = window.getComputedStyle(gd).display;\n",
       "        if (!display || display === 'none') {{\n",
       "            console.log([gd, 'removed!']);\n",
       "            Plotly.purge(gd);\n",
       "            observer.disconnect();\n",
       "        }}\n",
       "}});\n",
       "\n",
       "// Listen for the removal of the full notebook cells\n",
       "var notebookContainer = gd.closest('#notebook-container');\n",
       "if (notebookContainer) {{\n",
       "    x.observe(notebookContainer, {childList: true});\n",
       "}}\n",
       "\n",
       "// Listen for the clearing of the current output cell\n",
       "var outputEl = gd.closest('.output');\n",
       "if (outputEl) {{\n",
       "    x.observe(outputEl, {childList: true});\n",
       "}}\n",
       "\n",
       "                        })\n",
       "                };\n",
       "                });\n",
       "            </script>\n",
       "        </div>"
      ]
     },
     "metadata": {},
     "output_type": "display_data"
    }
   ],
   "source": [
    "data = [\n",
    "    go.Heatmap(\n",
    "        z= train_int.corr().values,\n",
    "        x=train_int.columns.values,\n",
    "        y=train_int.columns.values,\n",
    "        colorscale='Viridis',\n",
    "        reversescale = False,\n",
    "        opacity = 1.0 )\n",
    "]\n",
    "\n",
    "layout = go.Layout(\n",
    "    title='Pearson Correlation of Integer-type features',\n",
    "    xaxis = dict(ticks='', nticks=36),\n",
    "    yaxis = dict(ticks='' ),\n",
    "    width = 900, height = 700)\n",
    "\n",
    "fig = go.Figure(data=data, layout=layout)\n",
    "py.iplot(fig, filename='labelled-heatmap')"
   ]
  },
  {
   "cell_type": "markdown",
   "metadata": {},
   "source": [
    "## 01 类别特征展示"
   ]
  },
  {
   "cell_type": "code",
   "execution_count": 66,
   "metadata": {},
   "outputs": [],
   "source": [
    "bin_col = ['5yearBadloan','isNew']\n",
    "zero_list = []\n",
    "one_list = []\n",
    "for col in bin_col:\n",
    "    zero_list.append((train[col]==0).sum())\n",
    "    one_list.append((train[col]==1).sum())"
   ]
  },
  {
   "cell_type": "code",
   "execution_count": 67,
   "metadata": {},
   "outputs": [
    {
     "data": {
      "application/vnd.plotly.v1+json": {
       "config": {
        "linkText": "Export to plot.ly",
        "plotlyServerURL": "https://plot.ly",
        "showLink": false
       },
       "data": [
        {
         "name": "Zero count",
         "type": "bar",
         "x": [
          "5yearBadloan",
          "isNew"
         ],
         "y": [
          131717,
          84196
         ]
        },
        {
         "name": "One count",
         "type": "bar",
         "x": [
          "5yearBadloan",
          "isNew"
         ],
         "y": [
          312,
          47833
         ]
        }
       ],
       "layout": {
        "barmode": "stack",
        "template": {
         "data": {
          "bar": [
           {
            "error_x": {
             "color": "#2a3f5f"
            },
            "error_y": {
             "color": "#2a3f5f"
            },
            "marker": {
             "line": {
              "color": "#E5ECF6",
              "width": 0.5
             }
            },
            "type": "bar"
           }
          ],
          "barpolar": [
           {
            "marker": {
             "line": {
              "color": "#E5ECF6",
              "width": 0.5
             }
            },
            "type": "barpolar"
           }
          ],
          "carpet": [
           {
            "aaxis": {
             "endlinecolor": "#2a3f5f",
             "gridcolor": "white",
             "linecolor": "white",
             "minorgridcolor": "white",
             "startlinecolor": "#2a3f5f"
            },
            "baxis": {
             "endlinecolor": "#2a3f5f",
             "gridcolor": "white",
             "linecolor": "white",
             "minorgridcolor": "white",
             "startlinecolor": "#2a3f5f"
            },
            "type": "carpet"
           }
          ],
          "choropleth": [
           {
            "colorbar": {
             "outlinewidth": 0,
             "ticks": ""
            },
            "type": "choropleth"
           }
          ],
          "contour": [
           {
            "colorbar": {
             "outlinewidth": 0,
             "ticks": ""
            },
            "colorscale": [
             [
              0,
              "#0d0887"
             ],
             [
              0.1111111111111111,
              "#46039f"
             ],
             [
              0.2222222222222222,
              "#7201a8"
             ],
             [
              0.3333333333333333,
              "#9c179e"
             ],
             [
              0.4444444444444444,
              "#bd3786"
             ],
             [
              0.5555555555555556,
              "#d8576b"
             ],
             [
              0.6666666666666666,
              "#ed7953"
             ],
             [
              0.7777777777777778,
              "#fb9f3a"
             ],
             [
              0.8888888888888888,
              "#fdca26"
             ],
             [
              1,
              "#f0f921"
             ]
            ],
            "type": "contour"
           }
          ],
          "contourcarpet": [
           {
            "colorbar": {
             "outlinewidth": 0,
             "ticks": ""
            },
            "type": "contourcarpet"
           }
          ],
          "heatmap": [
           {
            "colorbar": {
             "outlinewidth": 0,
             "ticks": ""
            },
            "colorscale": [
             [
              0,
              "#0d0887"
             ],
             [
              0.1111111111111111,
              "#46039f"
             ],
             [
              0.2222222222222222,
              "#7201a8"
             ],
             [
              0.3333333333333333,
              "#9c179e"
             ],
             [
              0.4444444444444444,
              "#bd3786"
             ],
             [
              0.5555555555555556,
              "#d8576b"
             ],
             [
              0.6666666666666666,
              "#ed7953"
             ],
             [
              0.7777777777777778,
              "#fb9f3a"
             ],
             [
              0.8888888888888888,
              "#fdca26"
             ],
             [
              1,
              "#f0f921"
             ]
            ],
            "type": "heatmap"
           }
          ],
          "heatmapgl": [
           {
            "colorbar": {
             "outlinewidth": 0,
             "ticks": ""
            },
            "colorscale": [
             [
              0,
              "#0d0887"
             ],
             [
              0.1111111111111111,
              "#46039f"
             ],
             [
              0.2222222222222222,
              "#7201a8"
             ],
             [
              0.3333333333333333,
              "#9c179e"
             ],
             [
              0.4444444444444444,
              "#bd3786"
             ],
             [
              0.5555555555555556,
              "#d8576b"
             ],
             [
              0.6666666666666666,
              "#ed7953"
             ],
             [
              0.7777777777777778,
              "#fb9f3a"
             ],
             [
              0.8888888888888888,
              "#fdca26"
             ],
             [
              1,
              "#f0f921"
             ]
            ],
            "type": "heatmapgl"
           }
          ],
          "histogram": [
           {
            "marker": {
             "colorbar": {
              "outlinewidth": 0,
              "ticks": ""
             }
            },
            "type": "histogram"
           }
          ],
          "histogram2d": [
           {
            "colorbar": {
             "outlinewidth": 0,
             "ticks": ""
            },
            "colorscale": [
             [
              0,
              "#0d0887"
             ],
             [
              0.1111111111111111,
              "#46039f"
             ],
             [
              0.2222222222222222,
              "#7201a8"
             ],
             [
              0.3333333333333333,
              "#9c179e"
             ],
             [
              0.4444444444444444,
              "#bd3786"
             ],
             [
              0.5555555555555556,
              "#d8576b"
             ],
             [
              0.6666666666666666,
              "#ed7953"
             ],
             [
              0.7777777777777778,
              "#fb9f3a"
             ],
             [
              0.8888888888888888,
              "#fdca26"
             ],
             [
              1,
              "#f0f921"
             ]
            ],
            "type": "histogram2d"
           }
          ],
          "histogram2dcontour": [
           {
            "colorbar": {
             "outlinewidth": 0,
             "ticks": ""
            },
            "colorscale": [
             [
              0,
              "#0d0887"
             ],
             [
              0.1111111111111111,
              "#46039f"
             ],
             [
              0.2222222222222222,
              "#7201a8"
             ],
             [
              0.3333333333333333,
              "#9c179e"
             ],
             [
              0.4444444444444444,
              "#bd3786"
             ],
             [
              0.5555555555555556,
              "#d8576b"
             ],
             [
              0.6666666666666666,
              "#ed7953"
             ],
             [
              0.7777777777777778,
              "#fb9f3a"
             ],
             [
              0.8888888888888888,
              "#fdca26"
             ],
             [
              1,
              "#f0f921"
             ]
            ],
            "type": "histogram2dcontour"
           }
          ],
          "mesh3d": [
           {
            "colorbar": {
             "outlinewidth": 0,
             "ticks": ""
            },
            "type": "mesh3d"
           }
          ],
          "parcoords": [
           {
            "line": {
             "colorbar": {
              "outlinewidth": 0,
              "ticks": ""
             }
            },
            "type": "parcoords"
           }
          ],
          "scatter": [
           {
            "marker": {
             "colorbar": {
              "outlinewidth": 0,
              "ticks": ""
             }
            },
            "type": "scatter"
           }
          ],
          "scatter3d": [
           {
            "line": {
             "colorbar": {
              "outlinewidth": 0,
              "ticks": ""
             }
            },
            "marker": {
             "colorbar": {
              "outlinewidth": 0,
              "ticks": ""
             }
            },
            "type": "scatter3d"
           }
          ],
          "scattercarpet": [
           {
            "marker": {
             "colorbar": {
              "outlinewidth": 0,
              "ticks": ""
             }
            },
            "type": "scattercarpet"
           }
          ],
          "scattergeo": [
           {
            "marker": {
             "colorbar": {
              "outlinewidth": 0,
              "ticks": ""
             }
            },
            "type": "scattergeo"
           }
          ],
          "scattergl": [
           {
            "marker": {
             "colorbar": {
              "outlinewidth": 0,
              "ticks": ""
             }
            },
            "type": "scattergl"
           }
          ],
          "scattermapbox": [
           {
            "marker": {
             "colorbar": {
              "outlinewidth": 0,
              "ticks": ""
             }
            },
            "type": "scattermapbox"
           }
          ],
          "scatterpolar": [
           {
            "marker": {
             "colorbar": {
              "outlinewidth": 0,
              "ticks": ""
             }
            },
            "type": "scatterpolar"
           }
          ],
          "scatterpolargl": [
           {
            "marker": {
             "colorbar": {
              "outlinewidth": 0,
              "ticks": ""
             }
            },
            "type": "scatterpolargl"
           }
          ],
          "scatterternary": [
           {
            "marker": {
             "colorbar": {
              "outlinewidth": 0,
              "ticks": ""
             }
            },
            "type": "scatterternary"
           }
          ],
          "surface": [
           {
            "colorbar": {
             "outlinewidth": 0,
             "ticks": ""
            },
            "colorscale": [
             [
              0,
              "#0d0887"
             ],
             [
              0.1111111111111111,
              "#46039f"
             ],
             [
              0.2222222222222222,
              "#7201a8"
             ],
             [
              0.3333333333333333,
              "#9c179e"
             ],
             [
              0.4444444444444444,
              "#bd3786"
             ],
             [
              0.5555555555555556,
              "#d8576b"
             ],
             [
              0.6666666666666666,
              "#ed7953"
             ],
             [
              0.7777777777777778,
              "#fb9f3a"
             ],
             [
              0.8888888888888888,
              "#fdca26"
             ],
             [
              1,
              "#f0f921"
             ]
            ],
            "type": "surface"
           }
          ],
          "table": [
           {
            "cells": {
             "fill": {
              "color": "#EBF0F8"
             },
             "line": {
              "color": "white"
             }
            },
            "header": {
             "fill": {
              "color": "#C8D4E3"
             },
             "line": {
              "color": "white"
             }
            },
            "type": "table"
           }
          ]
         },
         "layout": {
          "annotationdefaults": {
           "arrowcolor": "#2a3f5f",
           "arrowhead": 0,
           "arrowwidth": 1
          },
          "colorscale": {
           "diverging": [
            [
             0,
             "#8e0152"
            ],
            [
             0.1,
             "#c51b7d"
            ],
            [
             0.2,
             "#de77ae"
            ],
            [
             0.3,
             "#f1b6da"
            ],
            [
             0.4,
             "#fde0ef"
            ],
            [
             0.5,
             "#f7f7f7"
            ],
            [
             0.6,
             "#e6f5d0"
            ],
            [
             0.7,
             "#b8e186"
            ],
            [
             0.8,
             "#7fbc41"
            ],
            [
             0.9,
             "#4d9221"
            ],
            [
             1,
             "#276419"
            ]
           ],
           "sequential": [
            [
             0,
             "#0d0887"
            ],
            [
             0.1111111111111111,
             "#46039f"
            ],
            [
             0.2222222222222222,
             "#7201a8"
            ],
            [
             0.3333333333333333,
             "#9c179e"
            ],
            [
             0.4444444444444444,
             "#bd3786"
            ],
            [
             0.5555555555555556,
             "#d8576b"
            ],
            [
             0.6666666666666666,
             "#ed7953"
            ],
            [
             0.7777777777777778,
             "#fb9f3a"
            ],
            [
             0.8888888888888888,
             "#fdca26"
            ],
            [
             1,
             "#f0f921"
            ]
           ],
           "sequentialminus": [
            [
             0,
             "#0d0887"
            ],
            [
             0.1111111111111111,
             "#46039f"
            ],
            [
             0.2222222222222222,
             "#7201a8"
            ],
            [
             0.3333333333333333,
             "#9c179e"
            ],
            [
             0.4444444444444444,
             "#bd3786"
            ],
            [
             0.5555555555555556,
             "#d8576b"
            ],
            [
             0.6666666666666666,
             "#ed7953"
            ],
            [
             0.7777777777777778,
             "#fb9f3a"
            ],
            [
             0.8888888888888888,
             "#fdca26"
            ],
            [
             1,
             "#f0f921"
            ]
           ]
          },
          "colorway": [
           "#636efa",
           "#EF553B",
           "#00cc96",
           "#ab63fa",
           "#FFA15A",
           "#19d3f3",
           "#FF6692",
           "#B6E880",
           "#FF97FF",
           "#FECB52"
          ],
          "font": {
           "color": "#2a3f5f"
          },
          "geo": {
           "bgcolor": "white",
           "lakecolor": "white",
           "landcolor": "#E5ECF6",
           "showlakes": true,
           "showland": true,
           "subunitcolor": "white"
          },
          "hoverlabel": {
           "align": "left"
          },
          "hovermode": "closest",
          "mapbox": {
           "style": "light"
          },
          "paper_bgcolor": "white",
          "plot_bgcolor": "#E5ECF6",
          "polar": {
           "angularaxis": {
            "gridcolor": "white",
            "linecolor": "white",
            "ticks": ""
           },
           "bgcolor": "#E5ECF6",
           "radialaxis": {
            "gridcolor": "white",
            "linecolor": "white",
            "ticks": ""
           }
          },
          "scene": {
           "xaxis": {
            "backgroundcolor": "#E5ECF6",
            "gridcolor": "white",
            "gridwidth": 2,
            "linecolor": "white",
            "showbackground": true,
            "ticks": "",
            "zerolinecolor": "white"
           },
           "yaxis": {
            "backgroundcolor": "#E5ECF6",
            "gridcolor": "white",
            "gridwidth": 2,
            "linecolor": "white",
            "showbackground": true,
            "ticks": "",
            "zerolinecolor": "white"
           },
           "zaxis": {
            "backgroundcolor": "#E5ECF6",
            "gridcolor": "white",
            "gridwidth": 2,
            "linecolor": "white",
            "showbackground": true,
            "ticks": "",
            "zerolinecolor": "white"
           }
          },
          "shapedefaults": {
           "line": {
            "color": "#2a3f5f"
           }
          },
          "ternary": {
           "aaxis": {
            "gridcolor": "white",
            "linecolor": "white",
            "ticks": ""
           },
           "baxis": {
            "gridcolor": "white",
            "linecolor": "white",
            "ticks": ""
           },
           "bgcolor": "#E5ECF6",
           "caxis": {
            "gridcolor": "white",
            "linecolor": "white",
            "ticks": ""
           }
          },
          "title": {
           "x": 0.05
          },
          "xaxis": {
           "automargin": true,
           "gridcolor": "white",
           "linecolor": "white",
           "ticks": "",
           "zerolinecolor": "white",
           "zerolinewidth": 2
          },
          "yaxis": {
           "automargin": true,
           "gridcolor": "white",
           "linecolor": "white",
           "ticks": "",
           "zerolinecolor": "white",
           "zerolinewidth": 2
          }
         }
        },
        "title": {
         "text": "Count of 1 and 0 in binary variables"
        }
       }
      },
      "text/html": [
       "<div>\n",
       "        \n",
       "        \n",
       "            <div id=\"376831fb-8147-4de2-bc09-2d8aec37a7fa\" class=\"plotly-graph-div\" style=\"height:525px; width:100%;\"></div>\n",
       "            <script type=\"text/javascript\">\n",
       "                require([\"plotly\"], function(Plotly) {\n",
       "                    window.PLOTLYENV=window.PLOTLYENV || {};\n",
       "                    \n",
       "                if (document.getElementById(\"376831fb-8147-4de2-bc09-2d8aec37a7fa\")) {\n",
       "                    Plotly.newPlot(\n",
       "                        '376831fb-8147-4de2-bc09-2d8aec37a7fa',\n",
       "                        [{\"name\": \"Zero count\", \"type\": \"bar\", \"x\": [\"5yearBadloan\", \"isNew\"], \"y\": [131717, 84196]}, {\"name\": \"One count\", \"type\": \"bar\", \"x\": [\"5yearBadloan\", \"isNew\"], \"y\": [312, 47833]}],\n",
       "                        {\"barmode\": \"stack\", \"template\": {\"data\": {\"bar\": [{\"error_x\": {\"color\": \"#2a3f5f\"}, \"error_y\": {\"color\": \"#2a3f5f\"}, \"marker\": {\"line\": {\"color\": \"#E5ECF6\", \"width\": 0.5}}, \"type\": \"bar\"}], \"barpolar\": [{\"marker\": {\"line\": {\"color\": \"#E5ECF6\", \"width\": 0.5}}, \"type\": \"barpolar\"}], \"carpet\": [{\"aaxis\": {\"endlinecolor\": \"#2a3f5f\", \"gridcolor\": \"white\", \"linecolor\": \"white\", \"minorgridcolor\": \"white\", \"startlinecolor\": \"#2a3f5f\"}, \"baxis\": {\"endlinecolor\": \"#2a3f5f\", \"gridcolor\": \"white\", \"linecolor\": \"white\", \"minorgridcolor\": \"white\", \"startlinecolor\": \"#2a3f5f\"}, \"type\": \"carpet\"}], \"choropleth\": [{\"colorbar\": {\"outlinewidth\": 0, \"ticks\": \"\"}, \"type\": \"choropleth\"}], \"contour\": [{\"colorbar\": {\"outlinewidth\": 0, \"ticks\": \"\"}, \"colorscale\": [[0.0, \"#0d0887\"], [0.1111111111111111, \"#46039f\"], [0.2222222222222222, \"#7201a8\"], [0.3333333333333333, \"#9c179e\"], [0.4444444444444444, \"#bd3786\"], [0.5555555555555556, \"#d8576b\"], [0.6666666666666666, \"#ed7953\"], [0.7777777777777778, \"#fb9f3a\"], [0.8888888888888888, \"#fdca26\"], [1.0, \"#f0f921\"]], \"type\": \"contour\"}], \"contourcarpet\": [{\"colorbar\": {\"outlinewidth\": 0, \"ticks\": \"\"}, \"type\": \"contourcarpet\"}], \"heatmap\": [{\"colorbar\": {\"outlinewidth\": 0, \"ticks\": \"\"}, \"colorscale\": [[0.0, \"#0d0887\"], [0.1111111111111111, \"#46039f\"], [0.2222222222222222, \"#7201a8\"], [0.3333333333333333, \"#9c179e\"], [0.4444444444444444, \"#bd3786\"], [0.5555555555555556, \"#d8576b\"], [0.6666666666666666, \"#ed7953\"], [0.7777777777777778, \"#fb9f3a\"], [0.8888888888888888, \"#fdca26\"], [1.0, \"#f0f921\"]], \"type\": \"heatmap\"}], \"heatmapgl\": [{\"colorbar\": {\"outlinewidth\": 0, \"ticks\": \"\"}, \"colorscale\": [[0.0, \"#0d0887\"], [0.1111111111111111, \"#46039f\"], [0.2222222222222222, \"#7201a8\"], [0.3333333333333333, \"#9c179e\"], [0.4444444444444444, \"#bd3786\"], [0.5555555555555556, \"#d8576b\"], [0.6666666666666666, \"#ed7953\"], [0.7777777777777778, \"#fb9f3a\"], [0.8888888888888888, \"#fdca26\"], [1.0, \"#f0f921\"]], \"type\": \"heatmapgl\"}], \"histogram\": [{\"marker\": {\"colorbar\": {\"outlinewidth\": 0, \"ticks\": \"\"}}, \"type\": \"histogram\"}], \"histogram2d\": [{\"colorbar\": {\"outlinewidth\": 0, \"ticks\": \"\"}, \"colorscale\": [[0.0, \"#0d0887\"], [0.1111111111111111, \"#46039f\"], [0.2222222222222222, \"#7201a8\"], [0.3333333333333333, \"#9c179e\"], [0.4444444444444444, \"#bd3786\"], [0.5555555555555556, \"#d8576b\"], [0.6666666666666666, \"#ed7953\"], [0.7777777777777778, \"#fb9f3a\"], [0.8888888888888888, \"#fdca26\"], [1.0, \"#f0f921\"]], \"type\": \"histogram2d\"}], \"histogram2dcontour\": [{\"colorbar\": {\"outlinewidth\": 0, \"ticks\": \"\"}, \"colorscale\": [[0.0, \"#0d0887\"], [0.1111111111111111, \"#46039f\"], [0.2222222222222222, \"#7201a8\"], [0.3333333333333333, \"#9c179e\"], [0.4444444444444444, \"#bd3786\"], [0.5555555555555556, \"#d8576b\"], [0.6666666666666666, \"#ed7953\"], [0.7777777777777778, \"#fb9f3a\"], [0.8888888888888888, \"#fdca26\"], [1.0, \"#f0f921\"]], \"type\": \"histogram2dcontour\"}], \"mesh3d\": [{\"colorbar\": {\"outlinewidth\": 0, \"ticks\": \"\"}, \"type\": \"mesh3d\"}], \"parcoords\": [{\"line\": {\"colorbar\": {\"outlinewidth\": 0, \"ticks\": \"\"}}, \"type\": \"parcoords\"}], \"scatter\": [{\"marker\": {\"colorbar\": {\"outlinewidth\": 0, \"ticks\": \"\"}}, \"type\": \"scatter\"}], \"scatter3d\": [{\"line\": {\"colorbar\": {\"outlinewidth\": 0, \"ticks\": \"\"}}, \"marker\": {\"colorbar\": {\"outlinewidth\": 0, \"ticks\": \"\"}}, \"type\": \"scatter3d\"}], \"scattercarpet\": [{\"marker\": {\"colorbar\": {\"outlinewidth\": 0, \"ticks\": \"\"}}, \"type\": \"scattercarpet\"}], \"scattergeo\": [{\"marker\": {\"colorbar\": {\"outlinewidth\": 0, \"ticks\": \"\"}}, \"type\": \"scattergeo\"}], \"scattergl\": [{\"marker\": {\"colorbar\": {\"outlinewidth\": 0, \"ticks\": \"\"}}, \"type\": \"scattergl\"}], \"scattermapbox\": [{\"marker\": {\"colorbar\": {\"outlinewidth\": 0, \"ticks\": \"\"}}, \"type\": \"scattermapbox\"}], \"scatterpolar\": [{\"marker\": {\"colorbar\": {\"outlinewidth\": 0, \"ticks\": \"\"}}, \"type\": \"scatterpolar\"}], \"scatterpolargl\": [{\"marker\": {\"colorbar\": {\"outlinewidth\": 0, \"ticks\": \"\"}}, \"type\": \"scatterpolargl\"}], \"scatterternary\": [{\"marker\": {\"colorbar\": {\"outlinewidth\": 0, \"ticks\": \"\"}}, \"type\": \"scatterternary\"}], \"surface\": [{\"colorbar\": {\"outlinewidth\": 0, \"ticks\": \"\"}, \"colorscale\": [[0.0, \"#0d0887\"], [0.1111111111111111, \"#46039f\"], [0.2222222222222222, \"#7201a8\"], [0.3333333333333333, \"#9c179e\"], [0.4444444444444444, \"#bd3786\"], [0.5555555555555556, \"#d8576b\"], [0.6666666666666666, \"#ed7953\"], [0.7777777777777778, \"#fb9f3a\"], [0.8888888888888888, \"#fdca26\"], [1.0, \"#f0f921\"]], \"type\": \"surface\"}], \"table\": [{\"cells\": {\"fill\": {\"color\": \"#EBF0F8\"}, \"line\": {\"color\": \"white\"}}, \"header\": {\"fill\": {\"color\": \"#C8D4E3\"}, \"line\": {\"color\": \"white\"}}, \"type\": \"table\"}]}, \"layout\": {\"annotationdefaults\": {\"arrowcolor\": \"#2a3f5f\", \"arrowhead\": 0, \"arrowwidth\": 1}, \"colorscale\": {\"diverging\": [[0, \"#8e0152\"], [0.1, \"#c51b7d\"], [0.2, \"#de77ae\"], [0.3, \"#f1b6da\"], [0.4, \"#fde0ef\"], [0.5, \"#f7f7f7\"], [0.6, \"#e6f5d0\"], [0.7, \"#b8e186\"], [0.8, \"#7fbc41\"], [0.9, \"#4d9221\"], [1, \"#276419\"]], \"sequential\": [[0.0, \"#0d0887\"], [0.1111111111111111, \"#46039f\"], [0.2222222222222222, \"#7201a8\"], [0.3333333333333333, \"#9c179e\"], [0.4444444444444444, \"#bd3786\"], [0.5555555555555556, \"#d8576b\"], [0.6666666666666666, \"#ed7953\"], [0.7777777777777778, \"#fb9f3a\"], [0.8888888888888888, \"#fdca26\"], [1.0, \"#f0f921\"]], \"sequentialminus\": [[0.0, \"#0d0887\"], [0.1111111111111111, \"#46039f\"], [0.2222222222222222, \"#7201a8\"], [0.3333333333333333, \"#9c179e\"], [0.4444444444444444, \"#bd3786\"], [0.5555555555555556, \"#d8576b\"], [0.6666666666666666, \"#ed7953\"], [0.7777777777777778, \"#fb9f3a\"], [0.8888888888888888, \"#fdca26\"], [1.0, \"#f0f921\"]]}, \"colorway\": [\"#636efa\", \"#EF553B\", \"#00cc96\", \"#ab63fa\", \"#FFA15A\", \"#19d3f3\", \"#FF6692\", \"#B6E880\", \"#FF97FF\", \"#FECB52\"], \"font\": {\"color\": \"#2a3f5f\"}, \"geo\": {\"bgcolor\": \"white\", \"lakecolor\": \"white\", \"landcolor\": \"#E5ECF6\", \"showlakes\": true, \"showland\": true, \"subunitcolor\": \"white\"}, \"hoverlabel\": {\"align\": \"left\"}, \"hovermode\": \"closest\", \"mapbox\": {\"style\": \"light\"}, \"paper_bgcolor\": \"white\", \"plot_bgcolor\": \"#E5ECF6\", \"polar\": {\"angularaxis\": {\"gridcolor\": \"white\", \"linecolor\": \"white\", \"ticks\": \"\"}, \"bgcolor\": \"#E5ECF6\", \"radialaxis\": {\"gridcolor\": \"white\", \"linecolor\": \"white\", \"ticks\": \"\"}}, \"scene\": {\"xaxis\": {\"backgroundcolor\": \"#E5ECF6\", \"gridcolor\": \"white\", \"gridwidth\": 2, \"linecolor\": \"white\", \"showbackground\": true, \"ticks\": \"\", \"zerolinecolor\": \"white\"}, \"yaxis\": {\"backgroundcolor\": \"#E5ECF6\", \"gridcolor\": \"white\", \"gridwidth\": 2, \"linecolor\": \"white\", \"showbackground\": true, \"ticks\": \"\", \"zerolinecolor\": \"white\"}, \"zaxis\": {\"backgroundcolor\": \"#E5ECF6\", \"gridcolor\": \"white\", \"gridwidth\": 2, \"linecolor\": \"white\", \"showbackground\": true, \"ticks\": \"\", \"zerolinecolor\": \"white\"}}, \"shapedefaults\": {\"line\": {\"color\": \"#2a3f5f\"}}, \"ternary\": {\"aaxis\": {\"gridcolor\": \"white\", \"linecolor\": \"white\", \"ticks\": \"\"}, \"baxis\": {\"gridcolor\": \"white\", \"linecolor\": \"white\", \"ticks\": \"\"}, \"bgcolor\": \"#E5ECF6\", \"caxis\": {\"gridcolor\": \"white\", \"linecolor\": \"white\", \"ticks\": \"\"}}, \"title\": {\"x\": 0.05}, \"xaxis\": {\"automargin\": true, \"gridcolor\": \"white\", \"linecolor\": \"white\", \"ticks\": \"\", \"zerolinecolor\": \"white\", \"zerolinewidth\": 2}, \"yaxis\": {\"automargin\": true, \"gridcolor\": \"white\", \"linecolor\": \"white\", \"ticks\": \"\", \"zerolinecolor\": \"white\", \"zerolinewidth\": 2}}}, \"title\": {\"text\": \"Count of 1 and 0 in binary variables\"}},\n",
       "                        {\"responsive\": true}\n",
       "                    ).then(function(){\n",
       "                            \n",
       "var gd = document.getElementById('376831fb-8147-4de2-bc09-2d8aec37a7fa');\n",
       "var x = new MutationObserver(function (mutations, observer) {{\n",
       "        var display = window.getComputedStyle(gd).display;\n",
       "        if (!display || display === 'none') {{\n",
       "            console.log([gd, 'removed!']);\n",
       "            Plotly.purge(gd);\n",
       "            observer.disconnect();\n",
       "        }}\n",
       "}});\n",
       "\n",
       "// Listen for the removal of the full notebook cells\n",
       "var notebookContainer = gd.closest('#notebook-container');\n",
       "if (notebookContainer) {{\n",
       "    x.observe(notebookContainer, {childList: true});\n",
       "}}\n",
       "\n",
       "// Listen for the clearing of the current output cell\n",
       "var outputEl = gd.closest('.output');\n",
       "if (outputEl) {{\n",
       "    x.observe(outputEl, {childList: true});\n",
       "}}\n",
       "\n",
       "                        })\n",
       "                };\n",
       "                });\n",
       "            </script>\n",
       "        </div>"
      ]
     },
     "metadata": {},
     "output_type": "display_data"
    }
   ],
   "source": [
    "trace1 = go.Bar(\n",
    "    x=bin_col,\n",
    "    y=zero_list ,\n",
    "    name='Zero count'\n",
    ")\n",
    "trace2 = go.Bar(\n",
    "    x=bin_col,\n",
    "    y=one_list,\n",
    "    name='One count'\n",
    ")\n",
    "\n",
    "data = [trace1, trace2]\n",
    "layout = go.Layout(\n",
    "    barmode='stack',\n",
    "    title='Count of 1 and 0 in binary variables'\n",
    ")\n",
    "\n",
    "fig = go.Figure(data=data, layout=layout)\n",
    "py.iplot(fig, filename='stacked-bar')\n"
   ]
  },
  {
   "cell_type": "markdown",
   "metadata": {},
   "source": [
    "## 特征重要性展示"
   ]
  },
  {
   "cell_type": "code",
   "execution_count": 70,
   "metadata": {},
   "outputs": [
    {
     "name": "stdout",
     "output_type": "stream",
     "text": [
      "----- Training Done -----\n"
     ]
    }
   ],
   "source": [
    "from sklearn.ensemble import GradientBoostingClassifier\n",
    "gb = GradientBoostingClassifier(n_estimators=100, max_depth=3, min_samples_leaf=4, max_features=0.2, random_state=0)\n",
    "gb.fit(train.drop(['id', 'target'],axis=1), train.target)\n",
    "features = train.drop(['id', 'target'],axis=1).columns.values\n",
    "print(\"----- Training Done -----\")"
   ]
  },
  {
   "cell_type": "code",
   "execution_count": 72,
   "metadata": {},
   "outputs": [
    {
     "data": {
      "application/vnd.plotly.v1+json": {
       "config": {
        "linkText": "Export to plot.ly",
        "plotlyServerURL": "https://plot.ly",
        "showLink": false
       },
       "data": [
        {
         "marker": {
          "color": [
           0.05406476902287457,
           0.045836268933869224,
           0.014565364740369374,
           0.015794618950009446,
           0.024996500113075262,
           0.009231043307624701,
           0.044034973264021754,
           0.13015740882072616,
           0.028735713989353314,
           0,
           0,
           0,
           0,
           0,
           0,
           0,
           0,
           0,
           0,
           0.0006783908731162962,
           0.0005449023998911399,
           0.001758550880694823,
           0,
           0.001690893594065898,
           0,
           0.000929425758772277,
           0,
           0,
           0.0006667669349913814,
           0.01767149820905255,
           0,
           0,
           0,
           0,
           0.0005708374113812307,
           0,
           0.0031256329355650587,
           0,
           0.003188005409861909,
           0,
           0,
           0.001682669682622127,
           0.013261133995231308,
           0.0038357935095783826,
           0.0004621938131220822,
           0,
           0,
           0,
           0,
           0,
           0.0005961299057757744,
           0,
           0.0007397516181712234,
           0.0017117183758245317,
           0.025203885154398142,
           0.02187138074425022,
           0.0028628036531949774,
           0.0005717333807810097,
           0,
           0.0023196387235242116,
           0.00021590585856386222,
           0.001813746971428645,
           0.0024658684596555757,
           0.0012789465624127377,
           0.0041868007240996605,
           0.0024872993665539765,
           0,
           0,
           0,
           0,
           0,
           0.001304319339614589,
           0.0029903483722149857,
           0.0005669466275855191,
           0,
           0.0023431637344858147,
           0.005049854555665945,
           0.01981271221298264,
           0.005123688086521788,
           0,
           0,
           0.014384122242547958,
           7.49091692551474e-05,
           0.0030686140206953277,
           0.0036159956126722804,
           0.012953949442373394,
           0,
           0,
           0.06732711460573933,
           0.045445428635282885,
           0.06376459631533024,
           0.018991549265057747,
           0.05385594452352201,
           0.0034229426504050245,
           0.032809990232101786,
           0.03534643245297138,
           0.015348618352365609,
           0.00463249545056991,
           0.004117050792516399,
           0.08733524153918089,
           0.004783102962375429,
           0,
           0.0057219027574611885
          ],
          "colorscale": [
           [
            0,
            "rgb(12,51,131)"
           ],
           [
            0.25,
            "rgb(10,136,186)"
           ],
           [
            0.5,
            "rgb(242,211,56)"
           ],
           [
            0.75,
            "rgb(242,143,56)"
           ],
           [
            1,
            "rgb(217,30,30)"
           ]
          ],
          "showscale": true,
          "size": 13,
          "sizemode": "diameter",
          "sizeref": 1
         },
         "mode": "markers",
         "text": [
          "certId",
          "loanProduct",
          "gender",
          "age",
          "dist",
          "edu",
          "job",
          "lmt",
          "basicLevel",
          "x_0",
          "x_1",
          "x_2",
          "x_3",
          "x_4",
          "x_5",
          "x_6",
          "x_7",
          "x_8",
          "x_9",
          "x_10",
          "x_11",
          "x_12",
          "x_13",
          "x_14",
          "x_15",
          "x_16",
          "x_17",
          "x_18",
          "x_19",
          "x_20",
          "x_21",
          "x_22",
          "x_23",
          "x_24",
          "x_25",
          "x_26",
          "x_27",
          "x_28",
          "x_29",
          "x_30",
          "x_31",
          "x_32",
          "x_33",
          "x_34",
          "x_35",
          "x_36",
          "x_37",
          "x_38",
          "x_39",
          "x_40",
          "x_41",
          "x_42",
          "x_43",
          "x_44",
          "x_45",
          "x_46",
          "x_47",
          "x_48",
          "x_49",
          "x_50",
          "x_51",
          "x_52",
          "x_53",
          "x_54",
          "x_55",
          "x_56",
          "x_57",
          "x_58",
          "x_59",
          "x_60",
          "x_61",
          "x_62",
          "x_63",
          "x_64",
          "x_65",
          "x_66",
          "x_67",
          "x_68",
          "x_69",
          "x_70",
          "x_71",
          "x_72",
          "x_73",
          "x_74",
          "x_75",
          "x_76",
          "x_77",
          "x_78",
          "certValidBegin",
          "certValidStop",
          "bankCard",
          "ethnic",
          "residentAddr",
          "highestEdu",
          "linkRela",
          "setupHour",
          "weekday",
          "ncloseCreditCard",
          "unpayIndvLoan",
          "unpayOtherLoan",
          "unpayNormalLoan",
          "5yearBadloan",
          "isNew"
         ],
         "type": "scatter",
         "x": [
          "certId",
          "loanProduct",
          "gender",
          "age",
          "dist",
          "edu",
          "job",
          "lmt",
          "basicLevel",
          "x_0",
          "x_1",
          "x_2",
          "x_3",
          "x_4",
          "x_5",
          "x_6",
          "x_7",
          "x_8",
          "x_9",
          "x_10",
          "x_11",
          "x_12",
          "x_13",
          "x_14",
          "x_15",
          "x_16",
          "x_17",
          "x_18",
          "x_19",
          "x_20",
          "x_21",
          "x_22",
          "x_23",
          "x_24",
          "x_25",
          "x_26",
          "x_27",
          "x_28",
          "x_29",
          "x_30",
          "x_31",
          "x_32",
          "x_33",
          "x_34",
          "x_35",
          "x_36",
          "x_37",
          "x_38",
          "x_39",
          "x_40",
          "x_41",
          "x_42",
          "x_43",
          "x_44",
          "x_45",
          "x_46",
          "x_47",
          "x_48",
          "x_49",
          "x_50",
          "x_51",
          "x_52",
          "x_53",
          "x_54",
          "x_55",
          "x_56",
          "x_57",
          "x_58",
          "x_59",
          "x_60",
          "x_61",
          "x_62",
          "x_63",
          "x_64",
          "x_65",
          "x_66",
          "x_67",
          "x_68",
          "x_69",
          "x_70",
          "x_71",
          "x_72",
          "x_73",
          "x_74",
          "x_75",
          "x_76",
          "x_77",
          "x_78",
          "certValidBegin",
          "certValidStop",
          "bankCard",
          "ethnic",
          "residentAddr",
          "highestEdu",
          "linkRela",
          "setupHour",
          "weekday",
          "ncloseCreditCard",
          "unpayIndvLoan",
          "unpayOtherLoan",
          "unpayNormalLoan",
          "5yearBadloan",
          "isNew"
         ],
         "y": [
          0.05406476902287457,
          0.045836268933869224,
          0.014565364740369374,
          0.015794618950009446,
          0.024996500113075262,
          0.009231043307624701,
          0.044034973264021754,
          0.13015740882072616,
          0.028735713989353314,
          0,
          0,
          0,
          0,
          0,
          0,
          0,
          0,
          0,
          0,
          0.0006783908731162962,
          0.0005449023998911399,
          0.001758550880694823,
          0,
          0.001690893594065898,
          0,
          0.000929425758772277,
          0,
          0,
          0.0006667669349913814,
          0.01767149820905255,
          0,
          0,
          0,
          0,
          0.0005708374113812307,
          0,
          0.0031256329355650587,
          0,
          0.003188005409861909,
          0,
          0,
          0.001682669682622127,
          0.013261133995231308,
          0.0038357935095783826,
          0.0004621938131220822,
          0,
          0,
          0,
          0,
          0,
          0.0005961299057757744,
          0,
          0.0007397516181712234,
          0.0017117183758245317,
          0.025203885154398142,
          0.02187138074425022,
          0.0028628036531949774,
          0.0005717333807810097,
          0,
          0.0023196387235242116,
          0.00021590585856386222,
          0.001813746971428645,
          0.0024658684596555757,
          0.0012789465624127377,
          0.0041868007240996605,
          0.0024872993665539765,
          0,
          0,
          0,
          0,
          0,
          0.001304319339614589,
          0.0029903483722149857,
          0.0005669466275855191,
          0,
          0.0023431637344858147,
          0.005049854555665945,
          0.01981271221298264,
          0.005123688086521788,
          0,
          0,
          0.014384122242547958,
          7.49091692551474e-05,
          0.0030686140206953277,
          0.0036159956126722804,
          0.012953949442373394,
          0,
          0,
          0.06732711460573933,
          0.045445428635282885,
          0.06376459631533024,
          0.018991549265057747,
          0.05385594452352201,
          0.0034229426504050245,
          0.032809990232101786,
          0.03534643245297138,
          0.015348618352365609,
          0.00463249545056991,
          0.004117050792516399,
          0.08733524153918089,
          0.004783102962375429,
          0,
          0.0057219027574611885
         ]
        }
       ],
       "layout": {
        "autosize": true,
        "hovermode": "closest",
        "showlegend": false,
        "template": {
         "data": {
          "bar": [
           {
            "error_x": {
             "color": "#2a3f5f"
            },
            "error_y": {
             "color": "#2a3f5f"
            },
            "marker": {
             "line": {
              "color": "#E5ECF6",
              "width": 0.5
             }
            },
            "type": "bar"
           }
          ],
          "barpolar": [
           {
            "marker": {
             "line": {
              "color": "#E5ECF6",
              "width": 0.5
             }
            },
            "type": "barpolar"
           }
          ],
          "carpet": [
           {
            "aaxis": {
             "endlinecolor": "#2a3f5f",
             "gridcolor": "white",
             "linecolor": "white",
             "minorgridcolor": "white",
             "startlinecolor": "#2a3f5f"
            },
            "baxis": {
             "endlinecolor": "#2a3f5f",
             "gridcolor": "white",
             "linecolor": "white",
             "minorgridcolor": "white",
             "startlinecolor": "#2a3f5f"
            },
            "type": "carpet"
           }
          ],
          "choropleth": [
           {
            "colorbar": {
             "outlinewidth": 0,
             "ticks": ""
            },
            "type": "choropleth"
           }
          ],
          "contour": [
           {
            "colorbar": {
             "outlinewidth": 0,
             "ticks": ""
            },
            "colorscale": [
             [
              0,
              "#0d0887"
             ],
             [
              0.1111111111111111,
              "#46039f"
             ],
             [
              0.2222222222222222,
              "#7201a8"
             ],
             [
              0.3333333333333333,
              "#9c179e"
             ],
             [
              0.4444444444444444,
              "#bd3786"
             ],
             [
              0.5555555555555556,
              "#d8576b"
             ],
             [
              0.6666666666666666,
              "#ed7953"
             ],
             [
              0.7777777777777778,
              "#fb9f3a"
             ],
             [
              0.8888888888888888,
              "#fdca26"
             ],
             [
              1,
              "#f0f921"
             ]
            ],
            "type": "contour"
           }
          ],
          "contourcarpet": [
           {
            "colorbar": {
             "outlinewidth": 0,
             "ticks": ""
            },
            "type": "contourcarpet"
           }
          ],
          "heatmap": [
           {
            "colorbar": {
             "outlinewidth": 0,
             "ticks": ""
            },
            "colorscale": [
             [
              0,
              "#0d0887"
             ],
             [
              0.1111111111111111,
              "#46039f"
             ],
             [
              0.2222222222222222,
              "#7201a8"
             ],
             [
              0.3333333333333333,
              "#9c179e"
             ],
             [
              0.4444444444444444,
              "#bd3786"
             ],
             [
              0.5555555555555556,
              "#d8576b"
             ],
             [
              0.6666666666666666,
              "#ed7953"
             ],
             [
              0.7777777777777778,
              "#fb9f3a"
             ],
             [
              0.8888888888888888,
              "#fdca26"
             ],
             [
              1,
              "#f0f921"
             ]
            ],
            "type": "heatmap"
           }
          ],
          "heatmapgl": [
           {
            "colorbar": {
             "outlinewidth": 0,
             "ticks": ""
            },
            "colorscale": [
             [
              0,
              "#0d0887"
             ],
             [
              0.1111111111111111,
              "#46039f"
             ],
             [
              0.2222222222222222,
              "#7201a8"
             ],
             [
              0.3333333333333333,
              "#9c179e"
             ],
             [
              0.4444444444444444,
              "#bd3786"
             ],
             [
              0.5555555555555556,
              "#d8576b"
             ],
             [
              0.6666666666666666,
              "#ed7953"
             ],
             [
              0.7777777777777778,
              "#fb9f3a"
             ],
             [
              0.8888888888888888,
              "#fdca26"
             ],
             [
              1,
              "#f0f921"
             ]
            ],
            "type": "heatmapgl"
           }
          ],
          "histogram": [
           {
            "marker": {
             "colorbar": {
              "outlinewidth": 0,
              "ticks": ""
             }
            },
            "type": "histogram"
           }
          ],
          "histogram2d": [
           {
            "colorbar": {
             "outlinewidth": 0,
             "ticks": ""
            },
            "colorscale": [
             [
              0,
              "#0d0887"
             ],
             [
              0.1111111111111111,
              "#46039f"
             ],
             [
              0.2222222222222222,
              "#7201a8"
             ],
             [
              0.3333333333333333,
              "#9c179e"
             ],
             [
              0.4444444444444444,
              "#bd3786"
             ],
             [
              0.5555555555555556,
              "#d8576b"
             ],
             [
              0.6666666666666666,
              "#ed7953"
             ],
             [
              0.7777777777777778,
              "#fb9f3a"
             ],
             [
              0.8888888888888888,
              "#fdca26"
             ],
             [
              1,
              "#f0f921"
             ]
            ],
            "type": "histogram2d"
           }
          ],
          "histogram2dcontour": [
           {
            "colorbar": {
             "outlinewidth": 0,
             "ticks": ""
            },
            "colorscale": [
             [
              0,
              "#0d0887"
             ],
             [
              0.1111111111111111,
              "#46039f"
             ],
             [
              0.2222222222222222,
              "#7201a8"
             ],
             [
              0.3333333333333333,
              "#9c179e"
             ],
             [
              0.4444444444444444,
              "#bd3786"
             ],
             [
              0.5555555555555556,
              "#d8576b"
             ],
             [
              0.6666666666666666,
              "#ed7953"
             ],
             [
              0.7777777777777778,
              "#fb9f3a"
             ],
             [
              0.8888888888888888,
              "#fdca26"
             ],
             [
              1,
              "#f0f921"
             ]
            ],
            "type": "histogram2dcontour"
           }
          ],
          "mesh3d": [
           {
            "colorbar": {
             "outlinewidth": 0,
             "ticks": ""
            },
            "type": "mesh3d"
           }
          ],
          "parcoords": [
           {
            "line": {
             "colorbar": {
              "outlinewidth": 0,
              "ticks": ""
             }
            },
            "type": "parcoords"
           }
          ],
          "scatter": [
           {
            "marker": {
             "colorbar": {
              "outlinewidth": 0,
              "ticks": ""
             }
            },
            "type": "scatter"
           }
          ],
          "scatter3d": [
           {
            "line": {
             "colorbar": {
              "outlinewidth": 0,
              "ticks": ""
             }
            },
            "marker": {
             "colorbar": {
              "outlinewidth": 0,
              "ticks": ""
             }
            },
            "type": "scatter3d"
           }
          ],
          "scattercarpet": [
           {
            "marker": {
             "colorbar": {
              "outlinewidth": 0,
              "ticks": ""
             }
            },
            "type": "scattercarpet"
           }
          ],
          "scattergeo": [
           {
            "marker": {
             "colorbar": {
              "outlinewidth": 0,
              "ticks": ""
             }
            },
            "type": "scattergeo"
           }
          ],
          "scattergl": [
           {
            "marker": {
             "colorbar": {
              "outlinewidth": 0,
              "ticks": ""
             }
            },
            "type": "scattergl"
           }
          ],
          "scattermapbox": [
           {
            "marker": {
             "colorbar": {
              "outlinewidth": 0,
              "ticks": ""
             }
            },
            "type": "scattermapbox"
           }
          ],
          "scatterpolar": [
           {
            "marker": {
             "colorbar": {
              "outlinewidth": 0,
              "ticks": ""
             }
            },
            "type": "scatterpolar"
           }
          ],
          "scatterpolargl": [
           {
            "marker": {
             "colorbar": {
              "outlinewidth": 0,
              "ticks": ""
             }
            },
            "type": "scatterpolargl"
           }
          ],
          "scatterternary": [
           {
            "marker": {
             "colorbar": {
              "outlinewidth": 0,
              "ticks": ""
             }
            },
            "type": "scatterternary"
           }
          ],
          "surface": [
           {
            "colorbar": {
             "outlinewidth": 0,
             "ticks": ""
            },
            "colorscale": [
             [
              0,
              "#0d0887"
             ],
             [
              0.1111111111111111,
              "#46039f"
             ],
             [
              0.2222222222222222,
              "#7201a8"
             ],
             [
              0.3333333333333333,
              "#9c179e"
             ],
             [
              0.4444444444444444,
              "#bd3786"
             ],
             [
              0.5555555555555556,
              "#d8576b"
             ],
             [
              0.6666666666666666,
              "#ed7953"
             ],
             [
              0.7777777777777778,
              "#fb9f3a"
             ],
             [
              0.8888888888888888,
              "#fdca26"
             ],
             [
              1,
              "#f0f921"
             ]
            ],
            "type": "surface"
           }
          ],
          "table": [
           {
            "cells": {
             "fill": {
              "color": "#EBF0F8"
             },
             "line": {
              "color": "white"
             }
            },
            "header": {
             "fill": {
              "color": "#C8D4E3"
             },
             "line": {
              "color": "white"
             }
            },
            "type": "table"
           }
          ]
         },
         "layout": {
          "annotationdefaults": {
           "arrowcolor": "#2a3f5f",
           "arrowhead": 0,
           "arrowwidth": 1
          },
          "colorscale": {
           "diverging": [
            [
             0,
             "#8e0152"
            ],
            [
             0.1,
             "#c51b7d"
            ],
            [
             0.2,
             "#de77ae"
            ],
            [
             0.3,
             "#f1b6da"
            ],
            [
             0.4,
             "#fde0ef"
            ],
            [
             0.5,
             "#f7f7f7"
            ],
            [
             0.6,
             "#e6f5d0"
            ],
            [
             0.7,
             "#b8e186"
            ],
            [
             0.8,
             "#7fbc41"
            ],
            [
             0.9,
             "#4d9221"
            ],
            [
             1,
             "#276419"
            ]
           ],
           "sequential": [
            [
             0,
             "#0d0887"
            ],
            [
             0.1111111111111111,
             "#46039f"
            ],
            [
             0.2222222222222222,
             "#7201a8"
            ],
            [
             0.3333333333333333,
             "#9c179e"
            ],
            [
             0.4444444444444444,
             "#bd3786"
            ],
            [
             0.5555555555555556,
             "#d8576b"
            ],
            [
             0.6666666666666666,
             "#ed7953"
            ],
            [
             0.7777777777777778,
             "#fb9f3a"
            ],
            [
             0.8888888888888888,
             "#fdca26"
            ],
            [
             1,
             "#f0f921"
            ]
           ],
           "sequentialminus": [
            [
             0,
             "#0d0887"
            ],
            [
             0.1111111111111111,
             "#46039f"
            ],
            [
             0.2222222222222222,
             "#7201a8"
            ],
            [
             0.3333333333333333,
             "#9c179e"
            ],
            [
             0.4444444444444444,
             "#bd3786"
            ],
            [
             0.5555555555555556,
             "#d8576b"
            ],
            [
             0.6666666666666666,
             "#ed7953"
            ],
            [
             0.7777777777777778,
             "#fb9f3a"
            ],
            [
             0.8888888888888888,
             "#fdca26"
            ],
            [
             1,
             "#f0f921"
            ]
           ]
          },
          "colorway": [
           "#636efa",
           "#EF553B",
           "#00cc96",
           "#ab63fa",
           "#FFA15A",
           "#19d3f3",
           "#FF6692",
           "#B6E880",
           "#FF97FF",
           "#FECB52"
          ],
          "font": {
           "color": "#2a3f5f"
          },
          "geo": {
           "bgcolor": "white",
           "lakecolor": "white",
           "landcolor": "#E5ECF6",
           "showlakes": true,
           "showland": true,
           "subunitcolor": "white"
          },
          "hoverlabel": {
           "align": "left"
          },
          "hovermode": "closest",
          "mapbox": {
           "style": "light"
          },
          "paper_bgcolor": "white",
          "plot_bgcolor": "#E5ECF6",
          "polar": {
           "angularaxis": {
            "gridcolor": "white",
            "linecolor": "white",
            "ticks": ""
           },
           "bgcolor": "#E5ECF6",
           "radialaxis": {
            "gridcolor": "white",
            "linecolor": "white",
            "ticks": ""
           }
          },
          "scene": {
           "xaxis": {
            "backgroundcolor": "#E5ECF6",
            "gridcolor": "white",
            "gridwidth": 2,
            "linecolor": "white",
            "showbackground": true,
            "ticks": "",
            "zerolinecolor": "white"
           },
           "yaxis": {
            "backgroundcolor": "#E5ECF6",
            "gridcolor": "white",
            "gridwidth": 2,
            "linecolor": "white",
            "showbackground": true,
            "ticks": "",
            "zerolinecolor": "white"
           },
           "zaxis": {
            "backgroundcolor": "#E5ECF6",
            "gridcolor": "white",
            "gridwidth": 2,
            "linecolor": "white",
            "showbackground": true,
            "ticks": "",
            "zerolinecolor": "white"
           }
          },
          "shapedefaults": {
           "line": {
            "color": "#2a3f5f"
           }
          },
          "ternary": {
           "aaxis": {
            "gridcolor": "white",
            "linecolor": "white",
            "ticks": ""
           },
           "baxis": {
            "gridcolor": "white",
            "linecolor": "white",
            "ticks": ""
           },
           "bgcolor": "#E5ECF6",
           "caxis": {
            "gridcolor": "white",
            "linecolor": "white",
            "ticks": ""
           }
          },
          "title": {
           "x": 0.05
          },
          "xaxis": {
           "automargin": true,
           "gridcolor": "white",
           "linecolor": "white",
           "ticks": "",
           "zerolinecolor": "white",
           "zerolinewidth": 2
          },
          "yaxis": {
           "automargin": true,
           "gridcolor": "white",
           "linecolor": "white",
           "ticks": "",
           "zerolinecolor": "white",
           "zerolinewidth": 2
          }
         }
        },
        "title": {
         "text": "Gradient Boosting Machine Feature Importance"
        },
        "xaxis": {
         "showgrid": false,
         "showline": false,
         "ticklen": 5,
         "zeroline": false
        },
        "yaxis": {
         "gridwidth": 2,
         "showgrid": false,
         "ticklen": 5,
         "title": {
          "text": "Feature Importance"
         },
         "zeroline": false
        }
       }
      },
      "text/html": [
       "<div>\n",
       "        \n",
       "        \n",
       "            <div id=\"0e509d01-b24a-4531-91ec-b20b5c92d50a\" class=\"plotly-graph-div\" style=\"height:525px; width:100%;\"></div>\n",
       "            <script type=\"text/javascript\">\n",
       "                require([\"plotly\"], function(Plotly) {\n",
       "                    window.PLOTLYENV=window.PLOTLYENV || {};\n",
       "                    \n",
       "                if (document.getElementById(\"0e509d01-b24a-4531-91ec-b20b5c92d50a\")) {\n",
       "                    Plotly.newPlot(\n",
       "                        '0e509d01-b24a-4531-91ec-b20b5c92d50a',\n",
       "                        [{\"marker\": {\"color\": [0.05406476902287457, 0.045836268933869224, 0.014565364740369374, 0.015794618950009446, 0.024996500113075262, 0.009231043307624701, 0.044034973264021754, 0.13015740882072616, 0.028735713989353314, 0.0, 0.0, 0.0, 0.0, 0.0, 0.0, 0.0, 0.0, 0.0, 0.0, 0.0006783908731162962, 0.0005449023998911399, 0.001758550880694823, 0.0, 0.001690893594065898, 0.0, 0.000929425758772277, 0.0, 0.0, 0.0006667669349913814, 0.01767149820905255, 0.0, 0.0, 0.0, 0.0, 0.0005708374113812307, 0.0, 0.0031256329355650587, 0.0, 0.003188005409861909, 0.0, 0.0, 0.001682669682622127, 0.013261133995231308, 0.0038357935095783826, 0.0004621938131220822, 0.0, 0.0, 0.0, 0.0, 0.0, 0.0005961299057757744, 0.0, 0.0007397516181712234, 0.0017117183758245317, 0.025203885154398142, 0.02187138074425022, 0.0028628036531949774, 0.0005717333807810097, 0.0, 0.0023196387235242116, 0.00021590585856386222, 0.001813746971428645, 0.0024658684596555757, 0.0012789465624127377, 0.0041868007240996605, 0.0024872993665539765, 0.0, 0.0, 0.0, 0.0, 0.0, 0.001304319339614589, 0.0029903483722149857, 0.0005669466275855191, 0.0, 0.0023431637344858147, 0.005049854555665945, 0.01981271221298264, 0.005123688086521788, 0.0, 0.0, 0.014384122242547958, 7.49091692551474e-05, 0.0030686140206953277, 0.0036159956126722804, 0.012953949442373394, 0.0, 0.0, 0.06732711460573933, 0.045445428635282885, 0.06376459631533024, 0.018991549265057747, 0.05385594452352201, 0.0034229426504050245, 0.032809990232101786, 0.03534643245297138, 0.015348618352365609, 0.00463249545056991, 0.004117050792516399, 0.08733524153918089, 0.004783102962375429, 0.0, 0.0057219027574611885], \"colorscale\": [[0.0, \"rgb(12,51,131)\"], [0.25, \"rgb(10,136,186)\"], [0.5, \"rgb(242,211,56)\"], [0.75, \"rgb(242,143,56)\"], [1.0, \"rgb(217,30,30)\"]], \"showscale\": true, \"size\": 13, \"sizemode\": \"diameter\", \"sizeref\": 1}, \"mode\": \"markers\", \"text\": [\"certId\", \"loanProduct\", \"gender\", \"age\", \"dist\", \"edu\", \"job\", \"lmt\", \"basicLevel\", \"x_0\", \"x_1\", \"x_2\", \"x_3\", \"x_4\", \"x_5\", \"x_6\", \"x_7\", \"x_8\", \"x_9\", \"x_10\", \"x_11\", \"x_12\", \"x_13\", \"x_14\", \"x_15\", \"x_16\", \"x_17\", \"x_18\", \"x_19\", \"x_20\", \"x_21\", \"x_22\", \"x_23\", \"x_24\", \"x_25\", \"x_26\", \"x_27\", \"x_28\", \"x_29\", \"x_30\", \"x_31\", \"x_32\", \"x_33\", \"x_34\", \"x_35\", \"x_36\", \"x_37\", \"x_38\", \"x_39\", \"x_40\", \"x_41\", \"x_42\", \"x_43\", \"x_44\", \"x_45\", \"x_46\", \"x_47\", \"x_48\", \"x_49\", \"x_50\", \"x_51\", \"x_52\", \"x_53\", \"x_54\", \"x_55\", \"x_56\", \"x_57\", \"x_58\", \"x_59\", \"x_60\", \"x_61\", \"x_62\", \"x_63\", \"x_64\", \"x_65\", \"x_66\", \"x_67\", \"x_68\", \"x_69\", \"x_70\", \"x_71\", \"x_72\", \"x_73\", \"x_74\", \"x_75\", \"x_76\", \"x_77\", \"x_78\", \"certValidBegin\", \"certValidStop\", \"bankCard\", \"ethnic\", \"residentAddr\", \"highestEdu\", \"linkRela\", \"setupHour\", \"weekday\", \"ncloseCreditCard\", \"unpayIndvLoan\", \"unpayOtherLoan\", \"unpayNormalLoan\", \"5yearBadloan\", \"isNew\"], \"type\": \"scatter\", \"x\": [\"certId\", \"loanProduct\", \"gender\", \"age\", \"dist\", \"edu\", \"job\", \"lmt\", \"basicLevel\", \"x_0\", \"x_1\", \"x_2\", \"x_3\", \"x_4\", \"x_5\", \"x_6\", \"x_7\", \"x_8\", \"x_9\", \"x_10\", \"x_11\", \"x_12\", \"x_13\", \"x_14\", \"x_15\", \"x_16\", \"x_17\", \"x_18\", \"x_19\", \"x_20\", \"x_21\", \"x_22\", \"x_23\", \"x_24\", \"x_25\", \"x_26\", \"x_27\", \"x_28\", \"x_29\", \"x_30\", \"x_31\", \"x_32\", \"x_33\", \"x_34\", \"x_35\", \"x_36\", \"x_37\", \"x_38\", \"x_39\", \"x_40\", \"x_41\", \"x_42\", \"x_43\", \"x_44\", \"x_45\", \"x_46\", \"x_47\", \"x_48\", \"x_49\", \"x_50\", \"x_51\", \"x_52\", \"x_53\", \"x_54\", \"x_55\", \"x_56\", \"x_57\", \"x_58\", \"x_59\", \"x_60\", \"x_61\", \"x_62\", \"x_63\", \"x_64\", \"x_65\", \"x_66\", \"x_67\", \"x_68\", \"x_69\", \"x_70\", \"x_71\", \"x_72\", \"x_73\", \"x_74\", \"x_75\", \"x_76\", \"x_77\", \"x_78\", \"certValidBegin\", \"certValidStop\", \"bankCard\", \"ethnic\", \"residentAddr\", \"highestEdu\", \"linkRela\", \"setupHour\", \"weekday\", \"ncloseCreditCard\", \"unpayIndvLoan\", \"unpayOtherLoan\", \"unpayNormalLoan\", \"5yearBadloan\", \"isNew\"], \"y\": [0.05406476902287457, 0.045836268933869224, 0.014565364740369374, 0.015794618950009446, 0.024996500113075262, 0.009231043307624701, 0.044034973264021754, 0.13015740882072616, 0.028735713989353314, 0.0, 0.0, 0.0, 0.0, 0.0, 0.0, 0.0, 0.0, 0.0, 0.0, 0.0006783908731162962, 0.0005449023998911399, 0.001758550880694823, 0.0, 0.001690893594065898, 0.0, 0.000929425758772277, 0.0, 0.0, 0.0006667669349913814, 0.01767149820905255, 0.0, 0.0, 0.0, 0.0, 0.0005708374113812307, 0.0, 0.0031256329355650587, 0.0, 0.003188005409861909, 0.0, 0.0, 0.001682669682622127, 0.013261133995231308, 0.0038357935095783826, 0.0004621938131220822, 0.0, 0.0, 0.0, 0.0, 0.0, 0.0005961299057757744, 0.0, 0.0007397516181712234, 0.0017117183758245317, 0.025203885154398142, 0.02187138074425022, 0.0028628036531949774, 0.0005717333807810097, 0.0, 0.0023196387235242116, 0.00021590585856386222, 0.001813746971428645, 0.0024658684596555757, 0.0012789465624127377, 0.0041868007240996605, 0.0024872993665539765, 0.0, 0.0, 0.0, 0.0, 0.0, 0.001304319339614589, 0.0029903483722149857, 0.0005669466275855191, 0.0, 0.0023431637344858147, 0.005049854555665945, 0.01981271221298264, 0.005123688086521788, 0.0, 0.0, 0.014384122242547958, 7.49091692551474e-05, 0.0030686140206953277, 0.0036159956126722804, 0.012953949442373394, 0.0, 0.0, 0.06732711460573933, 0.045445428635282885, 0.06376459631533024, 0.018991549265057747, 0.05385594452352201, 0.0034229426504050245, 0.032809990232101786, 0.03534643245297138, 0.015348618352365609, 0.00463249545056991, 0.004117050792516399, 0.08733524153918089, 0.004783102962375429, 0.0, 0.0057219027574611885]}],\n",
       "                        {\"autosize\": true, \"hovermode\": \"closest\", \"showlegend\": false, \"template\": {\"data\": {\"bar\": [{\"error_x\": {\"color\": \"#2a3f5f\"}, \"error_y\": {\"color\": \"#2a3f5f\"}, \"marker\": {\"line\": {\"color\": \"#E5ECF6\", \"width\": 0.5}}, \"type\": \"bar\"}], \"barpolar\": [{\"marker\": {\"line\": {\"color\": \"#E5ECF6\", \"width\": 0.5}}, \"type\": \"barpolar\"}], \"carpet\": [{\"aaxis\": {\"endlinecolor\": \"#2a3f5f\", \"gridcolor\": \"white\", \"linecolor\": \"white\", \"minorgridcolor\": \"white\", \"startlinecolor\": \"#2a3f5f\"}, \"baxis\": {\"endlinecolor\": \"#2a3f5f\", \"gridcolor\": \"white\", \"linecolor\": \"white\", \"minorgridcolor\": \"white\", \"startlinecolor\": \"#2a3f5f\"}, \"type\": \"carpet\"}], \"choropleth\": [{\"colorbar\": {\"outlinewidth\": 0, \"ticks\": \"\"}, \"type\": \"choropleth\"}], \"contour\": [{\"colorbar\": {\"outlinewidth\": 0, \"ticks\": \"\"}, \"colorscale\": [[0.0, \"#0d0887\"], [0.1111111111111111, \"#46039f\"], [0.2222222222222222, \"#7201a8\"], [0.3333333333333333, \"#9c179e\"], [0.4444444444444444, \"#bd3786\"], [0.5555555555555556, \"#d8576b\"], [0.6666666666666666, \"#ed7953\"], [0.7777777777777778, \"#fb9f3a\"], [0.8888888888888888, \"#fdca26\"], [1.0, \"#f0f921\"]], \"type\": \"contour\"}], \"contourcarpet\": [{\"colorbar\": {\"outlinewidth\": 0, \"ticks\": \"\"}, \"type\": \"contourcarpet\"}], \"heatmap\": [{\"colorbar\": {\"outlinewidth\": 0, \"ticks\": \"\"}, \"colorscale\": [[0.0, \"#0d0887\"], [0.1111111111111111, \"#46039f\"], [0.2222222222222222, \"#7201a8\"], [0.3333333333333333, \"#9c179e\"], [0.4444444444444444, \"#bd3786\"], [0.5555555555555556, \"#d8576b\"], [0.6666666666666666, \"#ed7953\"], [0.7777777777777778, \"#fb9f3a\"], [0.8888888888888888, \"#fdca26\"], [1.0, \"#f0f921\"]], \"type\": \"heatmap\"}], \"heatmapgl\": [{\"colorbar\": {\"outlinewidth\": 0, \"ticks\": \"\"}, \"colorscale\": [[0.0, \"#0d0887\"], [0.1111111111111111, \"#46039f\"], [0.2222222222222222, \"#7201a8\"], [0.3333333333333333, \"#9c179e\"], [0.4444444444444444, \"#bd3786\"], [0.5555555555555556, \"#d8576b\"], [0.6666666666666666, \"#ed7953\"], [0.7777777777777778, \"#fb9f3a\"], [0.8888888888888888, \"#fdca26\"], [1.0, \"#f0f921\"]], \"type\": \"heatmapgl\"}], \"histogram\": [{\"marker\": {\"colorbar\": {\"outlinewidth\": 0, \"ticks\": \"\"}}, \"type\": \"histogram\"}], \"histogram2d\": [{\"colorbar\": {\"outlinewidth\": 0, \"ticks\": \"\"}, \"colorscale\": [[0.0, \"#0d0887\"], [0.1111111111111111, \"#46039f\"], [0.2222222222222222, \"#7201a8\"], [0.3333333333333333, \"#9c179e\"], [0.4444444444444444, \"#bd3786\"], [0.5555555555555556, \"#d8576b\"], [0.6666666666666666, \"#ed7953\"], [0.7777777777777778, \"#fb9f3a\"], [0.8888888888888888, \"#fdca26\"], [1.0, \"#f0f921\"]], \"type\": \"histogram2d\"}], \"histogram2dcontour\": [{\"colorbar\": {\"outlinewidth\": 0, \"ticks\": \"\"}, \"colorscale\": [[0.0, \"#0d0887\"], [0.1111111111111111, \"#46039f\"], [0.2222222222222222, \"#7201a8\"], [0.3333333333333333, \"#9c179e\"], [0.4444444444444444, \"#bd3786\"], [0.5555555555555556, \"#d8576b\"], [0.6666666666666666, \"#ed7953\"], [0.7777777777777778, \"#fb9f3a\"], [0.8888888888888888, \"#fdca26\"], [1.0, \"#f0f921\"]], \"type\": \"histogram2dcontour\"}], \"mesh3d\": [{\"colorbar\": {\"outlinewidth\": 0, \"ticks\": \"\"}, \"type\": \"mesh3d\"}], \"parcoords\": [{\"line\": {\"colorbar\": {\"outlinewidth\": 0, \"ticks\": \"\"}}, \"type\": \"parcoords\"}], \"scatter\": [{\"marker\": {\"colorbar\": {\"outlinewidth\": 0, \"ticks\": \"\"}}, \"type\": \"scatter\"}], \"scatter3d\": [{\"line\": {\"colorbar\": {\"outlinewidth\": 0, \"ticks\": \"\"}}, \"marker\": {\"colorbar\": {\"outlinewidth\": 0, \"ticks\": \"\"}}, \"type\": \"scatter3d\"}], \"scattercarpet\": [{\"marker\": {\"colorbar\": {\"outlinewidth\": 0, \"ticks\": \"\"}}, \"type\": \"scattercarpet\"}], \"scattergeo\": [{\"marker\": {\"colorbar\": {\"outlinewidth\": 0, \"ticks\": \"\"}}, \"type\": \"scattergeo\"}], \"scattergl\": [{\"marker\": {\"colorbar\": {\"outlinewidth\": 0, \"ticks\": \"\"}}, \"type\": \"scattergl\"}], \"scattermapbox\": [{\"marker\": {\"colorbar\": {\"outlinewidth\": 0, \"ticks\": \"\"}}, \"type\": \"scattermapbox\"}], \"scatterpolar\": [{\"marker\": {\"colorbar\": {\"outlinewidth\": 0, \"ticks\": \"\"}}, \"type\": \"scatterpolar\"}], \"scatterpolargl\": [{\"marker\": {\"colorbar\": {\"outlinewidth\": 0, \"ticks\": \"\"}}, \"type\": \"scatterpolargl\"}], \"scatterternary\": [{\"marker\": {\"colorbar\": {\"outlinewidth\": 0, \"ticks\": \"\"}}, \"type\": \"scatterternary\"}], \"surface\": [{\"colorbar\": {\"outlinewidth\": 0, \"ticks\": \"\"}, \"colorscale\": [[0.0, \"#0d0887\"], [0.1111111111111111, \"#46039f\"], [0.2222222222222222, \"#7201a8\"], [0.3333333333333333, \"#9c179e\"], [0.4444444444444444, \"#bd3786\"], [0.5555555555555556, \"#d8576b\"], [0.6666666666666666, \"#ed7953\"], [0.7777777777777778, \"#fb9f3a\"], [0.8888888888888888, \"#fdca26\"], [1.0, \"#f0f921\"]], \"type\": \"surface\"}], \"table\": [{\"cells\": {\"fill\": {\"color\": \"#EBF0F8\"}, \"line\": {\"color\": \"white\"}}, \"header\": {\"fill\": {\"color\": \"#C8D4E3\"}, \"line\": {\"color\": \"white\"}}, \"type\": \"table\"}]}, \"layout\": {\"annotationdefaults\": {\"arrowcolor\": \"#2a3f5f\", \"arrowhead\": 0, \"arrowwidth\": 1}, \"colorscale\": {\"diverging\": [[0, \"#8e0152\"], [0.1, \"#c51b7d\"], [0.2, \"#de77ae\"], [0.3, \"#f1b6da\"], [0.4, \"#fde0ef\"], [0.5, \"#f7f7f7\"], [0.6, \"#e6f5d0\"], [0.7, \"#b8e186\"], [0.8, \"#7fbc41\"], [0.9, \"#4d9221\"], [1, \"#276419\"]], \"sequential\": [[0.0, \"#0d0887\"], [0.1111111111111111, \"#46039f\"], [0.2222222222222222, \"#7201a8\"], [0.3333333333333333, \"#9c179e\"], [0.4444444444444444, \"#bd3786\"], [0.5555555555555556, \"#d8576b\"], [0.6666666666666666, \"#ed7953\"], [0.7777777777777778, \"#fb9f3a\"], [0.8888888888888888, \"#fdca26\"], [1.0, \"#f0f921\"]], \"sequentialminus\": [[0.0, \"#0d0887\"], [0.1111111111111111, \"#46039f\"], [0.2222222222222222, \"#7201a8\"], [0.3333333333333333, \"#9c179e\"], [0.4444444444444444, \"#bd3786\"], [0.5555555555555556, \"#d8576b\"], [0.6666666666666666, \"#ed7953\"], [0.7777777777777778, \"#fb9f3a\"], [0.8888888888888888, \"#fdca26\"], [1.0, \"#f0f921\"]]}, \"colorway\": [\"#636efa\", \"#EF553B\", \"#00cc96\", \"#ab63fa\", \"#FFA15A\", \"#19d3f3\", \"#FF6692\", \"#B6E880\", \"#FF97FF\", \"#FECB52\"], \"font\": {\"color\": \"#2a3f5f\"}, \"geo\": {\"bgcolor\": \"white\", \"lakecolor\": \"white\", \"landcolor\": \"#E5ECF6\", \"showlakes\": true, \"showland\": true, \"subunitcolor\": \"white\"}, \"hoverlabel\": {\"align\": \"left\"}, \"hovermode\": \"closest\", \"mapbox\": {\"style\": \"light\"}, \"paper_bgcolor\": \"white\", \"plot_bgcolor\": \"#E5ECF6\", \"polar\": {\"angularaxis\": {\"gridcolor\": \"white\", \"linecolor\": \"white\", \"ticks\": \"\"}, \"bgcolor\": \"#E5ECF6\", \"radialaxis\": {\"gridcolor\": \"white\", \"linecolor\": \"white\", \"ticks\": \"\"}}, \"scene\": {\"xaxis\": {\"backgroundcolor\": \"#E5ECF6\", \"gridcolor\": \"white\", \"gridwidth\": 2, \"linecolor\": \"white\", \"showbackground\": true, \"ticks\": \"\", \"zerolinecolor\": \"white\"}, \"yaxis\": {\"backgroundcolor\": \"#E5ECF6\", \"gridcolor\": \"white\", \"gridwidth\": 2, \"linecolor\": \"white\", \"showbackground\": true, \"ticks\": \"\", \"zerolinecolor\": \"white\"}, \"zaxis\": {\"backgroundcolor\": \"#E5ECF6\", \"gridcolor\": \"white\", \"gridwidth\": 2, \"linecolor\": \"white\", \"showbackground\": true, \"ticks\": \"\", \"zerolinecolor\": \"white\"}}, \"shapedefaults\": {\"line\": {\"color\": \"#2a3f5f\"}}, \"ternary\": {\"aaxis\": {\"gridcolor\": \"white\", \"linecolor\": \"white\", \"ticks\": \"\"}, \"baxis\": {\"gridcolor\": \"white\", \"linecolor\": \"white\", \"ticks\": \"\"}, \"bgcolor\": \"#E5ECF6\", \"caxis\": {\"gridcolor\": \"white\", \"linecolor\": \"white\", \"ticks\": \"\"}}, \"title\": {\"x\": 0.05}, \"xaxis\": {\"automargin\": true, \"gridcolor\": \"white\", \"linecolor\": \"white\", \"ticks\": \"\", \"zerolinecolor\": \"white\", \"zerolinewidth\": 2}, \"yaxis\": {\"automargin\": true, \"gridcolor\": \"white\", \"linecolor\": \"white\", \"ticks\": \"\", \"zerolinecolor\": \"white\", \"zerolinewidth\": 2}}}, \"title\": {\"text\": \"Gradient Boosting Machine Feature Importance\"}, \"xaxis\": {\"showgrid\": false, \"showline\": false, \"ticklen\": 5, \"zeroline\": false}, \"yaxis\": {\"gridwidth\": 2, \"showgrid\": false, \"ticklen\": 5, \"title\": {\"text\": \"Feature Importance\"}, \"zeroline\": false}},\n",
       "                        {\"responsive\": true}\n",
       "                    ).then(function(){\n",
       "                            \n",
       "var gd = document.getElementById('0e509d01-b24a-4531-91ec-b20b5c92d50a');\n",
       "var x = new MutationObserver(function (mutations, observer) {{\n",
       "        var display = window.getComputedStyle(gd).display;\n",
       "        if (!display || display === 'none') {{\n",
       "            console.log([gd, 'removed!']);\n",
       "            Plotly.purge(gd);\n",
       "            observer.disconnect();\n",
       "        }}\n",
       "}});\n",
       "\n",
       "// Listen for the removal of the full notebook cells\n",
       "var notebookContainer = gd.closest('#notebook-container');\n",
       "if (notebookContainer) {{\n",
       "    x.observe(notebookContainer, {childList: true});\n",
       "}}\n",
       "\n",
       "// Listen for the clearing of the current output cell\n",
       "var outputEl = gd.closest('.output');\n",
       "if (outputEl) {{\n",
       "    x.observe(outputEl, {childList: true});\n",
       "}}\n",
       "\n",
       "                        })\n",
       "                };\n",
       "                });\n",
       "            </script>\n",
       "        </div>"
      ]
     },
     "metadata": {},
     "output_type": "display_data"
    }
   ],
   "source": [
    "# Scatter plot \n",
    "trace = go.Scatter(\n",
    "    y = gb.feature_importances_,\n",
    "    x = features,\n",
    "    mode='markers',\n",
    "    marker=dict(\n",
    "        sizemode = 'diameter',\n",
    "        sizeref = 1,\n",
    "        size = 13,\n",
    "        #size= rf.feature_importances_,\n",
    "        #color = np.random.randn(500), #set color equal to a variable\n",
    "        color = gb.feature_importances_,\n",
    "        colorscale='Portland',\n",
    "        showscale=True\n",
    "    ),\n",
    "    text = features\n",
    ")\n",
    "data = [trace]\n",
    "\n",
    "layout= go.Layout(\n",
    "    autosize= True,\n",
    "    title= 'Gradient Boosting Machine Feature Importance',\n",
    "    hovermode= 'closest',\n",
    "     xaxis= dict(\n",
    "         ticklen= 5,\n",
    "         showgrid=False,\n",
    "        zeroline=False,\n",
    "        showline=False\n",
    "     ),\n",
    "    yaxis=dict(\n",
    "        title= 'Feature Importance',\n",
    "        showgrid=False,\n",
    "        zeroline=False,\n",
    "        ticklen= 5,\n",
    "        gridwidth= 2\n",
    "    ),\n",
    "    showlegend= False\n",
    ")\n",
    "fig = go.Figure(data=data, layout=layout)\n",
    "py.iplot(fig,filename='scatter2010')"
   ]
  },
  {
   "cell_type": "code",
   "execution_count": 73,
   "metadata": {
    "scrolled": false
   },
   "outputs": [
    {
     "data": {
      "application/vnd.plotly.v1+json": {
       "config": {
        "linkText": "Export to plot.ly",
        "plotlyServerURL": "https://plot.ly",
        "showLink": false
       },
       "data": [
        {
         "marker": {
          "color": [
           0,
           0,
           0,
           0,
           0,
           0,
           0,
           0,
           0,
           0,
           0,
           0,
           0,
           0,
           0,
           0,
           0,
           0,
           0,
           0,
           0,
           0,
           0,
           0,
           0,
           0,
           0,
           0,
           0,
           0,
           0,
           0,
           0,
           0,
           0,
           0,
           0,
           0,
           0,
           0,
           7.49091692551474e-05,
           0.00021590585856386222,
           0.0004621938131220822,
           0.0005449023998911399,
           0.0005669466275855191,
           0.0005708374113812307,
           0.0005717333807810097,
           0.0005961299057757744,
           0.0006667669349913814,
           0.0006783908731162962,
           0.0007397516181712234,
           0.000929425758772277,
           0.0012789465624127377,
           0.001304319339614589,
           0.001682669682622127,
           0.001690893594065898,
           0.0017117183758245317,
           0.001758550880694823,
           0.001813746971428645,
           0.0023196387235242116,
           0.0023431637344858147,
           0.0024658684596555757,
           0.0024872993665539765,
           0.0028628036531949774,
           0.0029903483722149857,
           0.0030686140206953277,
           0.0031256329355650587,
           0.003188005409861909,
           0.0034229426504050245,
           0.0036159956126722804,
           0.0038357935095783826,
           0.004117050792516399,
           0.0041868007240996605,
           0.00463249545056991,
           0.004783102962375429,
           0.005049854555665945,
           0.005123688086521788,
           0.0057219027574611885,
           0.009231043307624701,
           0.012953949442373394,
           0.013261133995231308,
           0.014384122242547958,
           0.014565364740369374,
           0.015348618352365609,
           0.015794618950009446,
           0.01767149820905255,
           0.018991549265057747,
           0.01981271221298264,
           0.02187138074425022,
           0.024996500113075262,
           0.025203885154398142,
           0.028735713989353314,
           0.032809990232101786,
           0.03534643245297138,
           0.044034973264021754,
           0.045445428635282885,
           0.045836268933869224,
           0.05385594452352201,
           0.05406476902287457,
           0.06376459631533024,
           0.06732711460573933,
           0.08733524153918089,
           0.13015740882072616
          ],
          "colorscale": [
           [
            0,
            "#440154"
           ],
           [
            0.1111111111111111,
            "#482878"
           ],
           [
            0.2222222222222222,
            "#3e4989"
           ],
           [
            0.3333333333333333,
            "#31688e"
           ],
           [
            0.4444444444444444,
            "#26828e"
           ],
           [
            0.5555555555555556,
            "#1f9e89"
           ],
           [
            0.6666666666666666,
            "#35b779"
           ],
           [
            0.7777777777777778,
            "#6ece58"
           ],
           [
            0.8888888888888888,
            "#b5de2b"
           ],
           [
            1,
            "#fde725"
           ]
          ],
          "reversescale": true
         },
         "name": "Gradient Boosting Classifer Feature importance",
         "orientation": "h",
         "type": "bar",
         "x": [
          0,
          0,
          0,
          0,
          0,
          0,
          0,
          0,
          0,
          0,
          0,
          0,
          0,
          0,
          0,
          0,
          0,
          0,
          0,
          0,
          0,
          0,
          0,
          0,
          0,
          0,
          0,
          0,
          0,
          0,
          0,
          0,
          0,
          0,
          0,
          0,
          0,
          0,
          0,
          0,
          7.49091692551474e-05,
          0.00021590585856386222,
          0.0004621938131220822,
          0.0005449023998911399,
          0.0005669466275855191,
          0.0005708374113812307,
          0.0005717333807810097,
          0.0005961299057757744,
          0.0006667669349913814,
          0.0006783908731162962,
          0.0007397516181712234,
          0.000929425758772277,
          0.0012789465624127377,
          0.001304319339614589,
          0.001682669682622127,
          0.001690893594065898,
          0.0017117183758245317,
          0.001758550880694823,
          0.001813746971428645,
          0.0023196387235242116,
          0.0023431637344858147,
          0.0024658684596555757,
          0.0024872993665539765,
          0.0028628036531949774,
          0.0029903483722149857,
          0.0030686140206953277,
          0.0031256329355650587,
          0.003188005409861909,
          0.0034229426504050245,
          0.0036159956126722804,
          0.0038357935095783826,
          0.004117050792516399,
          0.0041868007240996605,
          0.00463249545056991,
          0.004783102962375429,
          0.005049854555665945,
          0.005123688086521788,
          0.0057219027574611885,
          0.009231043307624701,
          0.012953949442373394,
          0.013261133995231308,
          0.014384122242547958,
          0.014565364740369374,
          0.015348618352365609,
          0.015794618950009446,
          0.01767149820905255,
          0.018991549265057747,
          0.01981271221298264,
          0.02187138074425022,
          0.024996500113075262,
          0.025203885154398142,
          0.028735713989353314,
          0.032809990232101786,
          0.03534643245297138,
          0.044034973264021754,
          0.045445428635282885,
          0.045836268933869224,
          0.05385594452352201,
          0.05406476902287457,
          0.06376459631533024,
          0.06732711460573933,
          0.08733524153918089,
          0.13015740882072616
         ],
         "y": [
          "5yearBadloan",
          "x_0",
          "x_1",
          "x_13",
          "x_15",
          "x_17",
          "x_18",
          "x_2",
          "x_21",
          "x_22",
          "x_23",
          "x_24",
          "x_26",
          "x_28",
          "x_3",
          "x_30",
          "x_31",
          "x_36",
          "x_37",
          "x_38",
          "x_39",
          "x_4",
          "x_40",
          "x_42",
          "x_49",
          "x_5",
          "x_57",
          "x_58",
          "x_59",
          "x_6",
          "x_60",
          "x_61",
          "x_65",
          "x_7",
          "x_70",
          "x_71",
          "x_77",
          "x_78",
          "x_8",
          "x_9",
          "x_73",
          "x_51",
          "x_35",
          "x_11",
          "x_64",
          "x_25",
          "x_48",
          "x_41",
          "x_19",
          "x_10",
          "x_43",
          "x_16",
          "x_54",
          "x_62",
          "x_32",
          "x_14",
          "x_44",
          "x_12",
          "x_52",
          "x_50",
          "x_66",
          "x_53",
          "x_56",
          "x_47",
          "x_63",
          "x_74",
          "x_27",
          "x_29",
          "highestEdu",
          "x_75",
          "x_34",
          "unpayIndvLoan",
          "x_55",
          "ncloseCreditCard",
          "unpayNormalLoan",
          "x_67",
          "x_69",
          "isNew",
          "edu",
          "x_76",
          "x_33",
          "x_72",
          "gender",
          "weekday",
          "age",
          "x_20",
          "ethnic",
          "x_68",
          "x_46",
          "dist",
          "x_45",
          "basicLevel",
          "linkRela",
          "setupHour",
          "job",
          "certValidStop",
          "loanProduct",
          "residentAddr",
          "certId",
          "bankCard",
          "certValidBegin",
          "unpayOtherLoan",
          "lmt"
         ]
        }
       ],
       "layout": {
        "height": 2000,
        "template": {
         "data": {
          "bar": [
           {
            "error_x": {
             "color": "#2a3f5f"
            },
            "error_y": {
             "color": "#2a3f5f"
            },
            "marker": {
             "line": {
              "color": "#E5ECF6",
              "width": 0.5
             }
            },
            "type": "bar"
           }
          ],
          "barpolar": [
           {
            "marker": {
             "line": {
              "color": "#E5ECF6",
              "width": 0.5
             }
            },
            "type": "barpolar"
           }
          ],
          "carpet": [
           {
            "aaxis": {
             "endlinecolor": "#2a3f5f",
             "gridcolor": "white",
             "linecolor": "white",
             "minorgridcolor": "white",
             "startlinecolor": "#2a3f5f"
            },
            "baxis": {
             "endlinecolor": "#2a3f5f",
             "gridcolor": "white",
             "linecolor": "white",
             "minorgridcolor": "white",
             "startlinecolor": "#2a3f5f"
            },
            "type": "carpet"
           }
          ],
          "choropleth": [
           {
            "colorbar": {
             "outlinewidth": 0,
             "ticks": ""
            },
            "type": "choropleth"
           }
          ],
          "contour": [
           {
            "colorbar": {
             "outlinewidth": 0,
             "ticks": ""
            },
            "colorscale": [
             [
              0,
              "#0d0887"
             ],
             [
              0.1111111111111111,
              "#46039f"
             ],
             [
              0.2222222222222222,
              "#7201a8"
             ],
             [
              0.3333333333333333,
              "#9c179e"
             ],
             [
              0.4444444444444444,
              "#bd3786"
             ],
             [
              0.5555555555555556,
              "#d8576b"
             ],
             [
              0.6666666666666666,
              "#ed7953"
             ],
             [
              0.7777777777777778,
              "#fb9f3a"
             ],
             [
              0.8888888888888888,
              "#fdca26"
             ],
             [
              1,
              "#f0f921"
             ]
            ],
            "type": "contour"
           }
          ],
          "contourcarpet": [
           {
            "colorbar": {
             "outlinewidth": 0,
             "ticks": ""
            },
            "type": "contourcarpet"
           }
          ],
          "heatmap": [
           {
            "colorbar": {
             "outlinewidth": 0,
             "ticks": ""
            },
            "colorscale": [
             [
              0,
              "#0d0887"
             ],
             [
              0.1111111111111111,
              "#46039f"
             ],
             [
              0.2222222222222222,
              "#7201a8"
             ],
             [
              0.3333333333333333,
              "#9c179e"
             ],
             [
              0.4444444444444444,
              "#bd3786"
             ],
             [
              0.5555555555555556,
              "#d8576b"
             ],
             [
              0.6666666666666666,
              "#ed7953"
             ],
             [
              0.7777777777777778,
              "#fb9f3a"
             ],
             [
              0.8888888888888888,
              "#fdca26"
             ],
             [
              1,
              "#f0f921"
             ]
            ],
            "type": "heatmap"
           }
          ],
          "heatmapgl": [
           {
            "colorbar": {
             "outlinewidth": 0,
             "ticks": ""
            },
            "colorscale": [
             [
              0,
              "#0d0887"
             ],
             [
              0.1111111111111111,
              "#46039f"
             ],
             [
              0.2222222222222222,
              "#7201a8"
             ],
             [
              0.3333333333333333,
              "#9c179e"
             ],
             [
              0.4444444444444444,
              "#bd3786"
             ],
             [
              0.5555555555555556,
              "#d8576b"
             ],
             [
              0.6666666666666666,
              "#ed7953"
             ],
             [
              0.7777777777777778,
              "#fb9f3a"
             ],
             [
              0.8888888888888888,
              "#fdca26"
             ],
             [
              1,
              "#f0f921"
             ]
            ],
            "type": "heatmapgl"
           }
          ],
          "histogram": [
           {
            "marker": {
             "colorbar": {
              "outlinewidth": 0,
              "ticks": ""
             }
            },
            "type": "histogram"
           }
          ],
          "histogram2d": [
           {
            "colorbar": {
             "outlinewidth": 0,
             "ticks": ""
            },
            "colorscale": [
             [
              0,
              "#0d0887"
             ],
             [
              0.1111111111111111,
              "#46039f"
             ],
             [
              0.2222222222222222,
              "#7201a8"
             ],
             [
              0.3333333333333333,
              "#9c179e"
             ],
             [
              0.4444444444444444,
              "#bd3786"
             ],
             [
              0.5555555555555556,
              "#d8576b"
             ],
             [
              0.6666666666666666,
              "#ed7953"
             ],
             [
              0.7777777777777778,
              "#fb9f3a"
             ],
             [
              0.8888888888888888,
              "#fdca26"
             ],
             [
              1,
              "#f0f921"
             ]
            ],
            "type": "histogram2d"
           }
          ],
          "histogram2dcontour": [
           {
            "colorbar": {
             "outlinewidth": 0,
             "ticks": ""
            },
            "colorscale": [
             [
              0,
              "#0d0887"
             ],
             [
              0.1111111111111111,
              "#46039f"
             ],
             [
              0.2222222222222222,
              "#7201a8"
             ],
             [
              0.3333333333333333,
              "#9c179e"
             ],
             [
              0.4444444444444444,
              "#bd3786"
             ],
             [
              0.5555555555555556,
              "#d8576b"
             ],
             [
              0.6666666666666666,
              "#ed7953"
             ],
             [
              0.7777777777777778,
              "#fb9f3a"
             ],
             [
              0.8888888888888888,
              "#fdca26"
             ],
             [
              1,
              "#f0f921"
             ]
            ],
            "type": "histogram2dcontour"
           }
          ],
          "mesh3d": [
           {
            "colorbar": {
             "outlinewidth": 0,
             "ticks": ""
            },
            "type": "mesh3d"
           }
          ],
          "parcoords": [
           {
            "line": {
             "colorbar": {
              "outlinewidth": 0,
              "ticks": ""
             }
            },
            "type": "parcoords"
           }
          ],
          "scatter": [
           {
            "marker": {
             "colorbar": {
              "outlinewidth": 0,
              "ticks": ""
             }
            },
            "type": "scatter"
           }
          ],
          "scatter3d": [
           {
            "line": {
             "colorbar": {
              "outlinewidth": 0,
              "ticks": ""
             }
            },
            "marker": {
             "colorbar": {
              "outlinewidth": 0,
              "ticks": ""
             }
            },
            "type": "scatter3d"
           }
          ],
          "scattercarpet": [
           {
            "marker": {
             "colorbar": {
              "outlinewidth": 0,
              "ticks": ""
             }
            },
            "type": "scattercarpet"
           }
          ],
          "scattergeo": [
           {
            "marker": {
             "colorbar": {
              "outlinewidth": 0,
              "ticks": ""
             }
            },
            "type": "scattergeo"
           }
          ],
          "scattergl": [
           {
            "marker": {
             "colorbar": {
              "outlinewidth": 0,
              "ticks": ""
             }
            },
            "type": "scattergl"
           }
          ],
          "scattermapbox": [
           {
            "marker": {
             "colorbar": {
              "outlinewidth": 0,
              "ticks": ""
             }
            },
            "type": "scattermapbox"
           }
          ],
          "scatterpolar": [
           {
            "marker": {
             "colorbar": {
              "outlinewidth": 0,
              "ticks": ""
             }
            },
            "type": "scatterpolar"
           }
          ],
          "scatterpolargl": [
           {
            "marker": {
             "colorbar": {
              "outlinewidth": 0,
              "ticks": ""
             }
            },
            "type": "scatterpolargl"
           }
          ],
          "scatterternary": [
           {
            "marker": {
             "colorbar": {
              "outlinewidth": 0,
              "ticks": ""
             }
            },
            "type": "scatterternary"
           }
          ],
          "surface": [
           {
            "colorbar": {
             "outlinewidth": 0,
             "ticks": ""
            },
            "colorscale": [
             [
              0,
              "#0d0887"
             ],
             [
              0.1111111111111111,
              "#46039f"
             ],
             [
              0.2222222222222222,
              "#7201a8"
             ],
             [
              0.3333333333333333,
              "#9c179e"
             ],
             [
              0.4444444444444444,
              "#bd3786"
             ],
             [
              0.5555555555555556,
              "#d8576b"
             ],
             [
              0.6666666666666666,
              "#ed7953"
             ],
             [
              0.7777777777777778,
              "#fb9f3a"
             ],
             [
              0.8888888888888888,
              "#fdca26"
             ],
             [
              1,
              "#f0f921"
             ]
            ],
            "type": "surface"
           }
          ],
          "table": [
           {
            "cells": {
             "fill": {
              "color": "#EBF0F8"
             },
             "line": {
              "color": "white"
             }
            },
            "header": {
             "fill": {
              "color": "#C8D4E3"
             },
             "line": {
              "color": "white"
             }
            },
            "type": "table"
           }
          ]
         },
         "layout": {
          "annotationdefaults": {
           "arrowcolor": "#2a3f5f",
           "arrowhead": 0,
           "arrowwidth": 1
          },
          "colorscale": {
           "diverging": [
            [
             0,
             "#8e0152"
            ],
            [
             0.1,
             "#c51b7d"
            ],
            [
             0.2,
             "#de77ae"
            ],
            [
             0.3,
             "#f1b6da"
            ],
            [
             0.4,
             "#fde0ef"
            ],
            [
             0.5,
             "#f7f7f7"
            ],
            [
             0.6,
             "#e6f5d0"
            ],
            [
             0.7,
             "#b8e186"
            ],
            [
             0.8,
             "#7fbc41"
            ],
            [
             0.9,
             "#4d9221"
            ],
            [
             1,
             "#276419"
            ]
           ],
           "sequential": [
            [
             0,
             "#0d0887"
            ],
            [
             0.1111111111111111,
             "#46039f"
            ],
            [
             0.2222222222222222,
             "#7201a8"
            ],
            [
             0.3333333333333333,
             "#9c179e"
            ],
            [
             0.4444444444444444,
             "#bd3786"
            ],
            [
             0.5555555555555556,
             "#d8576b"
            ],
            [
             0.6666666666666666,
             "#ed7953"
            ],
            [
             0.7777777777777778,
             "#fb9f3a"
            ],
            [
             0.8888888888888888,
             "#fdca26"
            ],
            [
             1,
             "#f0f921"
            ]
           ],
           "sequentialminus": [
            [
             0,
             "#0d0887"
            ],
            [
             0.1111111111111111,
             "#46039f"
            ],
            [
             0.2222222222222222,
             "#7201a8"
            ],
            [
             0.3333333333333333,
             "#9c179e"
            ],
            [
             0.4444444444444444,
             "#bd3786"
            ],
            [
             0.5555555555555556,
             "#d8576b"
            ],
            [
             0.6666666666666666,
             "#ed7953"
            ],
            [
             0.7777777777777778,
             "#fb9f3a"
            ],
            [
             0.8888888888888888,
             "#fdca26"
            ],
            [
             1,
             "#f0f921"
            ]
           ]
          },
          "colorway": [
           "#636efa",
           "#EF553B",
           "#00cc96",
           "#ab63fa",
           "#FFA15A",
           "#19d3f3",
           "#FF6692",
           "#B6E880",
           "#FF97FF",
           "#FECB52"
          ],
          "font": {
           "color": "#2a3f5f"
          },
          "geo": {
           "bgcolor": "white",
           "lakecolor": "white",
           "landcolor": "#E5ECF6",
           "showlakes": true,
           "showland": true,
           "subunitcolor": "white"
          },
          "hoverlabel": {
           "align": "left"
          },
          "hovermode": "closest",
          "mapbox": {
           "style": "light"
          },
          "paper_bgcolor": "white",
          "plot_bgcolor": "#E5ECF6",
          "polar": {
           "angularaxis": {
            "gridcolor": "white",
            "linecolor": "white",
            "ticks": ""
           },
           "bgcolor": "#E5ECF6",
           "radialaxis": {
            "gridcolor": "white",
            "linecolor": "white",
            "ticks": ""
           }
          },
          "scene": {
           "xaxis": {
            "backgroundcolor": "#E5ECF6",
            "gridcolor": "white",
            "gridwidth": 2,
            "linecolor": "white",
            "showbackground": true,
            "ticks": "",
            "zerolinecolor": "white"
           },
           "yaxis": {
            "backgroundcolor": "#E5ECF6",
            "gridcolor": "white",
            "gridwidth": 2,
            "linecolor": "white",
            "showbackground": true,
            "ticks": "",
            "zerolinecolor": "white"
           },
           "zaxis": {
            "backgroundcolor": "#E5ECF6",
            "gridcolor": "white",
            "gridwidth": 2,
            "linecolor": "white",
            "showbackground": true,
            "ticks": "",
            "zerolinecolor": "white"
           }
          },
          "shapedefaults": {
           "line": {
            "color": "#2a3f5f"
           }
          },
          "ternary": {
           "aaxis": {
            "gridcolor": "white",
            "linecolor": "white",
            "ticks": ""
           },
           "baxis": {
            "gridcolor": "white",
            "linecolor": "white",
            "ticks": ""
           },
           "bgcolor": "#E5ECF6",
           "caxis": {
            "gridcolor": "white",
            "linecolor": "white",
            "ticks": ""
           }
          },
          "title": {
           "x": 0.05
          },
          "xaxis": {
           "automargin": true,
           "gridcolor": "white",
           "linecolor": "white",
           "ticks": "",
           "zerolinecolor": "white",
           "zerolinewidth": 2
          },
          "yaxis": {
           "automargin": true,
           "gridcolor": "white",
           "linecolor": "white",
           "ticks": "",
           "zerolinecolor": "white",
           "zerolinewidth": 2
          }
         }
        },
        "title": {
         "text": "Barplot of Feature importances"
        },
        "width": 900,
        "yaxis": {
         "showgrid": false,
         "showline": false,
         "showticklabels": true
        }
       }
      },
      "text/html": [
       "<div>\n",
       "        \n",
       "        \n",
       "            <div id=\"821cec5a-7796-42a9-90c7-5b7ac4845528\" class=\"plotly-graph-div\" style=\"height:2000px; width:900px;\"></div>\n",
       "            <script type=\"text/javascript\">\n",
       "                require([\"plotly\"], function(Plotly) {\n",
       "                    window.PLOTLYENV=window.PLOTLYENV || {};\n",
       "                    \n",
       "                if (document.getElementById(\"821cec5a-7796-42a9-90c7-5b7ac4845528\")) {\n",
       "                    Plotly.newPlot(\n",
       "                        '821cec5a-7796-42a9-90c7-5b7ac4845528',\n",
       "                        [{\"marker\": {\"color\": [0.0, 0.0, 0.0, 0.0, 0.0, 0.0, 0.0, 0.0, 0.0, 0.0, 0.0, 0.0, 0.0, 0.0, 0.0, 0.0, 0.0, 0.0, 0.0, 0.0, 0.0, 0.0, 0.0, 0.0, 0.0, 0.0, 0.0, 0.0, 0.0, 0.0, 0.0, 0.0, 0.0, 0.0, 0.0, 0.0, 0.0, 0.0, 0.0, 0.0, 7.49091692551474e-05, 0.00021590585856386222, 0.0004621938131220822, 0.0005449023998911399, 0.0005669466275855191, 0.0005708374113812307, 0.0005717333807810097, 0.0005961299057757744, 0.0006667669349913814, 0.0006783908731162962, 0.0007397516181712234, 0.000929425758772277, 0.0012789465624127377, 0.001304319339614589, 0.001682669682622127, 0.001690893594065898, 0.0017117183758245317, 0.001758550880694823, 0.001813746971428645, 0.0023196387235242116, 0.0023431637344858147, 0.0024658684596555757, 0.0024872993665539765, 0.0028628036531949774, 0.0029903483722149857, 0.0030686140206953277, 0.0031256329355650587, 0.003188005409861909, 0.0034229426504050245, 0.0036159956126722804, 0.0038357935095783826, 0.004117050792516399, 0.0041868007240996605, 0.00463249545056991, 0.004783102962375429, 0.005049854555665945, 0.005123688086521788, 0.0057219027574611885, 0.009231043307624701, 0.012953949442373394, 0.013261133995231308, 0.014384122242547958, 0.014565364740369374, 0.015348618352365609, 0.015794618950009446, 0.01767149820905255, 0.018991549265057747, 0.01981271221298264, 0.02187138074425022, 0.024996500113075262, 0.025203885154398142, 0.028735713989353314, 0.032809990232101786, 0.03534643245297138, 0.044034973264021754, 0.045445428635282885, 0.045836268933869224, 0.05385594452352201, 0.05406476902287457, 0.06376459631533024, 0.06732711460573933, 0.08733524153918089, 0.13015740882072616], \"colorscale\": [[0.0, \"#440154\"], [0.1111111111111111, \"#482878\"], [0.2222222222222222, \"#3e4989\"], [0.3333333333333333, \"#31688e\"], [0.4444444444444444, \"#26828e\"], [0.5555555555555556, \"#1f9e89\"], [0.6666666666666666, \"#35b779\"], [0.7777777777777778, \"#6ece58\"], [0.8888888888888888, \"#b5de2b\"], [1.0, \"#fde725\"]], \"reversescale\": true}, \"name\": \"Gradient Boosting Classifer Feature importance\", \"orientation\": \"h\", \"type\": \"bar\", \"x\": [0.0, 0.0, 0.0, 0.0, 0.0, 0.0, 0.0, 0.0, 0.0, 0.0, 0.0, 0.0, 0.0, 0.0, 0.0, 0.0, 0.0, 0.0, 0.0, 0.0, 0.0, 0.0, 0.0, 0.0, 0.0, 0.0, 0.0, 0.0, 0.0, 0.0, 0.0, 0.0, 0.0, 0.0, 0.0, 0.0, 0.0, 0.0, 0.0, 0.0, 7.49091692551474e-05, 0.00021590585856386222, 0.0004621938131220822, 0.0005449023998911399, 0.0005669466275855191, 0.0005708374113812307, 0.0005717333807810097, 0.0005961299057757744, 0.0006667669349913814, 0.0006783908731162962, 0.0007397516181712234, 0.000929425758772277, 0.0012789465624127377, 0.001304319339614589, 0.001682669682622127, 0.001690893594065898, 0.0017117183758245317, 0.001758550880694823, 0.001813746971428645, 0.0023196387235242116, 0.0023431637344858147, 0.0024658684596555757, 0.0024872993665539765, 0.0028628036531949774, 0.0029903483722149857, 0.0030686140206953277, 0.0031256329355650587, 0.003188005409861909, 0.0034229426504050245, 0.0036159956126722804, 0.0038357935095783826, 0.004117050792516399, 0.0041868007240996605, 0.00463249545056991, 0.004783102962375429, 0.005049854555665945, 0.005123688086521788, 0.0057219027574611885, 0.009231043307624701, 0.012953949442373394, 0.013261133995231308, 0.014384122242547958, 0.014565364740369374, 0.015348618352365609, 0.015794618950009446, 0.01767149820905255, 0.018991549265057747, 0.01981271221298264, 0.02187138074425022, 0.024996500113075262, 0.025203885154398142, 0.028735713989353314, 0.032809990232101786, 0.03534643245297138, 0.044034973264021754, 0.045445428635282885, 0.045836268933869224, 0.05385594452352201, 0.05406476902287457, 0.06376459631533024, 0.06732711460573933, 0.08733524153918089, 0.13015740882072616], \"y\": [\"5yearBadloan\", \"x_0\", \"x_1\", \"x_13\", \"x_15\", \"x_17\", \"x_18\", \"x_2\", \"x_21\", \"x_22\", \"x_23\", \"x_24\", \"x_26\", \"x_28\", \"x_3\", \"x_30\", \"x_31\", \"x_36\", \"x_37\", \"x_38\", \"x_39\", \"x_4\", \"x_40\", \"x_42\", \"x_49\", \"x_5\", \"x_57\", \"x_58\", \"x_59\", \"x_6\", \"x_60\", \"x_61\", \"x_65\", \"x_7\", \"x_70\", \"x_71\", \"x_77\", \"x_78\", \"x_8\", \"x_9\", \"x_73\", \"x_51\", \"x_35\", \"x_11\", \"x_64\", \"x_25\", \"x_48\", \"x_41\", \"x_19\", \"x_10\", \"x_43\", \"x_16\", \"x_54\", \"x_62\", \"x_32\", \"x_14\", \"x_44\", \"x_12\", \"x_52\", \"x_50\", \"x_66\", \"x_53\", \"x_56\", \"x_47\", \"x_63\", \"x_74\", \"x_27\", \"x_29\", \"highestEdu\", \"x_75\", \"x_34\", \"unpayIndvLoan\", \"x_55\", \"ncloseCreditCard\", \"unpayNormalLoan\", \"x_67\", \"x_69\", \"isNew\", \"edu\", \"x_76\", \"x_33\", \"x_72\", \"gender\", \"weekday\", \"age\", \"x_20\", \"ethnic\", \"x_68\", \"x_46\", \"dist\", \"x_45\", \"basicLevel\", \"linkRela\", \"setupHour\", \"job\", \"certValidStop\", \"loanProduct\", \"residentAddr\", \"certId\", \"bankCard\", \"certValidBegin\", \"unpayOtherLoan\", \"lmt\"]}],\n",
       "                        {\"height\": 2000, \"template\": {\"data\": {\"bar\": [{\"error_x\": {\"color\": \"#2a3f5f\"}, \"error_y\": {\"color\": \"#2a3f5f\"}, \"marker\": {\"line\": {\"color\": \"#E5ECF6\", \"width\": 0.5}}, \"type\": \"bar\"}], \"barpolar\": [{\"marker\": {\"line\": {\"color\": \"#E5ECF6\", \"width\": 0.5}}, \"type\": \"barpolar\"}], \"carpet\": [{\"aaxis\": {\"endlinecolor\": \"#2a3f5f\", \"gridcolor\": \"white\", \"linecolor\": \"white\", \"minorgridcolor\": \"white\", \"startlinecolor\": \"#2a3f5f\"}, \"baxis\": {\"endlinecolor\": \"#2a3f5f\", \"gridcolor\": \"white\", \"linecolor\": \"white\", \"minorgridcolor\": \"white\", \"startlinecolor\": \"#2a3f5f\"}, \"type\": \"carpet\"}], \"choropleth\": [{\"colorbar\": {\"outlinewidth\": 0, \"ticks\": \"\"}, \"type\": \"choropleth\"}], \"contour\": [{\"colorbar\": {\"outlinewidth\": 0, \"ticks\": \"\"}, \"colorscale\": [[0.0, \"#0d0887\"], [0.1111111111111111, \"#46039f\"], [0.2222222222222222, \"#7201a8\"], [0.3333333333333333, \"#9c179e\"], [0.4444444444444444, \"#bd3786\"], [0.5555555555555556, \"#d8576b\"], [0.6666666666666666, \"#ed7953\"], [0.7777777777777778, \"#fb9f3a\"], [0.8888888888888888, \"#fdca26\"], [1.0, \"#f0f921\"]], \"type\": \"contour\"}], \"contourcarpet\": [{\"colorbar\": {\"outlinewidth\": 0, \"ticks\": \"\"}, \"type\": \"contourcarpet\"}], \"heatmap\": [{\"colorbar\": {\"outlinewidth\": 0, \"ticks\": \"\"}, \"colorscale\": [[0.0, \"#0d0887\"], [0.1111111111111111, \"#46039f\"], [0.2222222222222222, \"#7201a8\"], [0.3333333333333333, \"#9c179e\"], [0.4444444444444444, \"#bd3786\"], [0.5555555555555556, \"#d8576b\"], [0.6666666666666666, \"#ed7953\"], [0.7777777777777778, \"#fb9f3a\"], [0.8888888888888888, \"#fdca26\"], [1.0, \"#f0f921\"]], \"type\": \"heatmap\"}], \"heatmapgl\": [{\"colorbar\": {\"outlinewidth\": 0, \"ticks\": \"\"}, \"colorscale\": [[0.0, \"#0d0887\"], [0.1111111111111111, \"#46039f\"], [0.2222222222222222, \"#7201a8\"], [0.3333333333333333, \"#9c179e\"], [0.4444444444444444, \"#bd3786\"], [0.5555555555555556, \"#d8576b\"], [0.6666666666666666, \"#ed7953\"], [0.7777777777777778, \"#fb9f3a\"], [0.8888888888888888, \"#fdca26\"], [1.0, \"#f0f921\"]], \"type\": \"heatmapgl\"}], \"histogram\": [{\"marker\": {\"colorbar\": {\"outlinewidth\": 0, \"ticks\": \"\"}}, \"type\": \"histogram\"}], \"histogram2d\": [{\"colorbar\": {\"outlinewidth\": 0, \"ticks\": \"\"}, \"colorscale\": [[0.0, \"#0d0887\"], [0.1111111111111111, \"#46039f\"], [0.2222222222222222, \"#7201a8\"], [0.3333333333333333, \"#9c179e\"], [0.4444444444444444, \"#bd3786\"], [0.5555555555555556, \"#d8576b\"], [0.6666666666666666, \"#ed7953\"], [0.7777777777777778, \"#fb9f3a\"], [0.8888888888888888, \"#fdca26\"], [1.0, \"#f0f921\"]], \"type\": \"histogram2d\"}], \"histogram2dcontour\": [{\"colorbar\": {\"outlinewidth\": 0, \"ticks\": \"\"}, \"colorscale\": [[0.0, \"#0d0887\"], [0.1111111111111111, \"#46039f\"], [0.2222222222222222, \"#7201a8\"], [0.3333333333333333, \"#9c179e\"], [0.4444444444444444, \"#bd3786\"], [0.5555555555555556, \"#d8576b\"], [0.6666666666666666, \"#ed7953\"], [0.7777777777777778, \"#fb9f3a\"], [0.8888888888888888, \"#fdca26\"], [1.0, \"#f0f921\"]], \"type\": \"histogram2dcontour\"}], \"mesh3d\": [{\"colorbar\": {\"outlinewidth\": 0, \"ticks\": \"\"}, \"type\": \"mesh3d\"}], \"parcoords\": [{\"line\": {\"colorbar\": {\"outlinewidth\": 0, \"ticks\": \"\"}}, \"type\": \"parcoords\"}], \"scatter\": [{\"marker\": {\"colorbar\": {\"outlinewidth\": 0, \"ticks\": \"\"}}, \"type\": \"scatter\"}], \"scatter3d\": [{\"line\": {\"colorbar\": {\"outlinewidth\": 0, \"ticks\": \"\"}}, \"marker\": {\"colorbar\": {\"outlinewidth\": 0, \"ticks\": \"\"}}, \"type\": \"scatter3d\"}], \"scattercarpet\": [{\"marker\": {\"colorbar\": {\"outlinewidth\": 0, \"ticks\": \"\"}}, \"type\": \"scattercarpet\"}], \"scattergeo\": [{\"marker\": {\"colorbar\": {\"outlinewidth\": 0, \"ticks\": \"\"}}, \"type\": \"scattergeo\"}], \"scattergl\": [{\"marker\": {\"colorbar\": {\"outlinewidth\": 0, \"ticks\": \"\"}}, \"type\": \"scattergl\"}], \"scattermapbox\": [{\"marker\": {\"colorbar\": {\"outlinewidth\": 0, \"ticks\": \"\"}}, \"type\": \"scattermapbox\"}], \"scatterpolar\": [{\"marker\": {\"colorbar\": {\"outlinewidth\": 0, \"ticks\": \"\"}}, \"type\": \"scatterpolar\"}], \"scatterpolargl\": [{\"marker\": {\"colorbar\": {\"outlinewidth\": 0, \"ticks\": \"\"}}, \"type\": \"scatterpolargl\"}], \"scatterternary\": [{\"marker\": {\"colorbar\": {\"outlinewidth\": 0, \"ticks\": \"\"}}, \"type\": \"scatterternary\"}], \"surface\": [{\"colorbar\": {\"outlinewidth\": 0, \"ticks\": \"\"}, \"colorscale\": [[0.0, \"#0d0887\"], [0.1111111111111111, \"#46039f\"], [0.2222222222222222, \"#7201a8\"], [0.3333333333333333, \"#9c179e\"], [0.4444444444444444, \"#bd3786\"], [0.5555555555555556, \"#d8576b\"], [0.6666666666666666, \"#ed7953\"], [0.7777777777777778, \"#fb9f3a\"], [0.8888888888888888, \"#fdca26\"], [1.0, \"#f0f921\"]], \"type\": \"surface\"}], \"table\": [{\"cells\": {\"fill\": {\"color\": \"#EBF0F8\"}, \"line\": {\"color\": \"white\"}}, \"header\": {\"fill\": {\"color\": \"#C8D4E3\"}, \"line\": {\"color\": \"white\"}}, \"type\": \"table\"}]}, \"layout\": {\"annotationdefaults\": {\"arrowcolor\": \"#2a3f5f\", \"arrowhead\": 0, \"arrowwidth\": 1}, \"colorscale\": {\"diverging\": [[0, \"#8e0152\"], [0.1, \"#c51b7d\"], [0.2, \"#de77ae\"], [0.3, \"#f1b6da\"], [0.4, \"#fde0ef\"], [0.5, \"#f7f7f7\"], [0.6, \"#e6f5d0\"], [0.7, \"#b8e186\"], [0.8, \"#7fbc41\"], [0.9, \"#4d9221\"], [1, \"#276419\"]], \"sequential\": [[0.0, \"#0d0887\"], [0.1111111111111111, \"#46039f\"], [0.2222222222222222, \"#7201a8\"], [0.3333333333333333, \"#9c179e\"], [0.4444444444444444, \"#bd3786\"], [0.5555555555555556, \"#d8576b\"], [0.6666666666666666, \"#ed7953\"], [0.7777777777777778, \"#fb9f3a\"], [0.8888888888888888, \"#fdca26\"], [1.0, \"#f0f921\"]], \"sequentialminus\": [[0.0, \"#0d0887\"], [0.1111111111111111, \"#46039f\"], [0.2222222222222222, \"#7201a8\"], [0.3333333333333333, \"#9c179e\"], [0.4444444444444444, \"#bd3786\"], [0.5555555555555556, \"#d8576b\"], [0.6666666666666666, \"#ed7953\"], [0.7777777777777778, \"#fb9f3a\"], [0.8888888888888888, \"#fdca26\"], [1.0, \"#f0f921\"]]}, \"colorway\": [\"#636efa\", \"#EF553B\", \"#00cc96\", \"#ab63fa\", \"#FFA15A\", \"#19d3f3\", \"#FF6692\", \"#B6E880\", \"#FF97FF\", \"#FECB52\"], \"font\": {\"color\": \"#2a3f5f\"}, \"geo\": {\"bgcolor\": \"white\", \"lakecolor\": \"white\", \"landcolor\": \"#E5ECF6\", \"showlakes\": true, \"showland\": true, \"subunitcolor\": \"white\"}, \"hoverlabel\": {\"align\": \"left\"}, \"hovermode\": \"closest\", \"mapbox\": {\"style\": \"light\"}, \"paper_bgcolor\": \"white\", \"plot_bgcolor\": \"#E5ECF6\", \"polar\": {\"angularaxis\": {\"gridcolor\": \"white\", \"linecolor\": \"white\", \"ticks\": \"\"}, \"bgcolor\": \"#E5ECF6\", \"radialaxis\": {\"gridcolor\": \"white\", \"linecolor\": \"white\", \"ticks\": \"\"}}, \"scene\": {\"xaxis\": {\"backgroundcolor\": \"#E5ECF6\", \"gridcolor\": \"white\", \"gridwidth\": 2, \"linecolor\": \"white\", \"showbackground\": true, \"ticks\": \"\", \"zerolinecolor\": \"white\"}, \"yaxis\": {\"backgroundcolor\": \"#E5ECF6\", \"gridcolor\": \"white\", \"gridwidth\": 2, \"linecolor\": \"white\", \"showbackground\": true, \"ticks\": \"\", \"zerolinecolor\": \"white\"}, \"zaxis\": {\"backgroundcolor\": \"#E5ECF6\", \"gridcolor\": \"white\", \"gridwidth\": 2, \"linecolor\": \"white\", \"showbackground\": true, \"ticks\": \"\", \"zerolinecolor\": \"white\"}}, \"shapedefaults\": {\"line\": {\"color\": \"#2a3f5f\"}}, \"ternary\": {\"aaxis\": {\"gridcolor\": \"white\", \"linecolor\": \"white\", \"ticks\": \"\"}, \"baxis\": {\"gridcolor\": \"white\", \"linecolor\": \"white\", \"ticks\": \"\"}, \"bgcolor\": \"#E5ECF6\", \"caxis\": {\"gridcolor\": \"white\", \"linecolor\": \"white\", \"ticks\": \"\"}}, \"title\": {\"x\": 0.05}, \"xaxis\": {\"automargin\": true, \"gridcolor\": \"white\", \"linecolor\": \"white\", \"ticks\": \"\", \"zerolinecolor\": \"white\", \"zerolinewidth\": 2}, \"yaxis\": {\"automargin\": true, \"gridcolor\": \"white\", \"linecolor\": \"white\", \"ticks\": \"\", \"zerolinecolor\": \"white\", \"zerolinewidth\": 2}}}, \"title\": {\"text\": \"Barplot of Feature importances\"}, \"width\": 900, \"yaxis\": {\"showgrid\": false, \"showline\": false, \"showticklabels\": true}},\n",
       "                        {\"responsive\": true}\n",
       "                    ).then(function(){\n",
       "                            \n",
       "var gd = document.getElementById('821cec5a-7796-42a9-90c7-5b7ac4845528');\n",
       "var x = new MutationObserver(function (mutations, observer) {{\n",
       "        var display = window.getComputedStyle(gd).display;\n",
       "        if (!display || display === 'none') {{\n",
       "            console.log([gd, 'removed!']);\n",
       "            Plotly.purge(gd);\n",
       "            observer.disconnect();\n",
       "        }}\n",
       "}});\n",
       "\n",
       "// Listen for the removal of the full notebook cells\n",
       "var notebookContainer = gd.closest('#notebook-container');\n",
       "if (notebookContainer) {{\n",
       "    x.observe(notebookContainer, {childList: true});\n",
       "}}\n",
       "\n",
       "// Listen for the clearing of the current output cell\n",
       "var outputEl = gd.closest('.output');\n",
       "if (outputEl) {{\n",
       "    x.observe(outputEl, {childList: true});\n",
       "}}\n",
       "\n",
       "                        })\n",
       "                };\n",
       "                });\n",
       "            </script>\n",
       "        </div>"
      ]
     },
     "metadata": {},
     "output_type": "display_data"
    }
   ],
   "source": [
    "x, y = (list(x) for x in zip(*sorted(zip(gb.feature_importances_, features), \n",
    "                                                            reverse = False)))\n",
    "trace2 = go.Bar(\n",
    "    x=x ,\n",
    "    y=y,\n",
    "    marker=dict(\n",
    "        color=x,\n",
    "        colorscale = 'Viridis',\n",
    "        reversescale = True\n",
    "    ),\n",
    "    name='Gradient Boosting Classifer Feature importance',\n",
    "    orientation='h',\n",
    ")\n",
    "\n",
    "layout = dict(\n",
    "    title='Barplot of Feature importances',\n",
    "     width = 900, height = 2000,\n",
    "    yaxis=dict(\n",
    "        showgrid=False,\n",
    "        showline=False,\n",
    "        showticklabels=True,\n",
    "    ))\n",
    "\n",
    "fig1 = go.Figure(data=[trace2])\n",
    "fig1['layout'].update(layout)\n",
    "py.iplot(fig1, filename='plots')"
   ]
  },
  {
   "cell_type": "code",
   "execution_count": null,
   "metadata": {},
   "outputs": [],
   "source": []
  }
 ],
 "metadata": {
  "kernelspec": {
   "display_name": "Python 3",
   "language": "python",
   "name": "python3"
  },
  "language_info": {
   "codemirror_mode": {
    "name": "ipython",
    "version": 3
   },
   "file_extension": ".py",
   "mimetype": "text/x-python",
   "name": "python",
   "nbconvert_exporter": "python",
   "pygments_lexer": "ipython3",
   "version": "3.7.3"
  }
 },
 "nbformat": 4,
 "nbformat_minor": 1
}
